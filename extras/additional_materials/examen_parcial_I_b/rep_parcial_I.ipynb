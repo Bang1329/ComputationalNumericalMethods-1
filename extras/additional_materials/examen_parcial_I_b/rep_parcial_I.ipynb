{
 "cells": [
  {
   "cell_type": "markdown",
   "id": "plain-rugby",
   "metadata": {},
   "source": [
    "# Examen parcial 1 (raizes y ~interpolacion)\n",
    "* comience con el ejercicio más fácil\n",
    "* Antes de enviar el archivo, $\\textbf{reiniciar y ejecutar el kernel}$ para ver que el archivo se compila sin errores\n",
    "* enviar el archivo jupyter sin anexos antes de las 10am del 10.08.2022 a mi dirección de correo electrónico: michal.hemmerling@udea.edu.co "
   ]
  },
  {
   "cell_type": "markdown",
   "id": "usual-washer",
   "metadata": {},
   "source": [
    "# Ejercicio I"
   ]
  },
  {
   "cell_type": "markdown",
   "id": "joint-campaign",
   "metadata": {},
   "source": [
    "Usando cualquier método de búsqueda de raíz evalúe: $ \\sqrt{2} $ Compara tu resultado con el resultado de numpy"
   ]
  },
  {
   "cell_type": "code",
   "execution_count": 41,
   "id": "valuable-august",
   "metadata": {},
   "outputs": [],
   "source": [
    "# tu codigo:"
   ]
  },
  {
   "cell_type": "markdown",
   "id": "restricted-boston",
   "metadata": {},
   "source": [
    "# Ejercicio II"
   ]
  },
  {
   "cell_type": "markdown",
   "id": "dental-residence",
   "metadata": {},
   "source": [
    "Interpolar los datos que están en el archivo:https://mega.nz/file/2UMjACgS#TYEfSASud9kmZYsYvTiIOXj6CCMiIlSzb_gUqKBU7A4\n",
    "\n",
    "* a) importar los datos usando pandas\n",
    "* b) hacer un gráfico de $x$ vs $y$ (curva tiene que tener etiquieta)\n",
    "* c) interpolar los puntos con spline (usando 100 puntos) \n",
    "* d) anadir curva a grafico anterior con datos interpolados de $x_{interp}$ vs $y_{interp}$ (curva tiene que tener etiquieta)\n",
    "**graficos tienen que tener etiquietas**"
   ]
  },
  {
   "cell_type": "code",
   "execution_count": 2,
   "id": "missing-marketing",
   "metadata": {},
   "outputs": [],
   "source": [
    "# tu codigo:"
   ]
  },
  {
   "cell_type": "markdown",
   "id": "acute-sword",
   "metadata": {},
   "source": [
    "# Ejercicio III"
   ]
  },
  {
   "cell_type": "markdown",
   "id": "incident-probability",
   "metadata": {},
   "source": [
    "Se da función (serie de Taylor)"
   ]
  },
  {
   "cell_type": "code",
   "execution_count": 40,
   "id": "champion-toddler",
   "metadata": {},
   "outputs": [],
   "source": [
    "def cos_taylor(x,k):\n",
    "    cos=0\n",
    "    for k in range(k):\n",
    "        cos=cos+(-1)**k/math.factorial(2*k)*x**(2*k)\n",
    "    return cos"
   ]
  },
  {
   "cell_type": "markdown",
   "id": "sound-reflection",
   "metadata": {},
   "source": [
    "Hacer una gráfica de tiempo de la ejecución de la función para varios `k`, `ks=[1,10,100,1000,2000,3000,4000,5000]` y para `x=0.2` "
   ]
  },
  {
   "cell_type": "code",
   "execution_count": 42,
   "id": "moral-snapshot",
   "metadata": {},
   "outputs": [],
   "source": [
    "# tu codigo:"
   ]
  },
  {
   "cell_type": "code",
   "execution_count": null,
   "id": "instructional-relative",
   "metadata": {},
   "outputs": [],
   "source": []
  }
 ],
 "metadata": {
  "kernelspec": {
   "display_name": "Python 3",
   "language": "python",
   "name": "python3"
  },
  "language_info": {
   "codemirror_mode": {
    "name": "ipython",
    "version": 3
   },
   "file_extension": ".py",
   "mimetype": "text/x-python",
   "name": "python",
   "nbconvert_exporter": "python",
   "pygments_lexer": "ipython3",
   "version": "3.7.2"
  }
 },
 "nbformat": 4,
 "nbformat_minor": 5
}
