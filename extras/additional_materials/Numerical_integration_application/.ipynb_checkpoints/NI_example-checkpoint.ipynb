{
 "cells": [
  {
   "cell_type": "markdown",
   "id": "usual-washer",
   "metadata": {},
   "source": [
    "# Ejercicio 1"
   ]
  },
  {
   "cell_type": "markdown",
   "id": "congressional-intellectual",
   "metadata": {},
   "source": [
    "We can use integration to develop a formula for calculating mass based on a density function. First we consider a thin rod or wire. Orient the rod so it aligns with the x-axis, with the left end of the rod at x=a and the right end of the rod at x=b  Note that although we depict the rod with some thickness in the figures, for mathematical purposes we assume the rod is thin enough to be treated as a one-dimensional object."
   ]
  },
  {
   "cell_type": "markdown",
   "id": "pretty-conference",
   "metadata": {},
   "source": [
    "Masa de una barra delgada en el intervalo [a, b] es dada por Integral:\n",
    "\n",
    "$$ m =  \\int_{a}^{b} \\rho (x) \\ dx $$\n",
    "\n",
    "donde $\\rho(x)$ es una función de densidad linear\n",
    "\n",
    "<table><tr>\n",
    "<td> <img src=\"rod.jpg\" width=\"300\" /> </td>\n",
    "</tr></table>   \n",
    "\n",
    "\n",
    "El archivo $\\textbf{data_distance_density.csv}$ contiene dos columnas: la distancia un la barra ($ x $) y la densidad ($ \\rho (x) $) de la barra como función del distancia.\n",
    "\n",
    "* a) importar los datos usando pandas, graficar la densidad de la barra $\\rho(x)$ vs $x$ (los gráficos deben tener etiquetas para el eje x y el eje y).\n",
    "\n",
    "* b) calcular la masa de la barra mediante integración numérica\n",
    "\n",
    "* c) Está cambiando la densidad con la distancia como $\\rho(x) = sin(x)$? Pruébalo."
   ]
  }
 ],
 "metadata": {
  "kernelspec": {
   "display_name": "Python 3",
   "language": "python",
   "name": "python3"
  },
  "language_info": {
   "codemirror_mode": {
    "name": "ipython",
    "version": 3
   },
   "file_extension": ".py",
   "mimetype": "text/x-python",
   "name": "python",
   "nbconvert_exporter": "python",
   "pygments_lexer": "ipython3",
   "version": "3.7.2"
  }
 },
 "nbformat": 4,
 "nbformat_minor": 5
}
