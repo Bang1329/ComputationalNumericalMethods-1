{
 "cells": [
  {
   "cell_type": "markdown",
   "metadata": {
    "cell_id": "5952f0faf75047b0a3b676dfe24bfc52",
    "deepnote_cell_height": 461.9375,
    "deepnote_cell_type": "markdown",
    "tags": []
   },
   "source": [
    "## Acerca de Python\n",
    "¿Por qué elegir Python como lenguaje de programación? Para responder a esta pregunta es bueno preguntarse ¿qué es importante cuando uno quiere aprenderse cualquier cosa nueva?\n",
    "\n",
    "* comunidad: Python tiene una de las comunidades de programación más grandes y activas de todo el mundo de programacion. Lo cual es útil si necesita ayuda o el consejo a un problema de programación inusual\n",
    "* fácil-de-usar: Python es un lenguaje de programación de alto nivel, lo que significa que Python permite a los programadores centrarse en las tareas sin preocuparse por cómo lograr el objetivo específico.\n",
    "* flexibilidad: Python tiene una enorme biblioteca de funciones y módulos para que uno no tenga que escribir su propio código para cada cosa. Python se puede utilizar para cualquier problema en cualquier nivel de complejidad, desde funcion de cálculadora simple, pasando por la ciencia y terminando en la inteligencia artificial. De hecho, Python es el lenguaje de programación preferido en ciencia de datos y aprendizaje automático.\n",
    "* portabilidad: Python es también un lenguaje portátil. Por ejemplo, si tenemos código Python para Windows y si queremos ejecutar este código en otras plataformas como Linux, Unix y Mac entonces no necesitamos cambiarlo, podemos ejecutar este código en cualquier plataforma.\n",
    "* oportunidad: Python ofrece grandes oportunidades de carrera. La demanda de desarrolladores de Python aumenta cada año con un excelente rango salarial."
   ]
  },
  {
   "cell_type": "markdown",
   "metadata": {
    "cell_id": "faf6bd73454c498d8ca54c9be6229327",
    "deepnote_cell_height": 472.9375,
    "deepnote_cell_type": "markdown",
    "owner_user_id": "10217cb7-e807-45af-be75-488a79b03a41",
    "tags": []
   },
   "source": [
    "## Acerca de aprender lenguajes de programación\n",
    "\n",
    "Incluso, si realmente no necesitas programación en este mismo momento, siempre es bueno aprenderla. En primer lugar, porque tarde o temprano necesitarás tal habilidad, ya seas lingüista o físico (el mundo moderno ya no puede existir sin computadoras). Además, la programación enseña el pensamiento lógico y esta es una habilidad muy importante. Es mejor que el sudoku o la sopa de letras. \n",
    "\n",
    "Los lenguajes de programación como Python tienen cierto parecido con los lenguajes naturales. Particularmente en su uso. Con variables y funciones se pueden construir códigos útiles de longitud prácticamente infinita. Es como escribir o contar una historia. En el mismo sentido, copiar y pegar bloques de códigos u oraciones en un idioma extranjero no significa que uno conozca el idioma. Por esa razón, se recomienda encarecidamente:\n",
    "* evitar el hábito de copiar y pegar codigo, pero escribir cada letra y dígito manualmente (al menos al comienzo de la experiencia de programacion)\n",
    "* memorizar partes cortas de código que se repiten con frecuencia (como trazar)\n",
    "* planificar y piensar lo que desea codificar antes de abrir la computadora!! A veces es útil escribir un código en una hoja de papel y implementarlo despues (esta es una buena prueba al poder escribir un fragmento de código correcto sin cometer errores)\n",
    "* ser honesto consigo mismo y admitir si no entiende algo y tratar de aclararlo. Haz de esto tu propio éxito."
   ]
  },
  {
   "cell_type": "markdown",
   "metadata": {
    "cell_id": "e6c6aa2f269a4ddb910379e70f60bc1f",
    "deepnote_cell_height": 256.75,
    "deepnote_cell_type": "markdown",
    "tags": []
   },
   "source": [
    "## Acerca de los ejercicios\n",
    "\n",
    "Realmente sabrás si entiendes el tema si haces los QUIZES y ejercicios. Esta es una parte crucial del aprendizaje, pero también da una gran satisfacción una vez que el ejercicio se realiza correctamente. \n",
    "\n",
    "Casi todos los ejercicios de este curso piden escribir una función. ¿Por qué? Las funciones son características claves de cualquier lenguaje de programación. Permiten a los programadores dividir un problema en partes más pequeñas que resuelven el gran problema. Sobre todo, permiten que partes del código de programación sean reutilizables. Además, funciones facilitan una evaluación rápida y objetiva de los resultados que devuelven. Los resultados solo pueden ser correctos o incorrectos en comparación con la referencia, sin un espacio para valores intermedios."
   ]
  }
 ],
 "metadata": {
  "deepnote": {
   "is_reactive": false
  },
  "deepnote_execution_queue": [],
  "deepnote_notebook_id": "1bee2ed9-972b-43bb-98de-50b5a20569d6",
  "kernelspec": {
   "display_name": "Python 3",
   "language": "python",
   "name": "python3"
  },
  "language_info": {
   "codemirror_mode": {
    "name": "ipython",
    "version": 3
   },
   "file_extension": ".py",
   "mimetype": "text/x-python",
   "name": "python",
   "nbconvert_exporter": "python",
   "pygments_lexer": "ipython3",
   "version": "3.7.2"
  }
 },
 "nbformat": 4,
 "nbformat_minor": 2
}
