{
 "cells": [
  {
   "cell_type": "code",
   "execution_count": 10,
   "id": "amended-ballet",
   "metadata": {},
   "outputs": [],
   "source": [
    "from sympy import symbols, diff\n",
    "x, y = symbols('x y', real=True)"
   ]
  },
  {
   "cell_type": "code",
   "execution_count": 11,
   "id": "greater-component",
   "metadata": {},
   "outputs": [
    {
     "data": {
      "text/latex": [
       "$\\displaystyle 3 y^{2}$"
      ],
      "text/plain": [
       "3*y**2"
      ]
     },
     "execution_count": 11,
     "metadata": {},
     "output_type": "execute_result"
    }
   ],
   "source": [
    "diff( x**2 + y**3, y)"
   ]
  },
  {
   "cell_type": "code",
   "execution_count": 14,
   "id": "criminal-visibility",
   "metadata": {},
   "outputs": [
    {
     "data": {
      "text/latex": [
       "$\\displaystyle 3$"
      ],
      "text/plain": [
       "3"
      ]
     },
     "execution_count": 14,
     "metadata": {},
     "output_type": "execute_result"
    }
   ],
   "source": [
    "diff( x**2 + y**3, y).subs({x:3, y:1})"
   ]
  },
  {
   "cell_type": "code",
   "execution_count": 19,
   "id": "explicit-transcription",
   "metadata": {},
   "outputs": [
    {
     "data": {
      "text/latex": [
       "$\\displaystyle 2$"
      ],
      "text/plain": [
       "2"
      ]
     },
     "execution_count": 19,
     "metadata": {},
     "output_type": "execute_result"
    }
   ],
   "source": [
    "diff( 𝑥**3+3*𝑥-1+𝑦*2, y).subs({x:0, y:1})"
   ]
  },
  {
   "cell_type": "code",
   "execution_count": null,
   "id": "ecological-festival",
   "metadata": {},
   "outputs": [],
   "source": [
    "𝑥**3+3*𝑥−1+𝑦*2"
   ]
  },
  {
   "cell_type": "code",
   "execution_count": null,
   "id": "imported-trouble",
   "metadata": {},
   "outputs": [],
   "source": []
  },
  {
   "cell_type": "code",
   "execution_count": 28,
   "id": "patient-background",
   "metadata": {},
   "outputs": [],
   "source": [
    "from pylab import figure, cm\n",
    "\n",
    "import matplotlib.pyplot as plt\n",
    "import numpy as np\n",
    "\n",
    "\n",
    "def f(x,y):\n",
    "    return x * np.exp(-(x**2+y**2))\n",
    "\n",
    "\n",
    "x1_min = -2.0\n",
    "x1_max = 2.0\n",
    "x2_min = -2.0\n",
    "x2_max = 2.0\n",
    "\n",
    "x1, x2 = np.meshgrid(np.arange(x1_min,x1_max, 0.1), np.arange(x2_min,x2_max, 0.1))\n",
    "\n",
    "y = f(x1,x2)"
   ]
  },
  {
   "cell_type": "code",
   "execution_count": 32,
   "id": "decreased-tobago",
   "metadata": {},
   "outputs": [],
   "source": [
    "from pylab import figure, cm\n",
    "\n",
    "import matplotlib.pyplot as plt\n",
    "import numpy as np\n",
    "\n",
    "\n",
    "def f(x,y):\n",
    "    return 3*x**2 + 3 +2*y\n",
    "\n",
    "x1_min = -2.0\n",
    "x1_max = 2.0\n",
    "x2_min = -2.0\n",
    "x2_max = 2.0\n",
    "\n",
    "x1, x2 = np.meshgrid(np.arange(x1_min,x1_max, 0.1), np.arange(x2_min,x2_max, 0.1))\n",
    "\n",
    "y = f(x1,x2)"
   ]
  },
  {
   "cell_type": "code",
   "execution_count": 33,
   "id": "manual-generator",
   "metadata": {},
   "outputs": [
    {
     "data": {
      "image/png": "[encoded data removed]",
      "text/plain": [
       "<Figure size 432x288 with 2 Axes>"
      ]
     },
     "metadata": {
      "needs_background": "light"
     },
     "output_type": "display_data"
    }
   ],
   "source": [
    "#plt.imshow(y, cmap=cm.jet, origin='lower')\n",
    "plt.imshow(y,extent=[x1_min,x1_max,x2_min,x2_max], cmap=cm.jet, origin='lower')\n",
    "\n",
    "\n",
    "plt.colorbar()\n",
    "\n",
    "plt.title(\"How to evaluate a 2D function using a python grid?\" , fontsize=8)\n",
    "\n",
    "plt.savefig(\"evaluate_2d_function_using_meshgrid_03.png\", bbox_inches='tight')\n",
    "\n",
    "plt.show()"
   ]
  },
  {
   "cell_type": "code",
   "execution_count": null,
   "id": "coordinated-ambassador",
   "metadata": {},
   "outputs": [],
   "source": []
  }
 ],
 "metadata": {
  "kernelspec": {
   "display_name": "Python 3",
   "language": "python",
   "name": "python3"
  },
  "language_info": {
   "codemirror_mode": {
    "name": "ipython",
    "version": 3
   },
   "file_extension": ".py",
   "mimetype": "text/x-python",
   "name": "python",
   "nbconvert_exporter": "python",
   "pygments_lexer": "ipython3",
   "version": "3.7.2"
  }
 },
 "nbformat": 4,
 "nbformat_minor": 5
}
