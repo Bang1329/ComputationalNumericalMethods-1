{
 "cells": [
  {
   "cell_type": "markdown",
   "source": "# 1. Seleccione la opción que completa el espacio en blanco.  \n### Data _____________ se refiere a la representación gráfica de datos.\n\n**a)** Visualización  \nb) Análisis  \nc) Manipulación  ",
   "metadata": {
    "cell_id": "76b56f3c4f924d1d9c756b047ab2e0aa",
    "tags": [],
    "deepnote_cell_type": "markdown",
    "deepnote_cell_height": 265.125
   }
  },
  {
   "cell_type": "markdown",
   "source": "# 2. Seleccione todas las respuestas correctas\n### Matplotlib es _____ biblioteca de trazado \n\n\n**a)** 1D  \n**b)** 2D  \n**c)** 3D  \n",
   "metadata": {
    "cell_id": "f165f05d494b49fd8db0103f7432fd58",
    "tags": [],
    "deepnote_cell_type": "markdown",
    "deepnote_cell_height": 265.125
   }
  },
  {
   "cell_type": "markdown",
   "source": "# 3. Seleccione todas las respuestas correctas\n### Para importar el módulo `pyplot` se puede escribir:  \n\na) `import pyplot as plt`  \nb) `import matplotlib.pyplot`  \nc) `import matplotlib.pyplot as plt`  \n",
   "metadata": {
    "cell_id": "1ca505358b4545dc874f71e41fd72c4c",
    "tags": [],
    "deepnote_cell_type": "markdown",
    "deepnote_cell_height": 266.03125
   }
  },
  {
   "cell_type": "markdown",
   "source": "# 4. ¿Cuál es la diferencia entre `np.linspace` y `np.arange`?\na) `np.arange` se utiliza para crear vector de columna y `np.linspace` para vector de fila.  \nb) `np.arange` se utiliza para crear vector de fila y `np.linspace` para vector de columna.  \n**c)** Ambos se pueden usar de forma intercambiable. La principal diferencia es que `np.arange` permite definir el tamaño del paso y `np.linspace` le permite definir el número de pasos.\nd) `np.arange()` no acepta números de tipo float.",
   "metadata": {
    "cell_id": "308a3ad56f374a8280198f55bff60e98",
    "tags": [],
    "deepnote_cell_type": "markdown",
    "deepnote_cell_height": 241.359375
   }
  },
  {
   "cell_type": "markdown",
   "source": "# 5. El atributo `shape` de una array numpy devuelve:\n\na) lista, porque es mutable y permite cambiar los valores.  \nb) numpy.array porque es más rápida.  \n**c)** tupla porque no es mutable y protege el cambio accidental de sus valores.        \nd) float para mejor precisión. ",
   "metadata": {
    "cell_id": "689836561c7942cfa92c7d77ddfd7e25",
    "tags": [],
    "deepnote_cell_type": "markdown",
    "deepnote_cell_height": 241.359375
   }
  },
  {
   "cell_type": "markdown",
   "source": "# 6. Después de cargar una imagen de color RGB de 28 píxeles por 28 píxeles a una array numpy, su atributo `.shape` devuelve:\n\na) `(28, 3, 3)`   \nb) `[28, 3, 3]`  \n**c)** `(28, 28, 3)`   \nd) `[28, 28, 3]`   \n",
   "metadata": {
    "cell_id": "0d980c6eec1d4518b56280b7db67083a",
    "tags": [],
    "deepnote_cell_type": "markdown",
    "deepnote_cell_height": 345.328125
   }
  },
  {
   "cell_type": "markdown",
   "source": "# 7. Seleccione todas las respuestas correctas\n### ¿Cuál sería la forma (`shape`) de una matriz numérica que contiene un millón de imágenes en color (28x28 pulgadas)? \n\n**a)** (1000000,28,28,3)  \nb) (1000000,28,28,1)  \nc) (1000000,28,28,3)  \n**d)** (3,28,28,1000000)  \nd) (1000000,28,28)  ",
   "metadata": {
    "cell_id": "e6167daea9544da387d761b9fac1a213",
    "tags": [],
    "owner_user_id": "a6187c4f-6b2a-4da3-bfe6-f58198d480ff",
    "deepnote_cell_type": "markdown",
    "deepnote_cell_height": 538.796875
   }
  },
  {
   "cell_type": "markdown",
   "source": "# 8. ¿Qué significa convertir la imagen de color a gris? \n\n**a)** Reducir el número de dimensiones promediando las tres capas de color en una.  \nb) Cambiar los valores de los píxeles a 256.  \nc) Multiplicar píxeles por `0` .     \nd) coplar la imagen a 1D.   ",
   "metadata": {
    "cell_id": "3ec0a30740064d4da99d62ac26e89967",
    "tags": [],
    "deepnote_cell_type": "markdown",
    "deepnote_cell_height": 239.53125
   }
  },
  {
   "cell_type": "markdown",
   "source": "# 9. Imagine que tiene una array numpy `images_array` de 1000 imágenes de 28x28 píxeles cada una, entonces `images_array.shape` devuelve: `(1000,28,28)`, el cual es un objeto 3D (porque tiene tres dimensiones). Si desea almacenarlo en un archivo de texto como un objeto 2D - aplanar las imágenes (la matriz tendrá solo filas y columnas sin tercera dimension). La forma correcta sería usar:\n\na) `np.reshape(images_array,(images_array[0].shape,images_array[1].shape*images_array[1]))`  \nb) `np.reshape(images_array,(images_array.size[0],images_array.size[1]*images_array.size[1]))`  \nc) `np.reshape(images_array,(images_array.size[1],images_array.size[0]*images_array.size[0]))`  \n**d)** `np.reshape(images_array,(images_array.shape[0],images_array.shape[1]*images_array.shape[1]))`  \ne) `np.reshape(images_array[0],(images_array.shape[0],images_array.shape[1]*images_array.shape[0]))`  \n",
   "metadata": {
    "cell_id": "f7237067554549e3a5c83a6831a9b114",
    "tags": [],
    "deepnote_cell_type": "markdown",
    "deepnote_cell_height": 735.296875
   }
  },
  {
   "cell_type": "markdown",
   "source": "# 10. ¿Cuándo es útil convertir imágenes de color en imágenes en escala de grises?  \n\na) Solo si es muy necesario porque siempre se pierde información importante de los objetos.   \nb) Siempre, ya que reduce la complejidad del problema y mejora el rendimiento de los algoritmos de machine learning.  \nc) Solo cuando los colores no son muy nítidos para que no se cambie el contraste.   \n**d)** Solo cuando cambiar el color del objeto no cambia la información semántica de este.  \n",
   "metadata": {
    "cell_id": "356bc724944045998e1e8a6a6651f0cf",
    "tags": [],
    "deepnote_cell_type": "markdown",
    "deepnote_cell_height": 291.53125
   }
  },
  {
   "cell_type": "markdown",
   "source": "",
   "metadata": {
    "cell_id": "79db718437324338a864a01d3eb68be2",
    "tags": [],
    "deepnote_cell_type": "markdown",
    "deepnote_cell_height": 45.953125
   }
  },
  {
   "cell_type": "markdown",
   "source": "Revisado 14/5/2022 Luisa Gómez (correctora de estilo)",
   "metadata": {
    "cell_id": "ff5ca1a8743847ac8027ca91b2e6c6f9",
    "tags": [],
    "deepnote_cell_type": "markdown",
    "deepnote_cell_height": 52.359375
   }
  },
  {
   "cell_type": "markdown",
   "source": "",
   "metadata": {
    "cell_id": "8d744f42b54f47d8a13691c1ef1371ab",
    "tags": [],
    "deepnote_cell_type": "markdown",
    "deepnote_cell_height": 45.953125
   }
  },
  {
   "cell_type": "markdown",
   "source": "<a style='text-decoration:none;line-height:16px;display:flex;color:#5B5B62;padding:10px;justify-content:end;' href='https://deepnote.com?utm_source=created-in-deepnote-cell&projectId=4710cf8b-f7ec-43d1-a3bc-46d860c0e6af' target=\"_blank\">\n<img alt='Created in deepnote.com' style='display:inline;max-height:16px;margin:0px;margin-right:7.5px;' src='data:image/svg+xml;base64,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' > </img>\nCreated in <span style='font-weight:600;margin-left:4px;'>Deepnote</span></a>",
   "metadata": {
    "tags": [],
    "created_in_deepnote_cell": true,
    "deepnote_cell_type": "markdown"
   }
  }
 ],
 "nbformat": 4,
 "nbformat_minor": 2,
 "metadata": {
  "orig_nbformat": 2,
  "deepnote": {},
  "deepnote_notebook_id": "c9ede03f-20e9-4b91-bedf-ac14d30546bb",
  "deepnote_execution_queue": []
 }
}