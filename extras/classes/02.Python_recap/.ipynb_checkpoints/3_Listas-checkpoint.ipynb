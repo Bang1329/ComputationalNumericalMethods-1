{
 "cells": [
  {
   "cell_type": "markdown",
   "id": "bearing-intellectual",
   "metadata": {
    "cell_id": "00000-91b13b13-99bf-4deb-b2b7-068e48a69537",
    "deepnote_cell_height": 695.5,
    "deepnote_cell_type": "markdown"
   },
   "source": [
    " # 3. Listas\n",
    "   #### [Definición y ejemplos](#definicion)\n",
    "   #### [Listas de cadenas](#listas_de_cadenas)\n",
    "   #### [Indexación y segmentación](#indexacion_y_segmentacion)   \n",
    "   #### [Mutabilidad](#mutabilidad)  \n",
    "   #### [Concatenación](#concatenacion)\n",
    "   #### [Métodos sobre las cadenas y la función `dir()`](#metodos)\n",
    "   #### [Listas anidadas](#listas_anidadas)   \n",
    "   #### [Operadores de comparación y operadores lógicos](#logical_operators)\n",
    "   #### [Expresiones condicionales, `if, else, elif`](#conditional_statements)\n",
    "   #### [Loops: `for, while` y la función `range()`](#loops_listas)\n",
    "   #### [Listas de números](#listas_de_numeros)      \n",
    "   #### [Listas de comprensión](#list_comprehension)      \n",
    "   #### [Listas mixtas](#listas_mixtas)      \n",
    "   #### [Funciones personales](#funciones_personales)"
   ]
  },
  {
   "cell_type": "markdown",
   "id": "democratic-testing",
   "metadata": {
    "cell_id": "ef26ec47b5934c3ca2ff4e5d223efa57",
    "deepnote_cell_height": 97.19999694824219,
    "deepnote_cell_type": "markdown",
    "tags": []
   },
   "source": [
    "\n",
    "***Hasta ahora, en este curso solo se han visto números y strings en sus formas simples. Las listas son como contenedores que pueden almacenar números, cadenas o ambos al mismo tiempo para varios propósitos.*** "
   ]
  },
  {
   "cell_type": "markdown",
   "id": "recognized-mobile",
   "metadata": {
    "cell_id": "00001-aae2f173-7e3f-4825-b94a-c8bbd65ef484",
    "deepnote_cell_height": 189.60000610351562,
    "deepnote_cell_type": "markdown"
   },
   "source": [
    "<a id=\"definicion\"></a>   \n",
    "## Definición y ejemplos\n",
    "\n",
    "Las listas son una estructura de datos integrada que agrupan la información. \n",
    "Las listas no tienen que ser del mismo tipo de datos, pero a menudo lo son. Se declaran listas\n",
    "con los corchetes `[]` y una coma que separa cada elemento de una lista. Las listas son\n",
    "mutables, lo que significa que pueden alterarse de varias maneras."
   ]
  },
  {
   "cell_type": "markdown",
   "id": "specific-lawyer",
   "metadata": {
    "cell_id": "00002-1a44af42-a177-4cef-93e0-b0c05afad6e1",
    "deepnote_cell_height": 167.1999969482422,
    "deepnote_cell_type": "markdown"
   },
   "source": [
    "<a id=\"listas_de_cadenas\"></a>   \n",
    "## Lista de cadenas\n",
    "\n",
    "Para crear una lista de cadenas los elementos se pueden agregar directamente entre de los corchetes.\n",
    "Las funciones predefinadas que se usan frecuentemente sobre las listas son `print()`, `type()`, `isinstance()`, `len()`, `dir()`"
   ]
  },
  {
   "cell_type": "code",
   "execution_count": null,
   "id": "preceding-campaign",
   "metadata": {
    "cell_id": "00003-2e50f2f5-e479-43fb-9cd6-654244039a47",
    "deepnote_cell_height": 168.39999389648438,
    "deepnote_cell_type": "code",
    "deepnote_to_be_reexecuted": false,
    "execution_millis": 20,
    "execution_start": 1653955141124,
    "source_hash": "fd225f8f"
   },
   "outputs": [
    {
     "name": "stdout",
     "output_type": "stream",
     "text": [
      "['manzana', 'banana', 'mango', 'limon', 'pina']\n",
      "<class 'list'>\n"
     ]
    }
   ],
   "source": [
    "frutas=['manzana','banana','mango','limon','pina'] # una lista de cadenas separadas con comas\n",
    "print(frutas)\n",
    "print(type(frutas))"
   ]
  },
  {
   "cell_type": "markdown",
   "id": "binding-shade",
   "metadata": {
    "cell_id": "00004-54ebaaa7-e923-4114-88b6-481a667d72ef",
    "deepnote_cell_height": 74.80000305175781,
    "deepnote_cell_type": "markdown"
   },
   "source": [
    "También, se puede asignar cada cadena a una variable y agregar las variables en la lista de la misma manera:"
   ]
  },
  {
   "cell_type": "code",
   "execution_count": null,
   "id": "framed-adventure",
   "metadata": {
    "cell_id": "00005-4feda8c2-dfad-474a-994f-cfe020e8525a",
    "deepnote_cell_height": 276.3999938964844,
    "deepnote_cell_type": "code",
    "deepnote_to_be_reexecuted": false,
    "execution_millis": 2,
    "execution_start": 1653955141142,
    "source_hash": "df07d92"
   },
   "outputs": [
    {
     "name": "stdout",
     "output_type": "stream",
     "text": [
      "['manzana', 'banana', 'mango', 'limon', 'pina']\n",
      "<class 'list'>\n"
     ]
    }
   ],
   "source": [
    "cad_1='manzana'\n",
    "cad_2='banana'\n",
    "cad_3='mango'\n",
    "cad_4='limon'\n",
    "cad_5='pina'\n",
    "\n",
    "frutas=[cad_1,cad_2,cad_3,cad_4,cad_5] # una lista de cadenas separadas con comas\n",
    "print(frutas)\n",
    "print(type(frutas))"
   ]
  },
  {
   "cell_type": "markdown",
   "id": "vital-thursday",
   "metadata": {
    "cell_id": "00006-4d7a3e70-4395-4e5c-a29d-1de8b38119f1",
    "deepnote_cell_height": 74.80000305175781,
    "deepnote_cell_type": "markdown"
   },
   "source": [
    "Una lista, como se mencionó en la clase sobre las cadenas, es también el resultado del método `.split()` sobre la cadena."
   ]
  },
  {
   "cell_type": "code",
   "execution_count": null,
   "id": "angry-diana",
   "metadata": {
    "cell_id": "00007-8a7eafa0-1ac8-4505-b80a-bce6100a63aa",
    "deepnote_cell_height": 204.39999389648438,
    "deepnote_cell_type": "code",
    "deepnote_to_be_reexecuted": false,
    "execution_millis": 4,
    "execution_start": 1653955141142,
    "source_hash": "2ffdef28"
   },
   "outputs": [
    {
     "name": "stdout",
     "output_type": "stream",
     "text": [
      "banana,pera,manzana\n",
      "['banana', 'pera', 'manzana']\n"
     ]
    }
   ],
   "source": [
    "cadena_de_frutas='banana,pera,manzana'\n",
    "print(cadena_de_frutas)\n",
    "print\n",
    "lista_de_frutas=cadena_de_frutas.split(',') # aquí el método split divide la cadena basado en coma separador\n",
    "print(lista_de_frutas)"
   ]
  },
  {
   "cell_type": "code",
   "execution_count": null,
   "id": "blond-tourism",
   "metadata": {
    "cell_id": "00008-7dc40ee5-805e-4392-ae3d-e1e530d99fa1",
    "deepnote_cell_height": 112.19999694824219,
    "deepnote_cell_type": "code",
    "deepnote_to_be_reexecuted": false,
    "execution_millis": 4,
    "execution_start": 1653955141148,
    "source_hash": "ac5b3fbb"
   },
   "outputs": [
    {
     "name": "stdout",
     "output_type": "stream",
     "text": [
      "5\n"
     ]
    }
   ],
   "source": [
    "print(len(frutas)) # para conseguir número de los elementos de la lista"
   ]
  },
  {
   "cell_type": "markdown",
   "id": "overhead-invitation",
   "metadata": {
    "cell_id": "00009-8057f4ec-ceaf-44eb-8604-b1f0df17ca2b",
    "deepnote_cell_height": 84,
    "deepnote_cell_type": "markdown"
   },
   "source": [
    "<a id=\"indexacion_y_segmentacion\"></a>   \n",
    "## Indexación y segmentación"
   ]
  },
  {
   "cell_type": "markdown",
   "id": "soviet-madagascar",
   "metadata": {
    "cell_id": "00010-b2ef6f41-87d8-490f-9273-a20d80725a35",
    "deepnote_cell_height": 196.39999389648438,
    "deepnote_cell_type": "markdown"
   },
   "source": [
    "Al igual que las cadenas, las listas se pueden indexar y segmentar. Cada dato de una lista se denomina elemento. Se puede acceder a elementos de una lista con un índice, que es como una dirección para cada elemento. Empezar contando con el índice `0`. El primer elemento en la imagen de abajo sería `my_list[0]`.\n",
    "* La indexación devuelve el elemento.\n",
    "* La segmentación devuelve una nueva lista."
   ]
  },
  {
   "cell_type": "code",
   "execution_count": null,
   "id": "wicked-weight",
   "metadata": {
    "cell_id": "00011-9e6f60d0-bb28-42e6-9db7-7631300638cb",
    "deepnote_cell_height": 428,
    "deepnote_cell_type": "code",
    "deepnote_output_heights": [
     277
    ],
    "deepnote_to_be_reexecuted": false,
    "execution_millis": 1405,
    "execution_start": 1653955141191,
    "is_code_hidden": false,
    "source_hash": "d46579db"
   },
   "outputs": [
    {
     "data": {
      "image/png": "[encoded data removed]",
      "text/plain": [
       "<Figure size 720x360 with 1 Axes>"
      ]
     },
     "metadata": {
      "image/png": {
       "height": 275,
       "width": 572
      },
      "needs_background": "light"
     },
     "output_type": "display_data"
    }
   ],
   "source": [
    "import matplotlib.pyplot as plt\n",
    "fig,ax=plt.subplots(1,1,figsize=(10,5))\n",
    "ax.imshow(plt.imread('imgs/indexacion_1_I.png'))\n",
    "ax.set_axis_off()"
   ]
  },
  {
   "cell_type": "code",
   "execution_count": null,
   "id": "internal-royal",
   "metadata": {
    "cell_id": "00012-819eaf22-46ce-4ee5-91f4-e386a126cb59",
    "deepnote_cell_height": 188.60000610351562,
    "deepnote_cell_type": "code",
    "deepnote_to_be_reexecuted": false,
    "execution_millis": 862014,
    "execution_start": 1653955142246,
    "source_hash": "44d97cb9"
   },
   "outputs": [
    {
     "name": "stdout",
     "output_type": "stream",
     "text": [
      "manzana\n",
      "\n",
      "['manzana']\n"
     ]
    }
   ],
   "source": [
    "print(frutas[0])\n",
    "print()\n",
    "print(frutas[0:1])"
   ]
  },
  {
   "cell_type": "code",
   "execution_count": null,
   "id": "sized-adventure",
   "metadata": {
    "cell_id": "00013-9f524d16-10d2-43a1-8e24-369cca423ddd",
    "deepnote_cell_height": 112.19999694824219,
    "deepnote_cell_type": "code",
    "deepnote_to_be_reexecuted": false,
    "execution_millis": 862019,
    "execution_start": 1653955142248,
    "source_hash": "a379ae51",
    "tags": []
   },
   "outputs": [
    {
     "name": "stdout",
     "output_type": "stream",
     "text": [
      "['manzana', 'banana', 'mango', 'limon', 'pina']\n"
     ]
    }
   ],
   "source": [
    "print(frutas)"
   ]
  },
  {
   "cell_type": "code",
   "execution_count": null,
   "id": "specific-transmission",
   "metadata": {
    "cell_id": "00013-116b9bc1-e6c7-458b-87c7-b15cdbd720ac",
    "deepnote_cell_height": 352,
    "deepnote_cell_type": "code",
    "deepnote_output_heights": [
     21
    ],
    "deepnote_to_be_reexecuted": false,
    "execution_millis": 330,
    "execution_start": 1653955142278,
    "source_hash": "fa1d3e2b"
   },
   "outputs": [
    {
     "data": {
      "text/plain": [
       "['manzana', 'banana', 'mango', 'limon', 'pina']"
      ]
     },
     "execution_count": 8,
     "metadata": {},
     "output_type": "execute_result"
    }
   ],
   "source": [
    "# Más ejemplos sobre la indexación y segmentación de las listas, a continuación:\n",
    "\n",
    "# Listas indexación\n",
    "frutas[0]  # manzana\n",
    "frutas[1]  # banana\n",
    "frutas[2]  # mango\n",
    "frutas[-1] # pina\n",
    "\n",
    "# Listas segmentación\n",
    "frutas[0:2]   # ['manzana\", \"banana']\n",
    "frutas[-2:-1] # ['limon']\n",
    "frutas[3:]    # ['limon','pina']\n",
    "frutas[:4]    # ['manzana', 'banana', 'mango', 'limon']\n",
    "frutas[:]     # ['manzana', 'banana', 'mango', 'limon', 'pina']"
   ]
  },
  {
   "cell_type": "markdown",
   "id": "ancient-handbook",
   "metadata": {
    "cell_id": "00014-2bf745ae-9fb4-415c-a59e-7342985b1b26",
    "deepnote_cell_height": 52.399993896484375,
    "deepnote_cell_type": "markdown"
   },
   "source": [
    "Los resultados de la segmentación se pueden guardar en otra lista:"
   ]
  },
  {
   "cell_type": "code",
   "execution_count": null,
   "id": "dimensional-warning",
   "metadata": {
    "cell_id": "00015-34195f85-9571-4372-8e9e-7040b0f925cd",
    "deepnote_cell_height": 130.1999969482422,
    "deepnote_cell_type": "code",
    "deepnote_to_be_reexecuted": false,
    "execution_millis": 330,
    "execution_start": 1653955142279,
    "source_hash": "dcb3f5a2"
   },
   "outputs": [
    {
     "name": "stdout",
     "output_type": "stream",
     "text": [
      "['mango', 'limon']\n"
     ]
    }
   ],
   "source": [
    "cad_seg_1 = frutas[2:4]\n",
    "print(cad_seg_1)"
   ]
  },
  {
   "cell_type": "markdown",
   "id": "closing-husband",
   "metadata": {
    "cell_id": "00016-79201a36-d650-4a77-86ff-faf87e8f39b9",
    "deepnote_cell_height": 122.39999389648438,
    "deepnote_cell_type": "markdown"
   },
   "source": [
    "<a id=\"mutabilidad\"></a>   \n",
    "## Mutabilidad\n",
    "Contrario a las cadenas, las listas son mutables."
   ]
  },
  {
   "cell_type": "code",
   "execution_count": null,
   "id": "widespread-connection",
   "metadata": {
    "cell_id": "00017-246e80be-5209-4703-96b0-ba609a870359",
    "deepnote_cell_height": 112.19999694824219,
    "deepnote_cell_type": "code",
    "deepnote_to_be_reexecuted": false,
    "execution_millis": 862026,
    "execution_start": 1653955142280,
    "source_hash": "a379ae51"
   },
   "outputs": [
    {
     "name": "stdout",
     "output_type": "stream",
     "text": [
      "['manzana', 'banana', 'mango', 'limon', 'pina']\n"
     ]
    }
   ],
   "source": [
    "print(frutas)"
   ]
  },
  {
   "cell_type": "code",
   "execution_count": null,
   "id": "human-strand",
   "metadata": {
    "cell_id": "00018-bd32ed99-fba5-49da-ad2c-e802eb3416be",
    "deepnote_cell_height": 81,
    "deepnote_cell_type": "code",
    "deepnote_to_be_reexecuted": false,
    "execution_millis": 304,
    "execution_start": 1653955142306,
    "source_hash": "eb0b313e"
   },
   "outputs": [],
   "source": [
    "frutas[0]='pera'"
   ]
  },
  {
   "cell_type": "code",
   "execution_count": null,
   "id": "direct-template",
   "metadata": {
    "cell_id": "00019-c3b48c46-e705-44b8-b9c3-7705f52790c4",
    "deepnote_cell_height": 112.19999694824219,
    "deepnote_cell_type": "code",
    "deepnote_to_be_reexecuted": false,
    "execution_millis": 303,
    "execution_start": 1653955142307,
    "source_hash": "a379ae51"
   },
   "outputs": [
    {
     "name": "stdout",
     "output_type": "stream",
     "text": [
      "['pera', 'banana', 'mango', 'limon', 'pina']\n"
     ]
    }
   ],
   "source": [
    "print(frutas)"
   ]
  },
  {
   "cell_type": "markdown",
   "id": "literary-headset",
   "metadata": {
    "cell_id": "00020-6f5dd94c-26f4-485b-9db5-2c4ccbd809dc",
    "deepnote_cell_height": 74.80000305175781,
    "deepnote_cell_type": "markdown"
   },
   "source": [
    "Para hacer referencia al primer elemento de la cadena del primer elemento de la lista, \n",
    "se usa doble corchetes."
   ]
  },
  {
   "cell_type": "code",
   "execution_count": null,
   "id": "structural-pastor",
   "metadata": {
    "cell_id": "00021-434bee02-8d2b-4b81-8a76-5a4dcb880131",
    "deepnote_cell_height": 112.19999694824219,
    "deepnote_cell_type": "code",
    "deepnote_to_be_reexecuted": false,
    "execution_millis": 862039,
    "execution_start": 1653955142308,
    "source_hash": "dbac6ed8"
   },
   "outputs": [
    {
     "name": "stdout",
     "output_type": "stream",
     "text": [
      "p\n"
     ]
    }
   ],
   "source": [
    "print(frutas[0][0])"
   ]
  },
  {
   "cell_type": "markdown",
   "id": "reduced-ordering",
   "metadata": {
    "cell_id": "00022-507ece78-2b5c-4ff1-b730-1a6701d32ef9",
    "deepnote_cell_height": 129.60000610351562,
    "deepnote_cell_type": "markdown"
   },
   "source": [
    "Obviamente, las cadenas no son mutables, entonces no es permitido hacer la siguiente operación:\n",
    "```\n",
    "frutas[0][0]='P'\n",
    "```\n",
    "error: las cadenas son inmutables"
   ]
  },
  {
   "cell_type": "markdown",
   "id": "emerging-number",
   "metadata": {
    "cell_id": "00023-76119be6-e707-489e-91ee-d0e633dc5b93",
    "deepnote_cell_height": 114.39999389648438,
    "deepnote_cell_type": "markdown"
   },
   "source": [
    "<a id=\"concatenación\"></a>   \n",
    "### Concatenacion de las listas\n",
    "Las listas se pueden concatenar (pegar juntas) con el operador `+` y se pueden repetir con `*`.  "
   ]
  },
  {
   "cell_type": "code",
   "execution_count": null,
   "id": "sized-decrease",
   "metadata": {
    "cell_id": "00024-6af09a40-53c6-4d18-bd51-3bcb93bef151",
    "deepnote_cell_height": 118,
    "deepnote_cell_type": "code",
    "deepnote_output_heights": [
     21
    ],
    "deepnote_to_be_reexecuted": false,
    "execution_millis": 862028,
    "execution_start": 1653955142309,
    "source_hash": "1cdc413"
   },
   "outputs": [
    {
     "data": {
      "text/plain": [
       "['naranja', 'pera', 'banana', 'mango', 'limon', 'pina', 'kiwi']"
      ]
     },
     "execution_count": 14,
     "metadata": {},
     "output_type": "execute_result"
    }
   ],
   "source": [
    "['naranja']+frutas+['kiwi'] # pegando juntas tres listas"
   ]
  },
  {
   "cell_type": "markdown",
   "id": "behind-picking",
   "metadata": {
    "cell_id": "00026-7d4d7c83-117a-4a5c-b08b-3ea51c0f36ab",
    "deepnote_cell_height": 52.399993896484375,
    "deepnote_cell_type": "markdown",
    "tags": []
   },
   "source": [
    "o repetir usando el operador \"*\""
   ]
  },
  {
   "cell_type": "code",
   "execution_count": null,
   "id": "passive-bleeding",
   "metadata": {
    "cell_id": "00025-e5a8aa3b-3392-4049-8ad9-75be05f3d5a1",
    "deepnote_cell_height": 118,
    "deepnote_cell_type": "code",
    "deepnote_output_heights": [
     21
    ],
    "deepnote_to_be_reexecuted": false,
    "execution_millis": 297,
    "execution_start": 1653955142314,
    "source_hash": "7feca849"
   },
   "outputs": [
    {
     "data": {
      "text/plain": [
       "['kiwi', 'manzana', 'kiwi', 'manzana', 'kiwi', 'manzana']"
      ]
     },
     "execution_count": 15,
     "metadata": {},
     "output_type": "execute_result"
    }
   ],
   "source": [
    "['kiwi','manzana']*3 # repitiendo lista"
   ]
  },
  {
   "cell_type": "markdown",
   "id": "alike-facial",
   "metadata": {
    "cell_id": "00026-91bf6691-aef7-495a-b590-46c0a2867ee5",
    "deepnote_cell_height": 137.8000030517578,
    "deepnote_cell_type": "markdown"
   },
   "source": [
    "<a id=\"metodos\"></a>   \n",
    "### Los métodos y las funciones `dir()` y `help()`\n",
    "\n",
    "Las listas (como las cadenas) también tienen sus métodos.\n",
    "Para ver qué métodos se pueden usar con las listas se usan dos funciones:\n",
    "`dir(nombre_cadena)` o `help(list)`"
   ]
  },
  {
   "cell_type": "code",
   "execution_count": null,
   "id": "israeli-vintage",
   "metadata": {
    "cell_id": "00027-2665eed7-6762-4e3b-8349-2a6a857ee14c",
    "deepnote_cell_height": 112.19999694824219,
    "deepnote_cell_type": "code",
    "deepnote_to_be_reexecuted": false,
    "execution_millis": 290,
    "execution_start": 1653955142321,
    "source_hash": "a680f4b7"
   },
   "outputs": [
    {
     "name": "stdout",
     "output_type": "stream",
     "text": [
      "['__add__', '__class__', '__contains__', '__delattr__', '__delitem__', '__dir__', '__doc__', '__eq__', '__format__', '__ge__', '__getattribute__', '__getitem__', '__gt__', '__hash__', '__iadd__', '__imul__', '__init__', '__init_subclass__', '__iter__', '__le__', '__len__', '__lt__', '__mul__', '__ne__', '__new__', '__reduce__', '__reduce_ex__', '__repr__', '__reversed__', '__rmul__', '__setattr__', '__setitem__', '__sizeof__', '__str__', '__subclasshook__', 'append', 'clear', 'copy', 'count', 'extend', 'index', 'insert', 'pop', 'remove', 'reverse', 'sort']\n"
     ]
    }
   ],
   "source": [
    "print(dir(frutas))"
   ]
  },
  {
   "cell_type": "markdown",
   "id": "working-cause",
   "metadata": {
    "cell_id": "00030-0bd295a5-d04b-4bf5-86af-349e624dd640",
    "deepnote_cell_height": 52.399993896484375,
    "deepnote_cell_type": "markdown",
    "tags": []
   },
   "source": [
    "Entre diversos métodos, los más útiles son:"
   ]
  },
  {
   "cell_type": "markdown",
   "id": "studied-click",
   "metadata": {
    "cell_id": "00028-1483864d-8c1c-4b7b-8038-07a29e41283e",
    "deepnote_cell_height": 74.80000305175781,
    "deepnote_cell_type": "markdown"
   },
   "source": [
    "**append**. El método `append()` se utiliza para insertar un nuevo elemento al final de la lista.\n",
    "Es muy útil crear una lista vacía y agregarle elementos nuevos."
   ]
  },
  {
   "cell_type": "code",
   "execution_count": null,
   "id": "behind-schema",
   "metadata": {
    "cell_id": "00029-4a5a9931-b340-4174-9626-2a55d571d685",
    "deepnote_cell_height": 130.1999969482422,
    "deepnote_cell_type": "code",
    "deepnote_to_be_reexecuted": false,
    "execution_millis": 284,
    "execution_start": 1653955142328,
    "source_hash": "38c9716d"
   },
   "outputs": [
    {
     "name": "stdout",
     "output_type": "stream",
     "text": [
      "[]\n"
     ]
    }
   ],
   "source": [
    "vegetables=[]\n",
    "print(vegetables)"
   ]
  },
  {
   "cell_type": "code",
   "execution_count": null,
   "id": "affiliated-alaska",
   "metadata": {
    "cell_id": "00030-7f12b1cf-7786-4972-ab1e-65162623c5f1",
    "deepnote_cell_height": 117,
    "deepnote_cell_type": "code",
    "deepnote_to_be_reexecuted": false,
    "execution_millis": 249,
    "execution_start": 1653955142363,
    "source_hash": "c334d7e"
   },
   "outputs": [],
   "source": [
    "vegetables.append('cebola')\n",
    "vegetables.append('zanahoria')\n",
    "vegetables.append('batata')"
   ]
  },
  {
   "cell_type": "code",
   "execution_count": null,
   "id": "hawaiian-ownership",
   "metadata": {
    "cell_id": "00034-c2f45890-9683-41f7-9246-c0c2a78f59cb",
    "deepnote_cell_height": 112.19999694824219,
    "deepnote_cell_type": "code",
    "deepnote_to_be_reexecuted": false,
    "execution_millis": 249,
    "execution_start": 1653955142364,
    "source_hash": "e43b3932"
   },
   "outputs": [
    {
     "name": "stdout",
     "output_type": "stream",
     "text": [
      "['cebola', 'zanahoria', 'batata']\n"
     ]
    }
   ],
   "source": [
    "print(vegetables)"
   ]
  },
  {
   "cell_type": "code",
   "execution_count": null,
   "id": "interesting-opposition",
   "metadata": {
    "cell_id": "00035-f1623a3e-9b35-4e06-b418-db2b94567d4c",
    "deepnote_cell_height": 81,
    "deepnote_cell_type": "code",
    "deepnote_to_be_reexecuted": false,
    "execution_millis": 249,
    "execution_start": 1653955142365,
    "source_hash": "1d2fdf90"
   },
   "outputs": [],
   "source": [
    "vegetables.append(['coliflor','broccoli'])"
   ]
  },
  {
   "cell_type": "code",
   "execution_count": null,
   "id": "occupied-tamil",
   "metadata": {
    "cell_id": "00031-d784c94e-ce77-4c07-95f5-6c2e5f9aab15",
    "deepnote_cell_height": 112.19999694824219,
    "deepnote_cell_type": "code",
    "deepnote_to_be_reexecuted": false,
    "execution_millis": 248,
    "execution_start": 1653955142366,
    "source_hash": "e43b3932"
   },
   "outputs": [
    {
     "name": "stdout",
     "output_type": "stream",
     "text": [
      "['cebola', 'zanahoria', 'batata', ['coliflor', 'broccoli']]\n"
     ]
    }
   ],
   "source": [
    "print(vegetables)"
   ]
  },
  {
   "cell_type": "markdown",
   "id": "automated-blood",
   "metadata": {
    "cell_id": "00037-66424291-e61e-4bcf-ad74-65d0608edde8",
    "deepnote_cell_height": 74.80000305175781,
    "deepnote_cell_type": "markdown"
   },
   "source": [
    "***extend***. El método `extend()` se utiliza junto con `append()` para insertar cada elemento de la lista al final de otra lista."
   ]
  },
  {
   "cell_type": "code",
   "execution_count": null,
   "id": "fuzzy-context",
   "metadata": {
    "cell_id": "00038-23117189-4e3e-41b1-917f-d1811819d88f",
    "deepnote_cell_height": 130.1999969482422,
    "deepnote_cell_type": "code",
    "deepnote_to_be_reexecuted": false,
    "execution_millis": 862036,
    "execution_start": 1653955142372,
    "source_hash": "38c9716d"
   },
   "outputs": [
    {
     "name": "stdout",
     "output_type": "stream",
     "text": [
      "[]\n"
     ]
    }
   ],
   "source": [
    "vegetables=[]\n",
    "print(vegetables)"
   ]
  },
  {
   "cell_type": "code",
   "execution_count": null,
   "id": "green-vietnam",
   "metadata": {
    "cell_id": "00039-5533bebc-3c8f-4f7e-92f0-d738fb65215a",
    "deepnote_cell_height": 117,
    "deepnote_cell_type": "code",
    "deepnote_to_be_reexecuted": false,
    "execution_millis": 219,
    "execution_start": 1653955142396,
    "source_hash": "c334d7e"
   },
   "outputs": [],
   "source": [
    "vegetables.append('cebola')\n",
    "vegetables.append('zanahoria')\n",
    "vegetables.append('batata')"
   ]
  },
  {
   "cell_type": "code",
   "execution_count": null,
   "id": "smart-magic",
   "metadata": {
    "cell_id": "00040-b98687cb-0cef-4fb4-ab8f-42cdf43a77ab",
    "deepnote_cell_height": 112.19999694824219,
    "deepnote_cell_type": "code",
    "deepnote_to_be_reexecuted": false,
    "execution_millis": 218,
    "execution_start": 1653955142397,
    "source_hash": "e43b3932"
   },
   "outputs": [
    {
     "name": "stdout",
     "output_type": "stream",
     "text": [
      "['cebola', 'zanahoria', 'batata']\n"
     ]
    }
   ],
   "source": [
    "print(vegetables)"
   ]
  },
  {
   "cell_type": "code",
   "execution_count": null,
   "id": "defined-overhead",
   "metadata": {
    "cell_id": "00041-18870b99-b805-495c-a468-39cd9892bcb7",
    "deepnote_cell_height": 81,
    "deepnote_cell_type": "code",
    "deepnote_to_be_reexecuted": false,
    "execution_millis": 862033,
    "execution_start": 1653955142398,
    "source_hash": "3af9a828"
   },
   "outputs": [],
   "source": [
    "vegetables.extend(['coliflor','broccoli'])"
   ]
  },
  {
   "cell_type": "code",
   "execution_count": null,
   "id": "filled-cargo",
   "metadata": {
    "cell_id": "00042-92031c1e-20dc-4dc0-925c-555c9907d836",
    "deepnote_cell_height": 112.19999694824219,
    "deepnote_cell_type": "code",
    "deepnote_to_be_reexecuted": false,
    "execution_millis": 218,
    "execution_start": 1653955142399,
    "source_hash": "e43b3932"
   },
   "outputs": [
    {
     "name": "stdout",
     "output_type": "stream",
     "text": [
      "['cebola', 'zanahoria', 'batata', 'coliflor', 'broccoli']\n"
     ]
    }
   ],
   "source": [
    "print(vegetables)"
   ]
  },
  {
   "cell_type": "markdown",
   "id": "convertible-assist",
   "metadata": {
    "cell_id": "00032-cbb80474-9f28-4e01-897c-c68c3ff9c190",
    "deepnote_cell_height": 52.399993896484375,
    "deepnote_cell_type": "markdown"
   },
   "source": [
    "**remove**. El método `remove()` se utiliza para quitar un elemento determinado de la lista."
   ]
  },
  {
   "cell_type": "code",
   "execution_count": null,
   "id": "respiratory-cooperation",
   "metadata": {
    "cell_id": "00033-32f80948-4355-4d56-81ba-52057f8982f7",
    "deepnote_cell_height": 130.1999969482422,
    "deepnote_cell_type": "code",
    "deepnote_to_be_reexecuted": false,
    "execution_millis": 216,
    "execution_start": 1653955142401,
    "source_hash": "23addc01"
   },
   "outputs": [
    {
     "name": "stdout",
     "output_type": "stream",
     "text": [
      "['cebola', 'zanahoria', 'batata', 'coliflor']\n"
     ]
    }
   ],
   "source": [
    "vegetables.remove('broccoli')\n",
    "print(vegetables)"
   ]
  },
  {
   "cell_type": "markdown",
   "id": "dental-isolation",
   "metadata": {
    "cell_id": "00034-93d84905-05a2-4578-be69-1d03c4949ae9",
    "deepnote_cell_height": 52.399993896484375,
    "deepnote_cell_type": "markdown"
   },
   "source": [
    "**pop**. El método `pop()` se utiliza para quitar un elemento determinado de la lista usando el índice."
   ]
  },
  {
   "cell_type": "code",
   "execution_count": null,
   "id": "realistic-range",
   "metadata": {
    "cell_id": "00035-b907768d-e3ce-4c89-aa06-136da501af95",
    "deepnote_cell_height": 168.39999389648438,
    "deepnote_cell_type": "code",
    "deepnote_to_be_reexecuted": false,
    "execution_millis": 173,
    "execution_start": 1653955142445,
    "source_hash": "bda9593d"
   },
   "outputs": [
    {
     "name": "stdout",
     "output_type": "stream",
     "text": [
      "['cebola', 'zanahoria', 'batata', 'coliflor']\n",
      "['cebola', 'zanahoria', 'batata']\n"
     ]
    }
   ],
   "source": [
    "print(vegetables)\n",
    "vegetables.pop(-1) # quitar último elemento de la lista\n",
    "print(vegetables)"
   ]
  },
  {
   "cell_type": "markdown",
   "id": "disabled-settle",
   "metadata": {
    "cell_id": "00036-b22e085e-1d59-4284-8bdf-07df9a187c5e",
    "deepnote_cell_height": 74.80000305175781,
    "deepnote_cell_type": "markdown"
   },
   "source": [
    "**count**. El método `count()` se utiliza para contar el número de veces que un elemento determinado aparece en una lista."
   ]
  },
  {
   "cell_type": "code",
   "execution_count": null,
   "id": "offensive-tourist",
   "metadata": {
    "cell_id": "00037-d47f0f4a-a2e5-4541-9b30-59bc34577d56",
    "deepnote_cell_height": 148.1999969482422,
    "deepnote_cell_type": "code",
    "deepnote_to_be_reexecuted": false,
    "execution_millis": 172,
    "execution_start": 1653955142447,
    "source_hash": "8083d72d"
   },
   "outputs": [
    {
     "name": "stdout",
     "output_type": "stream",
     "text": [
      "1\n"
     ]
    }
   ],
   "source": [
    "veg='cebola'\n",
    "veg_count=vegetables.count(veg)\n",
    "print(veg_count)"
   ]
  },
  {
   "cell_type": "markdown",
   "id": "developed-episode",
   "metadata": {
    "cell_id": "00038-289a0a42-1320-4264-b413-9d3341666f5a",
    "deepnote_cell_height": 74.80000305175781,
    "deepnote_cell_type": "markdown"
   },
   "source": [
    "**index** El método `index()` se utiliza para obtener el valor de posición de cualquier elemento de la lista."
   ]
  },
  {
   "cell_type": "code",
   "execution_count": null,
   "id": "sporting-darwin",
   "metadata": {
    "cell_id": "00039-8a3bd1b0-0b13-444d-835b-932f1576e026",
    "deepnote_cell_height": 118,
    "deepnote_cell_type": "code",
    "deepnote_output_heights": [
     21
    ],
    "deepnote_to_be_reexecuted": false,
    "execution_millis": 171,
    "execution_start": 1653955142448,
    "source_hash": "7586c74f"
   },
   "outputs": [
    {
     "data": {
      "text/plain": [
       "1"
      ]
     },
     "execution_count": 30,
     "metadata": {},
     "output_type": "execute_result"
    }
   ],
   "source": [
    "vegetables.index('zanahoria')"
   ]
  },
  {
   "cell_type": "markdown",
   "id": "induced-apache",
   "metadata": {
    "cell_id": "00040-95142f7f-71f6-40be-9839-7c0b126cf855",
    "deepnote_cell_height": 119.60000610351562,
    "deepnote_cell_type": "markdown"
   },
   "source": [
    "**sort**. El método `sort()` se utiliza para ordenar los datos de la lista. Este método es útil cuando se trabaja con el mismo tipo de datos de lista y se necesitan organizar los datos para cualquier propósito de programación. Es importante tener en cuenta que la operación sort cambia el orden de los elementos de la misma lista."
   ]
  },
  {
   "cell_type": "code",
   "execution_count": null,
   "id": "described-price",
   "metadata": {
    "cell_id": "00041-7666da77-e41b-4d6d-b04d-9319aa45864e",
    "deepnote_cell_height": 168.39999389648438,
    "deepnote_cell_type": "code",
    "deepnote_to_be_reexecuted": false,
    "execution_millis": 169,
    "execution_start": 1653955142451,
    "source_hash": "76df9913"
   },
   "outputs": [
    {
     "name": "stdout",
     "output_type": "stream",
     "text": [
      "['cebola', 'zanahoria', 'batata']\n",
      "['batata', 'cebola', 'zanahoria']\n"
     ]
    }
   ],
   "source": [
    "print(vegetables)\n",
    "vegetables.sort()\n",
    "print(vegetables)"
   ]
  },
  {
   "cell_type": "markdown",
   "id": "cellular-barrel",
   "metadata": {
    "cell_id": "00042-294244ad-79b3-4c79-b5ee-f1f849926a50",
    "deepnote_cell_height": 74.80000305175781,
    "deepnote_cell_type": "markdown"
   },
   "source": [
    "**reverse**. Este método no toma ningún argumento y devuelve los elementos de la lista en orden inverso."
   ]
  },
  {
   "cell_type": "code",
   "execution_count": null,
   "id": "worse-concern",
   "metadata": {
    "cell_id": "00043-915174f9-8ffd-43eb-bdaa-310813ad94a6",
    "deepnote_cell_height": 168.39999389648438,
    "deepnote_cell_type": "code",
    "deepnote_to_be_reexecuted": false,
    "execution_millis": 149,
    "execution_start": 1653955142473,
    "source_hash": "324a1172"
   },
   "outputs": [
    {
     "name": "stdout",
     "output_type": "stream",
     "text": [
      "['batata', 'cebola', 'zanahoria']\n",
      "['zanahoria', 'cebola', 'batata']\n"
     ]
    }
   ],
   "source": [
    "print(vegetables)\n",
    "vegetables.reverse()\n",
    "print(vegetables)"
   ]
  },
  {
   "cell_type": "markdown",
   "id": "mental-laugh",
   "metadata": {
    "cell_id": "00044-530ccf2e-787a-4fb5-909c-f0501bbcac74",
    "deepnote_cell_height": 245.60000610351562,
    "deepnote_cell_type": "markdown"
   },
   "source": [
    "**copy**. El método `copy()` se utiliza para hacer una copia de una lista. Este método es útil para mantener los valores de lista originales antes de modificarla.  \n",
    "\n",
    "Es importante entender qué es una variable desde el punto de vista de la memoria del computador. Cuando creamos un nuevo objeto en Python, por ejemplo una nueva lista `mi_lista`, se está almacenando la lista en la memoria del equipo y la dirección de esa lista se almacena en la variable `mi_lista`. Si hacemos una \"copia\" de la lista usando operador `=`, por ejemplo `mi_lista_copia = mi_lista`, NO creamos un nuevo objeto que tenga el mismo contenido, solo creamos una nueva variable que comparte la referencia del objeto original! Por lo tanto, si desea copiar los valores reales, puede usar el método `copy()`. Para comprenderlo mejor, observe el siguiente ejemplo: "
   ]
  },
  {
   "cell_type": "markdown",
   "id": "cardiac-emphasis",
   "metadata": {
    "cell_id": "00045-1fc14225-2f97-4048-a329-85548d64e95d",
    "deepnote_cell_height": 52.399993896484375,
    "deepnote_cell_type": "markdown"
   },
   "source": [
    "Usando copia \"superficial\" de la lista:"
   ]
  },
  {
   "cell_type": "code",
   "execution_count": null,
   "id": "fitted-latino",
   "metadata": {
    "cell_id": "00046-6bfaa836-8a4a-445b-a681-95c64a39856c",
    "deepnote_cell_height": 260.6000061035156,
    "deepnote_cell_type": "code",
    "deepnote_to_be_reexecuted": false,
    "execution_millis": 147,
    "execution_start": 1653955142475,
    "source_hash": "8f492219"
   },
   "outputs": [
    {
     "name": "stdout",
     "output_type": "stream",
     "text": [
      "['a', 'b', 'c'] lista original\n",
      "['A', 'b', 'c'] lista original con nuevo valor\n",
      "['A', 'b', 'c'] copia superficial de la lista tambien cambio el valor\n"
     ]
    }
   ],
   "source": [
    "mi_lista = ['a','b','c']\n",
    "print(mi_lista, 'lista original')\n",
    "mi_lista_copia_superficial = mi_lista # haciendo copia superficial de la lista\n",
    "mi_lista[0]='A'                       # cambiando un valor de la lista original\n",
    "print(mi_lista, 'lista original con nuevo valor')\n",
    "print(mi_lista_copia_superficial, 'copia superficial de la lista tambien cambio el valor') \n",
    "                                      # la copia superficial también tiene el valor cambiado!"
   ]
  },
  {
   "cell_type": "markdown",
   "id": "accompanied-metadata",
   "metadata": {
    "cell_id": "00047-4e241495-bde1-45eb-aab8-29ad52fba07f",
    "deepnote_cell_height": 52.399993896484375,
    "deepnote_cell_type": "markdown"
   },
   "source": [
    "Usando copia \"profunda\" de la lista:"
   ]
  },
  {
   "cell_type": "code",
   "execution_count": null,
   "id": "exotic-microwave",
   "metadata": {
    "cell_id": "00048-585c8c7f-0060-4ee5-9365-a9ebe1833c9e",
    "deepnote_cell_height": 260.6000061035156,
    "deepnote_cell_type": "code",
    "deepnote_to_be_reexecuted": false,
    "execution_millis": 146,
    "execution_start": 1653955142477,
    "source_hash": "a378f3d"
   },
   "outputs": [
    {
     "name": "stdout",
     "output_type": "stream",
     "text": [
      "['a', 'b', 'c'] lista original\n",
      "['A', 'b', 'c'] lista original con nuevo valor\n",
      "['a', 'b', 'c'] copia profunda de la lista no cambio el valor\n"
     ]
    }
   ],
   "source": [
    "mi_lista = ['a','b','c']\n",
    "print(mi_lista, 'lista original')\n",
    "mi_lista_copia_profunda = mi_lista.copy() # haciendo copia profunda de la lista\n",
    "mi_lista[0]='A'                           # cambiando un valor de la lista original\n",
    "print(mi_lista, 'lista original con nuevo valor')\n",
    "print(mi_lista_copia_profunda, 'copia profunda de la lista no cambio el valor')   \n",
    "                                          # la copia profunda mantiene su valor original!"
   ]
  },
  {
   "cell_type": "markdown",
   "id": "thick-cooling",
   "metadata": {
    "cell_id": "00049-b920ca6d-ab45-4241-86e8-cfe811ee9fd6",
    "deepnote_cell_height": 122.39999389648438,
    "deepnote_cell_type": "markdown"
   },
   "source": [
    "<a id=\"listas_anidadas\"></a>   \n",
    "## Listas anidadas \n",
    "Son las listas que tienen otras listas como sus elementos."
   ]
  },
  {
   "cell_type": "code",
   "execution_count": null,
   "id": "surrounded-albany",
   "metadata": {
    "cell_id": "00050-797cbcc3-5f32-477e-8f38-6247154ccad2",
    "deepnote_cell_height": 112.19999694824219,
    "deepnote_cell_type": "code",
    "deepnote_to_be_reexecuted": false,
    "execution_millis": 145,
    "execution_start": 1653955142479,
    "source_hash": "a379ae51"
   },
   "outputs": [
    {
     "name": "stdout",
     "output_type": "stream",
     "text": [
      "['pera', 'banana', 'mango', 'limon', 'pina']\n"
     ]
    }
   ],
   "source": [
    "print(frutas)"
   ]
  },
  {
   "cell_type": "code",
   "execution_count": null,
   "id": "elect-nicaragua",
   "metadata": {
    "cell_id": "00051-f53765c3-dd8c-44b2-aee3-ff258056fcb7",
    "deepnote_cell_height": 112.19999694824219,
    "deepnote_cell_type": "code",
    "deepnote_to_be_reexecuted": false,
    "execution_millis": 140,
    "execution_start": 1653955142486,
    "source_hash": "e43b3932"
   },
   "outputs": [
    {
     "name": "stdout",
     "output_type": "stream",
     "text": [
      "['zanahoria', 'cebola', 'batata']\n"
     ]
    }
   ],
   "source": [
    "print(vegetables)"
   ]
  },
  {
   "cell_type": "code",
   "execution_count": null,
   "id": "practical-johnston",
   "metadata": {
    "cell_id": "00052-d12c5d14-f5c4-4100-8a2a-3ae7270bbf9b",
    "deepnote_cell_height": 99,
    "deepnote_cell_type": "code",
    "deepnote_to_be_reexecuted": false,
    "execution_millis": 4,
    "execution_start": 1653955142495,
    "source_hash": "c2cb2362"
   },
   "outputs": [],
   "source": [
    "# La lista frutas_verduras tiene dos elementos y cada de uno de estos elemento es otra lista\n",
    "frutas_verduras=[frutas,vegetables]"
   ]
  },
  {
   "cell_type": "code",
   "execution_count": null,
   "id": "arranged-garden",
   "metadata": {
    "cell_id": "00053-57c66cb2-05ae-4a16-ad93-43d44fd9ad15",
    "deepnote_cell_height": 112.19999694824219,
    "deepnote_cell_type": "code",
    "deepnote_to_be_reexecuted": false,
    "execution_millis": 1,
    "execution_start": 1653955142503,
    "source_hash": "140b2172"
   },
   "outputs": [
    {
     "name": "stdout",
     "output_type": "stream",
     "text": [
      "[['pera', 'banana', 'mango', 'limon', 'pina'], ['zanahoria', 'cebola', 'batata']]\n"
     ]
    }
   ],
   "source": [
    "print(frutas_verduras)"
   ]
  },
  {
   "cell_type": "code",
   "execution_count": null,
   "id": "great-acrylic",
   "metadata": {
    "cell_id": "00054-42e0eaca-7a0b-4312-b6a4-233d73ba3228",
    "deepnote_cell_height": 130.1999969482422,
    "deepnote_cell_type": "code",
    "deepnote_to_be_reexecuted": false,
    "execution_millis": 80,
    "execution_start": 1653955142547,
    "source_hash": "e1a52025"
   },
   "outputs": [
    {
     "name": "stdout",
     "output_type": "stream",
     "text": [
      "2\n"
     ]
    }
   ],
   "source": [
    "## La lista frutas_verduras tiene un elemento \n",
    "print(len(frutas_verduras))"
   ]
  },
  {
   "cell_type": "code",
   "execution_count": null,
   "id": "liberal-ending",
   "metadata": {
    "cell_id": "00055-7c2e8f96-1cd4-44c1-a633-966e4d890e83",
    "deepnote_cell_height": 130.1999969482422,
    "deepnote_cell_type": "code",
    "deepnote_to_be_reexecuted": false,
    "execution_millis": 80,
    "execution_start": 1653955142549,
    "source_hash": "3212f48a"
   },
   "outputs": [
    {
     "name": "stdout",
     "output_type": "stream",
     "text": [
      "5\n"
     ]
    }
   ],
   "source": [
    "## El primer elemento de la lista de frutas_verduras tiene cinco elementos \n",
    "print(len(frutas_verduras[0]))"
   ]
  },
  {
   "cell_type": "code",
   "execution_count": null,
   "id": "automatic-driving",
   "metadata": {
    "cell_id": "00056-75d15604-36c6-4a1c-b3eb-6c758e267c3c",
    "deepnote_cell_height": 130.1999969482422,
    "deepnote_cell_type": "code",
    "deepnote_to_be_reexecuted": false,
    "execution_millis": 79,
    "execution_start": 1653955142550,
    "source_hash": "5817b092"
   },
   "outputs": [
    {
     "name": "stdout",
     "output_type": "stream",
     "text": [
      "p\n"
     ]
    }
   ],
   "source": [
    "# El primer elemento del primer elemento del primer elemento de la lista frutas_verduras es letra \"m (de manzana)\"\n",
    "print(frutas_verduras[0][0][0])"
   ]
  },
  {
   "cell_type": "code",
   "execution_count": null,
   "id": "virgin-twenty",
   "metadata": {
    "cell_id": "00057-0446b68a-5e99-4736-962a-fb2bd0e8d01d",
    "deepnote_cell_height": 172,
    "deepnote_cell_type": "code",
    "deepnote_output_heights": [
     21
    ],
    "deepnote_to_be_reexecuted": false,
    "execution_millis": 79,
    "execution_start": 1653955142552,
    "source_hash": "13d3a7c9"
   },
   "outputs": [
    {
     "data": {
      "text/plain": [
       "1"
      ]
     },
     "execution_count": 42,
     "metadata": {},
     "output_type": "execute_result"
    }
   ],
   "source": [
    "# En la lista frutas_verduras no hay elemento 'pera'\n",
    "frutas_verduras.count('pina')\n",
    "# elemento pera es el primer elemento de la lista frutas_verduras\n",
    "frutas_verduras[0].count('pina')"
   ]
  },
  {
   "cell_type": "markdown",
   "id": "adjustable-harbor",
   "metadata": {
    "cell_id": "00058-7d4a8f25-64a8-49ba-8a89-b9ff92ef1643",
    "deepnote_cell_height": 524.7999877929688,
    "deepnote_cell_type": "markdown"
   },
   "source": [
    "<a id=\"logical_operators\"></a>\n",
    "##  Operadores de comparación y operadores lógicos\n",
    "Así como en los números y las cadenas, los operadores de comparación se utilizan para comparar dos listas y dar un resultado de `True` o `False` (Booleano).\n",
    "\n",
    "    Simbolo:  Significado:    \n",
    "\n",
    "    ==        igual          \n",
    "    !=        no igual       \n",
    "    >         mayor          \n",
    "    <         menor         \n",
    "    >=        mayor o igual \n",
    "    <=        menor o igual \n",
    "    in        si x esta presente en y\n",
    "    \n",
    "Los operadores de comparación se pueden usar en conjunto con operadores lógicos:\n",
    "\n",
    "    and       ambas expresiones son verdad: True\n",
    "    or        por lo menos una expresion es verdad: True  \n",
    "    not       expresión no es verdad: not True"
   ]
  },
  {
   "cell_type": "code",
   "execution_count": null,
   "id": "athletic-sense",
   "metadata": {
    "cell_id": "00059-6aeb70bb-1437-4974-944a-fdf511231c52",
    "deepnote_cell_height": 118,
    "deepnote_cell_type": "code",
    "deepnote_output_heights": [
     21
    ],
    "deepnote_to_be_reexecuted": false,
    "execution_millis": 74,
    "execution_start": 1653955142559,
    "source_hash": "62214ce3"
   },
   "outputs": [
    {
     "data": {
      "text/plain": [
       "False"
      ]
     },
     "execution_count": 43,
     "metadata": {},
     "output_type": "execute_result"
    }
   ],
   "source": [
    "frutas[0]=='manzana'"
   ]
  },
  {
   "cell_type": "code",
   "execution_count": null,
   "id": "equipped-stranger",
   "metadata": {
    "cell_id": "00060-b2bc0dd0-3e39-41a5-9d43-246de457f463",
    "deepnote_cell_height": 118,
    "deepnote_cell_type": "code",
    "deepnote_output_heights": [
     21
    ],
    "deepnote_to_be_reexecuted": false,
    "execution_millis": 65,
    "execution_start": 1653955142568,
    "source_hash": "953a0c1a"
   },
   "outputs": [
    {
     "data": {
      "text/plain": [
       "True"
      ]
     },
     "execution_count": 44,
     "metadata": {},
     "output_type": "execute_result"
    }
   ],
   "source": [
    "len(frutas) > len(vegetables)"
   ]
  },
  {
   "cell_type": "markdown",
   "id": "concerned-adult",
   "metadata": {
    "cell_id": "00061-923dff7b-f61d-41a5-beb9-22aa93bafb3c",
    "deepnote_cell_height": 52.399993896484375,
    "deepnote_cell_type": "markdown"
   },
   "source": [
    "El operador **in** tiene la misma función que en las cadenas:"
   ]
  },
  {
   "cell_type": "code",
   "execution_count": null,
   "id": "bronze-dependence",
   "metadata": {
    "cell_id": "00062-98ccff56-ae46-4ff1-bd05-2df8ac397754",
    "deepnote_cell_height": 226.8000030517578,
    "deepnote_cell_type": "code",
    "deepnote_to_be_reexecuted": false,
    "execution_millis": 34,
    "execution_start": 1653955142604,
    "source_hash": "1f3c583e"
   },
   "outputs": [
    {
     "name": "stdout",
     "output_type": "stream",
     "text": [
      "True\n",
      "True\n",
      "True\n",
      "True\n"
     ]
    }
   ],
   "source": [
    "print('pera' in frutas)\n",
    "print('pina' in frutas)\n",
    "print('pera' in frutas and 'pina' in frutas)\n",
    "print('fresa' not in frutas)"
   ]
  },
  {
   "cell_type": "markdown",
   "id": "tutorial-conviction",
   "metadata": {
    "cell_id": "00063-de843eb3-4772-43a5-ad41-e5ddb1e212ec",
    "deepnote_cell_height": 125,
    "deepnote_cell_type": "markdown"
   },
   "source": [
    "<a id=\"conditional_statements\"></a>\n",
    "## Expresiones condicionales, `if`, `else`, `elseif`"
   ]
  },
  {
   "cell_type": "markdown",
   "id": "early-requirement",
   "metadata": {
    "cell_id": "00064-45bad5f7-e05a-4026-84a1-3d70847816d2",
    "deepnote_cell_height": 214.39999389648438,
    "deepnote_cell_type": "markdown"
   },
   "source": [
    "La estructructura de la expresión condicional tipo: `if - else`, funciona de forma idéntica que en el caso de los números y las cadenas:\n",
    "```\n",
    "     if (comparacion de listas o elementos de las listas):  \n",
    "        ejecutar aqui si resultado es True  \n",
    "     else:  \n",
    "        ejecutar aqui si resultado es False  \n",
    "```        \n",
    "Por ejemplo:        "
   ]
  },
  {
   "cell_type": "code",
   "execution_count": null,
   "id": "interstate-proportion",
   "metadata": {
    "cell_id": "00065-e190682b-cc76-4ff6-a3e6-b95e9066512b",
    "deepnote_cell_height": 184.1999969482422,
    "deepnote_cell_type": "code",
    "deepnote_to_be_reexecuted": false,
    "execution_millis": 0,
    "execution_start": 1653955142605,
    "source_hash": "a0efe89d"
   },
   "outputs": [
    {
     "name": "stdout",
     "output_type": "stream",
     "text": [
      "dada cadena no es un elemento de la lista 'frutas' \n"
     ]
    }
   ],
   "source": [
    "cadena='manzana'\n",
    "if (cadena in frutas):\n",
    "    print(\"dada cadena es un elemento de la lista 'frutas' \")\n",
    "else:\n",
    "    print(\"dada cadena no es un elemento de la lista 'frutas' \")"
   ]
  },
  {
   "cell_type": "code",
   "execution_count": null,
   "id": "accepted-relay",
   "metadata": {
    "cell_id": "00066-81ef37d0-e78a-404e-b528-64523312ef6c",
    "deepnote_cell_height": 166.1999969482422,
    "deepnote_cell_type": "code",
    "deepnote_to_be_reexecuted": false,
    "execution_millis": 31,
    "execution_start": 1653955142607,
    "source_hash": "ae0cee4a"
   },
   "outputs": [
    {
     "name": "stdout",
     "output_type": "stream",
     "text": [
      "las listas tienen diferente numero de elementos\n"
     ]
    }
   ],
   "source": [
    "if ( (len(frutas)!=len(vegetables)) ):\n",
    "    print(\"las listas tienen diferente numero de elementos\")\n",
    "else:\n",
    "    print(\"las listas tienen mismo numero de elementos\")"
   ]
  },
  {
   "cell_type": "markdown",
   "id": "environmental-species",
   "metadata": {
    "cell_id": "00067-bcd49841-791b-4de1-806d-cd175f5375b3",
    "deepnote_cell_height": 185.8000030517578,
    "deepnote_cell_type": "markdown"
   },
   "source": [
    "<a id=\"loops_listas\"></a>   \n",
    "## Loops: `for`, `while`, función enumerate y función `range()`\n",
    "Iterar sobre una lista permite trabajar con cada elemento de esta lista individualmente. Se comienza con el elemento en el índice 0 y se desplaza hasta el final de la lista."
   ]
  },
  {
   "cell_type": "code",
   "execution_count": null,
   "id": "particular-scoop",
   "metadata": {
    "cell_id": "00068-bccd86a6-8c2a-4dd3-91d2-3f90efb58825",
    "deepnote_cell_height": 398,
    "deepnote_cell_type": "code",
    "deepnote_output_heights": [
     247
    ],
    "deepnote_to_be_reexecuted": false,
    "execution_millis": 131,
    "execution_start": 1653955142640,
    "source_hash": "115e4de6"
   },
   "outputs": [
    {
     "data": {
      "image/png": "[encoded data removed]",
      "text/plain": [
       "<Figure size 720x360 with 1 Axes>"
      ]
     },
     "metadata": {
      "image/png": {
       "height": 245,
       "width": 572
      },
      "needs_background": "light"
     },
     "output_type": "display_data"
    }
   ],
   "source": [
    "import matplotlib.pyplot as plt\n",
    "fig,ax=plt.subplots(1,1,figsize=(10,5))\n",
    "ax.imshow(plt.imread('imgs/list_looping_I.png'))\n",
    "ax.set_axis_off()"
   ]
  },
  {
   "cell_type": "code",
   "execution_count": null,
   "id": "viral-giving",
   "metadata": {
    "cell_id": "00069-d195f321-32c6-496f-bebf-25a71862a5d9",
    "deepnote_cell_height": 112.19999694824219,
    "deepnote_cell_type": "code",
    "deepnote_to_be_reexecuted": false,
    "execution_millis": 3,
    "execution_start": 1653955142775,
    "source_hash": "140b2172"
   },
   "outputs": [
    {
     "name": "stdout",
     "output_type": "stream",
     "text": [
      "[['pera', 'banana', 'mango', 'limon', 'pina'], ['zanahoria', 'cebola', 'batata']]\n"
     ]
    }
   ],
   "source": [
    "print(frutas_verduras)"
   ]
  },
  {
   "cell_type": "markdown",
   "id": "ordered-wrong",
   "metadata": {
    "cell_id": "00070-60132d3f-63f0-4bff-a271-498bab86447e",
    "deepnote_cell_height": 63,
    "deepnote_cell_type": "markdown",
    "tags": []
   },
   "source": [
    "### `For`:"
   ]
  },
  {
   "cell_type": "code",
   "execution_count": null,
   "id": "identical-filing",
   "metadata": {
    "cell_id": "00070-b1246334-5fa8-4da7-988d-656905b7a331",
    "deepnote_cell_height": 150.39999389648438,
    "deepnote_cell_type": "code",
    "deepnote_to_be_reexecuted": false,
    "execution_millis": 6,
    "execution_start": 1653955142779,
    "source_hash": "cee47094"
   },
   "outputs": [
    {
     "name": "stdout",
     "output_type": "stream",
     "text": [
      "['pera', 'banana', 'mango', 'limon', 'pina']\n",
      "['zanahoria', 'cebola', 'batata']\n"
     ]
    }
   ],
   "source": [
    "for item in frutas_verduras: # frutas_verduras tienen dos elementos\n",
    "    print(item)"
   ]
  },
  {
   "cell_type": "code",
   "execution_count": null,
   "id": "reduced-vehicle",
   "metadata": {
    "cell_id": "00071-02dba9da-6c93-472c-a9c5-9623efa113b4",
    "deepnote_cell_height": 211,
    "deepnote_cell_type": "code",
    "deepnote_to_be_reexecuted": false,
    "execution_millis": 6,
    "execution_start": 1653955142785,
    "source_hash": "e7e11165"
   },
   "outputs": [
    {
     "name": "stdout",
     "output_type": "stream",
     "text": [
      "pera\n",
      "banana\n",
      "mango\n",
      "limon\n",
      "pina\n"
     ]
    }
   ],
   "source": [
    "for item in frutas_verduras[0]: # frutas_verduras[0] tienen cinco elementos\n",
    "    print(item)"
   ]
  },
  {
   "cell_type": "code",
   "execution_count": null,
   "id": "judicial-bumper",
   "metadata": {
    "cell_id": "00072-50d2d096-4067-4fa2-bb64-08aac624488c",
    "deepnote_cell_height": 170.60000610351562,
    "deepnote_cell_type": "code",
    "deepnote_to_be_reexecuted": false,
    "execution_millis": 7,
    "execution_start": 1653955142790,
    "source_hash": "453ec3c4"
   },
   "outputs": [
    {
     "name": "stdout",
     "output_type": "stream",
     "text": [
      "zanahoria\n",
      "cebola\n",
      "batata\n"
     ]
    }
   ],
   "source": [
    "for item in frutas_verduras[1]: # frutas_verduras[1] tienen cuatro elementos\n",
    "    print(item)"
   ]
  },
  {
   "cell_type": "markdown",
   "id": "subject-huntington",
   "metadata": {
    "cell_id": "00073-4829be8d-cdfb-47e6-8a8d-6d36f7b1d77a",
    "deepnote_cell_height": 123.80000305175781,
    "deepnote_cell_type": "markdown"
   },
   "source": [
    "### `Enumerate`\n",
    "La función `enumerate` permite acceder al mismo tiempo al elemento de la lista y al índice de elementos."
   ]
  },
  {
   "cell_type": "code",
   "execution_count": null,
   "id": "transparent-dinner",
   "metadata": {
    "cell_id": "00074-278f832f-ccb6-44eb-9bc3-769a60d72f3a",
    "deepnote_cell_height": 112.19999694824219,
    "deepnote_cell_type": "code",
    "deepnote_to_be_reexecuted": false,
    "execution_millis": 9,
    "execution_start": 1653955142795,
    "source_hash": "a379ae51"
   },
   "outputs": [
    {
     "name": "stdout",
     "output_type": "stream",
     "text": [
      "['pera', 'banana', 'mango', 'limon', 'pina']\n"
     ]
    }
   ],
   "source": [
    "print(frutas)"
   ]
  },
  {
   "cell_type": "code",
   "execution_count": null,
   "id": "swedish-twelve",
   "metadata": {
    "cell_id": "00075-65769ef6-2bcc-4338-90de-03c5044b2818",
    "deepnote_cell_height": 229,
    "deepnote_cell_type": "code",
    "deepnote_to_be_reexecuted": false,
    "execution_millis": 5,
    "execution_start": 1653955142803,
    "source_hash": "2b3b6950"
   },
   "outputs": [
    {
     "name": "stdout",
     "output_type": "stream",
     "text": [
      "0 pera\n",
      "1 banana\n",
      "2 mango\n",
      "3 limon\n",
      "4 pina\n"
     ]
    }
   ],
   "source": [
    "# ejemplo de cómo usar la función enumerate.\n",
    "for indice,item in enumerate(frutas):\n",
    "    print(indice,item)"
   ]
  },
  {
   "cell_type": "code",
   "execution_count": null,
   "id": "adaptive-longitude",
   "metadata": {
    "cell_id": "00076-aee7537f-4b31-48ff-a7cc-970df2cd8841",
    "deepnote_cell_height": 229,
    "deepnote_cell_type": "code",
    "deepnote_to_be_reexecuted": false,
    "execution_millis": 4,
    "execution_start": 1653955142813,
    "source_hash": "da7bb350"
   },
   "outputs": [
    {
     "name": "stdout",
     "output_type": "stream",
     "text": [
      "0 pera\n",
      "1 banana\n",
      "2 mango\n",
      "3 limon\n",
      "4 pina\n"
     ]
    }
   ],
   "source": [
    "# la función range también permite iterar sobre elementos de la lista \n",
    "for i in range(len(frutas)):\n",
    "        print(i, frutas[i])"
   ]
  },
  {
   "cell_type": "code",
   "execution_count": null,
   "id": "compact-judgment",
   "metadata": {
    "cell_id": "00077-988de47d-6658-43ef-8a2d-feef4f629bdd",
    "deepnote_cell_height": 81,
    "deepnote_cell_type": "code",
    "deepnote_to_be_reexecuted": false,
    "execution_millis": 2,
    "execution_start": 1653955142819,
    "source_hash": "2cfc2443"
   },
   "outputs": [],
   "source": [
    "# buscando elementos de una lista dentro de otra lista"
   ]
  },
  {
   "cell_type": "code",
   "execution_count": null,
   "id": "exceptional-citation",
   "metadata": {
    "cell_id": "00078-b6b8a574-b269-4508-a509-7b638b8d1e59",
    "deepnote_cell_height": 208.8000030517578,
    "deepnote_cell_type": "code",
    "deepnote_to_be_reexecuted": false,
    "execution_millis": 0,
    "execution_start": 1653955142857,
    "source_hash": "aaf4217e"
   },
   "outputs": [
    {
     "name": "stdout",
     "output_type": "stream",
     "text": [
      "True\n",
      "True\n",
      "False\n",
      "False\n"
     ]
    }
   ],
   "source": [
    "ingredients_ensalada=['mango','limon','sugar','water']\n",
    "for item in ingredients_ensalada:\n",
    "    print(item in frutas)"
   ]
  },
  {
   "cell_type": "markdown",
   "id": "noticed-charge",
   "metadata": {
    "cell_id": "00079-4131136d-7f13-4747-9667-a102f64db50d",
    "deepnote_cell_height": 123.80000305175781,
    "deepnote_cell_type": "markdown"
   },
   "source": [
    "### `while`\n",
    "Así como en las cadenas, la iteración de las listas se realiza más frecuentemente usando `for`, pero `while` también se puede usar."
   ]
  },
  {
   "cell_type": "code",
   "execution_count": null,
   "id": "exceptional-owner",
   "metadata": {
    "cell_id": "00080-e675deab-6e97-4bdb-bccf-7cb2db91071a",
    "deepnote_cell_height": 112.19999694824219,
    "deepnote_cell_type": "code",
    "deepnote_to_be_reexecuted": false,
    "execution_millis": 5,
    "execution_start": 1653955142857,
    "source_hash": "a379ae51"
   },
   "outputs": [
    {
     "name": "stdout",
     "output_type": "stream",
     "text": [
      "['pera', 'banana', 'mango', 'limon', 'pina']\n"
     ]
    }
   ],
   "source": [
    "print(frutas)"
   ]
  },
  {
   "cell_type": "code",
   "execution_count": null,
   "id": "royal-panic",
   "metadata": {
    "cell_id": "00081-98cd8516-3d23-44b4-9c09-c163b128c71f",
    "deepnote_cell_height": 247,
    "deepnote_cell_type": "code",
    "deepnote_to_be_reexecuted": false,
    "execution_millis": 5,
    "execution_start": 1653955142858,
    "source_hash": "16e02d14"
   },
   "outputs": [
    {
     "name": "stdout",
     "output_type": "stream",
     "text": [
      "pera 0\n",
      "banana 1\n",
      "mango 2\n",
      "limon 3\n",
      "pina 4\n"
     ]
    }
   ],
   "source": [
    "contador=0\n",
    "while contador < len(frutas):\n",
    "    print(frutas[contador],contador)\n",
    "    contador=contador+1"
   ]
  },
  {
   "cell_type": "markdown",
   "id": "private-advertising",
   "metadata": {
    "cell_id": "00082-a03cb6f7-d92a-4ed4-8c92-e200f41827cd",
    "deepnote_cell_height": 100.39999389648438,
    "deepnote_cell_type": "markdown"
   },
   "source": [
    "### Un ejemplo menos trivial\n",
    "Usando el loop y el texto de la clase anterior para contar el nombre Tom en este texto."
   ]
  },
  {
   "cell_type": "code",
   "execution_count": null,
   "id": "foreign-hollow",
   "metadata": {
    "cell_id": "00083-9383f9e1-4b7a-49eb-84ed-25c3d31dc9af",
    "deepnote_cell_height": 168.39999389648438,
    "deepnote_cell_type": "code",
    "deepnote_to_be_reexecuted": false,
    "execution_millis": 16,
    "execution_start": 1653955142865,
    "source_hash": "66f434f5"
   },
   "outputs": [
    {
     "name": "stdout",
     "output_type": "stream",
     "text": [
      "Usando metodo .count(), nombre Tom aparece 1 veces\n",
      "Usando metodo .upper().count(), nombre TOM aparece 3 veces\n"
     ]
    }
   ],
   "source": [
    "texto_1=\"'TOM, pareces cansado', dijo Anna. 'Tienes razón, voy a tomar un poco de agua', dijo Tom\"\n",
    "print(f\"Usando metodo .count(), nombre Tom aparece {texto_1.count('Tom')} veces\")\n",
    "print(f\"Usando metodo .upper().count(), nombre TOM aparece {texto_1.upper().count('TOM')} veces\")"
   ]
  },
  {
   "cell_type": "markdown",
   "id": "ancient-instruction",
   "metadata": {
    "cell_id": "2b5f0574467d4d8ca2768174542bf3a3",
    "deepnote_cell_height": 52.399993896484375,
    "deepnote_cell_type": "markdown",
    "tags": []
   },
   "source": [
    "Realmente el nombre Tom aparece dos veces, solamente que la palabra `tomar` tambien se contó."
   ]
  },
  {
   "cell_type": "markdown",
   "id": "public-probe",
   "metadata": {
    "cell_id": "3028bc04b8ab4863a113bb57490dbeed",
    "deepnote_cell_height": 97.19999694824219,
    "deepnote_cell_type": "markdown",
    "tags": []
   },
   "source": [
    "Debido a que solo queremos contar cuántas veces aparece el nombre de Tom en el texto, podemos reemplazar caracteres como `.`, `,`, `!`, `?` con espacios ` `, y contar la aparición de `Tom ` (observe un espacio al final de la palabra Tom)"
   ]
  },
  {
   "cell_type": "code",
   "execution_count": null,
   "id": "serial-avenue",
   "metadata": {
    "cell_id": "252624b5844b491f8b88a263a26ca3fc",
    "deepnote_cell_height": 184.1999969482422,
    "deepnote_cell_type": "code",
    "deepnote_to_be_reexecuted": false,
    "execution_millis": 4,
    "execution_start": 1653955142890,
    "source_hash": "68dc610",
    "tags": []
   },
   "outputs": [
    {
     "name": "stdout",
     "output_type": "stream",
     "text": [
      " TOM  pareces cansado   dijo Anna   Tienes razón  voy a tomar un poco de agua   dijo Tom\n"
     ]
    }
   ],
   "source": [
    "texto_2=texto_1.replace(\",\",\" \")\n",
    "texto_2=texto_2.replace(\".\",\" \")\n",
    "texto_2=texto_2.replace(\"'\",\" \")\n",
    "\n",
    "print(texto_2)"
   ]
  },
  {
   "cell_type": "code",
   "execution_count": null,
   "id": "interior-devil",
   "metadata": {
    "cell_id": "20d005ae752245559f510b30b4baeb0a",
    "deepnote_cell_height": 112.19999694824219,
    "deepnote_cell_type": "code",
    "deepnote_to_be_reexecuted": false,
    "execution_millis": 10,
    "execution_start": 1653955142891,
    "source_hash": "5b366ff4",
    "tags": []
   },
   "outputs": [
    {
     "name": "stdout",
     "output_type": "stream",
     "text": [
      "Usando metodo .upper().count(), nombre TOM aparece 1 veces\n"
     ]
    }
   ],
   "source": [
    "print(f\"Usando metodo .upper().count(), nombre TOM aparece {texto_2.upper().count('TOM ')} veces\")"
   ]
  },
  {
   "cell_type": "markdown",
   "id": "apart-greene",
   "metadata": {
    "cell_id": "9a572b3976b6464a87ec0aee26e8ca5b",
    "deepnote_cell_height": 74.80000305175781,
    "deepnote_cell_type": "markdown",
    "tags": []
   },
   "source": [
    "Imaginemos que queremos dividir el texto en oraciones y luego analizar cada oración por separado. Podemos hacer eso usando el método `split`."
   ]
  },
  {
   "cell_type": "code",
   "execution_count": null,
   "id": "formal-probability",
   "metadata": {
    "cell_id": "00085-f3a8cb87-1e2c-4293-ad32-6051d82d64fc",
    "deepnote_cell_height": 130.1999969482422,
    "deepnote_cell_type": "code",
    "deepnote_to_be_reexecuted": false,
    "execution_millis": 8,
    "execution_start": 1653955142895,
    "source_hash": "36884646"
   },
   "outputs": [
    {
     "name": "stdout",
     "output_type": "stream",
     "text": [
      "[\"'TOM, pareces cansado', dijo Anna\", \" 'Tienes razón, voy a tomar un poco de agua', dijo Tom\"]\n"
     ]
    }
   ],
   "source": [
    "texto_lista = texto_1.split('.')\n",
    "print(texto_lista)"
   ]
  },
  {
   "cell_type": "code",
   "execution_count": null,
   "id": "disturbed-occupation",
   "metadata": {
    "cell_id": "3eb6ad84b01f4735bcc39b877dbf68c4",
    "deepnote_cell_height": 118,
    "deepnote_cell_type": "code",
    "deepnote_output_heights": [
     21
    ],
    "deepnote_to_be_reexecuted": false,
    "execution_millis": 7,
    "execution_start": 1653955142908,
    "source_hash": "5e6029a",
    "tags": []
   },
   "outputs": [
    {
     "data": {
      "text/plain": [
       "2"
      ]
     },
     "execution_count": 64,
     "metadata": {},
     "output_type": "execute_result"
    }
   ],
   "source": [
    "len(texto_lista)"
   ]
  },
  {
   "cell_type": "code",
   "execution_count": null,
   "id": "indie-ladder",
   "metadata": {
    "cell_id": "e957e49f95e943e4918e60b3842ea898",
    "deepnote_cell_height": 150.39999389648438,
    "deepnote_cell_type": "code",
    "deepnote_output_heights": [
     21
    ],
    "deepnote_to_be_reexecuted": false,
    "execution_millis": 862054,
    "execution_start": 1653955142918,
    "source_hash": "ba77d3da",
    "tags": []
   },
   "outputs": [
    {
     "name": "stdout",
     "output_type": "stream",
     "text": [
      "'TOM, pareces cansado', dijo Anna\n",
      " 'Tienes razón, voy a tomar un poco de agua', dijo Tom\n"
     ]
    }
   ],
   "source": [
    "print(texto_lista[0])\n",
    "print(texto_lista[1])"
   ]
  },
  {
   "cell_type": "markdown",
   "id": "likely-waterproof",
   "metadata": {
    "cell_id": "f619a29edd554f0e8cd16d9499a409e7",
    "deepnote_cell_height": 74.80000305175781,
    "deepnote_cell_type": "markdown",
    "tags": []
   },
   "source": [
    "Usando el bucle a través de cada elemento de la lista, podemos, por ejemplo, contar el número de caracteres."
   ]
  },
  {
   "cell_type": "code",
   "execution_count": null,
   "id": "meaningful-corner",
   "metadata": {
    "cell_id": "00086-3035ae06-aef3-431c-8d75-172bac0c9c8e",
    "deepnote_cell_height": 186.39999389648438,
    "deepnote_cell_type": "code",
    "deepnote_to_be_reexecuted": false,
    "execution_millis": 862008,
    "execution_start": 1653955142947,
    "source_hash": "68811dc7"
   },
   "outputs": [
    {
     "name": "stdout",
     "output_type": "stream",
     "text": [
      "numero de caracteres en oracion 1: 33\n",
      "numero de caracteres en oracion 2: 54\n"
     ]
    }
   ],
   "source": [
    "contador=0\n",
    "for oracion in texto_lista:\n",
    "    print(f'numero de caracteres en oracion {contador+1}: {len(oracion)}')\n",
    "    contador+=1"
   ]
  },
  {
   "cell_type": "markdown",
   "id": "accredited-grain",
   "metadata": {
    "cell_id": "75f95cad2cca446d974075439b74ec61",
    "deepnote_cell_height": 52.399993896484375,
    "deepnote_cell_type": "markdown",
    "tags": []
   },
   "source": [
    "podemos guardar cada resultado en una lista:"
   ]
  },
  {
   "cell_type": "code",
   "execution_count": null,
   "id": "sensitive-serial",
   "metadata": {
    "cell_id": "4557011ba8714b27810c46949dcb9b34",
    "deepnote_cell_height": 204.39999389648438,
    "deepnote_cell_type": "code",
    "deepnote_to_be_reexecuted": false,
    "execution_millis": 862028,
    "execution_start": 1653955142948,
    "source_hash": "479388e7",
    "tags": []
   },
   "outputs": [
    {
     "name": "stdout",
     "output_type": "stream",
     "text": [
      "['oracion 0', 33]\n",
      "['oracion 1', 54]\n"
     ]
    }
   ],
   "source": [
    "contador=0\n",
    "for oracion in texto_lista:\n",
    "    temp_list=['oracion '+str(contador), len(oracion)]\n",
    "    contador+=1\n",
    "    print(temp_list)"
   ]
  },
  {
   "cell_type": "markdown",
   "id": "metric-exclusion",
   "metadata": {
    "cell_id": "00088-92dc6c9d-526c-4fa4-b6e5-48d294249656",
    "deepnote_cell_height": 167.1999969482422,
    "deepnote_cell_type": "markdown"
   },
   "source": [
    "<a id=\"listas_de_numeros\"></a>   \n",
    "## Listas de números\n",
    "\n",
    "Las listas también pueden ser de números y tienen las mismas propiedades que las listas de cadenas. Los métodos, loops y expresiones condicionales funcionan también de la misma manera. Aquí hay un par de ejemplos del uso de listas de números:"
   ]
  },
  {
   "cell_type": "code",
   "execution_count": null,
   "id": "powered-supplier",
   "metadata": {
    "cell_id": "00089-1d9412ce-f655-41da-803b-d57e7b6e03f8",
    "deepnote_cell_height": 99,
    "deepnote_cell_type": "code",
    "deepnote_to_be_reexecuted": false,
    "execution_millis": 8,
    "execution_start": 1653955142949,
    "source_hash": "1ce34271"
   },
   "outputs": [],
   "source": [
    "# declaración de lista de números\n",
    "lista_num=[1,12,23,34,445,6,27,8,9]"
   ]
  },
  {
   "cell_type": "code",
   "execution_count": null,
   "id": "disturbed-operations",
   "metadata": {
    "cell_id": "00090-68093951-cedb-4699-8148-632441bbf59b",
    "deepnote_cell_height": 413.3999938964844,
    "deepnote_cell_type": "code",
    "deepnote_to_be_reexecuted": false,
    "execution_millis": 12,
    "execution_start": 1653955142950,
    "source_hash": "e0b941de",
    "tags": []
   },
   "outputs": [
    {
     "name": "stdout",
     "output_type": "stream",
     "text": [
      "[1, 12, 23, 34, 445, 6, 27, 8, 9]\n",
      "9\n",
      "23\n",
      "1\n",
      "[1]\n",
      "[1, 12, 23, 34, 445]\n",
      "[1, 23, 445, 27, 9]\n"
     ]
    }
   ],
   "source": [
    "# indexación y segmentación:\n",
    "print(lista_num)\n",
    "print(lista_num[-1])     # número\n",
    "print(lista_num[2])      # número\n",
    "print(lista_num[0])      # número\n",
    "print(lista_num[0:1])    # lista\n",
    "print(lista_num[0:5])    # lista\n",
    "\n",
    "print(lista_num[0:20:2]) # lista: mostrar todos los elementos comenzando con el índice '0' \n",
    "                         # hasta el índice '20' haciendo el paso '2'.\n",
    "                         # Curiosamente la lista_num[20] produce error, pero lista_num[0:20] no produce error)"
   ]
  },
  {
   "cell_type": "code",
   "execution_count": null,
   "id": "greater-accordance",
   "metadata": {
    "cell_id": "00090-6882ab8f-aec6-4cbd-9611-a1bfbb46fa34",
    "deepnote_cell_height": 186.39999389648438,
    "deepnote_cell_type": "code",
    "deepnote_to_be_reexecuted": false,
    "execution_millis": 861999,
    "execution_start": 1653955142962,
    "source_hash": "ae86690b"
   },
   "outputs": [
    {
     "name": "stdout",
     "output_type": "stream",
     "text": [
      "[1, 12, 23, 34, 445, 6, 27, 8, 9]\n",
      "[9, 8, 27, 6, 445, 34, 23, 12, 1]\n"
     ]
    }
   ],
   "source": [
    "# usando método reverse\n",
    "print(lista_num)\n",
    "lista_num.reverse()\n",
    "print(lista_num)"
   ]
  },
  {
   "cell_type": "code",
   "execution_count": null,
   "id": "legal-springfield",
   "metadata": {
    "cell_id": "00091-cc66f94e-6889-404c-9772-9e70509cc30e",
    "deepnote_cell_height": 148.1999969482422,
    "deepnote_cell_type": "code",
    "deepnote_to_be_reexecuted": false,
    "execution_millis": 861996,
    "execution_start": 1653955142970,
    "source_hash": "49bc0519"
   },
   "outputs": [
    {
     "name": "stdout",
     "output_type": "stream",
     "text": [
      "[9, 8, 27, 6, 445, 34, 23, 12, 1, 10]\n"
     ]
    }
   ],
   "source": [
    "# usando método append\n",
    "lista_num.append(10)\n",
    "print(lista_num)"
   ]
  },
  {
   "cell_type": "code",
   "execution_count": null,
   "id": "dietary-organic",
   "metadata": {
    "cell_id": "00092-882f28ee-f00f-4545-904d-d41c0a38e3ec",
    "deepnote_cell_height": 148.1999969482422,
    "deepnote_cell_type": "code",
    "deepnote_to_be_reexecuted": false,
    "execution_millis": 0,
    "execution_start": 1653955142978,
    "source_hash": "424e5dd6"
   },
   "outputs": [
    {
     "name": "stdout",
     "output_type": "stream",
     "text": [
      "[1, 6, 8, 9, 10, 12, 23, 27, 34, 445]\n"
     ]
    }
   ],
   "source": [
    "# usando método sort\n",
    "lista_num.sort()\n",
    "print(lista_num)"
   ]
  },
  {
   "cell_type": "code",
   "execution_count": null,
   "id": "attended-blackberry",
   "metadata": {
    "cell_id": "00093-b2477dc5-ecdf-437e-bb54-9e60d70c4b22",
    "deepnote_cell_height": 136,
    "deepnote_cell_type": "code",
    "deepnote_output_heights": [
     21
    ],
    "deepnote_to_be_reexecuted": false,
    "execution_millis": 861954,
    "execution_start": 1653955142985,
    "source_hash": "e9460d85"
   },
   "outputs": [
    {
     "data": {
      "text/plain": [
       "[1, 6, 8, 9, 10, 12, 23, 27, 34, 445, 9, 99, 999]"
      ]
     },
     "execution_count": 73,
     "metadata": {},
     "output_type": "execute_result"
    }
   ],
   "source": [
    "# conatenación de las listas de números\n",
    "lista_num + [9,99,999]"
   ]
  },
  {
   "cell_type": "code",
   "execution_count": null,
   "id": "romantic-launch",
   "metadata": {
    "cell_id": "00095-b9e7c0e1-0292-4335-a98a-b82033c5515d",
    "deepnote_cell_height": 368.20001220703125,
    "deepnote_cell_type": "code",
    "deepnote_to_be_reexecuted": false,
    "execution_millis": 26,
    "execution_start": 1653955143011,
    "source_hash": "b60d246e"
   },
   "outputs": [
    {
     "name": "stdout",
     "output_type": "stream",
     "text": [
      "0\n",
      "1\n",
      "2\n",
      "3\n",
      "4\n",
      "5\n",
      "6\n",
      "7\n",
      "8\n",
      "9\n",
      "100\n"
     ]
    }
   ],
   "source": [
    "# loop sobre los elementos de la lista\n",
    "lista_num2=[0,1,2,3,4,5,6,7,8,9,100]\n",
    "for item in lista_num2:\n",
    "    print(item)"
   ]
  },
  {
   "cell_type": "code",
   "execution_count": null,
   "id": "canadian-trick",
   "metadata": {
    "cell_id": "00096-4b9ed9d6-486a-4911-a26a-538ccefde12a",
    "deepnote_cell_height": 276.3999938964844,
    "deepnote_cell_type": "code",
    "deepnote_to_be_reexecuted": false,
    "execution_millis": 25,
    "execution_start": 1653955143012,
    "source_hash": "71fcf00b"
   },
   "outputs": [
    {
     "name": "stdout",
     "output_type": "stream",
     "text": [
      "[0, 1, 2, 3, 4, 5, 6, 7, 8, 9, 100]\n",
      "[0, 1, 4, 9, 16, 25, 36, 49, 64, 81, 10000]\n"
     ]
    }
   ],
   "source": [
    "# con método append se puede guardar los resultados \n",
    "# de elevación de cada número a la potencia \n",
    "lista_pot=[]\n",
    "# loop sobre los elementos de la lista\n",
    "lista_num2=[0,1,2,3,4,5,6,7,8,9,100]\n",
    "for item in lista_num2:\n",
    "    lista_pot.append(item**2)    \n",
    "print(lista_num2)\n",
    "print(lista_pot)"
   ]
  },
  {
   "cell_type": "code",
   "execution_count": null,
   "id": "different-cassette",
   "metadata": {
    "cell_id": "00097-2f7da755-0157-4735-9c2c-f79c89df49bc",
    "deepnote_cell_height": 386.20001220703125,
    "deepnote_cell_type": "code",
    "deepnote_to_be_reexecuted": false,
    "execution_millis": 28,
    "execution_start": 1653955143013,
    "source_hash": "8f214761"
   },
   "outputs": [
    {
     "name": "stdout",
     "output_type": "stream",
     "text": [
      "0 elevado a dos: 0\n",
      "1 elevado a dos: 1\n",
      "2 elevado a dos: 4\n",
      "3 elevado a dos: 9\n",
      "4 elevado a dos: 16\n",
      "5 elevado a dos: 25\n",
      "6 elevado a dos: 36\n",
      "7 elevado a dos: 49\n",
      "8 elevado a dos: 64\n",
      "9 elevado a dos: 81\n",
      "100 elevado a dos: 10000\n"
     ]
    }
   ],
   "source": [
    "## igual funciona loop while\n",
    "counter=0\n",
    "while counter < len(lista_num2):\n",
    "    print(lista_num2[counter], 'elevado a dos:' ,lista_num2[counter]**2)\n",
    "    counter=counter+1"
   ]
  },
  {
   "cell_type": "markdown",
   "id": "legislative-omaha",
   "metadata": {
    "cell_id": "00098-fbd51aaf-bfa8-420d-aeda-66671b609fbc",
    "deepnote_cell_height": 189.60000610351562,
    "deepnote_cell_type": "markdown"
   },
   "source": [
    "<a id=\"list_comprension\"></a>   \n",
    "## Listas de comprehension\n",
    "Python tiene otra forma de manipular o crear las listas. Esta es la manera preferida y se llama Pythonica (es la más apropiada diseñada para Python). En inglés se llama \"**list comprehension**\" y si bien tiene una sintaxis simple, se pueden formar condiciones complejas. List comprehension tiene la siguiente estructura:"
   ]
  },
  {
   "cell_type": "markdown",
   "id": "rational-participation",
   "metadata": {
    "cell_id": "00099-794ae438-72eb-47ab-875a-3e33b70709db",
    "deepnote_cell_height": 93.19999694824219,
    "deepnote_cell_type": "markdown"
   },
   "source": [
    "```\n",
    "una_lista=[declaracion ... loop ... conditional]\n",
    "```\n",
    "\n",
    "La lista una_lista estará creada después de la operación ejecutada entre de los corchetes "
   ]
  },
  {
   "cell_type": "markdown",
   "id": "floating-moderator",
   "metadata": {
    "cell_id": "00105-7ad2f9ef-aa6f-485e-a64b-1a142375bf89",
    "deepnote_cell_height": 52.399993896484375,
    "deepnote_cell_type": "markdown",
    "tags": []
   },
   "source": [
    "Para entender mejor las listas de comprehension se presentan los siguientes ejemplos:"
   ]
  },
  {
   "cell_type": "code",
   "execution_count": null,
   "id": "jewish-zoning",
   "metadata": {
    "cell_id": "00100-958d8c98-1677-4bf1-921b-b4f4180e1449",
    "deepnote_cell_height": 166.1999969482422,
    "deepnote_cell_type": "code",
    "deepnote_to_be_reexecuted": false,
    "execution_millis": 28,
    "execution_start": 1653955143018,
    "source_hash": "45be5e9c"
   },
   "outputs": [
    {
     "name": "stdout",
     "output_type": "stream",
     "text": [
      "[0, 1, 2, 3, 4, 5, 6, 7, 8, 9, 10]\n"
     ]
    }
   ],
   "source": [
    "# list comprehension - forma de generar una lista de números usando función range()\n",
    "\n",
    "numeros = [x for x in range(11)] # declaración: x, para cada valor x en rango de 0-10\n",
    "print(numeros)"
   ]
  },
  {
   "cell_type": "code",
   "execution_count": null,
   "id": "coordinated-license",
   "metadata": {
    "cell_id": "00101-a3864957-72ec-4b5e-911c-6a5e82882b0a",
    "deepnote_cell_height": 166.1999969482422,
    "deepnote_cell_type": "code",
    "deepnote_to_be_reexecuted": false,
    "execution_millis": 24,
    "execution_start": 1653955143028,
    "source_hash": "e3fa3a26"
   },
   "outputs": [
    {
     "name": "stdout",
     "output_type": "stream",
     "text": [
      "[0, 1, 4, 9, 16, 25, 36, 49, 64, 81, 100]\n"
     ]
    }
   ],
   "source": [
    "# list comprehension - elevar a la potencia cada elemento de lista y guardarlos en otra lista\n",
    "\n",
    "cuadrados = [x**2 for x in numeros] # declaracion: x**2, para cada valor x en rango de 0-10\n",
    "print(cuadrados)"
   ]
  },
  {
   "cell_type": "code",
   "execution_count": null,
   "id": "still-smoke",
   "metadata": {
    "cell_id": "00102-7bb0ee7f-4a94-4325-a34d-11d797b0a92d",
    "deepnote_cell_height": 166.1999969482422,
    "deepnote_cell_type": "code",
    "deepnote_to_be_reexecuted": false,
    "execution_millis": 34,
    "execution_start": 1653955143041,
    "source_hash": "878ec088"
   },
   "outputs": [
    {
     "name": "stdout",
     "output_type": "stream",
     "text": [
      "[0, 4, 16, 36, 64, 100]\n"
     ]
    }
   ],
   "source": [
    "# list comprehension - elevar a la potencia cada elemento de lista si el elemento es par\n",
    "\n",
    "cuadrados_par = [x**2 for x in numeros if (x%2==0)] # declaración: x**2, para cada elemento x en rango de 0-10, si elelemento es par\n",
    "print(cuadrados_par)"
   ]
  },
  {
   "cell_type": "markdown",
   "id": "becoming-intro",
   "metadata": {
    "cell_id": "00103-e0e8037a-34cc-4577-8e1f-a58d3b3ff7a6",
    "deepnote_cell_height": 52.399993896484375,
    "deepnote_cell_type": "markdown"
   },
   "source": [
    "List comprehension también funciona con las cadenas."
   ]
  },
  {
   "cell_type": "code",
   "execution_count": null,
   "id": "actual-spanking",
   "metadata": {
    "cell_id": "00104-4a4bede1-38c1-495b-a7c6-0a862bdf4666",
    "deepnote_cell_height": 130.1999969482422,
    "deepnote_cell_type": "code",
    "deepnote_to_be_reexecuted": false,
    "execution_millis": 30,
    "execution_start": 1653955143048,
    "source_hash": "2c94ac96"
   },
   "outputs": [
    {
     "name": "stdout",
     "output_type": "stream",
     "text": [
      "['mango', 'limon']\n"
     ]
    }
   ],
   "source": [
    "frutas2=[ item for item in frutas if ('m' in item)] # declaración: ítem para cada elemento de lista de las frutas, si el elemeneto contiene letra \"m\"\n",
    "print(frutas2)"
   ]
  },
  {
   "cell_type": "markdown",
   "id": "disturbed-transportation",
   "metadata": {
    "cell_id": "00119-f98e722d-2d2a-4b5d-ba4e-73ab388610ad",
    "deepnote_cell_height": 52.399993896484375,
    "deepnote_cell_type": "markdown"
   },
   "source": [
    "List comprehension puede ser anidada:"
   ]
  },
  {
   "cell_type": "code",
   "execution_count": null,
   "id": "educational-charm",
   "metadata": {
    "cell_id": "00120-bd146a45-1296-4919-9660-0494162439b2",
    "deepnote_cell_height": 130.1999969482422,
    "deepnote_cell_type": "code",
    "deepnote_to_be_reexecuted": false,
    "execution_millis": 18,
    "execution_start": 1653955143062,
    "source_hash": "d07aec07"
   },
   "outputs": [
    {
     "name": "stdout",
     "output_type": "stream",
     "text": [
      "['Hello Dear', 'Hello Bye', 'Good Dear', 'Good Bye']\n"
     ]
    }
   ],
   "source": [
    "resList = [x+y for x in ['Hello ', 'Good '] for y in ['Dear', 'Bye']]\n",
    "print(resList)"
   ]
  },
  {
   "cell_type": "markdown",
   "id": "little-naples",
   "metadata": {
    "cell_id": "00121-16130e69-7f57-4b3d-9843-2d52cecd6537",
    "deepnote_cell_height": 52.399993896484375,
    "deepnote_cell_type": "markdown"
   },
   "source": [
    "Lo cual es básicamente lo mismo que usar un doble `loop`:"
   ]
  },
  {
   "cell_type": "code",
   "execution_count": null,
   "id": "vital-somewhere",
   "metadata": {
    "cell_id": "00122-4a72c387-7dee-4705-b88e-744d6a74006b",
    "deepnote_cell_height": 184.1999969482422,
    "deepnote_cell_type": "code",
    "deepnote_to_be_reexecuted": false,
    "execution_millis": 0,
    "execution_start": 1653955143093,
    "source_hash": "37c91046"
   },
   "outputs": [
    {
     "name": "stdout",
     "output_type": "stream",
     "text": [
      "['Hello Dear', 'Hello Bye', 'Good Dear', 'Good Bye']\n"
     ]
    }
   ],
   "source": [
    "resList=[]\n",
    "for x in ['Hello ', 'Good ']:\n",
    "    for y in ['Dear', 'Bye']:\n",
    "        resList.append(x+y)\n",
    "print(resList)"
   ]
  },
  {
   "cell_type": "markdown",
   "id": "compact-bronze",
   "metadata": {
    "cell_id": "00123-a68f6511-4693-4da1-9052-092cc8fb3a3a",
    "deepnote_cell_height": 74.80000305175781,
    "deepnote_cell_type": "markdown"
   },
   "source": [
    "Las comprensiones de listas se utilizan para operaciones simples.\n",
    "Para operaciones más complejas, para claridad y legibilidad de un código, es mejor usar loops `for` y `while`"
   ]
  },
  {
   "cell_type": "markdown",
   "id": "automotive-nudist",
   "metadata": {
    "cell_id": "00105-a2c1bdf6-87f4-49f0-b302-38984a79c884",
    "deepnote_cell_height": 144.8000030517578,
    "deepnote_cell_type": "markdown"
   },
   "source": [
    "<a id=\"listas_mixtas\"></a>   \n",
    "## Listas mixtas\n",
    "Existen listas mixtas, pero en general se usan listas que tiene un tipo de variable (números o cadenas). Un ejemplo de lista mixta sería:"
   ]
  },
  {
   "cell_type": "code",
   "execution_count": null,
   "id": "simple-relief",
   "metadata": {
    "cell_id": "00106-4f2318da-5209-4bee-b2a4-9891bcd4c226",
    "deepnote_cell_height": 186.39999389648438,
    "deepnote_cell_type": "code",
    "deepnote_to_be_reexecuted": false,
    "execution_millis": 16,
    "execution_start": 1653955143094,
    "source_hash": "cee11e29"
   },
   "outputs": [
    {
     "name": "stdout",
     "output_type": "stream",
     "text": [
      "abc\n",
      "True\n"
     ]
    }
   ],
   "source": [
    "lista_mix = [\"abc\", 34, True, 40.0, \"male\"]\n",
    "print(lista_mix[0])\n",
    "print(isinstance(lista_mix[1],int))\n"
   ]
  },
  {
   "cell_type": "code",
   "execution_count": null,
   "id": "manual-lingerie",
   "metadata": {
    "cell_id": "00108-0672cbb4-b2d4-48c4-978c-a3ea742afc64",
    "deepnote_cell_height": 211,
    "deepnote_cell_type": "code",
    "deepnote_to_be_reexecuted": false,
    "execution_millis": 15,
    "execution_start": 1653955143095,
    "source_hash": "80e615a4",
    "tags": []
   },
   "outputs": [
    {
     "name": "stdout",
     "output_type": "stream",
     "text": [
      "abc\n",
      "34\n",
      "True\n",
      "40.0\n",
      "male\n"
     ]
    }
   ],
   "source": [
    "for elemento in lista_mix:\n",
    "    print(elemento)"
   ]
  },
  {
   "cell_type": "markdown",
   "id": "direct-catalyst",
   "metadata": {
    "cell_id": "00107-b8c25220-599c-4c3b-a93a-a3fca9d7f33c",
    "deepnote_cell_height": 241.1999969482422,
    "deepnote_cell_type": "markdown"
   },
   "source": [
    "<a id=\"funciones_personales\"></a>   \n",
    "## Funciones definidas por el usuario\n",
    "\n",
    "La estructura de las funciones definidas por el usuario es idéntica al caso de los números y las cadenas. Es una estructura principal de los programas de Python.\n",
    "```\n",
    "def nombre_de_funcion(argumento o argumentos separados con coma):  \n",
    "    declaracion (por ejemplo imprimir algo)\n",
    "    return variable (opcional)\n",
    "```        "
   ]
  },
  {
   "cell_type": "markdown",
   "id": "impaired-milwaukee",
   "metadata": {
    "cell_id": "2898a23a98934f25b472252e683088bd",
    "deepnote_cell_height": 74.80000305175781,
    "deepnote_cell_type": "markdown",
    "tags": []
   },
   "source": [
    "Consideremos dos escenarios diferentes con respecto a un problema similar. Encontrar un número de ocurrencias de una palabra dentro de una lista\""
   ]
  },
  {
   "cell_type": "markdown",
   "id": "terminal-bangkok",
   "metadata": {
    "cell_id": "fafb44e27f7a4c8ab07bfd073baec595",
    "deepnote_cell_height": 92.30000305175781,
    "deepnote_cell_type": "markdown",
    "tags": []
   },
   "source": [
    "* Podemos pasar a la función una lista completa con muchos elementos y encontrar el número de ocurrencias de una palabra específica en esa lista\n"
   ]
  },
  {
   "cell_type": "markdown",
   "id": "third-world",
   "metadata": {
    "cell_id": "f1bc5bf092724b828bdceaecb9a84345",
    "deepnote_cell_height": 74.80000305175781,
    "deepnote_cell_type": "markdown",
    "tags": []
   },
   "source": [
    "Un ejemplo sería crear una función que acepte una lista y una \n",
    "palabra y la función volverá un número de ocurrencias de esta palabra en la lista."
   ]
  },
  {
   "cell_type": "code",
   "execution_count": null,
   "id": "restricted-corps",
   "metadata": {
    "cell_id": "92e09c79c7314372912af0ec23e113cb",
    "deepnote_cell_height": 135,
    "deepnote_cell_type": "code",
    "deepnote_to_be_reexecuted": false,
    "execution_millis": 9,
    "execution_start": 1653955143102,
    "source_hash": "52efa762",
    "tags": []
   },
   "outputs": [],
   "source": [
    "def contar_nombre1(lista1,nombre):\n",
    "    lista2=[elemento.upper() for elemento in lista1] # listas no tienen metodo `upper` por eso aqui usamos list comprehension para convertir cada cadena de la lista a mayuscula y guardar el resultado en nueva lista\n",
    "    contador=lista2.count(nombre.upper())\n",
    "    return contador"
   ]
  },
  {
   "cell_type": "code",
   "execution_count": null,
   "id": "changing-awareness",
   "metadata": {
    "cell_id": "538f0c1161f24d9488a65292560560f8",
    "deepnote_cell_height": 154,
    "deepnote_cell_type": "code",
    "deepnote_output_heights": [
     21
    ],
    "deepnote_to_be_reexecuted": false,
    "execution_millis": 1,
    "execution_start": 1653955143102,
    "source_hash": "38efdca9",
    "tags": []
   },
   "outputs": [
    {
     "data": {
      "text/plain": [
       "3"
      ]
     },
     "execution_count": 86,
     "metadata": {},
     "output_type": "execute_result"
    }
   ],
   "source": [
    "lista1=['banana','anna','Anna','Tom','TOM','aNNa','tom']\n",
    "nombre='Anna'\n",
    "contar_nombre1(lista1,nombre)"
   ]
  },
  {
   "cell_type": "markdown",
   "id": "exposed-oxygen",
   "metadata": {
    "cell_id": "6f40cf842db947ca91e15ddf5ec53c2d",
    "deepnote_cell_height": 52.399993896484375,
    "deepnote_cell_type": "markdown",
    "tags": []
   },
   "source": [
    "La misma función también puede devolver otra lista:"
   ]
  },
  {
   "cell_type": "code",
   "execution_count": null,
   "id": "funky-handle",
   "metadata": {
    "cell_id": "ad52013708ab4f988aa79e1541dde038",
    "deepnote_cell_height": 153,
    "deepnote_cell_type": "code",
    "deepnote_to_be_reexecuted": false,
    "execution_millis": 6,
    "execution_start": 1653955143126,
    "owner_user_id": "10217cb7-e807-45af-be75-488a79b03a41",
    "source_hash": "64642632",
    "tags": []
   },
   "outputs": [],
   "source": [
    "def contar_nombre1(lista1,nombre):\n",
    "    lista2=[elemento.upper() for elemento in lista1] # listas no tienen metodo `upper` por eso aqui usamos list comprehension para convertir cada cadena de la lista a mayuscula y guardar el resultado en nueva lista\n",
    "    contador=lista2.count(nombre.upper())\n",
    "    contador_lista=[nombre,contador]\n",
    "    return contador_lista"
   ]
  },
  {
   "cell_type": "code",
   "execution_count": null,
   "id": "streaming-karaoke",
   "metadata": {
    "cell_id": "d6dbb31000c3409494654dad84c21df0",
    "deepnote_cell_height": 154,
    "deepnote_cell_type": "code",
    "deepnote_output_heights": [
     21
    ],
    "deepnote_to_be_reexecuted": false,
    "execution_millis": 4,
    "execution_start": 1653955143128,
    "source_hash": "38efdca9",
    "tags": []
   },
   "outputs": [
    {
     "data": {
      "text/plain": [
       "['Anna', 3]"
      ]
     },
     "execution_count": 88,
     "metadata": {},
     "output_type": "execute_result"
    }
   ],
   "source": [
    "lista1=['banana','anna','Anna','Tom','TOM','aNNa','tom']\n",
    "nombre='Anna'\n",
    "contar_nombre1(lista1,nombre)"
   ]
  },
  {
   "cell_type": "markdown",
   "id": "jewish-geneva",
   "metadata": {
    "cell_id": "259a7fc612694907865e8d5459f588f1",
    "deepnote_cell_height": 114.69999694824219,
    "deepnote_cell_type": "markdown",
    "tags": []
   },
   "source": [
    "* O, de uso más frecuente, podemos pasar solo un elemento de una lista y encontrar el número de ocurrencias de una palabra específica en ese elemento (un elemento de una lista puede ser una oración completa o solo una palabra, esto depende del usuario)"
   ]
  },
  {
   "cell_type": "code",
   "execution_count": null,
   "id": "varied-throat",
   "metadata": {
    "cell_id": "00109-f8a0003c-c30b-4c76-8f9d-290925160c72",
    "deepnote_cell_height": 189,
    "deepnote_cell_type": "code",
    "deepnote_to_be_reexecuted": false,
    "execution_millis": 0,
    "execution_start": 1653955143129,
    "source_hash": "10e5d577"
   },
   "outputs": [],
   "source": [
    "# función que recibe dos argumentos: lista y texto y busca número\n",
    "# de occurencia de este nombre en el texto\n",
    "def contar_nombre2(cadena,nombre):\n",
    "    nombre=nombre.upper()\n",
    "    cadena=cadena.upper()\n",
    "    contador=cadena.count(nombre)\n",
    "    return contador"
   ]
  },
  {
   "cell_type": "code",
   "execution_count": null,
   "id": "upper-montreal",
   "metadata": {
    "cell_id": "0448a96f379f48f0879b6c384c49a65e",
    "deepnote_cell_height": 118,
    "deepnote_cell_type": "code",
    "deepnote_output_heights": [
     21
    ],
    "deepnote_to_be_reexecuted": false,
    "execution_millis": 17,
    "execution_start": 1653955143131,
    "source_hash": "2ee1e8c",
    "tags": []
   },
   "outputs": [
    {
     "data": {
      "text/plain": [
       "\"'TOM, pareces cansado', dijo Anna. 'Tienes razón, voy a tomar un poco de agua', dijo Tom\""
      ]
     },
     "execution_count": 90,
     "metadata": {},
     "output_type": "execute_result"
    }
   ],
   "source": [
    "texto_1"
   ]
  },
  {
   "cell_type": "code",
   "execution_count": null,
   "id": "diverse-scheme",
   "metadata": {
    "cell_id": "00112-6c6fefd8-3dee-4721-b27d-855d80a2a8af",
    "deepnote_cell_height": 130.1999969482422,
    "deepnote_cell_type": "code",
    "deepnote_to_be_reexecuted": false,
    "execution_millis": 15,
    "execution_start": 1653955143149,
    "source_hash": "9fcc4fb1",
    "tags": []
   },
   "outputs": [
    {
     "name": "stdout",
     "output_type": "stream",
     "text": [
      "<class 'list'>\n"
     ]
    }
   ],
   "source": [
    "texto_1_lista=texto_1.split('.')\n",
    "print(type(texto_1_lista))"
   ]
  },
  {
   "cell_type": "code",
   "execution_count": null,
   "id": "tropical-protein",
   "metadata": {
    "cell_id": "523f20eb963f4db080170a2cf13e95e8",
    "deepnote_cell_height": 150.39999389648438,
    "deepnote_cell_type": "code",
    "deepnote_output_heights": [
     21
    ],
    "deepnote_to_be_reexecuted": false,
    "execution_millis": 23,
    "execution_start": 1653955143154,
    "source_hash": "67e4c4cd",
    "tags": []
   },
   "outputs": [
    {
     "name": "stdout",
     "output_type": "stream",
     "text": [
      "'TOM, pareces cansado', dijo Anna\n",
      " 'Tienes razón, voy a tomar un poco de agua', dijo Tom\n"
     ]
    }
   ],
   "source": [
    "print(texto_1_lista[0])\n",
    "print(texto_1_lista[1])"
   ]
  },
  {
   "cell_type": "code",
   "execution_count": null,
   "id": "talented-sponsorship",
   "metadata": {
    "cell_id": "851579ba84364c5dbe32cf1797a79937",
    "deepnote_cell_height": 150.39999389648438,
    "deepnote_cell_type": "code",
    "deepnote_to_be_reexecuted": false,
    "execution_millis": 12,
    "execution_start": 1653955143166,
    "source_hash": "bda89d14",
    "tags": []
   },
   "outputs": [
    {
     "name": "stdout",
     "output_type": "stream",
     "text": [
      "<class 'str'>\n",
      "<class 'str'>\n"
     ]
    }
   ],
   "source": [
    "print(type(texto_1_lista[0]))\n",
    "print(type(texto_1_lista[1]))"
   ]
  },
  {
   "cell_type": "markdown",
   "id": "living-remove",
   "metadata": {
    "cell_id": "16e38e47f4314b80bbd6cfb0111c23c7",
    "deepnote_cell_height": 52.399993896484375,
    "deepnote_cell_type": "markdown",
    "tags": []
   },
   "source": [
    "Note que aquí, el `texto_1_lista` es una lista pero cada elemento de esa lista es una `cadena`"
   ]
  },
  {
   "cell_type": "code",
   "execution_count": null,
   "id": "breeding-ordinary",
   "metadata": {
    "cell_id": "00112-b6506b7e-1401-4434-ac62-19415dfba8e0",
    "deepnote_cell_height": 148.1999969482422,
    "deepnote_cell_type": "code",
    "deepnote_to_be_reexecuted": false,
    "execution_millis": 10,
    "execution_start": 1653955143170,
    "source_hash": "9525dbc6",
    "tags": []
   },
   "outputs": [
    {
     "name": "stdout",
     "output_type": "stream",
     "text": [
      "Nombre Anna aparece 1 veces en este texto.\n"
     ]
    }
   ],
   "source": [
    "nombre1='Anna'\n",
    "result=contar_nombre2(texto_1_lista[0],nombre1)\n",
    "print(f'Nombre {nombre1} aparece {result} veces en este texto.')"
   ]
  },
  {
   "cell_type": "code",
   "execution_count": null,
   "id": "radio-ridge",
   "metadata": {
    "cell_id": "adbe6f25ed4d4dadad978d8206331337",
    "deepnote_cell_height": 148.1999969482422,
    "deepnote_cell_type": "code",
    "deepnote_to_be_reexecuted": false,
    "execution_millis": 7,
    "execution_start": 1653955143179,
    "source_hash": "a932c693",
    "tags": []
   },
   "outputs": [
    {
     "name": "stdout",
     "output_type": "stream",
     "text": [
      "Nombre Anna aparece 0 veces en este texto.\n"
     ]
    }
   ],
   "source": [
    "nombre1='Anna'\n",
    "result=contar_nombre2(texto_1_lista[1],nombre1)\n",
    "print(f'Nombre {nombre1} aparece {result} veces en este texto.')"
   ]
  },
  {
   "cell_type": "markdown",
   "id": "other-textbook",
   "metadata": {
    "cell_id": "fe7d9f327429462ca3e0b978a4c5038d",
    "deepnote_cell_height": 62,
    "deepnote_cell_type": "markdown",
    "tags": []
   },
   "source": [
    "### Un comentario sobre las funciones en Python"
   ]
  },
  {
   "cell_type": "markdown",
   "id": "creative-filename",
   "metadata": {
    "cell_id": "456bfdb7106f41f98e3ac723ff58b4ca",
    "deepnote_cell_height": 74.80000305175781,
    "deepnote_cell_type": "markdown",
    "tags": []
   },
   "source": [
    "Las funciones son uno de los elementos más importantes de cualquier programa y deben ser usados tanto como sea posible. El siguiente código es correcto:"
   ]
  },
  {
   "cell_type": "code",
   "execution_count": null,
   "id": "collected-illness",
   "metadata": {
    "cell_id": "9a962815607a4ebebac8278771e913b3",
    "deepnote_cell_height": 184.1999969482422,
    "deepnote_cell_type": "code",
    "deepnote_to_be_reexecuted": false,
    "execution_millis": 7,
    "execution_start": 1653955143188,
    "owner_user_id": "a6187c4f-6b2a-4da3-bfe6-f58198d480ff",
    "source_hash": "a475b99e",
    "tags": []
   },
   "outputs": [
    {
     "name": "stdout",
     "output_type": "stream",
     "text": [
      "[1, 4, 9, 16, 25]\n"
     ]
    }
   ],
   "source": [
    "x=[1,2,3,4,5]\n",
    "x_new=[]\n",
    "for i in x:\n",
    "    x_new.append(i**2)\n",
    "print(x_new)    "
   ]
  },
  {
   "cell_type": "markdown",
   "id": "imperial-museum",
   "metadata": {
    "cell_id": "49b2b9bc7df846e08c517ea97c6cb110",
    "deepnote_cell_height": 74.80000305175781,
    "deepnote_cell_type": "markdown",
    "tags": []
   },
   "source": [
    "Pero es una mejor práctica construir una función primero y luego llamarla para cada elemento de la lista."
   ]
  },
  {
   "cell_type": "code",
   "execution_count": null,
   "id": "moderate-blocking",
   "metadata": {
    "cell_id": "99967488697a44efa784ed1169e1843b",
    "deepnote_cell_height": 292.20001220703125,
    "deepnote_cell_type": "code",
    "deepnote_to_be_reexecuted": false,
    "execution_millis": 10,
    "execution_start": 1653955143196,
    "source_hash": "c5c4992d",
    "tags": []
   },
   "outputs": [
    {
     "name": "stdout",
     "output_type": "stream",
     "text": [
      "[1, 4, 9, 16, 25]\n"
     ]
    }
   ],
   "source": [
    "\n",
    "def cuadrado(numero):\n",
    "    return numero ** 2\n",
    "\n",
    "x=[1,2,3,4,5]\n",
    "x_new=[]\n",
    "\n",
    "for i in x:\n",
    "    x_new.append(cuadrado(i))\n",
    "print(x_new)  \n"
   ]
  },
  {
   "cell_type": "markdown",
   "id": "convertible-voice",
   "metadata": {
    "cell_id": "b2e1a110b3154d7b9d07f3232a417ef5",
    "deepnote_cell_height": 97.19999694824219,
    "deepnote_cell_type": "markdown",
    "tags": []
   },
   "source": [
    "En este ejemplo simple de elevar al cuadrado el número, esto puede no parecer muy claro, pero cuando las operaciones se vuelven más complejas usando funciones y llamarlas para cada elemento es una mejor manera."
   ]
  },
  {
   "cell_type": "markdown",
   "id": "therapeutic-penalty",
   "metadata": {
    "cell_id": "f69af11edd434fc39457cf4ebab0c27e",
    "deepnote_cell_height": 97.19999694824219,
    "deepnote_cell_type": "markdown",
    "tags": []
   },
   "source": [
    "Las funciones en principio deberían hacer una sola operación. Cuando la función se vuelve demasiado compleja, es una buena práctica hacer una función que devuelva un valor y luego este valor devuelto será una entrada para otra función (como una cadena de funciones)"
   ]
  },
  {
   "cell_type": "markdown",
   "id": "failing-knowing",
   "metadata": {
    "cell_id": "42a56d0555534f7ca245f7c6ee367d42",
    "deepnote_cell_height": 164.39999389648438,
    "deepnote_cell_type": "markdown",
    "tags": []
   },
   "source": [
    "Como hemos visto, en Python una cosa se puede hacer de muchas maneras. Con el tiempo y la práctica verás cuál es mejor. Las operaciones de una línea como \"comprensiones de listas\" se denominan de forma \"Pythonica\". Lo que significa el \"más correcto y eficiente\". Sin embargo, para aquellos que empiezan a programar, probablemente sea mejor usar al principio bucles simples como `for`. Solamente para mostrar una forma \"Pythonica\" más de realizar bucles, presentemos la función `map`. "
   ]
  },
  {
   "cell_type": "markdown",
   "id": "bound-thanksgiving",
   "metadata": {
    "cell_id": "30cf4f1a908541c6933d3f71b768e32f",
    "deepnote_cell_height": 74.80000305175781,
    "deepnote_cell_type": "markdown",
    "tags": []
   },
   "source": [
    "`map()` toma una función y un iterable como argumentos y devuelve un iterador que produce elementos transformados de la siguiente manera:"
   ]
  },
  {
   "cell_type": "code",
   "execution_count": null,
   "id": "fluid-longitude",
   "metadata": {
    "cell_id": "36082c9eee9d45aeb6e28f8f75c8c280",
    "deepnote_cell_height": 220.1999969482422,
    "deepnote_cell_type": "code",
    "deepnote_to_be_reexecuted": false,
    "execution_millis": 8,
    "execution_start": 1653955143204,
    "source_hash": "e8b264dd",
    "tags": []
   },
   "outputs": [
    {
     "name": "stdout",
     "output_type": "stream",
     "text": [
      "[1, 4, 9, 16, 25]\n"
     ]
    }
   ],
   "source": [
    "\n",
    "def cuadrado(numero):\n",
    "    return numero ** 2\n",
    "\n",
    "x=[1,2,3,4,5]\n",
    "x_new=map(cuadrado,x)\n",
    "print(list(x_new))"
   ]
  },
  {
   "cell_type": "markdown",
   "id": "breeding-tennessee",
   "metadata": {
    "cell_id": "431383044c2b483ab1cf8d91bba9aadf",
    "deepnote_cell_height": 74.80000305175781,
    "deepnote_cell_type": "markdown",
    "tags": []
   },
   "source": [
    "Una vez más, la parte más importante es la corrección del resultado. Use `map` y \"lista de comprensión\" (\"list comprehension\") cuando tenga confianza en la programación en Python."
   ]
  },
  {
   "cell_type": "markdown",
   "id": "powerful-sleeping",
   "metadata": {
    "cell_id": "bdd59800bac2411a8519521d4f9b5e35",
    "deepnote_cell_height": 74.80000305175781,
    "deepnote_cell_type": "markdown",
    "tags": []
   },
   "source": [
    "*a veces es mejor escribir primero el código simple, sin la función y si está funcionando covertir el código en una función."
   ]
  },
  {
   "cell_type": "markdown",
   "id": "changed-skirt",
   "metadata": {
    "cell_id": "538caaa18e00436cb9f5cba6961b7f2b",
    "deepnote_cell_height": 167.60000610351562,
    "deepnote_cell_type": "markdown",
    "tags": []
   },
   "source": [
    "### Comenta sobre los tipos de variables en Python.\n",
    "\n",
    "Hay siete tipos de variables principales en Python: `int`, `float`, `str`, `list`, `bool`, `tuple` y `dict`. Se han abordado `int` y `float` como números, `bool` (booleano), `str` (cadenas), y se acaba de terminar `list` (listas). El resto de ellas (`tuple` y `dict`) aparecerán más adelante cuando surjan algunos problemas específicos."
   ]
  }
 ],
 "metadata": {
  "deepnote": {},
  "deepnote_execution_queue": [],
  "deepnote_notebook_id": "525f47c8-46b5-4978-ab8a-3c6285c97e13",
  "kernelspec": {
   "display_name": "Python 3",
   "language": "python",
   "name": "python3"
  },
  "language_info": {
   "codemirror_mode": {
    "name": "ipython",
    "version": 3
   },
   "file_extension": ".py",
   "mimetype": "text/x-python",
   "name": "python",
   "nbconvert_exporter": "python",
   "pygments_lexer": "ipython3",
   "version": "3.7.2"
  }
 },
 "nbformat": 4,
 "nbformat_minor": 5
}
