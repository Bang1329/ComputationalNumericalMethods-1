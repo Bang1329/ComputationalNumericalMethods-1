{
 "cells": [
  {
   "cell_type": "markdown",
   "id": "universal-windows",
   "metadata": {},
   "source": [
    "# about the exam:\n",
    "* I restarted the kernel and then looked at the results\n",
    "* please check if I didnt make mistake counting your points (your exams are in the Github folder)\n",
    "* one person would get 10p but some variable was not defined\n",
    "* some of you removed part of the original text so for example the task on right root was missing\n",
    "* someone send me a link to colab - invalid (I need an uneditable notebook)\n",
    "* some were struggling a lot with loading the CSV data\n",
    "* please try it again at home to see why you got into trouble\n",
    "* anyone without being \"punished\" can repeat the exam and get 100% but need to write it again in out of class hours"
   ]
  },
  {
   "cell_type": "code",
   "execution_count": null,
   "id": "important-curtis",
   "metadata": {},
   "outputs": [],
   "source": []
  }
 ],
 "metadata": {
  "kernelspec": {
   "display_name": "Python 3",
   "language": "python",
   "name": "python3"
  },
  "language_info": {
   "codemirror_mode": {
    "name": "ipython",
    "version": 3
   },
   "file_extension": ".py",
   "mimetype": "text/x-python",
   "name": "python",
   "nbconvert_exporter": "python",
   "pygments_lexer": "ipython3",
   "version": "3.7.2"
  }
 },
 "nbformat": 4,
 "nbformat_minor": 5
}
