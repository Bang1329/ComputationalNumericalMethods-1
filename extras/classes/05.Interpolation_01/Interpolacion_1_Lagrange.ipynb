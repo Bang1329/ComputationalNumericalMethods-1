{
 "cells": [
  {
   "cell_type": "markdown",
   "metadata": {},
   "source": [
    "# Interpolation 1\n",
    "\n",
    "### The bottom line is... that in real life situations we use:\n",
    "* ***from scipy.interpolate import interp1d*** \n",
    "* (has all what we need, linear, cuadratic, cubic=spline)\n",
    "  \n",
    "### To understand the theory of interpolation we will go through various approaches:\n",
    "\n",
    "* Lagrange polynomials\n",
    "* divided differences\n",
    "* Hermite polynomials\n",
    "\n",
    "### Why do we need theory if one can use a piece of code?\n",
    "* phycist/scientist must know how the tool he uses works!"
   ]
  },
  {
   "cell_type": "markdown",
   "metadata": {},
   "source": [
    "## Motivation\n",
    "In Physics things are divided by:\n",
    " * \"impossible to understand\"\n",
    " * \"trivial\"\n",
    "\n",
    "Thats the feeling we have. The transition from one feeling to another is almost always possible, sometimes we just need to find different explanation.\n",
    "\n",
    "Quite often even terminology is intimidating. Hermite polynomials, Lagrange polynomials. Most of the time behind strange names there is a simple idea. We need a bit of patience to find a better source of information."
   ]
  },
  {
   "cell_type": "markdown",
   "metadata": {},
   "source": [
    "## What's the purpose of interpolation\n",
    "- Estimating intermediate values between ***precise*** data point!!!\n",
    "- if the data carries error the its better to use fit the data using regression!!!\n",
    "- smoothing the points?\n",
    "- if one wants to take the derivative of original points then the results is not smooth\n",
    "- interpolating points can mean interpolate a solution - speeding a code\n",
    "- if you stay in Physics you will need it!"
   ]
  },
  {
   "cell_type": "markdown",
   "metadata": {},
   "source": [
    "## To practice we will use scipy and its modules:\n",
    "\n",
    "### to visualize the theory of interpolation\n",
    "* from scipy.interpolate import ***lagrange***\n",
    "* from scipy.interpolate import ***CubicHermiteSpline***\n",
    "\n",
    "### In real life those two are most common is:\n",
    "* from scipy.interpolate import ***interp1d***"
   ]
  },
  {
   "cell_type": "markdown",
   "metadata": {},
   "source": [
    "## We will look at the theory of interpolation:\n",
    "- Polynomial interpolation \n",
    "  - Lagrange interpolation\n",
    "  - Linar, Cuadratic interpolation\n",
    "  - Hermite interpolation (divided differences) - useful \n",
    "- Spline interpolation - useful\n",
    "\n",
    "<img src=\"imgs/polynomial_vs_spline.png\" width=\"600\" />\n",
    "\n",
    "* Difference between interpolation and extrapolation\n",
    "\n",
    "* Polynomial Interpolation: ONE unique $n^{th}$ order polynomial passes through n points.\n",
    "  * Newton’s Divided Difference Interpolating Polynomials\n",
    "  * Lagrange Interpolating Polynomials\n",
    "\n",
    "* Spline Interpolation: Pass different curves (mostly 3rd order - cubic) through different subsets of the data points.\n"
   ]
  },
  {
   "cell_type": "markdown",
   "metadata": {},
   "source": [
    "## Example when you don't use interpolation\n",
    "Lets look at a data set\n",
    "\n",
    "A body is moving under the influence of an external force, the variation of the position measured for different \n",
    "times are compiled in table 1. \n",
    "\n",
    "| t(s) | x(m) | v(m/s)         \n",
    "| :------: |:-------------: | :-------:|\n",
    "|0| 2.76 | 33.10\n",
    "| 1.11| 29.66 | 21.33\n",
    "| 2.22|46.83 | 16.57\n",
    "|3.33 | 44.08 |-5.04\n",
    "| 4.44| 37.26| -11.74\n",
    "| 5.55| 12.03| -27.32| "
   ]
  },
  {
   "cell_type": "code",
   "execution_count": 1,
   "metadata": {},
   "outputs": [
    {
     "data": {
      "text/plain": [
       "<matplotlib.legend.Legend at 0x7ff152520160>"
      ]
     },
     "execution_count": 1,
     "metadata": {},
     "output_type": "execute_result"
    },
    {
     "data": {
      "image/png": "[encoded data removed]",
      "text/plain": [
       "<Figure size 432x288 with 1 Axes>"
      ]
     },
     "metadata": {
      "needs_background": "light"
     },
     "output_type": "display_data"
    }
   ],
   "source": [
    "import numpy as np\n",
    "import matplotlib.pyplot as plt\n",
    "t=np.array([0,1.11, 2.22,3.33, 4.44, 5.55])\n",
    "v=np.array([ 33.10, 21.33, 16.57,-5.04, -11.74, -27.32])\n",
    "fig,ax=plt.subplots(1,1)\n",
    "ax.plot(t,v,'sb', label='data')\n",
    "ax.set_xlabel('t')\n",
    "ax.set_ylabel('v(t)')\n",
    "ax.legend()"
   ]
  },
  {
   "cell_type": "markdown",
   "metadata": {},
   "source": [
    "<img src=\"imgs/dont_interpolate.png\" width=\"500\" />"
   ]
  },
  {
   "cell_type": "markdown",
   "metadata": {},
   "source": [
    "* Given a data set, the first approach to find a function that passes through the points would be using a interpolation polynomial. \n",
    "* But we should take special attention to the way data set is gathered, i.e., usually is a sample obtained experimentally or in a way that has associated an intrinsic error. \n",
    "* Then, forcing that the approximate function passes through all the points would actually incur in incrementing the error. This is why it is necessary to build a different procedure to build the function that fits the data."
   ]
  },
  {
   "cell_type": "markdown",
   "metadata": {},
   "source": [
    "## Example when you can use interpolation"
   ]
  },
  {
   "cell_type": "code",
   "execution_count": 2,
   "metadata": {},
   "outputs": [
    {
     "data": {
      "text/plain": [
       "[<matplotlib.lines.Line2D at 0x7ff109f4acc0>]"
      ]
     },
     "execution_count": 2,
     "metadata": {},
     "output_type": "execute_result"
    },
    {
     "data": {
      "image/png": "[encoded data removed]",
      "text/plain": [
       "<Figure size 432x288 with 1 Axes>"
      ]
     },
     "metadata": {
      "needs_background": "light"
     },
     "output_type": "display_data"
    }
   ],
   "source": [
    "import pandas as pd\n",
    "\n",
    "df=pd.read_csv('data_pressure_vs_temparature.csv')\n",
    "df.head()\n",
    "\n",
    "Pressure=df['Pressure']\n",
    "Temperature=df['Temperature']\n",
    "import matplotlib.pyplot as plt\n",
    "\n",
    "fig, ax=plt.subplots(1,1)\n",
    "ax.plot(Temperature,Pressure,'.k')"
   ]
  },
  {
   "cell_type": "markdown",
   "metadata": {},
   "source": [
    "<img src=\"imgs/interpolate.png\" width=\"400\" />"
   ]
  },
  {
   "cell_type": "markdown",
   "metadata": {},
   "source": [
    "#### Here I shoul start with linear interpolation but Lagrange is more interesting and linear will come later"
   ]
  },
  {
   "cell_type": "markdown",
   "metadata": {},
   "source": [
    "# Polynomial Interpolation\n",
    "## Lagrange Interpolation"
   ]
  },
  {
   "cell_type": "markdown",
   "metadata": {
    "id": "DvZeftzu7RZN"
   },
   "source": [
    "## Interpolation using Lagrange polynomials\n",
    "https://en.wikipedia.org/wiki/Lagrange_polynomial\n",
    "\n",
    "### Definition:\n",
    "\n",
    "$$P_n(x)=\\sum_{i=0}^{n}L_i(x) f(x_i) \\quad \\text{where} \\quad L_i(x)=\\prod_{j=0,j \\neq i}^{n} \\frac{(x-x_j)}{(x_i-x_j)}$$\n",
    "\n",
    "* where $L_i(x)$  is called Lagrange multiplier\n",
    "\n",
    "* $\\sum$- sum (addition) \n",
    "\n",
    "* $\\prod$ - product (multiplication) \n",
    "\n",
    "example for n=1\n",
    "\n",
    "so for the summation part i can be equal 0 o 1. \n",
    "\n",
    "* i=0, then in the Langrange multiplier part jcannot be 0 because of the condicion so j=1 and we put the indices.\n",
    "* i=1, then in the Langrange multiplier part can be 0 and we put the indices, but j cannot be 1 because of the condition.\n",
    "\n",
    "finally\n",
    "\n",
    "$$P_1(x)=\\frac{(x-x_1)}{(x_0-x_1)}f(x_0) + \\frac{(x-x_0)}{(x_1-x_0)}f(x_1)$$\n",
    "\n",
    "example for n=2\n",
    "\n",
    "$$P_2(x)=\\frac{(x-x_1)(x-x_2)}{(x_0-x_1)(x_0-x_2)}f(x_0) + \\frac{(x-x_0)(x-x_2)}{(x_1-x_0)(x_1-x_2)}f(x_1) + \\frac{(x-x_0)(x-x_1)}{(x_2-x_1)(x_2-x_2)}f(x_2)$$\n",
    "\n",
    "### Details :\n",
    "* not being used much in practice\n",
    "* not easy to compute,\n",
    "* but is good for $\\color{red}{\\text{methodology}}$\n",
    "* see why:\n"
   ]
  },
  {
   "cell_type": "markdown",
   "metadata": {},
   "source": [
    "#### How to \"derive\" Lagrange Polynomial! Lets imagine we have three points\n",
    "\n",
    "$$x_0=1,\tf(x_0)=7$$\n",
    "$$x_1=2,\tf(x_1)=5$$\n",
    "$$x_2=3,\tf(x_2)=2$$\n",
    "\n",
    "we can plot them"
   ]
  },
  {
   "cell_type": "code",
   "execution_count": 1,
   "metadata": {},
   "outputs": [
    {
     "data": {
      "text/plain": [
       "[<matplotlib.lines.Line2D at 0x7fb7c4ce4c88>]"
      ]
     },
     "execution_count": 1,
     "metadata": {},
     "output_type": "execute_result"
    },
    {
     "data": {
      "image/png": "[encoded data removed]",
      "text/plain": [
       "<Figure size 432x288 with 1 Axes>"
      ]
     },
     "metadata": {
      "needs_background": "light"
     },
     "output_type": "display_data"
    }
   ],
   "source": [
    "# first just the three points\n",
    "import numpy as np\n",
    "import matplotlib.pyplot as plt\n",
    "fig,ax=plt.subplots(1,1)\n",
    "x=np.array([1,2,3])\n",
    "y=np.array([7,5,2])\n",
    "ax.plot(x,y,'ro')"
   ]
  },
  {
   "cell_type": "markdown",
   "metadata": {},
   "source": [
    "***We want to construct a polynomial (function) that will pass through all the three points that we have. Because if the polynomial (function) passes through all the points that we know, it means that for all other points we can well approximate (estimate / interpolate) the value value of that polynomial (function) ***"
   ]
  },
  {
   "cell_type": "markdown",
   "metadata": {},
   "source": [
    "Lets write the points again:\n",
    "\n",
    "$$x_0=1,\tf(x_0)=7$$\n",
    "$$x_1=2,\tf(x_1)=5$$\n",
    "$$x_2=3,\tf(x_2)=2$$\n"
   ]
  },
  {
   "cell_type": "markdown",
   "metadata": {},
   "source": [
    "If we know our first condition that the polynomial must pass through the three points! we can just simply write so obvious ***trial function***:\n",
    "\n",
    "$p(x)=7y_1 + 5y_2 + 2y_3$ \n",
    "\n",
    "with some coefficients that we can call $y_1,y_2,y_3$ (coefficients will help to fulfil the condition mentioned above). \n",
    "so the task is to find $y_1,y_2,y_3$\n",
    "\n",
    "Lets first look how the $y_1,y_2,y_3$ must work."
   ]
  },
  {
   "cell_type": "markdown",
   "metadata": {},
   "source": [
    "If we try the first point $x_0=1$ then we expect that $p(x=x_0)=7$ (see the plot) To get this solution from our trial function $p(x)=7y_1 + 5y_2 + 2y_3$ we have to have $y_1=1$ and $y_2=y_3=0$ and that would give us what we want, which is $p(x=x_0)=7$\n",
    "\n",
    "similarly for all three points we have three conditions for y:\n",
    "\n",
    "$$ p(x=x_0=1)=7 \\quad \\text{if} \\quad y_1=1, y_2=y_3=0$$\n",
    "$$ p(x=x_1=2)=5 \\quad \\text{if} \\quad y_2=1, y_1=y_3=0$$\n",
    "$$ p(x=x_2=3)=2 \\quad \\text{if} \\quad y_3=1, y_1=y_2=0$$\n",
    "\n",
    "So we know what values $y_1,y_2,y_3$ must have for the three poinnts ($1$ or $0$) but we dont know how to get those values. So we need to find the expressions for $y_1,y_2,y_3$ such that the the upper conditions can be fulfiled."
   ]
  },
  {
   "cell_type": "markdown",
   "metadata": {},
   "source": [
    "From the conditions above we can see that $y_1=0$ for two cases: when $x=2$ or $x=3$, so the only solution to make solution $y_1=0$ would be something like this:\n",
    "\n",
    "$$y_1=(x-2)(x-3)$$ \n",
    "$$y_2=(x-1)(x-3)$$ \n",
    "\n",
    "\n",
    "so if we substitute into above $x=2$ or $x=3$ then $y_1=0$, but there is one more condition that we want that if $x=1$ then $y_1=1$, but if we substitute $x=1$ then $y_1=2$, so to change 2 into 1 we have to normalize (divide by the nominator) for $x=x_0=1$ it to get $y_1=1$ for $x=1$:\n",
    "\n",
    "$$y_1=\\frac{(x-2)(x-3)}{(x_0-2)(x_0-3)}= 1 \\quad \\text{for} \\quad (x=1,x_0=1), \\quad \\text{but} = 0  \\quad \\text{for} \\quad (x=2=3) $$\n",
    "\n",
    "it works because if $x=1$ then $y_1=1$, if $x=2$ then $y_1=0$, if $x=3$ then $y_1=0$. So, $y_1$ behaves as we wanted (has value $0$ or $1$). \n",
    "\n",
    "but we know that the values that we substituted $1,2,3$ correspond to variables $x_0,x_1,x_2$ (that we are given) such that $1=x_0, 2=x_1, 3=x2$ so we can generalize the above equation:\n",
    "\n",
    "So for the three different points x, $y_1,y_2,y_3$ behave as we wanted (have value $0$ or $1$):\n",
    "\n",
    "$$y_1=\\frac{(x-x_1)(x-x_2)}{(x_0-x_1)(x_0-x_2)}= 1 \\quad \\text{for} \\quad (x=1), \\quad \\text{but} = 0  \\quad \\text{for} \\quad (x=x_1=x_2) $$\n",
    "\n",
    "$$y_2=\\frac{(x-x_0)(x-x_2)}{(x_1-x_0)(x_1-x_2)}= 1 \\quad \\text{for} \\quad (x=2), \\quad \\text{but} = 0  \\quad \\text{for} \\quad (x=2=3) $$\n",
    "\n",
    "$$y_3=\\frac{(x-x_0)(x-x_1)}{(x_2-x_1)(x_2-x_2)}= 1 \\quad \\text{for} \\quad (x=3), \\quad \\text{but} = 0  \\quad \\text{for} \\quad (x=0=1) $$\n",
    "\n",
    "Now one can see that the coefficients of the trial funcion are Lagrange multipliers that we derived. Lets confirm...\n",
    "\n",
    "for example lets look at $y_1$: \n",
    "\n",
    "if x=1:\n",
    "$$y_1=\\frac{(1-2)(1-3)}{(1-2)(1-3)}= 1$$\n",
    "\n",
    "if x=2:\n",
    "$$y_1=\\frac{(2-2)(2-3)}{(1-2)(1-3)}= 0$$\n",
    "\n",
    "\n",
    "We can see that the equation for the multipliers fulfil the initial condition so we can substitute them into the trial function\n",
    "\n",
    "$$p(x)=y_1 7 + y_2 5+ y_3 2$$\n",
    "\n",
    "and what we obtain is Langrange Polynomial!!!! (compare with the initial equation with sum and multiplication):\n",
    "\n",
    "$$P(x)=\\frac{(x-x_1)(x-x_2)}{(x_0-x_1)(x_0-x_2)}f(x_0) + \\frac{(x-x_0)(x-x_2)}{(x_1-x_0)(x_1-x_2)}f(x_1) + \\frac{(x-x_0)(x-x_1)}{(x_2-x_1)(x_2-x_2)}f(x_2)$$\n",
    "\n",
    "which is basically $P_2(x)$ (remember that the sum was from 0 to n, so if n=2 then we there are three elements of the sum). In other words:  (n=number of points -1)\n",
    "\n",
    "So $(x)$ is the point we want to interpolate, and $x_0,x_1,x_2$ are the points $f(x_0),f(x_1),f(x_2)$ are the function at those point, that we also know.\n",
    "\n",
    "***The main property of Lagrange multipliers is that are zero for all other points except $x_i$ (which is normalized).***"
   ]
  },
  {
   "cell_type": "markdown",
   "metadata": {},
   "source": [
    "* Again, at the points that we know the polynomial must reduce itself to the value of that function for that point.\n",
    "  * for x=1 the P(x=1)=7, \n",
    "  * for x=2 the P(x=1)=5, \n",
    "  * for x=3 the P(x=1)=2, \n",
    "\n",
    "  * we can check:\n",
    "  \n",
    "$$P(x)=\\frac{(x-x_1)(x-x_2)}{(x_0-x_1)(x_0-x_2)}f(x_0) + \\frac{(x-x_0)(x-x_2)}{(x_1-x_0)(x_1-x_2)}f(x_1) + \\frac{(x-x_0)(x-x_1)}{(x_2-x_1)(x_2-x_2)}f(x_2)$$  \n",
    "\n",
    "  * so if the polynomial (function) passes through all the points that we know, it means that for all other points we can estimate (interpolate) the value which is P(x)"
   ]
  },
  {
   "cell_type": "markdown",
   "metadata": {},
   "source": [
    "### Lets for fun visualize the multipliers, to see only how they look:"
   ]
  },
  {
   "cell_type": "markdown",
   "metadata": {},
   "source": [
    "#### multiplier y1 vs x (must be y1=1 for x=1 and zero for x=2, x=3)"
   ]
  },
  {
   "cell_type": "code",
   "execution_count": 4,
   "metadata": {},
   "outputs": [
    {
     "data": {
      "text/plain": [
       "<matplotlib.legend.Legend at 0x7ff1029c0d68>"
      ]
     },
     "execution_count": 4,
     "metadata": {},
     "output_type": "execute_result"
    },
    {
     "data": {
      "image/png": "[encoded data removed]",
      "text/plain": [
       "<Figure size 432x288 with 1 Axes>"
      ]
     },
     "metadata": {
      "needs_background": "light"
     },
     "output_type": "display_data"
    }
   ],
   "source": [
    "import numpy as np\n",
    "import matplotlib.pyplot as plt\n",
    "fig,ax=plt.subplots(1,1)\n",
    "x=np.arange(0, 4, 0.1)\n",
    "y1=((x-2)*(x-3))/2\n",
    "ax.plot(x,y1,label='y1(x)')\n",
    "ax.plot(1,1,'ro')\n",
    "ax.legend()"
   ]
  },
  {
   "cell_type": "markdown",
   "metadata": {},
   "source": [
    "#### multiplier y2 vs x (must be y2=1 for x=2 and zero for x=1, x=3)"
   ]
  },
  {
   "cell_type": "code",
   "execution_count": 5,
   "metadata": {},
   "outputs": [
    {
     "data": {
      "text/plain": [
       "<matplotlib.legend.Legend at 0x7ff10293fb38>"
      ]
     },
     "execution_count": 5,
     "metadata": {},
     "output_type": "execute_result"
    },
    {
     "data": {
      "image/png": "[encoded data removed]",
      "text/plain": [
       "<Figure size 432x288 with 1 Axes>"
      ]
     },
     "metadata": {
      "needs_background": "light"
     },
     "output_type": "display_data"
    }
   ],
   "source": [
    "import numpy as np\n",
    "import matplotlib.pyplot as plt\n",
    "fig,ax=plt.subplots(1,1)\n",
    "x=np.arange(0, 4, 0.1)\n",
    "y2=-(x-1)*(x-3)\n",
    "ax.plot(x,y2,label='y2(x)')\n",
    "ax.plot(2,1,'ro')\n",
    "ax.legend()"
   ]
  },
  {
   "cell_type": "markdown",
   "metadata": {},
   "source": [
    "#### multiplier y3 vs x (must be y3=1 for x=3 and zero for x=1, x=2)"
   ]
  },
  {
   "cell_type": "code",
   "execution_count": 6,
   "metadata": {},
   "outputs": [
    {
     "data": {
      "text/plain": [
       "<matplotlib.legend.Legend at 0x7ff102932dd8>"
      ]
     },
     "execution_count": 6,
     "metadata": {},
     "output_type": "execute_result"
    },
    {
     "data": {
      "image/png": "[encoded data removed]",
      "text/plain": [
       "<Figure size 432x288 with 1 Axes>"
      ]
     },
     "metadata": {
      "needs_background": "light"
     },
     "output_type": "display_data"
    }
   ],
   "source": [
    "import numpy as np\n",
    "import matplotlib.pyplot as plt\n",
    "fig,ax=plt.subplots(1,1)\n",
    "x=np.arange(0, 4, 0.1)\n",
    "y3=(x-1)*(x-2)/2\n",
    "ax.plot(x,y3,label='y3(x)')\n",
    "ax.plot(3,1,'ro')\n",
    "ax.legend()"
   ]
  },
  {
   "cell_type": "markdown",
   "metadata": {},
   "source": [
    "#### Lets plot the points again:"
   ]
  },
  {
   "cell_type": "code",
   "execution_count": 7,
   "metadata": {},
   "outputs": [
    {
     "data": {
      "text/plain": [
       "[<matplotlib.lines.Line2D at 0x7ff102851da0>]"
      ]
     },
     "execution_count": 7,
     "metadata": {},
     "output_type": "execute_result"
    },
    {
     "data": {
      "image/png": "[encoded data removed]",
      "text/plain": [
       "<Figure size 432x288 with 1 Axes>"
      ]
     },
     "metadata": {
      "needs_background": "light"
     },
     "output_type": "display_data"
    }
   ],
   "source": [
    "# first just the three points\n",
    "import numpy as np\n",
    "import matplotlib.pyplot as plt\n",
    "fig,ax=plt.subplots(1,1)\n",
    "x=np.array([1,2,3])\n",
    "y=np.array([7,5,2])\n",
    "ax.plot(x,y,'ro')"
   ]
  },
  {
   "cell_type": "markdown",
   "metadata": {},
   "source": [
    "* At the points that we have the polynomial must reduce itself to the value of that function for that point.\n",
    "  * for x=1 the P(x=1)=7, \n",
    "  * for x=2 the P(x=1)=5, \n",
    "  * for x=3 the P(x=1)=2, \n",
    "\n",
    "  * we can check:\n",
    "  \n",
    "$$P(x)=\\frac{(x-x_1)(x-x_2)}{(x_0-x_1)(x_0-x_2)}f(x_0) + \\frac{(x-x_0)(x-x_2)}{(x_1-x_0)(x_1-x_2)}f(x_1) + \\frac{(x-x_0)(x-x_1)}{(x_2-x_1)(x_2-x_2)}f(x_2)$$  \n",
    "\n",
    "  * so if the polynomial (function) passes through all the points that we know, it means that for all other points we can estimate (interpolate) the value which is P(x)"
   ]
  },
  {
   "cell_type": "markdown",
   "metadata": {},
   "source": [
    "### Lets plot the $P(x)$ for any $x$:"
   ]
  },
  {
   "cell_type": "code",
   "execution_count": 8,
   "metadata": {},
   "outputs": [
    {
     "data": {
      "text/plain": [
       "<matplotlib.legend.Legend at 0x7ff102787e10>"
      ]
     },
     "execution_count": 8,
     "metadata": {},
     "output_type": "execute_result"
    },
    {
     "data": {
      "image/png": "[encoded data removed]",
      "text/plain": [
       "<Figure size 432x288 with 1 Axes>"
      ]
     },
     "metadata": {
      "needs_background": "light"
     },
     "output_type": "display_data"
    }
   ],
   "source": [
    "# and using all the multipliers and the f(x_i) as in the trial funcion definition gives:\n",
    "import numpy as np\n",
    "import matplotlib.pyplot as plt\n",
    "fig,ax=plt.subplots(1,1)\n",
    "x=np.array([1,2,3])\n",
    "y=np.array([7,5,2])\n",
    "\n",
    "\n",
    "\n",
    "x = np.linspace(0,4,1000)\n",
    "y=(x-x[1])*(x-x[2])/((x[0]-x[1])*(x[0]-x[2])))*y[0] \n",
    "ax.plot(xnew,ynew,'bo',label='P(x)')\n",
    "x=np.array([1,2,3])\n",
    "y=np.array([7,5,2])\n",
    "ax.plot(x,y,'ro')\n",
    "plt.title('Lagrange Polynomial derived')\n",
    "ax.legend()"
   ]
  },
  {
   "cell_type": "markdown",
   "metadata": {},
   "source": [
    "#### we have found a function, a polynomial (Lagrange) that passes through all the three points and allow us to interpolate point inbetween!"
   ]
  },
  {
   "cell_type": "markdown",
   "metadata": {},
   "source": [
    "### Example code of Lagrange polynomial"
   ]
  },
  {
   "cell_type": "markdown",
   "metadata": {},
   "source": [
    "$$P_n(x)=\\sum_{i=0}^{n}L_i(x) f(x_i) \\quad \\text{where} \\quad L_i(x)=\\prod_{j=0,j \\neq i}^{n} \\frac{(x-x_j)}{(x_i-x_j)}$$"
   ]
  },
  {
   "cell_type": "code",
   "execution_count": 9,
   "metadata": {},
   "outputs": [
    {
     "name": "stdout",
     "output_type": "stream",
     "text": [
      "Interpolated value at 1.5 is 6.125.\n"
     ]
    }
   ],
   "source": [
    "# Lagrange Interpolation\n",
    "# Importing NumPy Library\n",
    "import numpy as np\n",
    "\n",
    "# given three points\n",
    "x=np.array([1,2,3])\n",
    "y=np.array([7,5,2])\n",
    "\n",
    "# point to interpolate using Lagrange Polynomial\n",
    "xp=1.5\n",
    "\n",
    "# initializing interpolated value (=0)\n",
    "yp = 0\n",
    "\n",
    "# Implementing Lagrange Interpolation\n",
    "\n",
    "for i in range(len(x)):                        # this is the sum part\n",
    "    p = 1\n",
    "    for j in range(len(x)):                    # multiplier part\n",
    "        if i!= j:\n",
    "            p = p * (xp - x[j])/(x[i] - x[j])  # multiplier part             \n",
    "    yp = yp + p * y[i]                         # sum part  \n",
    "\n",
    "# Displaying output\n",
    "print(f'Interpolated value at {xp} is {yp}.')"
   ]
  },
  {
   "cell_type": "markdown",
   "metadata": {},
   "source": [
    "### we can now simply convert the code into a function and call it for any value making a plot as presented earlier."
   ]
  },
  {
   "cell_type": "markdown",
   "metadata": {},
   "source": [
    "### But the beauty of Python is that the Lagrange routine is already part of scipy:"
   ]
  },
  {
   "cell_type": "code",
   "execution_count": 2,
   "metadata": {},
   "outputs": [
    {
     "data": {
      "text/plain": [
       "Text(0.5, 1.0, 'Lagrange Polynomial SciPy')"
      ]
     },
     "execution_count": 2,
     "metadata": {},
     "output_type": "execute_result"
    },
    {
     "data": {
      "image/png": "[encoded data removed]",
      "text/plain": [
       "<Figure size 432x288 with 1 Axes>"
      ]
     },
     "metadata": {
      "needs_background": "light"
     },
     "output_type": "display_data"
    }
   ],
   "source": [
    "from scipy.interpolate import lagrange\n",
    "# we use function lagrange to find the Lagrange multipliers\n",
    "x=np.array([1,2,3])\n",
    "y=np.array([7,5,2])\n",
    "\n",
    "f_lagr = lagrange(x, y)\n",
    "\n",
    "fig,ax = plt.subplots(1,1)\n",
    "xnew = np.arange(0, 4, 0.1)\n",
    "\n",
    "ax.plot(xnew, f_lagr(xnew), 'bo')\n",
    "ax.plot(x, y, 'ro')\n",
    "ax.grid('True')\n",
    "ax.set_xlabel('x')\n",
    "ax.set_ylabel('y')\n",
    "plt.title('Lagrange Polynomial SciPy')"
   ]
  },
  {
   "cell_type": "markdown",
   "metadata": {},
   "source": []
  }
 ],
 "metadata": {
  "colab": {
   "name": "interpolation_details.ipynb",
   "provenance": []
  },
  "kernelspec": {
   "display_name": "Python 3",
   "language": "python",
   "name": "python3"
  },
  "language_info": {
   "codemirror_mode": {
    "name": "ipython",
    "version": 3
   },
   "file_extension": ".py",
   "mimetype": "text/x-python",
   "name": "python",
   "nbconvert_exporter": "python",
   "pygments_lexer": "ipython3",
   "version": "3.7.2"
  },
  "toc": {
   "colors": {
    "hover_highlight": "#DAA520",
    "running_highlight": "#FF0000",
    "selected_highlight": "#FFD700"
   },
   "moveMenuLeft": true,
   "nav_menu": {
    "height": "341px",
    "width": "252px"
   },
   "navigate_menu": true,
   "number_sections": true,
   "sideBar": true,
   "threshold": 4,
   "toc_cell": false,
   "toc_section_display": "block",
   "toc_window_display": false
  }
 },
 "nbformat": 4,
 "nbformat_minor": 1
}
