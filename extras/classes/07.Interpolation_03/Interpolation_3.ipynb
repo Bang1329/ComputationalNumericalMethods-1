{
 "cells": [
  {
   "cell_type": "markdown",
   "metadata": {},
   "source": [
    "## Piecewise interpolation - Spline\n",
    "\n",
    "- Polynomial interpolation \n",
    "  - Lagrange interpolation, OK\n",
    "  - Linar, Cuadratic interpolation, OK \n",
    "  - Hermite interpolation (divided differences)  NOT DONE YET\n",
    "- Spline interpolation\n",
    "\n",
    "<img src=\"imgs/polynomial_vs_spline.png\" width=\"600\" />\n",
    "\n",
    "* Polynomial Interpolation: ONE unique $n^{th}$ order polynomial passes through n points.\n",
    "  * Newton’s Divided Difference Interpolating Polynomials\n",
    "  * Lagrange Interpolating Polynomials\n",
    "\n",
    "* Spline Interpolation: Pass different curves (mostly 3rd order - cubic) through different subsets of the data points.\n"
   ]
  },
  {
   "cell_type": "markdown",
   "metadata": {},
   "source": [
    "## Spline - Piecewise interpolation (Linear, Quadratic, Cubic)\n",
    "* why is it called spline: spline is a thin flexible stripe of wood, hard rubber, metal or plastic that is used to connect ends of elements or bend on support points (used in architecture long time ago to make smooth curves):\n",
    "\n",
    "\n",
    "<img src=\"imgs/spline_wood2.png\" height=\"600\" />\n",
    "\n",
    "\n",
    "* in case of Lagrange interpolation the degree of the interpolating polynomial is directly linked to the number of data points!!! \n",
    "\n",
    "  * if we have n points we can make (n-1) order Lagrange polynomial\n",
    "  \n",
    "* the difference between other previous interpolaton methods: in spline interpolation instead of finding a single polynomial that fits the given data, we find one low-degree polynomial that fits every $\\color{red}{\\text{pair of data}}$ (pair of data - thats why is also called ***piecewise interpolation** - interpolate \"piece by piece\")\n",
    "\n",
    "* in other words each pair of data is a new polynomial\n"
   ]
  },
  {
   "cell_type": "code",
   "execution_count": 1,
   "metadata": {},
   "outputs": [
    {
     "data": {
      "image/png": "[encoded data removed]",
      "text/plain": [
       "<Figure size 432x288 with 1 Axes>"
      ]
     },
     "metadata": {
      "needs_background": "light"
     },
     "output_type": "display_data"
    }
   ],
   "source": [
    "# Lets look at three points\n",
    "import numpy as np\n",
    "import matplotlib.pyplot as plt\n",
    "x=np.array([2,5,7])\n",
    "y=np.array([3,7,5])\n",
    "fig, ax = plt.subplots(1,1)\n",
    "ax.scatter(x,y,c='blue',s=50)\n",
    "ax.grid()"
   ]
  },
  {
   "cell_type": "markdown",
   "metadata": {},
   "source": [
    "# Linear Spline"
   ]
  },
  {
   "cell_type": "markdown",
   "metadata": {},
   "source": [
    "<img src=\"imgs/linear_spline.png\" width=\"300\" />"
   ]
  },
  {
   "cell_type": "markdown",
   "metadata": {},
   "source": [
    "* Two straight (linear) pieces \n",
    "   * $x=(x_{i-1},x_i,x_{i+1})=(2,5,7)$\n",
    "   * $y=(y_{i-1},y_i,y_{i+1})= (3,7,5)$\n",
    "   \n",
    "   \n",
    "   \n",
    "\n",
    "$$P (x) = ax + b $$\n",
    "$$Q (x) = cx + d $$\n",
    "    \n",
    "We can find the coefficients a, b, c, d by solving\n",
    "\n",
    "$$P (x_{i−1} ) = y_{i−1}$$\n",
    "$$P (x_i ) = y_i$$\n",
    "$$Q(x_i ) = y_i$$\n",
    "$$Q(x_{i+1} ) = y_{i+1}$$\n",
    "\n",
    "which is a system of four equations and four unknowns. \n",
    "\n",
    "$$2a+b=3$$\n",
    "$$5a+b=7$$\n",
    "\n",
    "$$5c+d=7$$\n",
    "$$7c+d=5$$\n"
   ]
  },
  {
   "cell_type": "markdown",
   "metadata": {},
   "source": [
    "* we have not done yet python for system of linear equations so\n",
    "* for quick math solutions one could use:\n",
    "https://www.wolframalpha.com"
   ]
  },
  {
   "cell_type": "code",
   "execution_count": 2,
   "metadata": {},
   "outputs": [
    {
     "data": {
      "image/png": "[encoded data removed]",
      "text/plain": [
       "<Figure size 432x288 with 1 Axes>"
      ]
     },
     "metadata": {
      "needs_background": "light"
     },
     "output_type": "display_data"
    }
   ],
   "source": [
    "# Lets look at three points\n",
    "import numpy as np\n",
    "import matplotlib.pyplot as plt\n",
    "x=np.array([2,5,7])\n",
    "y=np.array([3,7,5])\n",
    "\n",
    "x_P_lin=np.linspace(2,5,10)\n",
    "y_P_lin=4/3*x_P_lin+1/3\n",
    "\n",
    "x_Q_lin=np.linspace(5,7,10)\n",
    "y_Q_lin=-1*x_Q_lin+12\n",
    "\n",
    "fig, ax = plt.subplots(1,1)\n",
    "ax.scatter(x,y,c='blue',s=50)\n",
    "ax.plot(x_P_lin,y_P_lin,'-r')\n",
    "ax.plot(x_Q_lin,y_Q_lin,'-g')\n",
    "\n",
    "ax.grid()\n"
   ]
  },
  {
   "cell_type": "markdown",
   "metadata": {},
   "source": [
    "# Cuadratic Spline"
   ]
  },
  {
   "cell_type": "markdown",
   "metadata": {},
   "source": [
    "One disadvantage of linear spline interpolation is the lack of smoothness. The first derivative of the spline is not continuous at the nodes (unless the data fall on a line). We can obtain better\n",
    "smoothness by increasing the degree of the piecewise polynomials. In quadratic spline interpolation, we connect the nodes via second degree polynomials."
   ]
  },
  {
   "cell_type": "markdown",
   "metadata": {},
   "source": [
    "<img src=\"imgs/quadratic_spline.png\" width=\"300\" />\n",
    "\n",
    "Again we search for two polynomials but this time second order:\n",
    "* $P(x) = a_0 + a_1x + a_2 x^2$ \n",
    "* $Q(x) = b_0 + b_1 x + b_2 x^2$. \n",
    "\n",
    "There are six unknowns to determine, but only four equations from the interpolation conditions: \n",
    "\n",
    "$$P (x_{i−1} ) = y_{i−1}$$\n",
    "$$P (x_i ) = y_i$$\n",
    "$$Q(x_i ) = y_i$$\n",
    "$$Q(x_{i+1} ) = y_{i+1}$$\n",
    "\n",
    "We can find extra two conditions by requiring some smoothness, \n",
    "$$P'(x_i) = Q'(x_i) $$\n",
    "\n",
    "and another equation by requiring $P'$ or $Q'$ take a certain value at one of the end points.\n"
   ]
  },
  {
   "cell_type": "markdown",
   "metadata": {},
   "source": [
    "# CUBIC SPLINE \n",
    "This is the most common spline interpolation!"
   ]
  },
  {
   "cell_type": "markdown",
   "metadata": {},
   "source": [
    "<img src=\"imgs/cubic_spline.png\" width=\"400\" />"
   ]
  },
  {
   "cell_type": "markdown",
   "metadata": {},
   "source": [
    "* very often we want the points to connect in the most smooth way. \n",
    "* spline can use the condition of smooth continuity (smooth transition) at each point and get the best interpolation\n",
    "* linear piecewise elements are continuous but not differentiable (because of the sharp angles)\n",
    "* mathematically smooth means that at each point the first and second derivatives match\n",
    "* cubic makes the connection with the points \"more smooth\" \n",
    "* so we are left with two choices: quadratic and cubic - \n",
    "* cubic polynomial better satisfies the smoothness for the first and second derivative\n",
    "* one can imagine two rods pointing in the same direction - one can connect them smoothly only with at least third degree polynomial "
   ]
  },
  {
   "cell_type": "code",
   "execution_count": 3,
   "metadata": {},
   "outputs": [
    {
     "data": {
      "text/plain": [
       "(2.0, 20.0)"
      ]
     },
     "execution_count": 3,
     "metadata": {},
     "output_type": "execute_result"
    },
    {
     "data": {
      "image/png": "[encoded data removed]",
      "text/plain": [
       "<Figure size 432x288 with 1 Axes>"
      ]
     },
     "metadata": {
      "needs_background": "light"
     },
     "output_type": "display_data"
    }
   ],
   "source": [
    "import matplotlib.pyplot as plt\n",
    "import numpy as np\n",
    "x1=np.linspace(1,10,10)\n",
    "y1=np.linspace(2,2,10)\n",
    "\n",
    "x2=np.linspace(1,10,10)\n",
    "y2=np.linspace(4,4,10)\n",
    "\n",
    "fig,ax=plt.subplots(1,1)\n",
    "ax.plot(x1,y1,'-k',lw=10,label='rods to be connected')\n",
    "ax.plot(x2,y2,'-k',lw=10)\n",
    "ax.legend()\n",
    "ax.set_ylim(0,6)\n",
    "ax.set_xlim(2,20)"
   ]
  },
  {
   "cell_type": "markdown",
   "metadata": {},
   "source": [
    "## Example of manual calculation of two polynomials for Cubic Spline interpolation"
   ]
  },
  {
   "cell_type": "markdown",
   "metadata": {},
   "source": [
    "### Lets choose some three points (different than previously)"
   ]
  },
  {
   "cell_type": "markdown",
   "metadata": {},
   "source": [
    "Let say the points are: \n",
    "\n",
    "$(x_1 = 0, y_1 = 0)$ \n",
    "\n",
    "$(x_2 = 1, y_2 = 1)$ \n",
    "\n",
    "$(x_3 = 2, y_3 = 0) $"
   ]
  },
  {
   "cell_type": "code",
   "execution_count": 4,
   "metadata": {},
   "outputs": [
    {
     "data": {
      "text/plain": [
       "<matplotlib.collections.PathCollection at 0x7f6119213a90>"
      ]
     },
     "execution_count": 4,
     "metadata": {},
     "output_type": "execute_result"
    },
    {
     "data": {
      "image/png": "[encoded data removed]",
      "text/plain": [
       "<Figure size 432x288 with 1 Axes>"
      ]
     },
     "metadata": {
      "needs_background": "light"
     },
     "output_type": "display_data"
    }
   ],
   "source": [
    "import numpy as np\n",
    "import matplotlib.pyplot as plt\n",
    "x=np.array([0,1,2])\n",
    "y=np.array([0,1,0])\n",
    "fig, axes = plt.subplots(1,1)\n",
    "axes.scatter(x,y,c='blue',s=50)"
   ]
  },
  {
   "cell_type": "markdown",
   "metadata": {},
   "source": [
    "\n",
    "\n",
    "The general third order polynomials are:\n",
    "$$ S_0(x) = a_0 + b_0x + c_0x^2 + d_0x^3 $$\n",
    "$$ S_1(x) = a_1 + b_1x + c_1x^2 + d_1x^3 $$\n",
    "\n",
    "We have here 8 variables to find $a_0... d_1$, but we already know some things about those equations.\n",
    "\n",
    "The interpolation equations are:\n",
    "$$ S_0(0) = 0 \\rightarrow a_0 = 0 $$\n",
    "\n",
    "$$ S_0(1) = 1 \\rightarrow a_0 + b_0 + c_0 + d_0 = 1 $$\n",
    "$$ S_1(1) = 1 \\rightarrow a_1 + b_1 + c1 + d1 = 1 $$\n",
    "$$ S_1(2) = 0 \\rightarrow a_1 + 2b_1 + 4c_1 + 8d_1 = 0 $$\n",
    "\n",
    "\n",
    "\n",
    "We need derivative for other four equations:\n",
    "\n",
    "\n",
    "$$S'_0(x) = b_0 + 2c_0 x + 3d_0x^2$$\n",
    "$$S'_1(x) = b_1 + 2c_1 x + 3d_1x^2$$\n",
    "$$S''_0(x) = 2c_0 + 6d_0 x$$\n",
    "$$S''_1(x) = 2c_1 + 6d_1 x$$\n",
    "\n",
    "then smoothness conditions (***mathematically*** smoothness means that the first and second derivatives at the point of joining the two polynomials must be equal):\n",
    "\n",
    "$$ S'_0(1) = S'_1(1)     \\rightarrow  b_0 + 2c_0 + 3d_0 = b_1 + 2c_1 + 3d_1 $$\n",
    "$$ S''_0 (1) = S''_1 (1) \\rightarrow 2 c_0 + 6d_0 = 2c_1 + 6d_1 $$\n",
    "\n",
    "And the boundary condition (boundary means that the second derivatives at the end point of each of the two polynomials must be zero) :\n",
    "$$ S''_0 (0) = 0 \\rightarrow 2 c_0 = 0 $$\n",
    "$$ S''_1 (2) = 0 \\rightarrow 2 c_1 + 12d_1 = 0 $$\n",
    "\n",
    "\n",
    "There are eight equations and eight unknowns. However, a0 = c0 = 0, so that reduces the number of equations and unknowns to six. We rewrite the equations below, substituting a0 = c0 = 0, and simplifying when possible:\n",
    "\n",
    "\n",
    "$$ b_0 + d_0 = 1 $$\n",
    "$$ a_1 + b_1 + c_1 + d_1 = 1 $$\n",
    "$$ a_1 + 2b_1 + 4c_1 + 8d_1 = 0 $$\n",
    "$$ b_0 + 3d_0 -b1 + 2c_1 + 3d_1 = 0  $$\n",
    "$$ 3d_0 -c_1 + 3d_1 = 0  $$\n",
    "$$ c_1 + 6d_1 = 0 $$ \n",
    "\n",
    "* that can be simply solved using linear algebra methods:\n",
    "\n",
    "$$ Ax = v $$ \n",
    "\n",
    "with: np.linalg.solve(A, v) # which we will do in next classes\n",
    "\n",
    "\n",
    "$$ S_0(x) = 1.5x  - 0.5x^3 $$ \n",
    "$$ S_1(x) =  - 1 + 4.5x  -3x^2 + 0.5x^3 $$ "
   ]
  },
  {
   "cell_type": "code",
   "execution_count": 5,
   "metadata": {},
   "outputs": [
    {
     "data": {
      "image/png": "[encoded data removed]",
      "text/plain": [
       "<Figure size 432x288 with 1 Axes>"
      ]
     },
     "metadata": {
      "needs_background": "light"
     },
     "output_type": "display_data"
    }
   ],
   "source": [
    "import numpy as np\n",
    "import matplotlib.pyplot as plt\n",
    "x=np.array([0,1,2])\n",
    "y=np.array([0,1,0])\n",
    "\n",
    "xs1=np.linspace(0,1,100)\n",
    "xs2=np.linspace(1,2,100)\n",
    "\n",
    "S0 = 1.5*xs1 - 0.5*xs1**3.0\n",
    "S1 = -1.0 + 4.5*xs2 - 3*xs2**2.0 + 0.5*xs2**3.0\n",
    "fig, axes = plt.subplots(1,1)\n",
    "axes.scatter(x,y,c='blue',s=40)\n",
    "axes.plot(xs1,S0,label='polynomial S1')\n",
    "axes.plot(xs2,S1,label='polynomial S2')\n",
    "axes.legend()\n",
    "axes.set_xlabel('x')\n",
    "axes.set_ylabel('y')\n",
    "plt.show()\n"
   ]
  },
  {
   "cell_type": "markdown",
   "metadata": {},
   "source": [
    "### Numerical example using scipy build in functions\n",
    "* scipy.interpolate.interp1d uses ***spline*** for different order:\n",
    "\n",
    "https://docs.scipy.org/doc/scipy/reference/generated/scipy.interpolate.interp1d.html"
   ]
  },
  {
   "cell_type": "code",
   "execution_count": 6,
   "metadata": {},
   "outputs": [
    {
     "data": {
      "text/plain": [
       "<matplotlib.legend.Legend at 0x7f610a857518>"
      ]
     },
     "execution_count": 6,
     "metadata": {},
     "output_type": "execute_result"
    },
    {
     "data": {
      "image/png": "[encoded data removed]",
      "text/plain": [
       "<Figure size 432x288 with 1 Axes>"
      ]
     },
     "metadata": {
      "needs_background": "light"
     },
     "output_type": "display_data"
    }
   ],
   "source": [
    "from scipy.interpolate import interp1d\n",
    "import matplotlib.pyplot as plt\n",
    "\n",
    "x = np.array([0,1,2,3,4,5,6,7,8,9,10],dtype='float')\n",
    "y = np.cos(-x**2/9.0)\n",
    "fig,ax=plt.subplots(1,1)\n",
    "ax.scatter(x, np.cos(-x**2/9.0), label=\"data\")\n",
    "\n",
    "ax.legend()\n"
   ]
  },
  {
   "cell_type": "code",
   "execution_count": 7,
   "metadata": {},
   "outputs": [
    {
     "data": {
      "image/png": "[encoded data removed]",
      "text/plain": [
       "<Figure size 432x288 with 1 Axes>"
      ]
     },
     "metadata": {
      "needs_background": "light"
     },
     "output_type": "display_data"
    }
   ],
   "source": [
    "from scipy.interpolate import interp1d\n",
    "import matplotlib.pyplot as plt\n",
    "\n",
    "x = np.array([0,1,2,3,4,5,6,7,8,9,10],dtype='float')\n",
    "#y = np.sin(x)\n",
    "y = np.cos(-x**2/9.0)\n",
    "\n",
    "# this class returns a function:\n",
    "\n",
    "fspline1 = interp1d(x, y, kind='linear')\n",
    "fspline2 = interp1d(x, y, kind='quadratic')\n",
    "fspline3 = interp1d(x, y, kind='cubic')\n",
    "\n",
    "# make new intermediate points\n",
    "xdata = np.linspace(0, 10, 100)\n",
    "\n",
    "fig, ax = plt.subplots(1,1)\n",
    "ax.scatter(x, np.cos(-x**2/9.0), label=\"data\")\n",
    "\n",
    "# evaluate the function at the new points\n",
    "ax.plot(xdata, fspline1(xdata), label='linear')\n",
    "ax.plot(xdata, fspline2(xdata), label='quadratic')\n",
    "ax.plot(xdata, fspline3(xdata), label='cubic')\n",
    "\n",
    "ax.legend()\n",
    "plt.show()"
   ]
  },
  {
   "cell_type": "markdown",
   "metadata": {},
   "source": [
    "### Using scipy.interpolate.interp1d is so simple that is almost boring,\n",
    "but there are some more interesting applications (coming soon!)\n",
    "* which we will do on Friday\n",
    "* also on Friday the last type of interpolation: Hermite Interpolation\n",
    "* plus more interesting homework"
   ]
  },
  {
   "cell_type": "code",
   "execution_count": null,
   "metadata": {},
   "outputs": [],
   "source": []
  },
  {
   "cell_type": "code",
   "execution_count": null,
   "metadata": {},
   "outputs": [],
   "source": []
  },
  {
   "cell_type": "code",
   "execution_count": null,
   "metadata": {},
   "outputs": [],
   "source": []
  },
  {
   "cell_type": "code",
   "execution_count": null,
   "metadata": {},
   "outputs": [],
   "source": []
  },
  {
   "cell_type": "code",
   "execution_count": null,
   "metadata": {},
   "outputs": [],
   "source": []
  },
  {
   "cell_type": "code",
   "execution_count": null,
   "metadata": {},
   "outputs": [],
   "source": []
  },
  {
   "cell_type": "code",
   "execution_count": 8,
   "metadata": {},
   "outputs": [
    {
     "data": {
      "text/plain": [
       "<matplotlib.legend.Legend at 0x7f610a82aef0>"
      ]
     },
     "execution_count": 8,
     "metadata": {},
     "output_type": "execute_result"
    },
    {
     "data": {
      "image/png": "[encoded data removed]",
      "text/plain": [
       "<Figure size 432x288 with 1 Axes>"
      ]
     },
     "metadata": {
      "needs_background": "light"
     },
     "output_type": "display_data"
    }
   ],
   "source": [
    "x = np.linspace(0, 0.5, 11)\n",
    "A, nu, k = 10, 4, 2\n",
    "y = A * np.exp(-k*x) * np.cos(2*np.pi * nu * x)\n",
    "\n",
    "xdata = np.linspace(0, 0.5, 100)\n",
    "ydata = A * np.exp(-k*xdata) * np.cos(2*np.pi * nu * xdata)\n",
    "\n",
    "# h\n",
    "spline1 = interp1d(x, y, kind='linear')\n",
    "spline2 = interp1d(x, y, kind='quadratic')\n",
    "spline3 = interp1d(x, y, kind='cubic')\n",
    "\n",
    "\n",
    "fig, ax = plt.subplots(1,1)\n",
    "ax.scatter(x,y,c='blue',s=40)\n",
    "\n",
    "ax.plot(xdata, spline1(xdata), label='linear')\n",
    "ax.plot(xdata, spline2(xdata), label='quadratic')\n",
    "ax.plot(xdata, spline3(xdata), label='cubic')\n",
    "\n",
    "ax.legend()\n"
   ]
  },
  {
   "cell_type": "code",
   "execution_count": null,
   "metadata": {},
   "outputs": [],
   "source": []
  }
 ],
 "metadata": {
  "colab": {
   "name": "interpolation_details.ipynb",
   "provenance": []
  },
  "kernelspec": {
   "display_name": "Python 3",
   "language": "python",
   "name": "python3"
  },
  "language_info": {
   "codemirror_mode": {
    "name": "ipython",
    "version": 3
   },
   "file_extension": ".py",
   "mimetype": "text/x-python",
   "name": "python",
   "nbconvert_exporter": "python",
   "pygments_lexer": "ipython3",
   "version": "3.7.2"
  },
  "toc": {
   "colors": {
    "hover_highlight": "#DAA520",
    "running_highlight": "#FF0000",
    "selected_highlight": "#FFD700"
   },
   "moveMenuLeft": true,
   "nav_menu": {
    "height": "341px",
    "width": "252px"
   },
   "navigate_menu": true,
   "number_sections": true,
   "sideBar": true,
   "threshold": 4,
   "toc_cell": false,
   "toc_section_display": "block",
   "toc_window_display": false
  }
 },
 "nbformat": 4,
 "nbformat_minor": 1
}
