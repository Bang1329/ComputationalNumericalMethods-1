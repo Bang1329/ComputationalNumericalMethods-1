{
 "cells": [
  {
   "cell_type": "markdown",
   "id": "human-paint",
   "metadata": {},
   "source": [
    "# Homework 05"
   ]
  },
  {
   "cell_type": "markdown",
   "id": "equivalent-australian",
   "metadata": {},
   "source": [
    "### Task 1\n",
    "\n",
    "Write your own Simpson method to numerically calculate integral \n",
    "\n",
    "`my_simps(some_func,a,b,n)`\n",
    "* some_func\n",
    "* a: left limit \n",
    "* b: right limit\n",
    "* n: number of segments\n",
    "for example:\n",
    "\n",
    "#### for any a,b,n, func"
   ]
  },
  {
   "cell_type": "markdown",
   "id": "ultimate-traveler",
   "metadata": {},
   "source": [
    "### example"
   ]
  },
  {
   "cell_type": "code",
   "execution_count": 28,
   "id": "frozen-microwave",
   "metadata": {},
   "outputs": [],
   "source": [
    "import numpy as np\n",
    "def some_func(x):\n",
    "    return np.exp(x)"
   ]
  },
  {
   "cell_type": "code",
   "execution_count": 29,
   "id": "recognized-footwear",
   "metadata": {},
   "outputs": [],
   "source": [
    "a=1.5\n",
    "b=2.5\n",
    "n=4"
   ]
  },
  {
   "cell_type": "code",
   "execution_count": 30,
   "id": "unavailable-fluid",
   "metadata": {},
   "outputs": [],
   "source": [
    "def my_simps(some_func,a,b,n):\n",
    "    #  your code here\n",
    "    I=7.7#...\n",
    "    return I"
   ]
  },
  {
   "cell_type": "code",
   "execution_count": 31,
   "id": "stock-smart",
   "metadata": {},
   "outputs": [
    {
     "name": "stdout",
     "output_type": "stream",
     "text": [
      "7.7\n"
     ]
    }
   ],
   "source": [
    "I=my_simps(some_func,a,b,n)\n",
    "print(I)"
   ]
  },
  {
   "cell_type": "markdown",
   "id": "recovered-modern",
   "metadata": {},
   "source": [
    "### Task 2\n",
    "\n",
    "Solve the following integral numerically\n",
    "\n",
    "$$I = \\int_{1}^{9} \\frac{b x^2 + x^2 \\sqrt(x) - 1}{x^2} dx$$\n",
    "\n",
    "Initially b=2\n",
    "\n",
    "Then make a plot for $I$ vs 10 different values of b=[0,1,2,3,4,5,6,7,8,9] "
   ]
  },
  {
   "cell_type": "code",
   "execution_count": null,
   "id": "verified-johnston",
   "metadata": {},
   "outputs": [],
   "source": []
  },
  {
   "cell_type": "code",
   "execution_count": null,
   "id": "adopted-morrison",
   "metadata": {},
   "outputs": [],
   "source": []
  }
 ],
 "metadata": {
  "kernelspec": {
   "display_name": "Python 3",
   "language": "python",
   "name": "python3"
  },
  "language_info": {
   "codemirror_mode": {
    "name": "ipython",
    "version": 3
   },
   "file_extension": ".py",
   "mimetype": "text/x-python",
   "name": "python",
   "nbconvert_exporter": "python",
   "pygments_lexer": "ipython3",
   "version": "3.7.2"
  }
 },
 "nbformat": 4,
 "nbformat_minor": 5
}
