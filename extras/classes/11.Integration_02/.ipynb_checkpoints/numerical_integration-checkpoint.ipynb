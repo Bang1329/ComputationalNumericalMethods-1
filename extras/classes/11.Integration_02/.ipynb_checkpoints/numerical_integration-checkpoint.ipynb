{
 "cells": [
  {
   "cell_type": "markdown",
   "id": "rotary-berry",
   "metadata": {},
   "source": []
  },
  {
   "cell_type": "markdown",
   "id": "supposed-stations",
   "metadata": {},
   "source": [
    "### NUMERICAL INTEGRATION II"
   ]
  },
  {
   "cell_type": "markdown",
   "id": "buried-lodge",
   "metadata": {},
   "source": [
    "### Using 2st order Lagrange polynomial: Simpson 1/3 approximation\n",
    "(3/8 we didnt derive)\n",
    "* we can follow exactly the same steps as for the derivation of the trapezoid formula but instead of n=1, we substitute n=2: \n",
    "\n",
    "* we can see that the curve approximating between two points is not straingt but parabolic \n",
    "\n",
    "<img src=\"imgs/simpson.png\" width=\"300\" />\n",
    "\n",
    "$$ I = \\frac{h}{3}[f(x_0)+ 4 f(x_1) + f(x_2)] - \\frac{h^5}{90} f''''(\\zeta)$$\n",
    "\n",
    "*Simpson 1/3 approximation uses three points and can integrate second order polynomials exactly\n",
    "\n",
    "h=0.01"
   ]
  },
  {
   "cell_type": "markdown",
   "id": "great-portland",
   "metadata": {},
   "source": [
    "### Multiple application of the Simpson 1/3 formula\n",
    "\n",
    "<img src=\"imgs/simpson_multiple.png\" width=\"300\" />\n",
    "\n",
    "$$I \\approx \\frac{h}{3} \\left[ f(x_0) + 4\\sum_{i=1,3,5}^{n-1} f(x_i) + 2\\sum_{i=2,4,6}^{n-1} f(x_i) + f(x_n)\\right]$$\n",
    "\n",
    "odd numbers =1,3,5,7,\n",
    "even numbers = 2,4,6,8\n"
   ]
  },
  {
   "cell_type": "markdown",
   "id": "involved-intermediate",
   "metadata": {},
   "source": [
    "## Note\n",
    "* ***Trapezoids's approximation uses two points and can integrate first order polynomials exactly***\n",
    "\n",
    "\n",
    "* ***Simpson's approximation uses three points and can integrate second order polynomials exactly***"
   ]
  },
  {
   "cell_type": "markdown",
   "id": "sorted-reasoning",
   "metadata": {},
   "source": [
    "### Example using Simpsons integration scheme"
   ]
  },
  {
   "cell_type": "markdown",
   "id": "express-party",
   "metadata": {},
   "source": [
    "Let say we want to calculate  the following $\\int_{0}^{\\pi}sin(x) dx$ using Simpsons rule dividing the integral by 4 segments."
   ]
  },
  {
   "cell_type": "markdown",
   "id": "lesser-story",
   "metadata": {},
   "source": [
    "* $n=4$\n",
    "* $h=\\frac{b-a}{n} = \\pi/4$\n",
    "* $x_0=0$\n",
    "* $x_1=\\pi/4$\n",
    "* $x_2=\\pi/2$\n",
    "* $x_3=3\\pi/4$\n",
    "* $x_4=\\pi$\n",
    "\n",
    "\n",
    "\n",
    "* the indices odd have factor $4$\n",
    "* the indices even have factor $2$\n",
    "* except the first and the last element"
   ]
  },
  {
   "cell_type": "markdown",
   "id": "placed-bonus",
   "metadata": {},
   "source": [
    "$$I\\approx  \\frac{h}{3} [ f(x_0) + 4 f(x_1) + 2f(x_2) +4f(x_3)+ f(x_4)]$$\n",
    "$$I\\approx  \\frac{\\pi}{4*3} [ sin(0) + 4 sin(\\pi/4) + 2 sin(\\pi/2) + 4f sin(3 \\pi/4)+ sin(\\pi)] =  2.004560$$\n",
    "* analytically I=2.0"
   ]
  },
  {
   "cell_type": "markdown",
   "id": "frozen-secret",
   "metadata": {},
   "source": [
    "### Comparison between Trapezoid and Simpson approximations:\n",
    "$\\int_0^2 f(x) dx$\n",
    "\n",
    "* Trapezoid: $ I \\approx f(0)+ f(2) $\n",
    "* Simpson: $ I \\approx \\frac{1}{3} [f(0)+ 4 f(1) + f(2)] $\n",
    "\n",
    "if $f(x)=x^2$\n",
    "\n",
    "* Trapezoid: $ \\int_0^2 x^2 dx \\approx 0^2+ 2^2 = 4 $\n",
    "* Simpson: $ \\int_0^2 x^2 dx \\approx \\frac{1}{3} [0^2 + 4 * 1^2 + 2^2] = \\frac{8}{3} = 2.666666666$\n",
    "\n",
    "<img src=\"imgs/trapezoid_simpson_comparison.png\" width=\"800\" />\n",
    "\n",
    "* QUESTION: WHY IS THE SIMPSON APPROXIMATION GIVING EXACTLY THE SAME RESULT AS ANALYTICAL?"
   ]
  },
  {
   "cell_type": "markdown",
   "id": "regulation-bradley",
   "metadata": {},
   "source": [
    "### Other methods than Trapezoid or Simpson\n",
    "There are far more sophisticated methods than Simpson or Trapezoid.\n",
    "One that is most commonly used in the sicpy library is called \"quad\" (quadrature $\\sim$ integral) and can be imported by: \n",
    "\n",
    "\n",
    "`import scipy.integrate  as  integrate `\n",
    "\n",
    "`I=integrate.quad(...)`\n",
    "\n",
    "\n",
    "\n",
    "The manual of the quad says: \"For finite integration limits, the integration is performed using a Clenshaw-Curtis method which uses Chebyshev moments. ... If one of the integration limits is infinite, then a Fourier integral is computed (assuming w neq 0).\"\n",
    "... \"quad is implementeed using a technique from the Fortran library QUADPACK.\" \\\n",
    "*rather complicated\n",
    "\n",
    "https://docs.scipy.org/doc/scipy/reference/reference/generated/scipy.integrate.quad.html#scipy.integrate.quad"
   ]
  },
  {
   "cell_type": "markdown",
   "id": "consecutive-retention",
   "metadata": {},
   "source": [
    "## Convenient numerical integration using python scipy package\n",
    "* in real life there are two different kind of problems we ca encounter\n",
    "\n",
    "    $\\rightarrow$ a) we have data (experimental) point x, y and we want to find the integral (area under the curve) !!! ***integrate.trapz(y,x)*** ***integrate.simps(y,x)***\n",
    "\n",
    "    $\\rightarrow$ b) we have the analytical form of the fuction: x, y and we want to find the integral (area under the curve) !!!\n",
    "***I,error = integrate.quad(integrand, lim1, lim2, args=(a,b))***\n",
    "\n",
    "\n",
    "***remember that the result of th numerical integral is a number*** "
   ]
  },
  {
   "cell_type": "markdown",
   "id": "relative-symphony",
   "metadata": {},
   "source": [
    "### a) Lets assume that we have a set of points (here w generate using np.sin but we can actually use any values)"
   ]
  },
  {
   "cell_type": "code",
   "execution_count": 9,
   "id": "arbitrary-mumbai",
   "metadata": {},
   "outputs": [],
   "source": [
    "#x=np.linspace(0,np.pi,10)\n",
    "#y = np.sin(x)\n",
    "#np.savetxt('xvec.txt', x)\n",
    "#np.savetxt('yvec.txt', y)"
   ]
  },
  {
   "cell_type": "code",
   "execution_count": 10,
   "id": "partial-harbor",
   "metadata": {},
   "outputs": [],
   "source": [
    "import numpy as np\n",
    "x=np.loadtxt('xvec.txt')\n",
    "y=np.loadtxt('yvec.txt')"
   ]
  },
  {
   "cell_type": "code",
   "execution_count": 11,
   "id": "alternate-flood",
   "metadata": {},
   "outputs": [
    {
     "data": {
      "text/plain": [
       "[<matplotlib.lines.Line2D at 0x7fb8dfb6cc18>]"
      ]
     },
     "execution_count": 11,
     "metadata": {},
     "output_type": "execute_result"
    },
    {
     "data": {
      "image/png": "[encoded data removed]",
      "text/plain": [
       "<Figure size 432x288 with 1 Axes>"
      ]
     },
     "metadata": {
      "needs_background": "light"
     },
     "output_type": "display_data"
    }
   ],
   "source": [
    "import matplotlib.pyplot as plt\n",
    "fig,ax=plt.subplots(1,1)\n",
    "ax.plot(x,y,'.k')"
   ]
  },
  {
   "cell_type": "code",
   "execution_count": 21,
   "id": "developing-oklahoma",
   "metadata": {},
   "outputs": [],
   "source": [
    "import scipy.integrate as integrate"
   ]
  },
  {
   "cell_type": "code",
   "execution_count": 22,
   "id": "blind-finance",
   "metadata": {},
   "outputs": [],
   "source": [
    "I_trapz=integrate.trapz(y,x)"
   ]
  },
  {
   "cell_type": "code",
   "execution_count": 23,
   "id": "assured-psychiatry",
   "metadata": {},
   "outputs": [
    {
     "name": "stdout",
     "output_type": "stream",
     "text": [
      "I trapezoid 1.9796508112164835\n"
     ]
    }
   ],
   "source": [
    "print('I trapezoid',I_trapz)"
   ]
  },
  {
   "cell_type": "code",
   "execution_count": 24,
   "id": "associate-turtle",
   "metadata": {},
   "outputs": [],
   "source": [
    "I_simps=integrate.simps(y,x)"
   ]
  },
  {
   "cell_type": "code",
   "execution_count": 26,
   "id": "ancient-april",
   "metadata": {},
   "outputs": [
    {
     "name": "stdout",
     "output_type": "stream",
     "text": [
      "I Simpson 1.9995487365804032\n"
     ]
    }
   ],
   "source": [
    "print('I Simpson',I_simps)"
   ]
  },
  {
   "cell_type": "markdown",
   "id": "bound-sacrifice",
   "metadata": {},
   "source": [
    "### b) Lets assume that we know the function:\n",
    "### Example 1."
   ]
  },
  {
   "cell_type": "code",
   "execution_count": 27,
   "id": "lesser-region",
   "metadata": {},
   "outputs": [],
   "source": [
    "def integrand(x):\n",
    "    return np.sin(x)"
   ]
  },
  {
   "cell_type": "code",
   "execution_count": 28,
   "id": "interior-ceremony",
   "metadata": {},
   "outputs": [],
   "source": [
    "import scipy.integrate as integrate"
   ]
  },
  {
   "cell_type": "code",
   "execution_count": 33,
   "id": "focused-community",
   "metadata": {},
   "outputs": [],
   "source": [
    "I_quad,error=integrate.quad(integrand,0,np.pi)"
   ]
  },
  {
   "cell_type": "code",
   "execution_count": 35,
   "id": "ceramic-shipping",
   "metadata": {},
   "outputs": [
    {
     "name": "stdout",
     "output_type": "stream",
     "text": [
      "I quad 2.0 +/- 2.220446049250313e-14\n"
     ]
    }
   ],
   "source": [
    "print('I quad',I_quad,'+/-',error)"
   ]
  },
  {
   "cell_type": "markdown",
   "id": "infinite-screen",
   "metadata": {},
   "source": [
    "### Example 2."
   ]
  },
  {
   "cell_type": "code",
   "execution_count": 60,
   "id": "front-wellington",
   "metadata": {},
   "outputs": [],
   "source": [
    "def integrand2(x,a,b,c,d):\n",
    "    return a*np.sin(x) + b + 20*c+0.1*d"
   ]
  },
  {
   "cell_type": "code",
   "execution_count": 61,
   "id": "toxic-trader",
   "metadata": {},
   "outputs": [],
   "source": [
    "a=10\n",
    "b=-3\n",
    "c=0.8\n",
    "d=33\n",
    "I_quad,error=integrate.quad(integrand2,0,np.pi,args=(a,b,c,d))"
   ]
  },
  {
   "cell_type": "code",
   "execution_count": 64,
   "id": "danish-sampling",
   "metadata": {},
   "outputs": [
    {
     "name": "stdout",
     "output_type": "stream",
     "text": [
      "I quad 71.20796025351362 +/- 1.6171920041284838e-13\n"
     ]
    }
   ],
   "source": [
    "print('I quad',I_quad,'+/-',error)"
   ]
  },
  {
   "cell_type": "code",
   "execution_count": 65,
   "id": "municipal-battlefield",
   "metadata": {},
   "outputs": [
    {
     "name": "stdout",
     "output_type": "stream",
     "text": [
      "[0, 1, 2, 3, 4]\n",
      "[2.0, 5.141592653589792, 8.283185307179586, 11.424777960769381, 14.56637061435917]\n"
     ]
    },
    {
     "data": {
      "image/png": "[encoded data removed]",
      "text/plain": [
       "<Figure size 432x288 with 1 Axes>"
      ]
     },
     "metadata": {
      "needs_background": "light"
     },
     "output_type": "display_data"
    }
   ],
   "source": [
    "## If we want to loop through arguments:\n",
    "a=1.0\n",
    "Is=[]\n",
    "bs=[0,1,2,3,4]\n",
    "for b in bs:\n",
    "    I,error = integrate.quad(integrand, 0, np.pi, args=(a,b))\n",
    "    Is.append(I)\n",
    "fig,ax = plt.subplots(1,1)\n",
    "ax.scatter(bs,Is)\n",
    "print(bs)\n",
    "print(Is)\n",
    "# thi"
   ]
  },
  {
   "cell_type": "code",
   "execution_count": null,
   "id": "rolled-transportation",
   "metadata": {},
   "outputs": [],
   "source": []
  },
  {
   "cell_type": "code",
   "execution_count": null,
   "id": "settled-tribune",
   "metadata": {},
   "outputs": [],
   "source": []
  },
  {
   "cell_type": "code",
   "execution_count": null,
   "id": "fiscal-diabetes",
   "metadata": {},
   "outputs": [],
   "source": []
  },
  {
   "cell_type": "markdown",
   "id": "representative-waters",
   "metadata": {},
   "source": [
    "### Example 2\n",
    "Solve numerically following integral\n",
    "\n",
    "$ I= \\int_{0}^{10}\\frac{300* x}{1 + e^x}$"
   ]
  },
  {
   "cell_type": "code",
   "execution_count": null,
   "id": "upset-albania",
   "metadata": {},
   "outputs": [],
   "source": []
  },
  {
   "cell_type": "markdown",
   "id": "later-arctic",
   "metadata": {},
   "source": [
    "### Example 3 \n",
    "\n",
    "Solve the following integral numerically\n",
    "\n",
    "$$I = \\int_{1}^{9} \\frac{b x^2 + x^2 \\sqrt(x) - 1}{x^2} dx$$\n",
    "\n",
    "Initially b=2\n",
    "\n",
    "Then make a plot for $I$ vs 10 different values of b=[0,1,2,3,4,5,6,7,8,9] "
   ]
  },
  {
   "cell_type": "code",
   "execution_count": null,
   "id": "raising-ocean",
   "metadata": {},
   "outputs": [],
   "source": []
  },
  {
   "cell_type": "code",
   "execution_count": null,
   "id": "graphic-patient",
   "metadata": {},
   "outputs": [],
   "source": []
  },
  {
   "cell_type": "code",
   "execution_count": null,
   "id": "electronic-encyclopedia",
   "metadata": {},
   "outputs": [],
   "source": []
  }
 ],
 "metadata": {
  "kernelspec": {
   "display_name": "Python 3",
   "language": "python",
   "name": "python3"
  },
  "language_info": {
   "codemirror_mode": {
    "name": "ipython",
    "version": 3
   },
   "file_extension": ".py",
   "mimetype": "text/x-python",
   "name": "python",
   "nbconvert_exporter": "python",
   "pygments_lexer": "ipython3",
   "version": "3.7.2"
  }
 },
 "nbformat": 4,
 "nbformat_minor": 5
}
