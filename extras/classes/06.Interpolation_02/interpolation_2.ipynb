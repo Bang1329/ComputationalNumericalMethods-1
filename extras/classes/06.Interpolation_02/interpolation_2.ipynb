{
 "cells": [
  {
   "cell_type": "markdown",
   "id": "sharp-toddler",
   "metadata": {},
   "source": [
    "# Polynomial Interpolation (cont.)\n",
    "* linear interpolation\n",
    "* cuadratic interpolation"
   ]
  },
  {
   "cell_type": "markdown",
   "id": "voluntary-given",
   "metadata": {},
   "source": [
    "## Linear Interpolation\n",
    "* Reminder: Polynomial Interpolation: ONE unique $n^{th}$ order polynomial passes through n points.\n",
    "\n",
    "* Given $(x_0,y_0)$ and $(x_1,y_1)$ a straight line passes through these points"
   ]
  },
  {
   "cell_type": "markdown",
   "id": "dressed-hypothetical",
   "metadata": {},
   "source": [
    "<img src=\"imgs/diff_divid.png\" width=\"400\" />"
   ]
  },
  {
   "cell_type": "markdown",
   "id": "useful-safety",
   "metadata": {},
   "source": [
    "The slope (tangent, inclination) is the same in both intervals so:\n",
    "if $x$ is the point at which we want to interpolate the function $f(x)$ \n",
    "\n",
    "$$\\frac{f(x)-f(x_0)}{x-x_0} = \\frac{f(x_1)-f(x_0)}{x_1-x_0}$$\n",
    "\n",
    "$$f(x)=f(x_0) + \\frac{f(x_1) - f(x_0)}{x_1-x_0} (x-x_0) $$\n",
    "\n",
    "And get the first order polynomial:\n",
    "\n",
    "$$f_1(x) = b_0 + b_1 (x-x_0)$$\n",
    "* where $b_0$ is the interception point an $b_1$ is the slope.\n"
   ]
  },
  {
   "cell_type": "code",
   "execution_count": 3,
   "id": "early-enhancement",
   "metadata": {},
   "outputs": [
    {
     "data": {
      "image/png": "[encoded data removed]",
      "text/plain": [
       "<Figure size 432x288 with 1 Axes>"
      ]
     },
     "metadata": {
      "needs_background": "light"
     },
     "output_type": "display_data"
    }
   ],
   "source": [
    "import numpy as np\n",
    "x=np.array([4,5])\n",
    "y=np.array([3,7])\n",
    "\n",
    "xint=np.linspace(2,7,10)\n",
    "yint=y[0]+((y[1]-y[0])/(x[1]-x[0]))*(xint-x[0])\n",
    "\n",
    "import matplotlib.pyplot as plt\n",
    "fig,ax=plt.subplots(1,1)\n",
    "ax.scatter(x,y,c='k',s=100)\n",
    "ax.plot(xint,yint,'.r')\n",
    "\n",
    "ax.set_xlabel('x')\n",
    "ax.set_ylabel('y')\n",
    "ax.grid(True)"
   ]
  },
  {
   "cell_type": "markdown",
   "id": "stainless-counter",
   "metadata": {},
   "source": [
    "## Cuadratic Interpolation (still polynomial interpolation)\n",
    "\n",
    "* Reminder: Polynomial Interpolation: ONE unique $n^{th}$ order polynomial passes through n points.\n",
    "\n",
    "* Given $(x_0,y_0)$, $(x_1,y_1)$ and $(x_2,y_2)$ a parabola passes through these points.\n",
    "\n",
    "\n",
    "<img src=\"imgs/cuadratic_interpolation.png\" width=\"300\" />\n",
    "\n",
    "Analogically to the first order polynomial, the second order polynomial can be written as (cuadratic polynomial formula):\n",
    "\n",
    "$$f_1(x) = b_0 + b_1 (x-x_0)$$\n",
    "\n",
    "$$f_2(x) = b_0 + b_1 (x-x_0)  + b_2 (x-x_0) (x-x_1) $$\n",
    "\n",
    "Lets find $b_0, b_1, b_2$ looking at the polynomial above and substituting the values:\n",
    "\n",
    "\n",
    "* $$ \\text{at} \\quad x=x_0 \\quad f_2(x)=f(x_0)=b_0$$\n",
    "\n",
    "$$ \\rightarrow b_0 = f(x_0)$$\n",
    "\n",
    "* $$ \\text{at} \\quad x=x_1 \\quad f_2(x)=f(x_1)=b_0+b_1(x_1-x_0)$$\n",
    "\n",
    "$$ \\rightarrow b_1 = \\frac{f(x_1)-f(x_0)}{x_1-x_0}$$\n",
    "\n",
    "* $$ \\text{at} \\quad x=x_2 \\quad f_2(x)=f(x_2)=b_0 + b_1 (x_2-x_0)  + b_2 (x_2-x_0) (x_2-x_1)$$\n",
    "\n",
    "$$\\rightarrow b_2 = \\frac{\\frac{f(x_2) - f(x_1)}{x_2 - x_1} - \\frac{f(x_1) - f(x_0)}{x_1 - x_0}}{x_2-x_0}$$"
   ]
  },
  {
   "cell_type": "markdown",
   "id": "human-garlic",
   "metadata": {},
   "source": [
    "#### Example 1:\n",
    "Interpolate log10(5) using linear interpolation with two points x=4 and x=6"
   ]
  },
  {
   "cell_type": "code",
   "execution_count": 4,
   "id": "significant-smile",
   "metadata": {},
   "outputs": [
    {
     "name": "stdout",
     "output_type": "stream",
     "text": [
      "0.3010299956639812\n",
      "0.7781512503836436\n"
     ]
    }
   ],
   "source": [
    "print(np.log10(2))\n",
    "print(np.log10(6))"
   ]
  },
  {
   "cell_type": "code",
   "execution_count": 1,
   "id": "sacred-pizza",
   "metadata": {},
   "outputs": [
    {
     "data": {
      "text/plain": [
       "<matplotlib.legend.Legend at 0x7f78b2d01f28>"
      ]
     },
     "execution_count": 1,
     "metadata": {},
     "output_type": "execute_result"
    },
    {
     "data": {
      "image/png": "[encoded data removed]",
      "text/plain": [
       "<Figure size 432x288 with 1 Axes>"
      ]
     },
     "metadata": {
      "needs_background": "light"
     },
     "output_type": "display_data"
    }
   ],
   "source": [
    "import numpy as np\n",
    "x=np.array([2,6])\n",
    "y=np.array([np.log10(2),np.log10(6)])\n",
    "\n",
    "import matplotlib.pyplot as plt\n",
    "fig,ax=plt.subplots(1,1)\n",
    "ax.plot(x,y,'.r',label='points')\n",
    "xlog=np.array([i for i in range(1,10)])\n",
    "ylog=np.array([np.log10(i) for i in range(1,10)])\n",
    "ax.plot(xlog,ylog,label='log10')\n",
    "ax.legend()"
   ]
  },
  {
   "cell_type": "code",
   "execution_count": 2,
   "id": "motivated-adams",
   "metadata": {},
   "outputs": [
    {
     "name": "stdout",
     "output_type": "stream",
     "text": [
      "interpolated value of log10(5): 0.66\n",
      "error:5.74%\n"
     ]
    }
   ],
   "source": [
    "import numpy as np\n",
    "x=np.array([2,6])\n",
    "y=np.array([np.log10(2),np.log10(6)])\n",
    "\n",
    "xint=5.0\n",
    "yint=y[0]+((y[1]-y[0])/(x[1]-x[0]))*(xint-x[0])\n",
    "\n",
    "print(f'interpolated value of log10(5): {yint:.2f}')\n",
    "print(f'error:{100*np.abs((yint-np.log10(5))/np.log10(5)):.2f}%')"
   ]
  },
  {
   "cell_type": "code",
   "execution_count": 17,
   "id": "beautiful-crawford",
   "metadata": {},
   "outputs": [
    {
     "data": {
      "text/plain": [
       "0.6989700043360189"
      ]
     },
     "execution_count": 17,
     "metadata": {},
     "output_type": "execute_result"
    }
   ],
   "source": [
    "np.log10(5)"
   ]
  },
  {
   "cell_type": "markdown",
   "id": "skilled-gates",
   "metadata": {},
   "source": [
    "#### Example 2:\n",
    "Interpolate log(5) using the points x=4.5 and x=5.5"
   ]
  },
  {
   "cell_type": "code",
   "execution_count": 7,
   "id": "diverse-ethnic",
   "metadata": {},
   "outputs": [
    {
     "name": "stdout",
     "output_type": "stream",
     "text": [
      "interpolated value of log10(5): 0.70\n",
      "error:0.31%\n"
     ]
    }
   ],
   "source": [
    "import numpy as np\n",
    "x=np.array([4.5,5.5])\n",
    "y=np.array([np.log10(4.5),np.log10(5.5)])\n",
    "\n",
    "xint=5.0\n",
    "yint=y[0]+((y[1]-y[0])/(x[1]-x[0]))*(xint-x[0])\n",
    "\n",
    "print(f'interpolated value of log10(5): {yint:.2f}')\n",
    "print(f'error:{100*np.abs((yint-np.log10(5))/np.log10(5)):.2f}%')"
   ]
  },
  {
   "cell_type": "markdown",
   "id": "characteristic-router",
   "metadata": {},
   "source": [
    "#### Conclusion: In the case when we want to approximate points that show nonlinear behaviour using linear approximation when we use two points the closer the points are the better is the approximation. "
   ]
  },
  {
   "cell_type": "markdown",
   "id": "revised-firewall",
   "metadata": {},
   "source": [
    "# Newton’s Divided Difference Interpolating Polynomials\n",
    "* We can generalize the linear and quadratic interpolation formulas for an n-th order polynomial passing through n+1 points\n"
   ]
  },
  {
   "cell_type": "markdown",
   "id": "possible-halifax",
   "metadata": {},
   "source": [
    "$$f_n(x) = b_0 + b_1 (x-x_0)  + b_2 (x-x_0) (x-x_1) + \\cdots +  b_n(x- x_0)(x - x_1) \\cdots (x - x_{n-1})$$\n",
    "\n",
    "where the constants are:\n",
    "\n",
    "* $b_0 = f(x_0)$\n",
    "* $b_1 = f [x_0, x_1]$\n",
    "* $b_2 = f [x_0, x_1, x_2]$\n",
    ". . .\n",
    "* $b_n = f [x_0, x_1,..., x_{n-1},x_n]$"
   ]
  },
  {
   "cell_type": "markdown",
   "id": "corresponding-contractor",
   "metadata": {},
   "source": [
    "$$b_0=f[x_i] = f(x_i) \\quad \\text{zeroth divided difference} $$\n",
    "\n",
    "$$b_1=f[x_i,x_{j}] = \\frac{f(x_{j}) - f(x_i)}{x_{j} - x_i} \\quad \\text{first divided difference} $$\n",
    "\n",
    "$$b_2=f[x_i,x_{j},x_{k}] = \\frac{f[x_{j},x_{i}] - f[x_k,x_{j}]}{x_{k}-x_i} \\quad \\text{second divided difference} $$\n",
    "\n",
    "$$b_n=f[x_0, x_1,..., x_{n-1},x_n] = \\frac{f[x_{n},x_{n-1},...,x_1] - f[x_{n-1},...,x_1,x_0]}{x_{n}-x_0}  \\quad \\text{n-th divided difference} $$"
   ]
  },
  {
   "cell_type": "markdown",
   "id": "direct-smart",
   "metadata": {},
   "source": [
    "Hence n-th order Newton’s Divided Difference Interpolating Polynomial is:\n",
    "\n",
    "$$f_n(x) = f(x_0) + (x - x_0) f[x_0, x_1] + (x - x_0)(x - x_1) f[x_0, x_1, x_2] +\\cdots+ (x - x_0)(x - x_1) \\cdots (x - x_{n-1}) f[x_0, x_1,..., x_{n-1},x_n]$$\n",
    " "
   ]
  },
  {
   "cell_type": "markdown",
   "id": "awful-harassment",
   "metadata": {},
   "source": [
    "So now we can rewrite:\n",
    "* linear interpolation:\n",
    "$$f(x) = f(x_0) + (x - x_0) f[x_0,x_1]$$\n",
    "$$f(x) = b_0 + (x - x_0) b_1$$\n",
    "\n",
    "* cubic interpolation:\n",
    "$$f(x) = f(x_0) + (x - x_0) f[x_0, x_1] + (x - x_0)(x - x_1) f[x_0, x_1, x_2]$$\n",
    "$$f(x) = b_0 + (x - x_0) b_1 + (x - x_0)(x - x_1) b_2$$"
   ]
  },
  {
   "cell_type": "code",
   "execution_count": 3,
   "id": "sudden-coalition",
   "metadata": {},
   "outputs": [
    {
     "name": "stdout",
     "output_type": "stream",
     "text": [
      "interpolated value of log10(5): 0.70\n",
      "error:0.31%\n"
     ]
    }
   ],
   "source": [
    "import numpy as np\n",
    "x=np.array([4.5,5.5])\n",
    "y=np.array([np.log10(4.5),np.log10(5.5)])\n",
    "\n",
    "xint=5.0\n",
    "\n",
    "b0=y[0]\n",
    "b1=((y[1]-y[0])/(x[1]-x[0]))\n",
    "yint=b0+b1*(xint-x[0])\n",
    "\n",
    "print(f'interpolated value of log10(5): {yint:.2f}')\n",
    "print(f'error:{100*np.abs((yint-np.log10(5))/np.log10(5)):.2f}%')"
   ]
  },
  {
   "cell_type": "code",
   "execution_count": 4,
   "id": "tight-liverpool",
   "metadata": {},
   "outputs": [
    {
     "data": {
      "text/plain": [
       "0.08715017571890016"
      ]
     },
     "execution_count": 4,
     "metadata": {},
     "output_type": "execute_result"
    }
   ],
   "source": [
    "b1"
   ]
  },
  {
   "cell_type": "markdown",
   "id": "civilian-edward",
   "metadata": {},
   "source": [
    "### Cuadratic approximation using recursive function (found in internet)"
   ]
  },
  {
   "cell_type": "code",
   "execution_count": 6,
   "id": "nonprofit-rendering",
   "metadata": {},
   "outputs": [],
   "source": [
    "# This formula calculates coefficients b0,b1,b2... \n",
    "# of the Newton divided differences\n",
    "# (recursive code)\n",
    "\n",
    "def b_coeffs(i,k,X,Y):\n",
    "    # i, k are the first and last INDEX of `x`\n",
    "    #If i+k>N\n",
    "    if i+k>=len(X):\n",
    "        return 0\n",
    "    #Zeroth divided difference\n",
    "    elif k == 0:\n",
    "        return Y[i]\n",
    "    #If higher divided difference\n",
    "    else:\n",
    "        return (b_coeffs(i+1, k-1, X, Y)-b_coeffs(i, k-1, X, Y))/(X[i+k]-X[i])"
   ]
  },
  {
   "cell_type": "code",
   "execution_count": 8,
   "id": "later-replacement",
   "metadata": {},
   "outputs": [
    {
     "data": {
      "text/plain": [
       "0"
      ]
     },
     "execution_count": 8,
     "metadata": {},
     "output_type": "execute_result"
    }
   ],
   "source": [
    "b_coeffs(0,2,x,y)"
   ]
  },
  {
   "cell_type": "markdown",
   "id": "excellent-luxembourg",
   "metadata": {},
   "source": [
    "i, k are the first and last INDEX of `x`\n",
    "for example:\n",
    "* $b_0 = f [x_0]$ so the first index of x is 0 and the last index is 0\n",
    "* $b_1 = f [x_0, x_1]$ so the first index of x is 0 and the last index is 1"
   ]
  },
  {
   "cell_type": "markdown",
   "id": "historical-baptist",
   "metadata": {},
   "source": [
    "## Full numerical realization can be found here (not-recursive)\n",
    "\n",
    "https://pythonnumericalmethods.berkeley.edu/notebooks/chapter17.05-Newtons-Polynomial-Interpolation.html"
   ]
  },
  {
   "cell_type": "markdown",
   "id": "respective-qatar",
   "metadata": {},
   "source": []
  },
  {
   "cell_type": "markdown",
   "id": "correct-bunch",
   "metadata": {},
   "source": [
    "# Lets make small changes to the homeworks and partial exams..."
   ]
  },
  {
   "cell_type": "markdown",
   "id": "injured-attraction",
   "metadata": {},
   "source": [
    "### Homework5 (testing new idea of ):\n",
    "* ***this is the right way to program - just making functions and classes and calling them***!!!\n",
    "\n",
    "\n",
    "\n",
    "* create notebook called: homework_5.ipynb (no spaces please)\n",
    "\n",
    "* inside write a function: `quadratic_interp(x,y,xinterp)`:\n",
    "\n",
    "`cuadratic_interp(x,y,xinterp)` accepts three elements (vector `x`, vector `y` and float `xinterp` to be interpolated) an returns `yinterp`  value of the interpolated point `xinterp`\n",
    "\n",
    "\n",
    "* ***similar problem will be in the next partial***!!!\n",
    "* ***remember the function must not print anything, just return a single value***!!!"
   ]
  },
  {
   "cell_type": "code",
   "execution_count": null,
   "id": "comic-dealing",
   "metadata": {},
   "outputs": [],
   "source": []
  }
 ],
 "metadata": {
  "kernelspec": {
   "display_name": "Python 3",
   "language": "python",
   "name": "python3"
  },
  "language_info": {
   "codemirror_mode": {
    "name": "ipython",
    "version": 3
   },
   "file_extension": ".py",
   "mimetype": "text/x-python",
   "name": "python",
   "nbconvert_exporter": "python",
   "pygments_lexer": "ipython3",
   "version": "3.7.2"
  }
 },
 "nbformat": 4,
 "nbformat_minor": 5
}
