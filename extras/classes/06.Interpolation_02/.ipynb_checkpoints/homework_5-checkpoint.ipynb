{
 "cells": [
  {
   "cell_type": "code",
   "execution_count": 1,
   "id": "contrary-sheet",
   "metadata": {},
   "outputs": [],
   "source": [
    "# homework 5\n",
    "# autor: Juanita"
   ]
  },
  {
   "cell_type": "code",
   "execution_count": 5,
   "id": "municipal-lender",
   "metadata": {},
   "outputs": [
    {
     "name": "stdout",
     "output_type": "stream",
     "text": [
      "Hello, this is Juanita's homework 5\n"
     ]
    }
   ],
   "source": [
    "print(\"Hello, this is Juanita's homework 5\")"
   ]
  },
  {
   "cell_type": "code",
   "execution_count": 2,
   "id": "lesser-wagon",
   "metadata": {},
   "outputs": [],
   "source": [
    "# This formula calculates coefficients b0,b1,b2... \n",
    "# of the Newton divided differences\n",
    "# (recursive code)\n",
    "\n",
    "def b_coeffs(i,k,X,Y):\n",
    "    # i, k are the first and last INDEX of `x`\n",
    "    #If i+k>N\n",
    "    if i+k>=len(X):\n",
    "        return 0\n",
    "    #Zeroth divided difference\n",
    "    elif k == 0:\n",
    "        return Y[i]\n",
    "    #If higher divided difference\n",
    "    else:\n",
    "        return (b_coeffs(i+1, k-1, X, Y)-b_coeffs(i, k-1, X, Y))/(X[i+k]-X[i])"
   ]
  },
  {
   "cell_type": "code",
   "execution_count": null,
   "id": "unlikely-gates",
   "metadata": {},
   "outputs": [],
   "source": []
  },
  {
   "cell_type": "code",
   "execution_count": 4,
   "id": "activated-plasma",
   "metadata": {},
   "outputs": [],
   "source": [
    "def cuadratic_interp(x,y,xinterp):\n",
    "    import numpy as np\n",
    "    # ..... codigo aqui\n",
    "    yinterp=0.69871\n",
    "    return yinterp"
   ]
  },
  {
   "cell_type": "code",
   "execution_count": null,
   "id": "wanted-evans",
   "metadata": {},
   "outputs": [],
   "source": []
  },
  {
   "cell_type": "code",
   "execution_count": null,
   "id": "controlled-warren",
   "metadata": {},
   "outputs": [],
   "source": []
  },
  {
   "cell_type": "code",
   "execution_count": null,
   "id": "organized-skill",
   "metadata": {},
   "outputs": [],
   "source": []
  },
  {
   "cell_type": "code",
   "execution_count": null,
   "id": "manufactured-surface",
   "metadata": {},
   "outputs": [],
   "source": [
    "import numpy as np\n",
    "import os\n",
    "import pandas as pd\n",
    "import matplotlib.pyplot as plt\n",
    "x=np.array([4,5,6])\n",
    "y=np.array([np.log10(4),np.log10(5),np.log10(6)])\n",
    "test_vals=np.arange(3,7,0.1)\n",
    "\n",
    "path='homework_05.ipynb'\n",
    "%run $path\n",
    "\n",
    "my_results=[]\n",
    "for val in test_vals:\n",
    "    result=cuadratic_interp(x,y,val)\n",
    "    my_results.append(result)\n",
    "fig,ax=plt.subplots(1,1)\n",
    "ax.plot(x,y,'.')\n",
    "ax.plot(test_vals,my_results) "
   ]
  }
 ],
 "metadata": {
  "kernelspec": {
   "display_name": "Python 3",
   "language": "python",
   "name": "python3"
  },
  "language_info": {
   "codemirror_mode": {
    "name": "ipython",
    "version": 3
   },
   "file_extension": ".py",
   "mimetype": "text/x-python",
   "name": "python",
   "nbconvert_exporter": "python",
   "pygments_lexer": "ipython3",
   "version": "3.7.2"
  }
 },
 "nbformat": 4,
 "nbformat_minor": 5
}
