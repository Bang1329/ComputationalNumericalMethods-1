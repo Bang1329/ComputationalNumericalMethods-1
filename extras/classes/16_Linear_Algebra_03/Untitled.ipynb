{
 "cells": [
  {
   "cell_type": "code",
   "execution_count": 24,
   "id": "retained-growing",
   "metadata": {},
   "outputs": [
    {
     "name": "stdout",
     "output_type": "stream",
     "text": [
      "[[ 0.0779661   0.06779661 -0.08135593]\n",
      " [-0.15254237  0.08474576 -0.10169492]\n",
      " [ 0.06101695 -0.03389831  0.24067797]]\n"
     ]
    }
   ],
   "source": [
    "import numpy as np\n",
    "A=np.array([[5,-4,0],[9,7,6],[0,2,5]])\n",
    "\n",
    "def eliminate(r1, r2, col, target=0):\n",
    "    fac = (r2[col]-target) / r1[col]\n",
    "    for i in range(len(r2)):\n",
    "        r2[i] -= fac * r1[i]\n",
    "\n",
    "def gauss(a):\n",
    "    for i in range(len(a)):\n",
    "        if a[i][i] == 0:\n",
    "            for j in range(i+1, len(a)):\n",
    "                if a[i][j] != 0:\n",
    "                    a[i], a[j] = a[j], a[i]\n",
    "                    break\n",
    "            else:\n",
    "                raise ValueError(\"La matriz no es invertible\")\n",
    "        for j in range(i+1, len(a)):\n",
    "            eliminate(a[i], a[j], i)\n",
    "    for i in range(len(a)-1, -1, -1):\n",
    "        for j in range(i-1, -1, -1):\n",
    "            eliminate(a[i], a[j], i)\n",
    "    for i in range(len(a)):\n",
    "        eliminate(a[i], a[i], i, target=1)\n",
    "    return a\n",
    "\n",
    "def inverse(a):\n",
    "    tmp = [[] for _ in a]\n",
    "    for i,row in enumerate(a):\n",
    "        assert len(row) == len(a)\n",
    "        tmp[i].extend(list(row) + [0]*i + [1] + [0]*(len(a)-i-1))\n",
    "    gauss(tmp)\n",
    "    ret = []\n",
    "    for i in range(len(tmp)):\n",
    "        ret.append(tmp[i][len(tmp[i])//2:])\n",
    "    return ret\n",
    "\n",
    "print(np.array(inverse(A)))"
   ]
  },
  {
   "cell_type": "code",
   "execution_count": 25,
   "id": "divided-payday",
   "metadata": {},
   "outputs": [
    {
     "data": {
      "text/plain": [
       "array([[ 0.0779661 ,  0.06779661, -0.08135593],\n",
       "       [-0.15254237,  0.08474576, -0.10169492],\n",
       "       [ 0.06101695, -0.03389831,  0.24067797]])"
      ]
     },
     "execution_count": 25,
     "metadata": {},
     "output_type": "execute_result"
    }
   ],
   "source": [
    "np.linalg.inv(A)"
   ]
  },
  {
   "cell_type": "code",
   "execution_count": null,
   "id": "supposed-spelling",
   "metadata": {},
   "outputs": [],
   "source": []
  }
 ],
 "metadata": {
  "kernelspec": {
   "display_name": "Python 3",
   "language": "python",
   "name": "python3"
  },
  "language_info": {
   "codemirror_mode": {
    "name": "ipython",
    "version": 3
   },
   "file_extension": ".py",
   "mimetype": "text/x-python",
   "name": "python",
   "nbconvert_exporter": "python",
   "pygments_lexer": "ipython3",
   "version": "3.7.2"
  }
 },
 "nbformat": 4,
 "nbformat_minor": 5
}
