{
 "cells": [
  {
   "cell_type": "markdown",
   "id": "empirical-longer",
   "metadata": {},
   "source": [
    "# What does root mean\n",
    "* if there is a function $f(x)= x^2-11$  \n",
    "* root means when $f(x)=0$ for which $x$ $f(x)=0$  \n",
    "* in other words if you have anything that is equal to zero find variables the    \n",
    "* $0=x^2-11$ and you find $x$ so the $RHS$ equals $LHS$  \n",
    "* in this example $x=\\sqrt(11)$"
   ]
  },
  {
   "cell_type": "markdown",
   "id": "delayed-compiler",
   "metadata": {},
   "source": [
    "<table><tr>\n",
    "<td> <img src=\"imgs/root_finding_1.png\" width=\"500\" /> </td>\n",
    "</tr></table>"
   ]
  },
  {
   "cell_type": "markdown",
   "id": "horizontal-charm",
   "metadata": {},
   "source": [
    "# Lets imagine we know the function or we can calculate the value of the funcion (not just points in csv file...)"
   ]
  },
  {
   "cell_type": "markdown",
   "id": "monthly-universe",
   "metadata": {},
   "source": [
    "<table><tr>\n",
    "<td> <img src=\"imgs/root_finding_2.png\" width=\"800\" /> </td>\n",
    "</tr></table>"
   ]
  },
  {
   "cell_type": "markdown",
   "id": "breeding-lyric",
   "metadata": {},
   "source": [
    "<table><tr>\n",
    "<td> <img src=\"imgs/root_finding_3.png\" width=\"600\" /> </td>\n",
    "</tr></table>"
   ]
  },
  {
   "cell_type": "markdown",
   "id": "ignored-magazine",
   "metadata": {},
   "source": [
    "## There are two most common methods\n",
    "* bisection method\n",
    "* Newton-Rapson"
   ]
  },
  {
   "cell_type": "markdown",
   "id": "bacterial-slovak",
   "metadata": {},
   "source": [
    "# Steps\n",
    "* visualize the function\n",
    "* choose the method\n",
    "* bracketing the function so it changes the values between the brackets\n",
    "* verify the results"
   ]
  },
  {
   "cell_type": "markdown",
   "id": "mediterranean-hypothetical",
   "metadata": {},
   "source": [
    "## Bisection method\n",
    "* reliable if good brackets\n",
    "* slow\n",
    "* may give oscillations around the root"
   ]
  },
  {
   "cell_type": "markdown",
   "id": "lonely-mentor",
   "metadata": {},
   "source": [
    "<table><tr>\n",
    "<td> <img src=\"imgs/root_finding_4.png\" width=\"600\" /> </td>\n",
    "</tr></table>"
   ]
  },
  {
   "cell_type": "markdown",
   "id": "promising-brave",
   "metadata": {},
   "source": [
    "<table><tr>\n",
    "<td> <img src=\"imgs/root_finding_5.png\" width=\"600\" /> </td>\n",
    "</tr></table>"
   ]
  },
  {
   "cell_type": "markdown",
   "id": "reliable-fortune",
   "metadata": {},
   "source": [
    "### important equations:\n",
    "* new point\n",
    "$$x_n = \\frac{(x_l+x_r)}{2}$$\n",
    "\n",
    "* tolerance is a value that we are willing to accept\n",
    "$$root = abs(f(\\frac{(x_l+x_r)}{2}))$$\n",
    "\n",
    "* if abs(f(x_n))<tol ##STOP\n",
    "* tol=0.01              \n",
    "* tol=0.001                            \n",
    "* tol=0.0001 ...                            "
   ]
  },
  {
   "cell_type": "code",
   "execution_count": 1,
   "id": "laughing-reputation",
   "metadata": {},
   "outputs": [],
   "source": [
    "import numpy as np\n",
    "import matplotlib.pyplot as plt"
   ]
  },
  {
   "cell_type": "code",
   "execution_count": 2,
   "id": "secret-jewel",
   "metadata": {},
   "outputs": [],
   "source": [
    "def f_cost(x):\n",
    "    return x**2-11"
   ]
  },
  {
   "cell_type": "code",
   "execution_count": 3,
   "id": "polyphonic-split",
   "metadata": {},
   "outputs": [
    {
     "data": {
      "text/plain": [
       "3.3166247903554"
      ]
     },
     "execution_count": 3,
     "metadata": {},
     "output_type": "execute_result"
    },
    {
     "data": {
      "image/png": "[encoded data removed]",
      "text/plain": [
       "<Figure size 432x288 with 1 Axes>"
      ]
     },
     "metadata": {
      "needs_background": "light"
     },
     "output_type": "display_data"
    }
   ],
   "source": [
    "x=np.linspace(-5,5,100)\n",
    "fig,ax = plt.subplots(1,1)\n",
    "ax.plot(x,f_cost(x))\n",
    "ax.grid('True')\n",
    "np.sqrt(11)"
   ]
  },
  {
   "cell_type": "code",
   "execution_count": 4,
   "id": "crazy-august",
   "metadata": {},
   "outputs": [],
   "source": [
    "xl=3\n",
    "xr=4"
   ]
  },
  {
   "cell_type": "code",
   "execution_count": 5,
   "id": "north-biology",
   "metadata": {},
   "outputs": [
    {
     "data": {
      "text/plain": [
       "-10"
      ]
     },
     "execution_count": 5,
     "metadata": {},
     "output_type": "execute_result"
    }
   ],
   "source": [
    "f_cost(xl)*f_cost(xr)"
   ]
  },
  {
   "cell_type": "code",
   "execution_count": 6,
   "id": "indian-linux",
   "metadata": {},
   "outputs": [
    {
     "name": "stdout",
     "output_type": "stream",
     "text": [
      "3.5\n"
     ]
    }
   ],
   "source": [
    "xn=(xl+xr)/2\n",
    "print(xn)"
   ]
  },
  {
   "cell_type": "code",
   "execution_count": 7,
   "id": "monetary-departure",
   "metadata": {},
   "outputs": [
    {
     "data": {
      "text/plain": [
       "-2.5"
      ]
     },
     "execution_count": 7,
     "metadata": {},
     "output_type": "execute_result"
    }
   ],
   "source": [
    "f_cost(xl)*f_cost(xn)"
   ]
  },
  {
   "cell_type": "code",
   "execution_count": 8,
   "id": "hazardous-filename",
   "metadata": {},
   "outputs": [],
   "source": [
    "xr=xn"
   ]
  },
  {
   "cell_type": "code",
   "execution_count": 9,
   "id": "twenty-uganda",
   "metadata": {},
   "outputs": [
    {
     "data": {
      "text/plain": [
       "0.4375"
      ]
     },
     "execution_count": 9,
     "metadata": {},
     "output_type": "execute_result"
    }
   ],
   "source": [
    "abs(f_cost((xl+xr)/2))"
   ]
  },
  {
   "cell_type": "code",
   "execution_count": 10,
   "id": "funded-importance",
   "metadata": {},
   "outputs": [
    {
     "name": "stdout",
     "output_type": "stream",
     "text": [
      "3.25\n"
     ]
    }
   ],
   "source": [
    "xn=(xl+xr)/2\n",
    "print(xn)"
   ]
  },
  {
   "cell_type": "code",
   "execution_count": 11,
   "id": "abroad-companion",
   "metadata": {},
   "outputs": [
    {
     "data": {
      "text/plain": [
       "0.875"
      ]
     },
     "execution_count": 11,
     "metadata": {},
     "output_type": "execute_result"
    }
   ],
   "source": [
    "f_cost(xl)*f_cost(xn)"
   ]
  },
  {
   "cell_type": "code",
   "execution_count": 12,
   "id": "amber-forestry",
   "metadata": {},
   "outputs": [],
   "source": [
    "xl=xn"
   ]
  },
  {
   "cell_type": "code",
   "execution_count": 13,
   "id": "existing-purse",
   "metadata": {},
   "outputs": [
    {
     "data": {
      "text/plain": [
       "0.390625"
      ]
     },
     "execution_count": 13,
     "metadata": {},
     "output_type": "execute_result"
    }
   ],
   "source": [
    "abs(f_cost((xl+xr)/2))"
   ]
  },
  {
   "cell_type": "code",
   "execution_count": 14,
   "id": "vocal-journalist",
   "metadata": {},
   "outputs": [
    {
     "name": "stdout",
     "output_type": "stream",
     "text": [
      "3.375\n"
     ]
    }
   ],
   "source": [
    "xn=(xl+xr)/2\n",
    "print(xn)"
   ]
  },
  {
   "cell_type": "code",
   "execution_count": 15,
   "id": "sharp-ready",
   "metadata": {},
   "outputs": [
    {
     "data": {
      "text/plain": [
       "-0.1708984375"
      ]
     },
     "execution_count": 15,
     "metadata": {},
     "output_type": "execute_result"
    }
   ],
   "source": [
    "f_cost(xl)*f_cost(xn)"
   ]
  },
  {
   "cell_type": "code",
   "execution_count": 16,
   "id": "organizational-electronics",
   "metadata": {},
   "outputs": [],
   "source": [
    "xr=xn"
   ]
  },
  {
   "cell_type": "code",
   "execution_count": 17,
   "id": "threaded-breach",
   "metadata": {},
   "outputs": [
    {
     "data": {
      "text/plain": [
       "0.02734375"
      ]
     },
     "execution_count": 17,
     "metadata": {},
     "output_type": "execute_result"
    }
   ],
   "source": [
    "abs(f_cost((xl+xr)/2))"
   ]
  },
  {
   "cell_type": "code",
   "execution_count": 18,
   "id": "dated-indiana",
   "metadata": {},
   "outputs": [],
   "source": [
    "tol=0.1"
   ]
  },
  {
   "cell_type": "code",
   "execution_count": null,
   "id": "optional-shoot",
   "metadata": {},
   "outputs": [],
   "source": []
  },
  {
   "cell_type": "code",
   "execution_count": null,
   "id": "interior-definition",
   "metadata": {},
   "outputs": [],
   "source": []
  },
  {
   "cell_type": "code",
   "execution_count": null,
   "id": "proof-norway",
   "metadata": {},
   "outputs": [],
   "source": []
  },
  {
   "cell_type": "code",
   "execution_count": null,
   "id": "reliable-anniversary",
   "metadata": {},
   "outputs": [],
   "source": []
  },
  {
   "cell_type": "markdown",
   "id": "liable-spice",
   "metadata": {},
   "source": [
    "## The  best loop would be a while loop but for is also OK\n",
    "* choose initial brackets\n",
    "* create empty list of results of xn\n",
    "* define tol=0.0001\n",
    "* make while loop which should continue as long as  abs(f_cost((xl+xr)/2)) > tol\n",
    "* calculate new point\n",
    "* check if the f_cost(xl)*f_cost(xn) is negative or positive...\n",
    "* replace xl or xr with xn depending on the previous result"
   ]
  },
  {
   "cell_type": "markdown",
   "id": "enabling-sherman",
   "metadata": {},
   "source": [
    "# if you plot the evolution of x_n you should see oscillations"
   ]
  },
  {
   "cell_type": "code",
   "execution_count": null,
   "id": "spiritual-gambling",
   "metadata": {},
   "outputs": [],
   "source": []
  },
  {
   "cell_type": "code",
   "execution_count": null,
   "id": "dramatic-england",
   "metadata": {},
   "outputs": [],
   "source": []
  },
  {
   "cell_type": "markdown",
   "id": "floppy-natural",
   "metadata": {},
   "source": [
    "## Newton-Rapson method\n",
    "* very fast\n",
    "* but we need to know the derivative of the function\n",
    "* may give oscillations around the root"
   ]
  },
  {
   "cell_type": "markdown",
   "id": "advance-taiwan",
   "metadata": {},
   "source": [
    "<table><tr>\n",
    "<td> <img src=\"imgs/root_finding_6.png\" width=\"600\" /> </td>\n",
    "</tr></table>"
   ]
  },
  {
   "cell_type": "markdown",
   "id": "executive-clarity",
   "metadata": {},
   "source": [
    "<table><tr>\n",
    "<td> <img src=\"imgs/root_finding_7.png\" width=\"800\" /> </td>\n",
    "</tr></table>"
   ]
  },
  {
   "cell_type": "markdown",
   "id": "bizarre-australian",
   "metadata": {},
   "source": [
    "# So the Newton-Rapson involves points and the derivatives of the function at that points.. hence its easy to guess where is the derivation coming from"
   ]
  },
  {
   "cell_type": "markdown",
   "id": "ceramic-bandwidth",
   "metadata": {},
   "source": [
    "### General form\n",
    "$$ f(x) = f(a) + \\frac{f'(a)}{1!}(x-a) + \\frac{f''(a)}{2!}(x-a)^2 + \\frac{f'''(a)(}{3!}(x-a)^3 + ...$$\n",
    "\n",
    "### Next point - previous point form\n",
    "$$ f(x_{i+1}) = f(x_i) + \\frac{f'(x_i)}{1!}h + \\frac{f''(x_i)}{2!}h^2 + \\frac{f'''(x_i)}{3!}h^3 + ...  $$\n",
    "\n",
    "\n",
    "### If we take only the first order approximation (replace h)\n",
    "$$ f(x_{i+1}) \\approx f(x_i) + \\frac{f'(x_i)}{1!}(x_{i+1}-x_i) $$\n",
    "\n",
    "### But we want the function to be zero, hence:\n",
    "$$ 0 \\approx f(x_i) + \\frac{f'(x_i)}{1!}(x_{i+1}-x_i) $$\n",
    "\n",
    "### and from that\n",
    "$$ x_{i+1} = x_i - \\frac{f(x_i)}{f'(x_i)} $$"
   ]
  },
  {
   "cell_type": "markdown",
   "id": "israeli-hello",
   "metadata": {},
   "source": [
    "## Lets try to implement the Newton-Rapson method"
   ]
  },
  {
   "cell_type": "code",
   "execution_count": 19,
   "id": "emerging-heater",
   "metadata": {},
   "outputs": [],
   "source": [
    "def f_cost(x):\n",
    "    return x**2-11.0"
   ]
  },
  {
   "cell_type": "code",
   "execution_count": 20,
   "id": "interpreted-preserve",
   "metadata": {},
   "outputs": [],
   "source": [
    "def f_cost_prime(x):\n",
    "    return 2*x"
   ]
  },
  {
   "cell_type": "code",
   "execution_count": 21,
   "id": "alive-custody",
   "metadata": {},
   "outputs": [
    {
     "name": "stdout",
     "output_type": "stream",
     "text": [
      "3.375\n"
     ]
    }
   ],
   "source": [
    "xr=4\n",
    "xn=xr-f_cost(xr)/f_cost_prime(xr)\n",
    "print(xn)"
   ]
  },
  {
   "cell_type": "markdown",
   "id": "quiet-cigarette",
   "metadata": {},
   "source": [
    "# In a real life sytuation use PYTHON build-in function\n",
    "* brentq - bisection\n",
    "https://docs.scipy.org/doc/scipy/reference/generated/scipy.optimize.brentq.html"
   ]
  },
  {
   "cell_type": "code",
   "execution_count": 22,
   "id": "collectible-canadian",
   "metadata": {},
   "outputs": [],
   "source": [
    "import scipy.optimize as optimize"
   ]
  },
  {
   "cell_type": "code",
   "execution_count": 23,
   "id": "acute-bride",
   "metadata": {},
   "outputs": [
    {
     "name": "stdout",
     "output_type": "stream",
     "text": [
      "3.3166247903554\n"
     ]
    }
   ],
   "source": [
    "root = optimize.brentq(f_cost, 3, 4,xtol=1.0e-10) # args=(N0,T,omega) # args to the function\n",
    "print(root)"
   ]
  },
  {
   "cell_type": "code",
   "execution_count": 24,
   "id": "heavy-hunter",
   "metadata": {},
   "outputs": [
    {
     "data": {
      "text/plain": [
       "3.3166247903554"
      ]
     },
     "execution_count": 24,
     "metadata": {},
     "output_type": "execute_result"
    }
   ],
   "source": [
    "np.sqrt(11)"
   ]
  },
  {
   "cell_type": "markdown",
   "id": "healthy-given",
   "metadata": {},
   "source": [
    "# TAREA PARA NAVIDAD: \n",
    "* hacer el mismo ejemplo y encuentra raiz para $f(x)=x^2 - 11$\n",
    "* construye su propia función de método de bisección usando el loop **while**\n",
    "* hacer plot de evolucion de approximacion (append results to an initially empty list of x_n)\n",
    "* construye su propia función de método Newton-Rapson usando el loop **while**\n",
    "* hacer plot de evolucion de approximacion (append results to an initially empty list of x_n)"
   ]
  },
  {
   "cell_type": "code",
   "execution_count": null,
   "id": "square-remove",
   "metadata": {},
   "outputs": [],
   "source": []
  },
  {
   "cell_type": "code",
   "execution_count": null,
   "id": "visible-orchestra",
   "metadata": {},
   "outputs": [],
   "source": []
  },
  {
   "cell_type": "code",
   "execution_count": null,
   "id": "monthly-mediterranean",
   "metadata": {},
   "outputs": [],
   "source": []
  },
  {
   "cell_type": "code",
   "execution_count": null,
   "id": "located-truck",
   "metadata": {},
   "outputs": [],
   "source": []
  },
  {
   "cell_type": "code",
   "execution_count": null,
   "id": "familiar-aluminum",
   "metadata": {},
   "outputs": [],
   "source": []
  },
  {
   "cell_type": "code",
   "execution_count": null,
   "id": "advanced-garden",
   "metadata": {},
   "outputs": [],
   "source": []
  }
 ],
 "metadata": {
  "kernelspec": {
   "display_name": "Python 3",
   "language": "python",
   "name": "python3"
  },
  "language_info": {
   "codemirror_mode": {
    "name": "ipython",
    "version": 3
   },
   "file_extension": ".py",
   "mimetype": "text/x-python",
   "name": "python",
   "nbconvert_exporter": "python",
   "pygments_lexer": "ipython3",
   "version": "3.7.2"
  }
 },
 "nbformat": 4,
 "nbformat_minor": 5
}
