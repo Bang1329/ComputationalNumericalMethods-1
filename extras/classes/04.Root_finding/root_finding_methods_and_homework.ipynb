{
 "cells": [
  {
   "cell_type": "markdown",
   "id": "quality-practitioner",
   "metadata": {},
   "source": [
    "# Root finding"
   ]
  },
  {
   "cell_type": "markdown",
   "id": "empirical-longer",
   "metadata": {},
   "source": [
    "# What does root mean\n",
    "* if there is a function $f(x)= x^2-11$  \n",
    "* root means when $f(x)=0$ for which $x$ $f(x)=0$  \n",
    "* in other words if you have anything that is equal to zero find variables the    \n",
    "* $0=x^2-11$ and you find $x$ so the $RHS$ equals $LHS$  \n",
    "* in this example $x=\\sqrt(11)$"
   ]
  },
  {
   "cell_type": "markdown",
   "id": "delayed-compiler",
   "metadata": {},
   "source": [
    "<table><tr>\n",
    "<td> <img src=\"imgs/root_finding_1.png\" width=\"500\" /> </td>\n",
    "</tr></table>"
   ]
  },
  {
   "cell_type": "markdown",
   "id": "horizontal-charm",
   "metadata": {},
   "source": [
    "# Lets imagine we know the function or we can calculate the value of the funcion (not just points in csv file...)"
   ]
  },
  {
   "cell_type": "markdown",
   "id": "monthly-universe",
   "metadata": {},
   "source": [
    "<table><tr>\n",
    "<td> <img src=\"imgs/root_finding_2.png\" width=\"800\" /> </td>\n",
    "</tr></table>"
   ]
  },
  {
   "cell_type": "markdown",
   "id": "breeding-lyric",
   "metadata": {},
   "source": [
    "<table><tr>\n",
    "<td> <img src=\"imgs/root_finding_3.png\" width=\"600\" /> </td>\n",
    "</tr></table>"
   ]
  },
  {
   "cell_type": "markdown",
   "id": "ignored-magazine",
   "metadata": {},
   "source": [
    "## There are two most common methods\n",
    "* bisection method\n",
    "* Newton-Rapson"
   ]
  },
  {
   "cell_type": "markdown",
   "id": "bacterial-slovak",
   "metadata": {},
   "source": [
    "# Steps\n",
    "* visualize the function\n",
    "* choose the method\n",
    "* bracketing the function so it changes the values between the brackets\n",
    "* verify the results"
   ]
  },
  {
   "cell_type": "markdown",
   "id": "mediterranean-hypothetical",
   "metadata": {},
   "source": [
    "## Bisection method\n",
    "* reliable if good brackets\n",
    "* slow\n",
    "* may give oscillations around the root"
   ]
  },
  {
   "cell_type": "markdown",
   "id": "lonely-mentor",
   "metadata": {},
   "source": [
    "<table><tr>\n",
    "<td> <img src=\"imgs/root_finding_4.png\" width=\"600\" /> </td>\n",
    "</tr></table>"
   ]
  },
  {
   "cell_type": "markdown",
   "id": "promising-brave",
   "metadata": {},
   "source": [
    "<table><tr>\n",
    "<td> <img src=\"imgs/root_finding_5.png\" width=\"600\" /> </td>\n",
    "</tr></table>"
   ]
  },
  {
   "cell_type": "markdown",
   "id": "reliable-fortune",
   "metadata": {},
   "source": [
    "### important equations:\n",
    "* new point\n",
    "$$x_n = \\frac{(x_l+x_r)}{2}$$\n",
    "\n",
    "* tolerance is a value that we are willing to accept\n",
    "$$root = abs(f(\\frac{(x_l+x_r)}{2}))$$\n",
    "\n",
    "* if abs(f(x_n))<tol ##STOP\n",
    "* tol=0.01              \n",
    "* tol=0.001                            \n",
    "* tol=0.0001 ...                            "
   ]
  },
  {
   "cell_type": "code",
   "execution_count": 1,
   "id": "laughing-reputation",
   "metadata": {},
   "outputs": [],
   "source": [
    "import numpy as np\n",
    "import matplotlib.pyplot as plt"
   ]
  },
  {
   "cell_type": "code",
   "execution_count": 2,
   "id": "secret-jewel",
   "metadata": {},
   "outputs": [],
   "source": [
    "def f_cost(x):\n",
    "    return x**2-11"
   ]
  },
  {
   "cell_type": "code",
   "execution_count": 3,
   "id": "polyphonic-split",
   "metadata": {},
   "outputs": [
    {
     "data": {
      "text/plain": [
       "3.3166247903554"
      ]
     },
     "execution_count": 3,
     "metadata": {},
     "output_type": "execute_result"
    },
    {
     "data": {
      "image/png": "[encoded data removed]",
      "text/plain": [
       "<Figure size 432x288 with 1 Axes>"
      ]
     },
     "metadata": {
      "needs_background": "light"
     },
     "output_type": "display_data"
    }
   ],
   "source": [
    "x=np.linspace(-5,5,100)\n",
    "fig,ax = plt.subplots(1,1)\n",
    "ax.plot(x,f_cost(x))\n",
    "ax.grid('True')\n",
    "np.sqrt(11)"
   ]
  },
  {
   "cell_type": "code",
   "execution_count": 4,
   "id": "crazy-august",
   "metadata": {},
   "outputs": [],
   "source": [
    "# initializing points\n",
    "tol=0.1\n",
    "xl=3\n",
    "xr=4"
   ]
  },
  {
   "cell_type": "code",
   "execution_count": 5,
   "id": "north-biology",
   "metadata": {},
   "outputs": [
    {
     "data": {
      "text/plain": [
       "-10"
      ]
     },
     "execution_count": 5,
     "metadata": {},
     "output_type": "execute_result"
    }
   ],
   "source": [
    "# checking if root is between those points\n",
    "f_cost(xl)*f_cost(xr)"
   ]
  },
  {
   "cell_type": "code",
   "execution_count": 6,
   "id": "indian-linux",
   "metadata": {},
   "outputs": [
    {
     "name": "stdout",
     "output_type": "stream",
     "text": [
      "3.5\n"
     ]
    }
   ],
   "source": [
    "# finding new point\n",
    "xn=(xl+xr)/2\n",
    "print(xn)"
   ]
  },
  {
   "cell_type": "code",
   "execution_count": 7,
   "id": "monetary-departure",
   "metadata": {},
   "outputs": [
    {
     "data": {
      "text/plain": [
       "-2.5"
      ]
     },
     "execution_count": 7,
     "metadata": {},
     "output_type": "execute_result"
    }
   ],
   "source": [
    "# checking if the root is between those points\n",
    "f_cost(xl)*f_cost(xn)"
   ]
  },
  {
   "cell_type": "code",
   "execution_count": 8,
   "id": "hazardous-filename",
   "metadata": {},
   "outputs": [],
   "source": [
    "# its negative for the same xl and for new xr that means that xn is good as my new xr  \n",
    "xr=xn"
   ]
  },
  {
   "cell_type": "code",
   "execution_count": 9,
   "id": "twenty-uganda",
   "metadata": {},
   "outputs": [
    {
     "data": {
      "text/plain": [
       "0.4375"
      ]
     },
     "execution_count": 9,
     "metadata": {},
     "output_type": "execute_result"
    }
   ],
   "source": [
    "# thesting the value of the function at root (should be as close to zero as possible)\n",
    "abs(f_cost((xl+xr)/2))\n",
    "# still far from tolerance so I keep going"
   ]
  },
  {
   "cell_type": "code",
   "execution_count": 10,
   "id": "funded-importance",
   "metadata": {},
   "outputs": [],
   "source": [
    "# finding new point\n",
    "xn=(xl+xr)/2"
   ]
  },
  {
   "cell_type": "code",
   "execution_count": 11,
   "id": "abroad-companion",
   "metadata": {},
   "outputs": [
    {
     "data": {
      "text/plain": [
       "0.875"
      ]
     },
     "execution_count": 11,
     "metadata": {},
     "output_type": "execute_result"
    }
   ],
   "source": [
    "# testing if the function changes sign\n",
    "f_cost(xl)*f_cost(xn)"
   ]
  },
  {
   "cell_type": "code",
   "execution_count": 12,
   "id": "amber-forestry",
   "metadata": {},
   "outputs": [],
   "source": [
    "# it does NOT, so xn cannot be my new xr!, that means that xl=xn\n",
    "xl=xn"
   ]
  },
  {
   "cell_type": "code",
   "execution_count": 13,
   "id": "existing-purse",
   "metadata": {},
   "outputs": [
    {
     "data": {
      "text/plain": [
       "0.390625"
      ]
     },
     "execution_count": 13,
     "metadata": {},
     "output_type": "execute_result"
    }
   ],
   "source": [
    "# testing the value of the function at this points\n",
    "abs(f_cost((xl+xr)/2))"
   ]
  },
  {
   "cell_type": "code",
   "execution_count": 14,
   "id": "vocal-journalist",
   "metadata": {},
   "outputs": [
    {
     "name": "stdout",
     "output_type": "stream",
     "text": [
      "3.375\n"
     ]
    }
   ],
   "source": [
    "# continue \n",
    "xn=(xl+xr)/2\n",
    "print(xn)"
   ]
  },
  {
   "cell_type": "code",
   "execution_count": 15,
   "id": "sharp-ready",
   "metadata": {},
   "outputs": [
    {
     "data": {
      "text/plain": [
       "-0.1708984375"
      ]
     },
     "execution_count": 15,
     "metadata": {},
     "output_type": "execute_result"
    }
   ],
   "source": [
    "f_cost(xl)*f_cost(xn)"
   ]
  },
  {
   "cell_type": "code",
   "execution_count": 16,
   "id": "organizational-electronics",
   "metadata": {},
   "outputs": [],
   "source": [
    "xr=xn"
   ]
  },
  {
   "cell_type": "code",
   "execution_count": 17,
   "id": "threaded-breach",
   "metadata": {},
   "outputs": [
    {
     "data": {
      "text/plain": [
       "0.02734375"
      ]
     },
     "execution_count": 17,
     "metadata": {},
     "output_type": "execute_result"
    }
   ],
   "source": [
    "abs(f_cost((xl+xr)/2))"
   ]
  },
  {
   "cell_type": "code",
   "execution_count": 18,
   "id": "dated-indiana",
   "metadata": {},
   "outputs": [],
   "source": [
    "# Im happy with my brackets as the value is smaller than tolerance\n",
    "tol=0.1"
   ]
  },
  {
   "cell_type": "markdown",
   "id": "fluid-joshua",
   "metadata": {},
   "source": [
    "etc..."
   ]
  },
  {
   "cell_type": "markdown",
   "id": "liable-spice",
   "metadata": {},
   "source": [
    "## The  best loop would be a while loop but for is also OK\n",
    "* choose initial brackets\n",
    "* create empty list of results of xn\n",
    "* define tol=0.0001\n",
    "* make while loop which should continue as long as  abs(f_cost((xl+xr)/2)) > tol\n",
    "* calculate new point\n",
    "* check if the f_cost(xl)*f_cost(xn) is negative or positive...\n",
    "* replace xl or xr with xn depending on the previous result\n",
    "* if you plot the evolution of x_n you should see oscillations"
   ]
  },
  {
   "cell_type": "markdown",
   "id": "indie-monte",
   "metadata": {},
   "source": [
    "# In a real life sytuation use PYTHON build-in function\n",
    "* brentq - bisection\n",
    "https://docs.scipy.org/doc/scipy/reference/generated/scipy.optimize.brentq.html"
   ]
  },
  {
   "cell_type": "code",
   "execution_count": 19,
   "id": "returning-services",
   "metadata": {},
   "outputs": [],
   "source": [
    "import scipy.optimize as optimize"
   ]
  },
  {
   "cell_type": "code",
   "execution_count": 20,
   "id": "automotive-relations",
   "metadata": {},
   "outputs": [
    {
     "name": "stdout",
     "output_type": "stream",
     "text": [
      "3.3166247903554\n"
     ]
    }
   ],
   "source": [
    "root = optimize.brentq(f_cost, 3, 4, xtol=1.0e-10) # args=(N0,T,omega) # args to the function\n",
    "print(root)"
   ]
  },
  {
   "cell_type": "markdown",
   "id": "identified-probability",
   "metadata": {},
   "source": [
    "### but the method has an option to pass some parameters to the function (this is both useful and important!)"
   ]
  },
  {
   "cell_type": "code",
   "execution_count": 21,
   "id": "excessive-behavior",
   "metadata": {},
   "outputs": [],
   "source": [
    "def f_cost2(x,a):\n",
    "    return x**2 - a"
   ]
  },
  {
   "cell_type": "code",
   "execution_count": 22,
   "id": "centered-heaven",
   "metadata": {},
   "outputs": [],
   "source": [
    "# a can be anything, if we choose 11 then it will reduce to the same function as before\n",
    "a=15\n",
    "x=np.linspace(0,5,10)\n",
    "y=f_cost2(x,a)"
   ]
  },
  {
   "cell_type": "code",
   "execution_count": 23,
   "id": "unexpected-dining",
   "metadata": {},
   "outputs": [
    {
     "data": {
      "image/png": "[encoded data removed]",
      "text/plain": [
       "<Figure size 432x288 with 1 Axes>"
      ]
     },
     "metadata": {
      "needs_background": "light"
     },
     "output_type": "display_data"
    }
   ],
   "source": [
    "import matplotlib.pyplot as plt\n",
    "fig,ax=plt.subplots(1,1)\n",
    "ax.plot(x,y)\n",
    "ax.grid(True)"
   ]
  },
  {
   "cell_type": "code",
   "execution_count": 24,
   "id": "important-canon",
   "metadata": {},
   "outputs": [
    {
     "name": "stdout",
     "output_type": "stream",
     "text": [
      "3.872983346206861\n"
     ]
    }
   ],
   "source": [
    "# with optimize.brentq we can pass any parameter we want to that function\n",
    "root = optimize.brentq(f_cost2, 3, 4, args=(15,), xtol=1.0e-10) # args=(N0,T,omega) # args to the function\n",
    "print(root)"
   ]
  },
  {
   "cell_type": "markdown",
   "id": "floppy-natural",
   "metadata": {},
   "source": [
    "## Newton-Rapson method\n",
    "* very fast\n",
    "* but we need to know the derivative of the function\n",
    "* may give oscillations around the root\n",
    "* in the manual version of Newton Rapson method we need to know the derivative of the function! (analytical formula of it)"
   ]
  },
  {
   "cell_type": "markdown",
   "id": "advance-taiwan",
   "metadata": {},
   "source": [
    "<table><tr>\n",
    "<td> <img src=\"imgs/root_finding_6.png\" width=\"600\" /> </td>\n",
    "</tr></table>"
   ]
  },
  {
   "cell_type": "markdown",
   "id": "mobile-storage",
   "metadata": {},
   "source": [
    "####  how to read the above:\n",
    "* derivative (slope) at given point $x_0$ is given with the above formula on the left (the derivative will be related to some point we choose: $x_1$)\n",
    "* using that derivative we can find that new point: $x_1$\n",
    "* because the objective is to find new $x_1$"
   ]
  },
  {
   "cell_type": "markdown",
   "id": "executive-clarity",
   "metadata": {},
   "source": [
    "<table><tr>\n",
    "<td> <img src=\"imgs/root_finding_7.png\" width=\"800\" /> </td>\n",
    "</tr></table>"
   ]
  },
  {
   "cell_type": "markdown",
   "id": "bizarre-australian",
   "metadata": {},
   "source": [
    "# So the Newton-Rapson involves points and the derivatives of the function at that points.. \n",
    "hence its easy to guess where is the derivation coming from"
   ]
  },
  {
   "cell_type": "markdown",
   "id": "ceramic-bandwidth",
   "metadata": {},
   "source": [
    "### General form\n",
    "$$ f(x) = f(a) + \\frac{f'(a)}{1!}(x-a) + \\frac{f''(a)}{2!}(x-a)^2 + \\frac{f'''(a)(}{3!}(x-a)^3 + ...$$\n",
    "\n",
    "### Next point - previous point form\n",
    "$$ f(x_{i+1}) = f(x_i) + \\frac{f'(x_i)}{1!}h + \\frac{f''(x_i)}{2!}h^2 + \\frac{f'''(x_i)}{3!}h^3 + ...  $$\n",
    "\n",
    "\n",
    "### If we take only the first order approximation (replace h)\n",
    "$$ f(x_{i+1}) \\approx f(x_i) + \\frac{f'(x_i)}{1!}(x_{i+1}-x_i) $$\n",
    "\n",
    "### But we want the function to be zero, hence:\n",
    "$$ 0 \\approx f(x_i) + \\frac{f'(x_i)}{1!}(x_{i+1}-x_i) $$\n",
    "\n",
    "### and from that\n",
    "$$ x_{i+1} = x_i - \\frac{f(x_i)}{f'(x_i)} $$"
   ]
  },
  {
   "cell_type": "markdown",
   "id": "israeli-hello",
   "metadata": {},
   "source": [
    "## Lets try to implement the Newton-Rapson method"
   ]
  },
  {
   "cell_type": "code",
   "execution_count": 25,
   "id": "emerging-heater",
   "metadata": {},
   "outputs": [],
   "source": [
    "def f_cost(x):\n",
    "    return x**2-11.0"
   ]
  },
  {
   "cell_type": "code",
   "execution_count": 26,
   "id": "interpreted-preserve",
   "metadata": {},
   "outputs": [],
   "source": [
    "def f_cost_prime(x):\n",
    "    return 2*x"
   ]
  },
  {
   "cell_type": "code",
   "execution_count": 27,
   "id": "alive-custody",
   "metadata": {},
   "outputs": [],
   "source": [
    "x0=4"
   ]
  },
  {
   "cell_type": "code",
   "execution_count": 28,
   "id": "injured-parker",
   "metadata": {},
   "outputs": [
    {
     "name": "stdout",
     "output_type": "stream",
     "text": [
      "3.375\n",
      "0.390625\n"
     ]
    }
   ],
   "source": [
    "xnew=x0-f_cost(x0)/f_cost_prime(x0)\n",
    "print(xnew)\n",
    "x0=xnew\n",
    "print(abs(f_cost(x0)))"
   ]
  },
  {
   "cell_type": "code",
   "execution_count": 29,
   "id": "competitive-anime",
   "metadata": {},
   "outputs": [
    {
     "name": "stdout",
     "output_type": "stream",
     "text": [
      "3.3171296296296298\n",
      "0.003348979766805371\n"
     ]
    }
   ],
   "source": [
    "xnew=x0-f_cost(x0)/f_cost_prime(x0)\n",
    "print(xnew)\n",
    "x0=xnew\n",
    "print(abs(f_cost(x0)))"
   ]
  },
  {
   "cell_type": "code",
   "execution_count": 30,
   "id": "altered-wednesday",
   "metadata": {},
   "outputs": [
    {
     "name": "stdout",
     "output_type": "stream",
     "text": [
      "3.3166248287715487\n",
      "2.5482390419995227e-07\n"
     ]
    }
   ],
   "source": [
    "xnew=x0-f_cost(x0)/f_cost_prime(x0)\n",
    "print(xnew)\n",
    "x0=xnew\n",
    "print(abs(f_cost(x0)))"
   ]
  },
  {
   "cell_type": "code",
   "execution_count": 31,
   "id": "rocky-croatia",
   "metadata": {},
   "outputs": [
    {
     "name": "stdout",
     "output_type": "stream",
     "text": [
      "3.3166247903554003\n",
      "3.552713678800501e-15\n"
     ]
    }
   ],
   "source": [
    "xnew=x0-f_cost(x0)/f_cost_prime(x0)\n",
    "print(xnew)\n",
    "x0=xnew\n",
    "print(abs(f_cost(x0)))"
   ]
  },
  {
   "cell_type": "markdown",
   "id": "described-gallery",
   "metadata": {},
   "source": [
    "# In a real life sytuation use PYTHON build-in function\n",
    "* https://docs.scipy.org/doc/scipy/reference/generated/scipy.optimize.newton.html"
   ]
  },
  {
   "cell_type": "code",
   "execution_count": 32,
   "id": "illegal-nitrogen",
   "metadata": {},
   "outputs": [
    {
     "name": "stdout",
     "output_type": "stream",
     "text": [
      "3.3166247903554\n"
     ]
    }
   ],
   "source": [
    "# we can use the derivative if we know it\n",
    "# here Python will use the newton-rapson method as described before\n",
    "x0=4\n",
    "root = optimize.newton(f_cost, x0, f_cost_prime)\n",
    "print(root)"
   ]
  },
  {
   "cell_type": "code",
   "execution_count": 33,
   "id": "organizational-damages",
   "metadata": {},
   "outputs": [
    {
     "name": "stdout",
     "output_type": "stream",
     "text": [
      "3.3166247903554\n"
     ]
    }
   ],
   "source": [
    "# but if we dont know it.... python will use another method to calculate de derivative numerically\n",
    "# here Python will use a special way of finding the derivative called SECANT method\n",
    "x0=4\n",
    "root = optimize.newton(f_cost, x0)\n",
    "print(root)"
   ]
  },
  {
   "cell_type": "code",
   "execution_count": 34,
   "id": "indoor-turner",
   "metadata": {},
   "outputs": [
    {
     "name": "stdout",
     "output_type": "stream",
     "text": [
      "3.872983346207453\n"
     ]
    }
   ],
   "source": [
    "# but if we dont know it.... python will use another method to calculate de derivative numerically\n",
    "# also optimize.newton also allows passing arguments if the function requires it (like before) \n",
    "# well, it needs coma...\n",
    "x0=4\n",
    "root = optimize.newton(f_cost2, x0, args=(15,))\n",
    "print(root)"
   ]
  },
  {
   "cell_type": "code",
   "execution_count": 35,
   "id": "architectural-virtue",
   "metadata": {},
   "outputs": [],
   "source": [
    "# but we still didnt explain how this method calculates derivative numerically?? \n",
    "# it is called SECANT method (it needs to points...)"
   ]
  },
  {
   "cell_type": "markdown",
   "id": "industrial-future",
   "metadata": {},
   "source": [
    "# Secant method:"
   ]
  },
  {
   "cell_type": "markdown",
   "id": "demonstrated-november",
   "metadata": {},
   "source": [
    "<table><tr>\n",
    "<td> <img src=\"imgs/secant1.png\" width=\"800\" /> </td>\n",
    "</tr></table>"
   ]
  },
  {
   "cell_type": "code",
   "execution_count": 36,
   "id": "subjective-slovenia",
   "metadata": {},
   "outputs": [],
   "source": [
    "x0=5\n",
    "x_1=4"
   ]
  },
  {
   "cell_type": "code",
   "execution_count": 37,
   "id": "northern-bench",
   "metadata": {},
   "outputs": [
    {
     "name": "stdout",
     "output_type": "stream",
     "text": [
      "3.4444444444444446\n",
      "0.8641975308641996\n"
     ]
    }
   ],
   "source": [
    "xnew=x0-f_cost(x0)*(x_1-x0)/(f_cost(x_1)-f_cost(x0))\n",
    "print(xnew)\n",
    "x_1=x0\n",
    "x0=xnew\n",
    "print(abs(f_cost(x0)))"
   ]
  },
  {
   "cell_type": "code",
   "execution_count": 38,
   "id": "assured-sigma",
   "metadata": {},
   "outputs": [
    {
     "name": "stdout",
     "output_type": "stream",
     "text": [
      "3.3421052631578947\n",
      "0.16966759002770004\n"
     ]
    }
   ],
   "source": [
    "xnew=x0-f_cost(x0)*(x_1-x0)/(f_cost(x_1)-f_cost(x0))\n",
    "print(xnew)\n",
    "x_1=x0\n",
    "x0=xnew\n",
    "print(abs(f_cost(x0)))"
   ]
  },
  {
   "cell_type": "code",
   "execution_count": 39,
   "id": "exotic-pleasure",
   "metadata": {},
   "outputs": [
    {
     "name": "stdout",
     "output_type": "stream",
     "text": [
      "3.317104696251616\n",
      "0.0031835658945258416\n"
     ]
    }
   ],
   "source": [
    "xnew=x0-f_cost(x0)*(x_1-x0)/(f_cost(x_1)-f_cost(x0))\n",
    "print(xnew)\n",
    "x_1=x0\n",
    "x0=xnew\n",
    "print(abs(f_cost(x0)))"
   ]
  },
  {
   "cell_type": "code",
   "execution_count": 40,
   "id": "miniature-lindsay",
   "metadata": {},
   "outputs": [
    {
     "name": "stdout",
     "output_type": "stream",
     "text": [
      "3.3166266266436697\n",
      "1.218056176810478e-05\n"
     ]
    }
   ],
   "source": [
    "xnew=x0-f_cost(x0)*(x_1-x0)/(f_cost(x_1)-f_cost(x0))\n",
    "print(xnew)\n",
    "x_1=x0\n",
    "x0=xnew\n",
    "print(abs(f_cost(x0)))"
   ]
  },
  {
   "cell_type": "markdown",
   "id": "indirect-attribute",
   "metadata": {},
   "source": [
    "# But basically for the application purposes you need to know those things: \n",
    "\n",
    "* bisection **optimize.brentq** \n",
    "* newton-rapson **optimize.newton** with knowing the derivative\n",
    "* newton-rapson **optimize.newton** withouth knowing the derivative\n",
    "* and know how to pass argument to the function for both methods\n",
    "* understand the differences between those methods\n",
    "* understand how the the Secant methods works"
   ]
  },
  {
   "cell_type": "code",
   "execution_count": null,
   "id": "hispanic-finland",
   "metadata": {},
   "outputs": [],
   "source": []
  }
 ],
 "metadata": {
  "kernelspec": {
   "display_name": "Python 3",
   "language": "python",
   "name": "python3"
  },
  "language_info": {
   "codemirror_mode": {
    "name": "ipython",
    "version": 3
   },
   "file_extension": ".py",
   "mimetype": "text/x-python",
   "name": "python",
   "nbconvert_exporter": "python",
   "pygments_lexer": "ipython3",
   "version": "3.7.2"
  }
 },
 "nbformat": 4,
 "nbformat_minor": 5
}
