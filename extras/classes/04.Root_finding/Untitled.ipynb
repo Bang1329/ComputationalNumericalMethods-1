{
 "cells": [
  {
   "cell_type": "code",
   "execution_count": 1,
   "id": "aging-binary",
   "metadata": {},
   "outputs": [
    {
     "data": {
      "text/plain": [
       "3.3166247903554"
      ]
     },
     "execution_count": 1,
     "metadata": {},
     "output_type": "execute_result"
    },
    {
     "data": {
      "image/png": "[encoded data removed]",
      "text/plain": [
       "<Figure size 432x288 with 1 Axes>"
      ]
     },
     "metadata": {
      "needs_background": "light"
     },
     "output_type": "display_data"
    }
   ],
   "source": [
    "import scipy.optimize as optimize\n",
    "import numpy as np\n",
    "import matplotlib.pyplot as plt\n",
    "def f_cost(x,c):\n",
    "    return (x+1)**2-c*(x-1)\n",
    "\n",
    "def root_newton(f_cost,start,c): \n",
    "    try:\n",
    "        root = optimize.newton(f_cost, start,args=(c,))\n",
    "    except:\n",
    "        root=np.nan\n",
    "    return root\n",
    "\n",
    "c_vec=np.linspace(5,20,10)\n",
    "\n",
    "results=[]\n",
    "start=0\n",
    "for c in c_vec:\n",
    "    try:\n",
    "        root = root_newton(f_cost,start,c)\n",
    "    except:\n",
    "        root=np.nan\n",
    "    results.append(root)\n",
    "    \n",
    "import numpy as np\n",
    "import matplotlib.pyplot as plt\n",
    "x=np.linspace(-5,5,100)\n",
    "fig,ax = plt.subplots(1,1)\n",
    "ax.plot(c_vec,results,'.k')\n",
    "ax.grid('True')\n",
    "np.sqrt(11)    "
   ]
  },
  {
   "cell_type": "code",
   "execution_count": null,
   "id": "mobile-finger",
   "metadata": {},
   "outputs": [],
   "source": []
  }
 ],
 "metadata": {
  "kernelspec": {
   "display_name": "Python 3",
   "language": "python",
   "name": "python3"
  },
  "language_info": {
   "codemirror_mode": {
    "name": "ipython",
    "version": 3
   },
   "file_extension": ".py",
   "mimetype": "text/x-python",
   "name": "python",
   "nbconvert_exporter": "python",
   "pygments_lexer": "ipython3",
   "version": "3.7.2"
  }
 },
 "nbformat": 4,
 "nbformat_minor": 5
}
