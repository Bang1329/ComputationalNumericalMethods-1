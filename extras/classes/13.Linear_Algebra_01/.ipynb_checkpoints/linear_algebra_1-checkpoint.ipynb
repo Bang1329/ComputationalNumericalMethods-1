{
 "cells": [
  {
   "cell_type": "markdown",
   "id": "surrounded-madonna",
   "metadata": {},
   "source": [
    "## vocabulary:\n",
    "* swap       - cambiar lugares\n",
    "* pivot      - girar (eje)\n",
    "* shallow    - superficial (poco profundo)\n",
    "* shape      - dimension (forma)\n",
    "* augmented  - incrementada\n",
    "* row        - fila"
   ]
  },
  {
   "cell_type": "markdown",
   "id": "absent-facility",
   "metadata": {},
   "source": [
    "## Order of the class:\n",
    "* introduction\n",
    "* arrays, matrices, vectors\n",
    "* aritmetic operations on vectors / matrices\n",
    "* matrix multiplication!\n",
    "* Linear Equations\n",
    "* Gaussian Elimination\n",
    "* Implementation of Gaussian Elimination\n",
    "* Using Numpy to solve set of Linear Equations "
   ]
  },
  {
   "cell_type": "markdown",
   "id": "infinite-chassis",
   "metadata": {},
   "source": [
    "# Linear Algebra"
   ]
  },
  {
   "cell_type": "markdown",
   "id": "affecting-documentation",
   "metadata": {},
   "source": [
    "The branch of mathematics that deals with the theory of systems of linear equations, matrices, vector spaces, determinants, and linear transformations.\n",
    "\n",
    "Computational Linear Algebra a very important topic to be covered throughout this course. We shall cover linear systems of equations, techniques for calculating inverses and determinants and factorization methods.\n",
    "\n",
    "An interesting fact of Computational Linear Algebra is that it does not comprises numerical approaches as most of the methods are exact. The usage of a computer is then necessary because of the large number of calculations rather than the non-soluble nature of the problems. Numerical errors come then from round-off approximations."
   ]
  },
  {
   "cell_type": "markdown",
   "id": "sharp-colombia",
   "metadata": {},
   "source": [
    "- - -\n",
    "- [Linear Systems of Equations](#Linear-Systems-of-Equations) \n",
    "    - [Matrices and vectors](#Matrices-and-vectors)\n",
    "    - [Example 1](#Example-1)\n",
    "    - [Matrices in Python](#Matrices-in-Python)\n",
    "    - [Basic operations with matrices](#Basic-operations-with-matrices)\n",
    "- [Gaussian Elimination](#Gaussian-Elimination)\n",
    "    - [General Gaussian elimination](#General-Gaussian-elimination)\n",
    "    - [Computing time](#Computing-time)\n",
    "    - [Example 2](#Example-2)\n",
    "- [Pivoting Strategies](#Pivoting-Strategies)\n",
    "    - [Partial pivoting](#Partial-pivoting)\n",
    "- [Matrix Inversion](#Matrix-Inversion)\n",
    "- [Determinant of a Matrix](#Determinant-of-a-Matrix)\n",
    "    - [Calculating determinants](#Calculating-determinants)\n",
    "    - [Computing time of determinants](#Computing-time-of-determinants)\n",
    "    - [Properties of determinants](#Properties-of-determinants)\n",
    "- [LU Factorization](#LU-Factorization)\n",
    "    - [Derivation of LU factorization](#Derivation-of-LU-factorization)\n",
    "    - [Algorithm for LU factorization](#Algorithm-for-LU-factorization)\n",
    "\n",
    "- - -"
   ]
  },
  {
   "cell_type": "markdown",
   "id": "entertaining-coating",
   "metadata": {},
   "source": [
    "# Matrices in Python"
   ]
  },
  {
   "cell_type": "markdown",
   "id": "fundamental-island",
   "metadata": {},
   "source": [
    "One of the greatest advantages of high level languages like Python, is the manipulation of complex objects like matrices and vectors. For this part we are going to use advanced capabilities for handling matrices, provided by the library NumPy.\n",
    "\n",
    "NumPy, besides the extreme useful NumPy array objects, also provides the Matrix objects that are overloaded with proper matrix operations.\n"
   ]
  },
  {
   "cell_type": "markdown",
   "id": "marine-lawyer",
   "metadata": {},
   "source": [
    "<img src=\"imgs/array_vs_matrix.png\" width=\"600\" />\n",
    "*here the examples are in Matlab!"
   ]
  },
  {
   "cell_type": "markdown",
   "id": "coastal-australia",
   "metadata": {},
   "source": [
    "### Difference between numpy.array, numpy.asarray and numpy.matrix\n",
    "* numpy.matrix is strictly 2D numbers\n",
    "* numpy.array and numpy.asarray are for any dimensional array of numbers or characters\n",
    "* the difference is in the way how numpy.array and numpy.assarray handle the object. The first does a copy of an object and has more options.\n",
    "* numpy.asarray(x) is like numpy.array(x, copy=False)\n",
    "* finally my recommendation is to use numpy.array (safer and more flexible)"
   ]
  },
  {
   "cell_type": "markdown",
   "id": "legal-gossip",
   "metadata": {},
   "source": [
    "## What is matrix\n",
    "A $m \\times n$ matrix can be defined as a set of numbers arranged in columns and rows such as (m x n):\n",
    "\n",
    "\n",
    "\n",
    "\n",
    "$$ A = [a_{ij}] =\n",
    "\\begin{bmatrix}\n",
    "a_{11} & a_{12} & \\dots & a_{1n} \\\\\n",
    "a_{21} & a_{22} & \\dots & a_{2n} \\\\\n",
    "\\vdots & \\vdots & \\dots & \\vdots \\\\\n",
    "a_{m1} & a_{m2} & \\dots & a_{mn}\n",
    "\\end{bmatrix}\n",
    "$$\n",
    "\n",
    "In the same way, it is possible to define a $n$-dimensional column vector as (m x 1)\n",
    "\n",
    "$$ \\textbf{x} =\n",
    "\\begin{bmatrix}\n",
    "x_{1} \\\\\n",
    "x_{2} \\\\\n",
    "\\vdots\\\\\n",
    "x_{m}\n",
    "\\end{bmatrix}\n",
    "$$\n",
    "\n",
    "and a row vector (1 x n)\n",
    "\n",
    "$$ \\textbf{y} =\n",
    " \\begin{bmatrix}\n",
    "y_{1} &\n",
    "y_{2} &\n",
    "\\cdots &\n",
    "y_{n}\n",
    "\\end{bmatrix}$$\n"
   ]
  },
  {
   "cell_type": "code",
   "execution_count": 1,
   "id": "reported-transaction",
   "metadata": {},
   "outputs": [],
   "source": [
    "import numpy as np"
   ]
  },
  {
   "cell_type": "code",
   "execution_count": 2,
   "id": "fitted-bracelet",
   "metadata": {},
   "outputs": [
    {
     "name": "stdout",
     "output_type": "stream",
     "text": [
      "M1=\n",
      " [[4 1 2]\n",
      " [3 2 3]\n",
      " [2 1 1]]\n"
     ]
    }
   ],
   "source": [
    "#NumPy Arrays\n",
    "M1 = np.array( [[ 5 ,-4, 0],\n",
    "                [-4 , 7,-3],\n",
    "                [ 0 ,-3, 5]] )\n",
    "\n",
    "# Convert from list\n",
    "L1=[[ 5 ,-4, 0],[-4 , 7,-3],[ 0 ,-3, 5]]\n",
    "M1=np.array(L1)\n",
    "#print(M1)\n",
    "# function that converts list of lists to numpy array\n",
    "#M1=np.random.rand(3,3)\n",
    "\n",
    "M1=np.random.randint(1,5,(3,3))\n",
    "\n",
    "#M1 = np.array( [[ 5 ,-4, 0],\n",
    "#                [-4 , 7,-3],\n",
    "#                [ 0 ,-3, 5]] )\n",
    "\n",
    "print('M1=\\n',M1)"
   ]
  },
  {
   "cell_type": "code",
   "execution_count": 3,
   "id": "french-russia",
   "metadata": {},
   "outputs": [
    {
     "name": "stdout",
     "output_type": "stream",
     "text": [
      "(3, 3)\n"
     ]
    }
   ],
   "source": [
    "print(M1.shape)\n",
    "#result=M1.shape\n",
    "#print(type(result))\n",
    "#protected output"
   ]
  },
  {
   "cell_type": "code",
   "execution_count": 4,
   "id": "identified-resolution",
   "metadata": {},
   "outputs": [
    {
     "name": "stdout",
     "output_type": "stream",
     "text": [
      "M1 shape is (3, 3)\n",
      "<class 'tuple'>\n"
     ]
    }
   ],
   "source": [
    "#print('M1 shape={}'.format(M1.shape) )\n",
    "print(f\"M1 shape is {M1.shape}\")\n",
    "result=M1.shape\n",
    "print(type(result))\n",
    "# other form"
   ]
  },
  {
   "cell_type": "markdown",
   "id": "major-decline",
   "metadata": {},
   "source": [
    "## SymPy (Symbolic Python) *digression"
   ]
  },
  {
   "cell_type": "code",
   "execution_count": 5,
   "id": "mexican-technique",
   "metadata": {},
   "outputs": [
    {
     "data": {
      "text/latex": [
       "$\\displaystyle \\left[\\begin{matrix}4 & 1 & 2\\\\3 & 2 & 3\\\\2 & 1 & 1\\end{matrix}\\right]$"
      ],
      "text/plain": [
       "Matrix([\n",
       "[4, 1, 2],\n",
       "[3, 2, 3],\n",
       "[2, 1, 1]])"
      ]
     },
     "execution_count": 5,
     "metadata": {},
     "output_type": "execute_result"
    }
   ],
   "source": [
    "import sympy as sp\n",
    "sp.Matrix(M1)\n",
    "#x = sympy.Symbol('x') # declare analytical varibles\n",
    "#sympy.init_printing() # Use LaTeX to print sympy objects"
   ]
  },
  {
   "cell_type": "code",
   "execution_count": 6,
   "id": "simple-communist",
   "metadata": {},
   "outputs": [
    {
     "name": "stdout",
     "output_type": "stream",
     "text": [
      "(1, 4)\n",
      "(4, 1)\n"
     ]
    }
   ],
   "source": [
    "vector_row = np.array([[1,2,3,4]])\n",
    "\n",
    "vector_column = np.array([[1], \n",
    "                          [2], \n",
    "                          [3], \n",
    "                          [4]])\n",
    "print(vector_row.shape)\n",
    "print(vector_column.shape)"
   ]
  },
  {
   "cell_type": "code",
   "execution_count": 7,
   "id": "offensive-living",
   "metadata": {},
   "outputs": [
    {
     "name": "stdout",
     "output_type": "stream",
     "text": [
      "[[1 2 3 4]]\n"
     ]
    }
   ],
   "source": [
    "print(vector_row)"
   ]
  },
  {
   "cell_type": "code",
   "execution_count": 8,
   "id": "independent-nowhere",
   "metadata": {},
   "outputs": [
    {
     "name": "stdout",
     "output_type": "stream",
     "text": [
      "[[1]\n",
      " [2]\n",
      " [3]\n",
      " [4]]\n"
     ]
    }
   ],
   "source": [
    "print(vector_column)"
   ]
  },
  {
   "cell_type": "code",
   "execution_count": 9,
   "id": "insured-strength",
   "metadata": {},
   "outputs": [
    {
     "data": {
      "text/latex": [
       "$\\displaystyle \\left[\\begin{matrix}1 & 2 & 3 & 4\\end{matrix}\\right]$"
      ],
      "text/plain": [
       "Matrix([[1, 2, 3, 4]])"
      ]
     },
     "execution_count": 9,
     "metadata": {},
     "output_type": "execute_result"
    }
   ],
   "source": [
    "sp.Matrix(vector_row)"
   ]
  },
  {
   "cell_type": "code",
   "execution_count": 10,
   "id": "sunrise-pound",
   "metadata": {},
   "outputs": [
    {
     "data": {
      "text/latex": [
       "$\\displaystyle \\left[\\begin{matrix}1\\\\2\\\\3\\\\4\\end{matrix}\\right]$"
      ],
      "text/plain": [
       "Matrix([\n",
       "[1],\n",
       "[2],\n",
       "[3],\n",
       "[4]])"
      ]
     },
     "execution_count": 10,
     "metadata": {},
     "output_type": "execute_result"
    }
   ],
   "source": [
    "sp.Matrix(vector_column)"
   ]
  },
  {
   "cell_type": "code",
   "execution_count": 11,
   "id": "solid-attachment",
   "metadata": {},
   "outputs": [
    {
     "name": "stdout",
     "output_type": "stream",
     "text": [
      "M1 =\n",
      " [[3 1 4]\n",
      " [4 4 2]\n",
      " [3 1 1]]\n",
      "\n",
      "M2 =\n",
      " [[1 4 4]\n",
      " [1 2 4]\n",
      " [4 1 1]]\n"
     ]
    }
   ],
   "source": [
    "M1=np.random.randint(1,5,(3,3))\n",
    "M2=np.random.randint(1,5,(3,3))\n",
    "\n",
    "print('M1 =\\n',M1)\n",
    "print()\n",
    "print('M2 =\\n',M2)"
   ]
  },
  {
   "cell_type": "markdown",
   "id": "prime-indication",
   "metadata": {},
   "source": [
    "## Arithmetic array operations\n",
    "Arithmetic array operations +, -, /, * and ** are performed elementwise on NumPy arrays.\n",
    "That means that the shape of array $A$ and array $B$ has to AGREE in order to use +, -, /, *  operations"
   ]
  },
  {
   "cell_type": "markdown",
   "id": "digital-spyware",
   "metadata": {},
   "source": [
    "## Matrix addition:\n",
    "\n",
    "(m x n) + (m x n) = (m x n)"
   ]
  },
  {
   "cell_type": "code",
   "execution_count": 12,
   "id": "lyric-major",
   "metadata": {},
   "outputs": [
    {
     "name": "stdout",
     "output_type": "stream",
     "text": [
      "M1=\n",
      " [[3 1 4]\n",
      " [4 4 2]\n",
      " [3 1 1]]\n",
      "M2=\n",
      " [[1 4 4]\n",
      " [1 2 4]\n",
      " [4 1 1]]\n",
      "M1+M2=\n",
      " [[4 5 8]\n",
      " [5 6 6]\n",
      " [7 2 2]]\n"
     ]
    }
   ],
   "source": [
    "print('M1=\\n',M1)\n",
    "print('M2=\\n',M2)\n",
    "print('M1+M2=\\n',M2+M1)\n",
    "# arithmetic operations are commutative"
   ]
  },
  {
   "cell_type": "markdown",
   "id": "under-standard",
   "metadata": {},
   "source": [
    "## Matrix subtraction:\n",
    "(m x n) - (m x n) = (m x n)"
   ]
  },
  {
   "cell_type": "code",
   "execution_count": 13,
   "id": "indian-amber",
   "metadata": {},
   "outputs": [
    {
     "name": "stdout",
     "output_type": "stream",
     "text": [
      "M1=\n",
      " [[3 1 4]\n",
      " [4 4 2]\n",
      " [3 1 1]]\n",
      "M2=\n",
      " [[1 4 4]\n",
      " [1 2 4]\n",
      " [4 1 1]]\n",
      "M1+M2=\n",
      " [[ 2 -3  0]\n",
      " [ 3  2 -2]\n",
      " [-1  0  0]]\n"
     ]
    }
   ],
   "source": [
    "print('M1=\\n',M1)\n",
    "print('M2=\\n',M2)\n",
    "print('M1+M2=\\n',M1-M2)"
   ]
  },
  {
   "cell_type": "markdown",
   "id": "assumed-journey",
   "metadata": {},
   "source": [
    "## Matrix multiplicacion aritmetica:\n",
    "(m x n) * (m x n) = (m x n)"
   ]
  },
  {
   "cell_type": "code",
   "execution_count": 14,
   "id": "elegant-collaboration",
   "metadata": {},
   "outputs": [
    {
     "name": "stdout",
     "output_type": "stream",
     "text": [
      "M1=\n",
      " [[3 1 4]\n",
      " [4 4 2]\n",
      " [3 1 1]]\n",
      "M2=\n",
      " [[1 4 4]\n",
      " [1 2 4]\n",
      " [4 1 1]]\n",
      "M2*M1=\n",
      " [[ 3  4 16]\n",
      " [ 4  8  8]\n",
      " [12  1  1]]\n"
     ]
    }
   ],
   "source": [
    "print('M1=\\n',M1)\n",
    "print('M2=\\n',M2)\n",
    "print('M2*M1=\\n',M2*M1)"
   ]
  },
  {
   "cell_type": "markdown",
   "id": "blessed-cherry",
   "metadata": {},
   "source": [
    "## Scalar Matrix Operations\n",
    "\n",
    "x +*-/ (m x n) = (m x n)"
   ]
  },
  {
   "cell_type": "code",
   "execution_count": 15,
   "id": "acquired-chicken",
   "metadata": {},
   "outputs": [
    {
     "name": "stdout",
     "output_type": "stream",
     "text": [
      "x=\n",
      " 5\n",
      "M1=\n",
      " [[3 1 4]\n",
      " [4 4 2]\n",
      " [3 1 1]]\n",
      "x=M2=\n",
      " [[8 6 9]\n",
      " [9 9 7]\n",
      " [8 6 6]]\n"
     ]
    }
   ],
   "source": [
    "x=5\n",
    "print('x=\\n',x)\n",
    "print('M1=\\n',M1)\n",
    "print('x=M2=\\n',x+M1)"
   ]
  },
  {
   "cell_type": "code",
   "execution_count": 16,
   "id": "contemporary-independence",
   "metadata": {},
   "outputs": [
    {
     "name": "stdout",
     "output_type": "stream",
     "text": [
      "x=\n",
      " 5\n",
      "M1=\n",
      " [[3 1 4]\n",
      " [4 4 2]\n",
      " [3 1 1]]\n",
      "x*M2=\n",
      " [[15  5 20]\n",
      " [20 20 10]\n",
      " [15  5  5]]\n"
     ]
    }
   ],
   "source": [
    "x=5\n",
    "print('x=\\n',x)\n",
    "print('M1=\\n',M1)\n",
    "print('x*M2=\\n',x*M1)"
   ]
  },
  {
   "cell_type": "markdown",
   "id": "designed-camel",
   "metadata": {},
   "source": [
    "### Matrix Multiplication (matrix dot product, not aritmetic *)\n",
    "Second way of multiplication of arrays:\n",
    "\n",
    "it's not commutative $ [A] [B] \\neq [B] [A] $\n",
    "\n",
    "<img src=\"imgs/matrix_multiplication2.png\" width=\"400\" />"
   ]
  },
  {
   "cell_type": "markdown",
   "id": "egyptian-alexander",
   "metadata": {},
   "source": [
    "(m x n)  (n x m) = (m x m)\n",
    "<img src=\"imgs/matrix_multiplication1.png\" width=\"400\" />\n",
    "<img src=\"imgs/matrix_multiplication3.png\" width=\"600\" />"
   ]
  },
  {
   "cell_type": "code",
   "execution_count": 17,
   "id": "suited-drawing",
   "metadata": {},
   "outputs": [
    {
     "name": "stdout",
     "output_type": "stream",
     "text": [
      "M1=\n",
      " [[4 3 2 3 1]\n",
      " [2 4 1 4 2]\n",
      " [3 3 2 2 1]]\n",
      "M2=\n",
      " [[2 4 2]\n",
      " [2 2 2]\n",
      " [2 3 4]\n",
      " [1 2 4]\n",
      " [1 1 1]]\n",
      "M1.M2=\n",
      " [[22 35 35]\n",
      " [20 29 34]\n",
      " [19 29 29]]\n"
     ]
    }
   ],
   "source": [
    "M1=np.random.randint(1,5,(3,5))\n",
    "M2=np.random.randint(1,5,(5,3))\n",
    "# (3,5) (5,3) = (3,3)\n",
    "print('M1=\\n',M1)\n",
    "print('M2=\\n',M2)\n",
    "#arithmetic M1*M2\n",
    "#dot product:\n",
    "print('M1.M2=\\n',np.matmul(M1,M2))"
   ]
  },
  {
   "cell_type": "code",
   "execution_count": 18,
   "id": "three-australian",
   "metadata": {},
   "outputs": [
    {
     "name": "stdout",
     "output_type": "stream",
     "text": [
      "M1=\n",
      " [[3 3 4 1 4]]\n",
      "M2=\n",
      " [[1 4 1 1 4 2 4 3 3]\n",
      " [2 1 2 3 3 1 3 2 2]\n",
      " [3 3 2 4 1 3 2 2 4]\n",
      " [3 2 2 1 3 4 4 4 4]\n",
      " [1 4 2 1 4 4 3 1 2]]\n",
      "M1.M2=\n",
      " [[28 45 27 33 44 41 45 31 43]]\n"
     ]
    }
   ],
   "source": [
    "M1=np.random.randint(1,5,(1,5))\n",
    "M2=np.random.randint(1,5,(5,9))\n",
    "# (1,5) (5,9) = (1,9)\n",
    "print('M1=\\n',M1)\n",
    "print('M2=\\n',M2)\n",
    "print('M1.M2=\\n',np.matmul(M1,M2))"
   ]
  },
  {
   "cell_type": "code",
   "execution_count": 19,
   "id": "another-australian",
   "metadata": {},
   "outputs": [
    {
     "name": "stdout",
     "output_type": "stream",
     "text": [
      "(1, 4)\n",
      "(4, 1)\n"
     ]
    }
   ],
   "source": [
    "vector_row = np.array([[1, -5, 3, 2]])\n",
    "vector_column = np.array([[1], \n",
    "                          [2], \n",
    "                          [3], \n",
    "                          [4]])\n",
    "print(vector_row.shape)\n",
    "print(vector_column.shape)"
   ]
  },
  {
   "cell_type": "code",
   "execution_count": 20,
   "id": "false-building",
   "metadata": {},
   "outputs": [
    {
     "name": "stdout",
     "output_type": "stream",
     "text": [
      "matmul(vector_row,vector_column)\n",
      "(1,4)(4,1) = (1,1)\n",
      "\n",
      "[[8]] \n",
      "\n",
      "\n",
      "\n",
      "matmul(vector_column,vector_row)\n",
      "(4,1)(1,4) = (4,4)\n",
      "\n",
      "[[  1  -5   3   2]\n",
      " [  2 -10   6   4]\n",
      " [  3 -15   9   6]\n",
      " [  4 -20  12   8]]\n"
     ]
    }
   ],
   "source": [
    "print('matmul(vector_row,vector_column)')\n",
    "print(\"(1,4)(4,1) = (1,1)\\n\")\n",
    "print(np.matmul(vector_row,vector_column),'\\n')\n",
    "\n",
    "print('\\n')\n",
    "print('matmul(vector_column,vector_row)')\n",
    "print(\"(4,1)(1,4) = (4,4)\\n\")\n",
    "print(np.matmul(vector_column,vector_row))\n"
   ]
  },
  {
   "cell_type": "markdown",
   "id": "conscious-eight",
   "metadata": {},
   "source": [
    "# Danger\n",
    "Shallow copy vs deep copy !!!"
   ]
  },
  {
   "cell_type": "markdown",
   "id": "prostate-johnson",
   "metadata": {},
   "source": [
    "### Shallow copy:"
   ]
  },
  {
   "cell_type": "code",
   "execution_count": 21,
   "id": "indian-basic",
   "metadata": {},
   "outputs": [
    {
     "name": "stdout",
     "output_type": "stream",
     "text": [
      "['a', 'b']\n",
      "['a', 'b']\n"
     ]
    }
   ],
   "source": [
    "list1=['a','b']\n",
    "list2=list1\n",
    "print(list1)\n",
    "print(list2)"
   ]
  },
  {
   "cell_type": "code",
   "execution_count": 22,
   "id": "adolescent-meeting",
   "metadata": {},
   "outputs": [
    {
     "name": "stdout",
     "output_type": "stream",
     "text": [
      "\n",
      "['d', 'b']\n",
      "['d', 'b']\n"
     ]
    }
   ],
   "source": [
    "list1[0]='d'\n",
    "print()\n",
    "print(list1)\n",
    "print(list2)"
   ]
  },
  {
   "cell_type": "code",
   "execution_count": 23,
   "id": "human-charm",
   "metadata": {},
   "outputs": [
    {
     "name": "stdout",
     "output_type": "stream",
     "text": [
      "[[2 4 1]\n",
      " [1 2 3]\n",
      " [4 2 4]] \n",
      "\n",
      "[[2 4 1]\n",
      " [1 2 3]\n",
      " [4 2 4]]\n"
     ]
    }
   ],
   "source": [
    "# shallow copy\n",
    "A=np.random.randint(1,5,(3,3))\n",
    "B=A\n",
    "print(A,'\\n')\n",
    "print(B)"
   ]
  },
  {
   "cell_type": "code",
   "execution_count": 24,
   "id": "seeing-restoration",
   "metadata": {},
   "outputs": [
    {
     "name": "stdout",
     "output_type": "stream",
     "text": [
      "[[99  4  1]\n",
      " [ 1  2  3]\n",
      " [ 4  2  4]] \n",
      "\n",
      "[[99  4  1]\n",
      " [ 1  2  3]\n",
      " [ 4  2  4]]\n"
     ]
    }
   ],
   "source": [
    "A[0,0]=99\n",
    "print(A,'\\n')\n",
    "print(B)"
   ]
  },
  {
   "cell_type": "markdown",
   "id": "manufactured-vehicle",
   "metadata": {},
   "source": [
    "### Deep copy:"
   ]
  },
  {
   "cell_type": "code",
   "execution_count": 25,
   "id": "dying-reflection",
   "metadata": {},
   "outputs": [
    {
     "name": "stdout",
     "output_type": "stream",
     "text": [
      "[[2 2 2]\n",
      " [3 3 3]\n",
      " [3 4 3]] \n",
      "\n",
      "[[2 2 2]\n",
      " [3 3 3]\n",
      " [3 4 3]]\n"
     ]
    }
   ],
   "source": [
    "# deep copy\n",
    "A=np.random.randint(1,5,(3,3))\n",
    "B=A.copy()\n",
    "print(A,'\\n')\n",
    "print(B)"
   ]
  },
  {
   "cell_type": "code",
   "execution_count": 26,
   "id": "plain-character",
   "metadata": {},
   "outputs": [
    {
     "name": "stdout",
     "output_type": "stream",
     "text": [
      "[[99  2  2]\n",
      " [ 3  3  3]\n",
      " [ 3  4  3]] \n",
      "\n",
      "[[2 2 2]\n",
      " [3 3 3]\n",
      " [3 4 3]]\n"
     ]
    }
   ],
   "source": [
    "A[0,0]=99\n",
    "print(A,'\\n')\n",
    "print(B)"
   ]
  },
  {
   "cell_type": "markdown",
   "id": "greenhouse-south",
   "metadata": {},
   "source": [
    "# Changing Matrix's type:"
   ]
  },
  {
   "cell_type": "code",
   "execution_count": 27,
   "id": "graduate-sunset",
   "metadata": {},
   "outputs": [],
   "source": [
    "M=np.random.randint(1,5,(3,3))"
   ]
  },
  {
   "cell_type": "code",
   "execution_count": 28,
   "id": "informational-subsection",
   "metadata": {},
   "outputs": [
    {
     "data": {
      "text/plain": [
       "array([[4, 1, 3],\n",
       "       [1, 3, 1],\n",
       "       [2, 4, 1]])"
      ]
     },
     "execution_count": 28,
     "metadata": {},
     "output_type": "execute_result"
    }
   ],
   "source": [
    "M"
   ]
  },
  {
   "cell_type": "code",
   "execution_count": 29,
   "id": "juvenile-ladder",
   "metadata": {},
   "outputs": [
    {
     "data": {
      "text/plain": [
       "array([[4., 1., 3.],\n",
       "       [1., 3., 1.],\n",
       "       [2., 4., 1.]])"
      ]
     },
     "execution_count": 29,
     "metadata": {},
     "output_type": "execute_result"
    }
   ],
   "source": [
    "M.astype(float)"
   ]
  },
  {
   "cell_type": "code",
   "execution_count": null,
   "id": "sought-hamilton",
   "metadata": {},
   "outputs": [],
   "source": []
  },
  {
   "cell_type": "code",
   "execution_count": 30,
   "id": "collective-arrow",
   "metadata": {},
   "outputs": [],
   "source": [
    "M = 0.5*M"
   ]
  },
  {
   "cell_type": "code",
   "execution_count": 31,
   "id": "anonymous-skiing",
   "metadata": {},
   "outputs": [
    {
     "data": {
      "text/plain": [
       "array([[2. , 0.5, 1.5],\n",
       "       [0.5, 1.5, 0.5],\n",
       "       [1. , 2. , 0.5]])"
      ]
     },
     "execution_count": 31,
     "metadata": {},
     "output_type": "execute_result"
    }
   ],
   "source": [
    "M"
   ]
  },
  {
   "cell_type": "markdown",
   "id": "polar-statement",
   "metadata": {},
   "source": [
    "## Some useful numpy methods \n",
    "* `np.sum()` - calcula la suma de valores de una array\n",
    "* `np.min()` - busca el elemento mínimo de una array\n",
    "* `np.max()`  - busca el elemento máximo de una array\n",
    "* `np.mean()` - calcula el valor promedio de una array\n",
    "* `np.std()`  - calcula el valor promedio de una array\n",
    "* `np.argmax()` - devuelve el índice con valor máximo de una array\n",
    "* `np.argmin()` - devuelve el índice con valor mínimo de una array\n",
    "* `np.where()` - devuelve índices de array donde una condición es True o False\n",
    "\n",
    "* `np.argmax()` gives one number as if matrix was flat, `np.unravel.index(np.argmax(A),A.shape)` unravels the indices"
   ]
  },
  {
   "cell_type": "markdown",
   "id": "fantastic-tennessee",
   "metadata": {},
   "source": [
    "## Other useful numpy methods \n",
    "\n",
    "* `np.random.randint` - quickly create random matrix\n",
    "* `np.eye` - Identity matrix   \n",
    "* `np.vstack` - concatenates matrices vertically (input is a tuple)\n",
    "* `np.hstack` - concatenates matrices horizontally (input is a tuple)\n",
    "* `np.hsplit` - splits matrices horizontally\n",
    "* `np.vsplit` - splits matrices vertically\n",
    "(you will see how useful during your next exercise...)  \n",
    "\n"
   ]
  },
  {
   "cell_type": "code",
   "execution_count": 32,
   "id": "lesbian-license",
   "metadata": {},
   "outputs": [
    {
     "name": "stdout",
     "output_type": "stream",
     "text": [
      "[[0 5 6]\n",
      " [0 5 2]\n",
      " [4 8 2]]\n"
     ]
    }
   ],
   "source": [
    "A=np.random.randint(0,9,(3,3))\n",
    "print(A)"
   ]
  },
  {
   "cell_type": "code",
   "execution_count": 33,
   "id": "ordered-serve",
   "metadata": {},
   "outputs": [
    {
     "name": "stdout",
     "output_type": "stream",
     "text": [
      "[[1. 0. 0.]\n",
      " [0. 1. 0.]\n",
      " [0. 0. 1.]]\n"
     ]
    }
   ],
   "source": [
    "I=np.eye(3)\n",
    "print(I)"
   ]
  },
  {
   "cell_type": "code",
   "execution_count": 34,
   "id": "stretch-snapshot",
   "metadata": {},
   "outputs": [
    {
     "name": "stdout",
     "output_type": "stream",
     "text": [
      "[[0. 5. 6.]\n",
      " [0. 5. 2.]\n",
      " [4. 8. 2.]\n",
      " [1. 0. 0.]\n",
      " [0. 1. 0.]\n",
      " [0. 0. 1.]]\n"
     ]
    }
   ],
   "source": [
    "AI=np.vstack((A,I))\n",
    "print(AI)"
   ]
  },
  {
   "cell_type": "code",
   "execution_count": 35,
   "id": "respective-history",
   "metadata": {},
   "outputs": [
    {
     "name": "stdout",
     "output_type": "stream",
     "text": [
      "[[0. 5. 6.]\n",
      " [0. 5. 2.]\n",
      " [4. 8. 2.]]\n",
      "\n",
      "[[1. 0. 0.]\n",
      " [0. 1. 0.]\n",
      " [0. 0. 1.]]\n",
      "\n"
     ]
    }
   ],
   "source": [
    "A,I=np.vsplit(AI,2)\n",
    "print(A)\n",
    "print()\n",
    "\n",
    "print(I)\n",
    "print()\n",
    "\n"
   ]
  },
  {
   "cell_type": "markdown",
   "id": "biological-wagon",
   "metadata": {},
   "source": [
    "# Systems of Linear Equations"
   ]
  },
  {
   "cell_type": "markdown",
   "id": "powerful-disease",
   "metadata": {},
   "source": [
    "A linear system is a set of equations of $n$ variables that can be written in a general form:\n",
    "\n",
    "$$ a_{11}x_1 + a_{12}x_2 + \\cdots a_{1n}x_n = b_1 $$\n",
    "$$\\vdots$$\n",
    "$$ a_{m1}x_1 + a_{m2}x_2 + \\cdots a_{mn}x_n = b_m $$\n",
    "\n",
    "where $n$ is, again, the number of variables, and $m$ the number of equations. \n",
    "\n",
    "A linear system has solution if and only if $m\\geq n$. This leads us to the main objetive of a linear system, find the set $\\{x_i\\}_{i=0}^n$ that fulfills all the equations.\n",
    "\n",
    "Although there is an intuitive way to solve this type of systems, by just adding and subtracting equations until reaching the desire result, the large number of variables of some systems found in physics and astronomy makes necessary to develop iterative and general approaches. Next, we shall introduce matrix and vector notation and some basic operations that will be the basis of the methods to be developed in this section."
   ]
  },
  {
   "cell_type": "markdown",
   "id": "alternative-lobby",
   "metadata": {},
   "source": [
    "A $m \\times n$ matrix can be defined as a set of numbers arranged in columns and rows such as:\n",
    "\n",
    "$$ A = [a_{ij}] = \n",
    "\\begin{bmatrix}\n",
    "a_{11} & a_{12} & \\cdots & a_{1n} \\\\\n",
    "a_{21} & a_{22} & \\cdots & a_{2n} \\\\\n",
    "\\vdots & \\vdots & & \\vdots\\\\\n",
    "a_{m1} & a_{m2} & \\cdots & a_{mn} \n",
    "\\end{bmatrix} $$\n",
    "\n",
    "In the same way, it is possible to define a $n$-dimensional column vector as\n",
    "\n",
    "$$ \\textbf{x} = \\begin{bmatrix}\n",
    "x_{1} \\\\\n",
    "x_{2} \\\\\n",
    "\\vdots\\\\\n",
    "x_{n} \n",
    "\\end{bmatrix} $$\n",
    "\n",
    "and a row vector \n",
    "\n",
    "$$ \\textbf{y} = \\begin{bmatrix}\n",
    "y_{1} &\n",
    "y_{2} &\n",
    "\\cdots &\n",
    "y_{n} \n",
    "\\end{bmatrix} $$"
   ]
  },
  {
   "cell_type": "markdown",
   "id": "accessory-booking",
   "metadata": {},
   "source": [
    "The system of equations \n",
    "\n",
    "$$ a_{11}x_1 + a_{12}x_2 + \\cdots a_{1n}x_n = b_1 $$\n",
    "$$\\vdots$$\n",
    "$$ a_{m1}x_1 + a_{m2}x_2 + \\cdots a_{mn}x_n = b_m $$\n",
    "\n",
    "can be then written in a more convenient way as\n",
    "\n",
    "$$ A \\textbf{x} =  \\begin{bmatrix}\n",
    "a_{11} & a_{12} & \\cdots & a_{1n} \\\\\n",
    "a_{21} & a_{22} & \\cdots & a_{2n} \\\\\n",
    "\\vdots & \\vdots & & \\vdots\\\\\n",
    "a_{m1} & a_{m2} & \\cdots & a_{mn} \n",
    "\\end{bmatrix} \n",
    "\\begin{bmatrix}\n",
    "x_{1} \\\\\n",
    "x_{2} \\\\\n",
    "\\vdots\\\\\n",
    "x_{n} \n",
    "\\end{bmatrix}  = b = \n",
    "\\begin{bmatrix}\n",
    "b_{1} \\\\\n",
    "b_{2} \\\\\n",
    "\\vdots\\\\\n",
    "b_{n} \n",
    "\\end{bmatrix}$$\n"
   ]
  },
  {
   "cell_type": "markdown",
   "id": "drawn-sunday",
   "metadata": {},
   "source": [
    "We can also introducing the $n\\times (n+1)$ **augmented matrix** as\n",
    "\n",
    "$$[A:\\textbf{b}] =  \\begin{bmatrix}\n",
    "a_{11} & a_{12} & \\cdots & a_{1n} & \\vdots & b_1 \\\\\n",
    "a_{21} & a_{22} & \\cdots & a_{2n} & \\vdots & b_2 \\\\\n",
    "\\vdots & \\vdots & & \\vdots & \\vdots & \\vdots \\\\\n",
    "a_{m1} & a_{n2} & \\cdots & a_{nn} & \\vdots & b_n\n",
    "\\end{bmatrix}$$"
   ]
  },
  {
   "cell_type": "markdown",
   "id": "unlimited-process",
   "metadata": {},
   "source": [
    "## Solution:  Gaussian Elimination ( or Gauss-Jordan)\n",
    "The best way to do it manually:\n",
    "\n",
    "The goal is to have  all the elements below diagonal equal $0$\n",
    "but making some operation on the matrix one must not change the general solution.\n",
    "\n",
    "* can we swap rows? yes\n",
    "* can we multiply both sides of an equation by a number ($\\lambda$) ? yes\n",
    "* can you add one row to the other row? yes\n",
    "* can we swap columns? no\n",
    "\n",
    "\n",
    "In other words we allowed to: \n",
    "\n",
    "- Interchange rows. (Notation: $R_i \\leftarrow \\rightarrow R_j$) - called pivoting\n",
    "- Multiply a row by a constant. (Notation: $ \\lambda R_i$)\n",
    "- Add the product of a row multiplied by a constant to another row. (Notation: $R_i+\\lambda R_j$)"
   ]
  },
  {
   "cell_type": "markdown",
   "id": "verified-fantasy",
   "metadata": {},
   "source": [
    "none of the above operation will change the solution!\n",
    "but we organize the coefficients in such a way that it will be easier to find the solution\n"
   ]
  },
  {
   "cell_type": "markdown",
   "id": "loaded-attribute",
   "metadata": {},
   "source": [
    "$$[A:\\textbf{b}] =  \\begin{bmatrix}\n",
    "1 & 0 & 0  & b_1 \\\\\n",
    "0 & 1 & 0  & b_2 \\\\\n",
    "0 & 0 & 1  & b_1 \\\\\n",
    "\\end{bmatrix}$$\n",
    "\n",
    "* called Reduced Row Echelon Form\n",
    "\n",
    "because that would convert to:\n",
    "\n",
    "$$1 x_1 +  0 x_2 + 0 x_3 = b_1$$\n",
    "$$0 x_1 +  1 x_2 + 0 x_3 = b_2$$\n",
    "$$0 x_1 +  0 x_2 + 1 x_3 = b_3$$\n",
    "\n",
    "$$x_1=b_1$$\n",
    "$$x_2=b_2$$\n",
    "$$x_3=b_3$$"
   ]
  },
  {
   "cell_type": "markdown",
   "id": "bridal-former",
   "metadata": {},
   "source": [
    "## Example"
   ]
  },
  {
   "cell_type": "markdown",
   "id": "established-continent",
   "metadata": {},
   "source": [
    "$$-3 x + 6 y - 9 z = 3$$\n",
    "$$ \\ 1 x - 1 y - 2 z = 0$$\n",
    "$$ 5 x + 5 y - 7 z = 63$$\n",
    "\n",
    "in the augmented form:\n",
    "\n",
    "$$\\begin{bmatrix}\n",
    "-3 &  6 & -9  & 3 \\\\\n",
    "1  & -1 & -2  & 0 \\\\\n",
    "5  &  5 & -7  & 63 \\\\\n",
    "\\end{bmatrix}$$\n",
    "\n",
    "Divide row 1 by -3\n",
    "\n",
    "$$\\begin{bmatrix}\n",
    "1 &  -2 & 3  & -1 \\\\\n",
    "1  & -1 & -2  & 0 \\\\\n",
    "5  &  5 & -7  & 63 \\\\\n",
    "\\end{bmatrix}$$\n",
    "\n",
    "add (-1)* row 1 to row 2\n",
    "\n",
    "$$\\begin{bmatrix}\n",
    "1 &  -2 & 3  & -1 \\\\\n",
    "0  & 1 & -5  & 1 \\\\\n",
    "5  &  5 & -7  & 63 \\\\\n",
    "\\end{bmatrix}$$\n",
    "\n",
    "add (-5)* row 1 to row 3\n",
    "\n",
    "$$\\begin{bmatrix}\n",
    "1 &  -2 & 3  & -1 \\\\\n",
    "0  & 1 & -5  & 1 \\\\\n",
    "0  &  15 & -22  & 68 \\\\\n",
    "\\end{bmatrix}$$\n",
    "\n",
    "add (-15)* row 2 to row 3\n",
    "\n",
    "$$\\begin{bmatrix}\n",
    "1 &  -2 & 3  & -1 \\\\\n",
    "0  & 1 & -5  & 1 \\\\\n",
    "0  &  0 & 53  & 53 \\\\\n",
    "\\end{bmatrix}$$\n",
    "\n",
    "divide row 3 by 53\n",
    "\n",
    "$$\\begin{bmatrix}\n",
    "1 &  -2 & 3  & -1 \\\\\n",
    "0  & 1 & -5  & 1 \\\\\n",
    "0  &  0 & 1  & 1 \\\\\n",
    "\\end{bmatrix}$$\n",
    "\n",
    "add (5)* row 3 to row 2\n",
    "\n",
    "$$\\begin{bmatrix}\n",
    "1 &  -2 & 3  & -1 \\\\\n",
    "0  & 1 & 0  & 6 \\\\\n",
    "0  &  0 & 1  & 1 \\\\\n",
    "\\end{bmatrix}$$\n",
    "\n",
    "add (-3)* row 3 to row 1\n",
    "\n",
    "$$\\begin{bmatrix}\n",
    "1 &  -2 & 0  & -4 \\\\\n",
    "0  & 1 & 0  & 6 \\\\\n",
    "0  &  0 & 1  & 1 \\\\\n",
    "\\end{bmatrix}$$\n",
    "\n",
    "add row 2 to row 1\n",
    "\n",
    "$$\\begin{bmatrix}\n",
    "1 &  0 & 0  & 8 \\\\\n",
    "0  & 1 & 0  & 6 \\\\\n",
    "0  &  0 & 1  & 1 \\\\\n",
    "\\end{bmatrix}$$\n",
    "\n",
    "* called Reduced Row Echelon Form\n",
    "\n",
    "$$1 x +  0 y + 0 z = 8$$\n",
    "$$0 x +  1 y + 0 z = 6$$\n",
    "$$0 x +  0 y + 1 z = 1$$\n",
    "\n",
    "$$x=8$$\n",
    "$$y=6$$\n",
    "$$z=1$$"
   ]
  },
  {
   "cell_type": "markdown",
   "id": "noble-doubt",
   "metadata": {},
   "source": [
    "## How to implement the three operations in Python:\n",
    "* multiplying row by number $\\lambda$\n",
    "* adding one row to another row (multiplied by a number)\n",
    "* swapping rows (pivoting)\n"
   ]
  },
  {
   "cell_type": "markdown",
   "id": "close-calcium",
   "metadata": {},
   "source": [
    "1. The $i$-th row $E_i$ can be multiplied by a non-zero constant $\\lambda$, and then a new row used in place of $E_i$, i.e. $(E_i)\\rightarrow (\\lambda E_i)$. We denote this operation as $\\operatorname{Lamb}(E_i,\\lambda)$.\n",
    "2. The $j$-th row $E_j$ can be multiplied by a non-zero constant $\\lambda$ and added to some row $E_i$. The resulting value take the place of $E_i$, i.e. $(E_i) \\rightarrow (E_i + \\lambda E_j)$. We denote this operation as $\\operatorname{Comb}(E_i,E_j,\\lambda)$.\n",
    "3. Finally, we define a swapping of two rows as $(E_i)\\leftrightarrow (E_j)$, denoted as $\\operatorname{Swap}(E_i,E_j)$"
   ]
  },
  {
   "cell_type": "markdown",
   "id": "corporate-message",
   "metadata": {},
   "source": [
    "* `row_lamb(i, λ, A)`: `i` is the row to be changed, `λ` the multiplicative factor and `A` the matrix. This function should return the new matrix with the performed operation $(\\lambda E_i)\\rightarrow (E_i)$.\n",
    "* `row_swap(i, j, A)`: `i` and `j` are the rows to be swapped. This function should return the new matrix with the performed operation $(E_i)\\leftrightarrow (E_j)$.\n",
    "* `row_comb(i, j, λ, A)`: `i` is the row to be changed, `j` the row to be added, `λ` the multiplicative factor and `A` the matrix. This function should return the new matrix with the performed operation $(E_i + \\lambda E_j)\\rightarrow (E_i)$."
   ]
  },
  {
   "cell_type": "code",
   "execution_count": 36,
   "id": "swedish-directive",
   "metadata": {},
   "outputs": [
    {
     "name": "stdout",
     "output_type": "stream",
     "text": [
      "[[-3  6 -9]\n",
      " [ 1 -1 -2]\n",
      " [ 5  5 -7]] \n",
      "\n"
     ]
    }
   ],
   "source": [
    "import numpy as np\n",
    "A = np.array( [[ -3 ,6, -9],\n",
    "                [1 , -1,-2],\n",
    "                [5 ,5, -7]] )\n",
    "print(A,'\\n')"
   ]
  },
  {
   "cell_type": "markdown",
   "id": "small-poetry",
   "metadata": {},
   "source": [
    "#### it is important that the matrix is of float, because"
   ]
  },
  {
   "cell_type": "code",
   "execution_count": 37,
   "id": "protecting-local",
   "metadata": {},
   "outputs": [
    {
     "name": "stdout",
     "output_type": "stream",
     "text": [
      "[[-3  6 -9]\n",
      " [ 1 -1 -2]\n",
      " [ 5  5 -7]] \n",
      "\n",
      "\n",
      "\n",
      "[[-4  6 -9]\n",
      " [ 1 -1 -2]\n",
      " [ 5  5 -7]] \n",
      "\n"
     ]
    }
   ],
   "source": [
    "print(A,'\\n')\n",
    "print('\\n')\n",
    "\n",
    "A[0,0]=A[0,0]*1.5\n",
    "print(A,'\\n')\n",
    "\n"
   ]
  },
  {
   "cell_type": "code",
   "execution_count": 38,
   "id": "amino-hazard",
   "metadata": {},
   "outputs": [
    {
     "name": "stdout",
     "output_type": "stream",
     "text": [
      "[[-4.  6. -9.]\n",
      " [ 1. -1. -2.]\n",
      " [ 5.  5. -7.]] \n",
      "\n",
      "[[-6.  6. -9.]\n",
      " [ 1. -1. -2.]\n",
      " [ 5.  5. -7.]] \n",
      "\n"
     ]
    }
   ],
   "source": [
    "B=A.copy()\n",
    "B=B.astype('float64')\n",
    "print(B,'\\n')\n",
    "\n",
    "B[0,0]=B[0,0]*1.5\n",
    "print(B,'\\n')"
   ]
  },
  {
   "cell_type": "markdown",
   "id": "systematic-digit",
   "metadata": {},
   "source": [
    "#### three row operations implemented as functions"
   ]
  },
  {
   "cell_type": "code",
   "execution_count": 39,
   "id": "caroline-lesbian",
   "metadata": {},
   "outputs": [],
   "source": [
    "#Force the matrix has type float\n",
    "## why we check only first element...\n",
    "def row_lamb( i, λ, A ):\n",
    "    B = A.copy()\n",
    "    if isinstance(B[0,0],np.int64):\n",
    "        B=B.astype(float)\n",
    "    B[i] = λ*B[i]\n",
    "    return B\n",
    "\n",
    "def row_swap( i, j, A ):\n",
    "    B = A.copy()\n",
    "    B[[i,j]] = B[[j,i]]\n",
    "    return B\n",
    "\n",
    "def row_comb( i, j, λ, A ):\n",
    "    B = A.copy()\n",
    "    if isinstance(B[0,0],np.int64):\n",
    "        B=B.astype(float)\n",
    "    B[i] = λ*B[j] + B[i]\n",
    "    return B"
   ]
  },
  {
   "cell_type": "markdown",
   "id": "juvenile-highland",
   "metadata": {},
   "source": [
    "#### swapping rows"
   ]
  },
  {
   "cell_type": "code",
   "execution_count": 40,
   "id": "operational-circuit",
   "metadata": {},
   "outputs": [
    {
     "name": "stdout",
     "output_type": "stream",
     "text": [
      "[[-4  6 -9]\n",
      " [ 1 -1 -2]\n",
      " [ 5  5 -7]]\n",
      "\n",
      "[[ 1 -1 -2]\n",
      " [-4  6 -9]\n",
      " [ 5  5 -7]]\n"
     ]
    }
   ],
   "source": [
    "print(A)\n",
    "B=row_swap( 0, 1 , A )\n",
    "print()\n",
    "print(B)"
   ]
  },
  {
   "cell_type": "markdown",
   "id": "hungarian-longitude",
   "metadata": {},
   "source": [
    "#### multiplying row by a scalar"
   ]
  },
  {
   "cell_type": "code",
   "execution_count": 41,
   "id": "consolidated-newman",
   "metadata": {},
   "outputs": [
    {
     "name": "stdout",
     "output_type": "stream",
     "text": [
      "[[-3  6 -9]\n",
      " [ 1 -1 -2]\n",
      " [ 5  5 -7]] \n",
      "\n",
      "[[ 1. -2.  3.]\n",
      " [ 1. -1. -2.]\n",
      " [ 5.  5. -7.]]\n"
     ]
    }
   ],
   "source": [
    "A = np.array( [[ -3 ,6, -9],\n",
    "                [1 , -1,-2],\n",
    "                [5 ,5, -7]] )\n",
    "print(A,'\\n')\n",
    "B=row_lamb( 0, -1/3 , A )\n",
    "print(B)"
   ]
  },
  {
   "cell_type": "markdown",
   "id": "furnished-brooks",
   "metadata": {},
   "source": [
    "#### multiplying row \"j\" by a scalar and adding the result to row \"i\""
   ]
  },
  {
   "cell_type": "code",
   "execution_count": 42,
   "id": "strange-bermuda",
   "metadata": {},
   "outputs": [
    {
     "name": "stdout",
     "output_type": "stream",
     "text": [
      "[[-3  6 -9]\n",
      " [ 1 -1 -2]\n",
      " [ 5  5 -7]] \n",
      "\n",
      "[[-3.  6. -9.]\n",
      " [ 1. -1. -2.]\n",
      " [ 5.  5. -7.]] \n",
      "\n"
     ]
    }
   ],
   "source": [
    "A = np.array( [[ -3 ,6, -9],\n",
    "                [1 , -1,-2],\n",
    "                [5 ,5, -7]] )\n",
    "print(A,'\\n')\n",
    "\n",
    "B=row_comb(0,1,0,A)\n",
    "print(B,'\\n')"
   ]
  },
  {
   "cell_type": "markdown",
   "id": "adjacent-wiring",
   "metadata": {},
   "source": [
    "# Simplified Gaussian Elimination\n",
    "\n",
    "* In order to solve System of Linear Equations it is not necessary to get to row reduced echelon form\n",
    "* We can actually stop our operations at point where we did:\n",
    "\n",
    "divide row 3 by 53\n",
    "\n",
    "$$\\begin{bmatrix}\n",
    "1 &  -2 & 3  & -1 \\\\\n",
    "0  & 1 & -5  & 1 \\\\\n",
    "0  &  0 & 1  & 1 \\\\\n",
    "\\end{bmatrix}$$\n",
    "\n",
    "Because at this point we can use substitution to get the values of x,y,z:\n",
    "\n",
    "$$\\begin{bmatrix}\n",
    "a_{11} & a_{12} & \\cdots & a_{1(n-1)} & a_{1n} & \\vdots & \\hat b_1 \\\\\n",
    "0 & a_{22} & \\cdots & a_{2(n-1)} & a_{2n} & \\vdots & \\hat b_2 \\\\\n",
    "\\vdots & \\vdots &  & \\vdots & \\vdots & \\vdots & \\vdots \\\\\n",
    "0 & 0 & \\cdots & a_{(n-1)(n-1)} & a_{(n-1)n} & \\vdots & \\hat b_{n-1} \\\\\n",
    "0 & 0 & \\cdots & 0 & 1 & \\vdots & \\hat b_n\n",
    "\\end{bmatrix}$$\n",
    "\n",
    "**8.** The solution to the problem is then obtained through backward substitutions, i.e.\n",
    "\n",
    "$$x_n = \\hat b_n$$\n",
    "$$ x_{n-1} =  \\frac{\\hat b_{n-1} + a_{(n-1)n}x_n}{a_{(n-1)(n-1)}}$$\n",
    "$$\\vdots$$\n",
    "$$x_i = \\frac{\\hat b_i - \\sum_{j=i+1}^n a_{ij}x_j}{a_{ii}}\\ \\ \\ \\ \\mbox{for}\\ \\ \\ i=n-1, n-2, \\cdots, 1$$"
   ]
  },
  {
   "cell_type": "markdown",
   "id": "colored-daily",
   "metadata": {},
   "source": [
    "Now, we shall describe the general procedure for Gaussian elimination: \n",
    "\n",
    "**1.** Give an augmented matrix $\\hat{A}=[A:\\textbf{b}]$.\n",
    "\n",
    "**2.** Find the first non-zero coefficient $a_{i1}$ associated to $x_1$. This element is called **pivot**.\n",
    "\n",
    "**3.** Apply the operation $Swap(E_1,E_i)$. This guarantee the first row has a non-zero coefficient $a_{11}$.\n",
    "\n",
    "**4.** Apply the operation $Comb(E_j,E_1,-a_{j1}/a_{11})$. This eliminates the coefficients associated to $x_1$ in all the rows but in the first one.\n",
    "\n",
    "**5.** Repeat steps **2** to **4** but for the coefficients of $x_2$ and then $x_3$ and so up to $x_n$. When iterating the coefficients of $x_{k}$, do not take into account the first $k$-th rows as they are already sorted.\n",
    "\n",
    "**6.** Once you obtain a diagonal form of the matrix, apply the operation $Lamb(E_n,1/a_{nn})$. This will make the coefficient of $x_n$ in the last equation equal to 1.\n",
    "\n",
    "**7.** The final result should be an augmented matrix of the form:\n",
    "\n",
    "**8.** The solution to the problem is then obtained through backward substitutions, i.e.\n",
    "\n"
   ]
  },
  {
   "cell_type": "code",
   "execution_count": 43,
   "id": "surrounded-adventure",
   "metadata": {},
   "outputs": [],
   "source": [
    "#Gaussian Elimination\n",
    "def upper_diagonal(A0):\n",
    "    #Making local copy of matrix\n",
    "    A=A0\n",
    "    A = np.copy(A0)\n",
    "    #Detecting size of matrix\n",
    "    n = len(A)\n",
    "    \n",
    "    #Sweeping all the columns in order to eliminate coefficients of the i-th variable\n",
    "    for i in range( 0, n ):\n",
    "        \n",
    "        #Sweeping all the rows for the i-th column in order to find the first non-zero coefficient\n",
    "        for j in range( i, n ):\n",
    "            if A[i,j] != 0:\n",
    "                #Normalization coefficient\n",
    "                Norm = 1.0*A[i,j]\n",
    "                break\n",
    "                \n",
    "        #Applying swap operation to put the non-zero coefficient in the i-th row\n",
    "        A = row_swap( i, j, A )\n",
    "        \n",
    "        #Eliminating the coefficient associated to the i-th variable\n",
    "        for j in range( i+1, n ):\n",
    "            A = row_comb( j, i, -A[j,i]/Norm, A )\n",
    "            \n",
    "    #Normalizing n-th variable\n",
    "    A = row_lamb( n-1, 1.0/A[n-1,n-1], A )\n",
    "\n",
    "    return A\n",
    "\n",
    "def eliminate(A0):\n",
    "    #Making local copy of matrix\n",
    "    A = np.copy(A0)\n",
    "\n",
    "    #Detecting size of matrix\n",
    "    n = len(A)\n",
    "    \n",
    "    #Finding solution\n",
    "    x = np.zeros( n )\n",
    "    x[n-1] = A[n-1,n]\n",
    "    for i in range( n-1, -1, -1 ):\n",
    "        x[i] = ( A[i,n] - sum(A[i,i+1:n]*x[i+1:n]) )/A[i,i]\n",
    "    \n",
    "    #Upper diagonal matrix and solutions x\n",
    "    return x"
   ]
  },
  {
   "cell_type": "markdown",
   "id": "italic-monte",
   "metadata": {},
   "source": [
    "#### converting non-augmented matrix to upper diagonal only"
   ]
  },
  {
   "cell_type": "code",
   "execution_count": 44,
   "id": "adverse-identification",
   "metadata": {},
   "outputs": [
    {
     "name": "stdout",
     "output_type": "stream",
     "text": [
      "Upper Diagonal Matrix D:\n",
      " [[-3.  6. -9.]\n",
      " [ 0.  1. -5.]\n",
      " [ 0.  0.  1.]] \n",
      "\n"
     ]
    }
   ],
   "source": [
    "#Generating random matrix\n",
    "import numpy as np\n",
    "M = np.array( [[ -3 ,6, -9],\n",
    "                [1 , -1,-2],\n",
    "                [5 ,5, -7]] )\n",
    "\n",
    "D = upper_diagonal(M)\n",
    "print (\"Upper Diagonal Matrix D:\\n\", D, \"\\n\")"
   ]
  },
  {
   "cell_type": "markdown",
   "id": "contained-grade",
   "metadata": {},
   "source": [
    "#### converting augmented matrix to upper diagonal"
   ]
  },
  {
   "cell_type": "code",
   "execution_count": 45,
   "id": "comparable-cruise",
   "metadata": {},
   "outputs": [
    {
     "name": "stdout",
     "output_type": "stream",
     "text": [
      "Augmented Matrix M:\n",
      " [[-3  6 -9  3]\n",
      " [ 1 -1 -2  0]\n",
      " [ 5  5 -7 63]] \n",
      "\n",
      "Upper Diagonal Matrix D:\n",
      " [[-3.  6. -9.  3.]\n",
      " [ 0.  1. -5.  1.]\n",
      " [ 0.  0.  1.  1.]] \n",
      "\n"
     ]
    }
   ],
   "source": [
    "#Generating random matrix\n",
    "import numpy as np\n",
    "M = np.array( [[ -3 ,6, -9, 3],\n",
    "                [1 , -1,-2, 0],\n",
    "                [5 ,5, -7, 63]] )\n",
    "\n",
    "print(\"Augmented Matrix M:\\n\", M, \"\\n\")\n",
    "#Solving using Gaussian Elimination\n",
    "D = upper_diagonal(M)\n",
    "print (\"Upper Diagonal Matrix D:\\n\", D, \"\\n\")"
   ]
  },
  {
   "cell_type": "markdown",
   "id": "settled-manual",
   "metadata": {},
   "source": [
    "#### eliminating to find the solution"
   ]
  },
  {
   "cell_type": "code",
   "execution_count": 46,
   "id": "israeli-significance",
   "metadata": {},
   "outputs": [
    {
     "name": "stdout",
     "output_type": "stream",
     "text": [
      "Obtained solution:\n",
      " [8. 6. 1.] \n",
      "\n"
     ]
    }
   ],
   "source": [
    "x = eliminate(D)\n",
    "print (\"Obtained solution:\\n\", x, \"\\n\")"
   ]
  },
  {
   "cell_type": "markdown",
   "id": "amino-peter",
   "metadata": {},
   "source": [
    "## Gaussian Elimination can be also useful to find the determinant of the matrix\n",
    "- this time the elimination must be stopped until the upper triangular matrix. Now according to the theory its we only must make a product of the diagonal elements multiplied by -1\n",
    "* make at least one element float"
   ]
  },
  {
   "cell_type": "markdown",
   "id": "proved-custody",
   "metadata": {},
   "source": [
    "# But numpy doesnt use gaussian elimination to solve system of linear equations (although it uses upper_diagonal and lower_diagonal forms...)\n",
    "#### Solving the previous example with numpy is even easier: `np.linalg.solve(A,b)`\n",
    "* `np.linalg.solve(A,b)` - LU decomposition, Not Gaussian Elimination"
   ]
  },
  {
   "cell_type": "markdown",
   "id": "fixed-observer",
   "metadata": {},
   "source": [
    "$$-3 x + 6 y - 9 z = 3$$\n",
    "$$ \\ 1 x - 1 y - 2 z = 0$$\n",
    "$$ 5 x + 5 y - 7 z = 63$$\n",
    "\n",
    "\n"
   ]
  },
  {
   "cell_type": "code",
   "execution_count": 47,
   "id": "typical-plumbing",
   "metadata": {},
   "outputs": [
    {
     "name": "stdout",
     "output_type": "stream",
     "text": [
      "Solving: Ax=b\n",
      "\n",
      "A=\n",
      " [[-3  6 -9]\n",
      " [ 1 -1 -2]\n",
      " [ 5  5 -7]]\n",
      "\n",
      "b=\n",
      " [[ 3]\n",
      " [ 0]\n",
      " [63]]\n"
     ]
    }
   ],
   "source": [
    "A = np.array( [[ -3 ,6, -9],\n",
    "                [1 , -1,-2],\n",
    "                [5 ,5, -7]] )\n",
    "\n",
    "b= np.array([[3],\n",
    "             [0],\n",
    "             [63]])\n",
    "\n",
    "print('Solving: Ax=b\\n')\n",
    "print('A=\\n',A)\n",
    "print()\n",
    "print('b=\\n',b)"
   ]
  },
  {
   "cell_type": "code",
   "execution_count": 48,
   "id": "average-mason",
   "metadata": {},
   "outputs": [
    {
     "name": "stdout",
     "output_type": "stream",
     "text": [
      "[[8.]\n",
      " [6.]\n",
      " [1.]]\n"
     ]
    }
   ],
   "source": [
    "x=np.linalg.solve(A, b)\n",
    "print(x)"
   ]
  },
  {
   "cell_type": "markdown",
   "id": "bearing-relations",
   "metadata": {},
   "source": [
    "# Class exercises 2:"
   ]
  },
  {
   "cell_type": "markdown",
   "id": "protecting-bruce",
   "metadata": {},
   "source": [
    "Consider a circuit:\n",
    "<img src=\"imgs/homework_circuit.png\" width=\"700\" />"
   ]
  },
  {
   "cell_type": "markdown",
   "id": "african-mumbai",
   "metadata": {},
   "source": [
    "`-R1*I1 -R2*I2 -R3*I3 + 0*I4 + 0*I5 + 0*I6`"
   ]
  },
  {
   "cell_type": "markdown",
   "id": "upset-spouse",
   "metadata": {},
   "source": [
    "primera fila de matrix `A`:\n",
    "    \n",
    "`-R1, -R2, -R3,  0,  0,  0`"
   ]
  },
  {
   "cell_type": "markdown",
   "id": "through-dollar",
   "metadata": {},
   "source": [
    "The set of linear equations comes from the Kirchhoff's rules (in case of doubts review the literature)\n",
    "\n",
    "Find the currents $I_1 \\cdots I_6$ knowing that the \n",
    "\n",
    "Resistances are:\n",
    "\n",
    "$R_1=1 \\Omega$,\n",
    "$R_2=2 \\Omega$,\n",
    "$R_3=3 \\Omega$,\n",
    "$R_4=4 \\Omega$,\n",
    "$R_5=5 \\Omega$\n",
    "\n",
    "Voltages are:\n",
    "$E_1=10 V$,\n",
    "$E_2=40 V$\n",
    "\n",
    "use python build in functions  `np.linalg.solve(A,b)`"
   ]
  },
  {
   "cell_type": "code",
   "execution_count": 49,
   "id": "dynamic-clerk",
   "metadata": {},
   "outputs": [],
   "source": [
    "A=np.array([[],\n",
    "            [],\n",
    "            []])"
   ]
  },
  {
   "cell_type": "code",
   "execution_count": 50,
   "id": "hungry-empty",
   "metadata": {},
   "outputs": [
    {
     "name": "stdout",
     "output_type": "stream",
     "text": [
      "[[1 2 3]\n",
      " [4 5 6]\n",
      " [7 8 9]]\n"
     ]
    }
   ],
   "source": [
    "A=np.array([[1,2,3],\n",
    "            [4,5,6],\n",
    "            [7,8,9]]) \n",
    "print (A)"
   ]
  },
  {
   "cell_type": "markdown",
   "id": "gorgeous-dietary",
   "metadata": {},
   "source": [
    "# Class exercise 1"
   ]
  },
  {
   "cell_type": "code",
   "execution_count": 51,
   "id": "latter-reference",
   "metadata": {},
   "outputs": [],
   "source": [
    "x=np.linspace(1,3*np.pi/1.5,50)\n",
    "y = np.sin(x)\n",
    "np.savetxt('xvec.txt', x)\n",
    "np.savetxt('yvec.txt', y)"
   ]
  },
  {
   "cell_type": "code",
   "execution_count": 52,
   "id": "moral-planet",
   "metadata": {},
   "outputs": [],
   "source": [
    "import numpy as np\n",
    "x=np.loadtxt('xvec.txt')\n",
    "y=np.loadtxt('yvec.txt')"
   ]
  },
  {
   "cell_type": "code",
   "execution_count": 53,
   "id": "based-resolution",
   "metadata": {},
   "outputs": [
    {
     "data": {
      "text/plain": [
       "Text(0, 0.5, 'y')"
      ]
     },
     "execution_count": 53,
     "metadata": {},
     "output_type": "execute_result"
    },
    {
     "data": {
      "image/png": "[encoded data removed]",
      "text/plain": [
       "<Figure size 432x288 with 1 Axes>"
      ]
     },
     "metadata": {
      "needs_background": "light"
     },
     "output_type": "display_data"
    }
   ],
   "source": [
    "import matplotlib.pyplot as plt\n",
    "fig,ax=plt.subplots(1,1)\n",
    "ax.plot(x,y,'.k')\n",
    "ax.set_xlabel('x')\n",
    "ax.set_ylabel('y')"
   ]
  },
  {
   "cell_type": "markdown",
   "id": "optimum-arthur",
   "metadata": {},
   "source": [
    "#### find x for which y is minimum"
   ]
  }
 ],
 "metadata": {
  "kernelspec": {
   "display_name": "Python 3",
   "language": "python",
   "name": "python3"
  },
  "language_info": {
   "codemirror_mode": {
    "name": "ipython",
    "version": 3
   },
   "file_extension": ".py",
   "mimetype": "text/x-python",
   "name": "python",
   "nbconvert_exporter": "python",
   "pygments_lexer": "ipython3",
   "version": "3.7.2"
  }
 },
 "nbformat": 4,
 "nbformat_minor": 5
}
