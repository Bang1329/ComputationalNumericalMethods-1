{
 "cells": [
  {
   "cell_type": "markdown",
   "id": "rotary-berry",
   "metadata": {},
   "source": []
  },
  {
   "cell_type": "markdown",
   "id": "supposed-stations",
   "metadata": {},
   "source": [
    "### NUMERICAL INTEGRATION I"
   ]
  },
  {
   "cell_type": "markdown",
   "id": "educated-czech",
   "metadata": {},
   "source": [
    "Integration is the second fundamental concept of calculus (along with differentiation). Numerical approaches are generally more useful here than in differentiation as the antiderivative procedure (analytically) is often much more complex, or even not possible. In this section we will cover following topics:\n",
    "* Newton-Cotes quadrature (replaces integrand with polynomial approximation)\n",
    "* Riemman rule (Integral is a sum of sub-intevals where each sub-interval has equal length)\n",
    "* Trapezoid method, Simpson method, Clenshaw-Curtis (scipy.integrate.quad) and Monte Carlo method.\n",
    "* Gaussian Quadrature (the area under the curves is divided by unequal sub-intervals with emphasis on region where integrand is largest)\n",
    "* Monte Carlo methods in Numerical Integration II"
   ]
  },
  {
   "cell_type": "markdown",
   "id": "voluntary-classification",
   "metadata": {},
   "source": [
    "### Indefinite integral\n",
    "\n",
    "$$ I = \\int f(x) dx$$ \n",
    "\n",
    "\n",
    "(***the results is a function***)"
   ]
  },
  {
   "cell_type": "markdown",
   "id": "later-armenia",
   "metadata": {},
   "source": [
    "### Definite integral \n",
    "\n",
    "\n",
    "\n",
    "Geometrical interpretation of a definite integral: area under the curve\n",
    "(higher integrals allow to find for example a volume)\n",
    "\n",
    "$$ I = \\int_{a}^{b}f(x) dx$$ \n",
    "\n",
    "<img src=\"imgs/integral_area.png\" width=\"200\" />\n",
    "\n",
    "(***the results is a number***)\n",
    "\n",
    "*strip $\\approx slice$\n"
   ]
  },
  {
   "cell_type": "markdown",
   "id": "according-means",
   "metadata": {},
   "source": [
    "###  How can we approximate this numerically\n",
    "\n",
    "$$ I = \\int_{a}^{b}f(x) dx = \\lim_{\\Delta x \\rightarrow 0} \\sum_{i=1}^{N}f_i(x) \\Delta x $$ \n",
    "\n",
    "* because the area of each strip is $f(x_i) * \\Delta x_i$ \n",
    "\n",
    "* Riemann rule\n",
    "\n",
    "* in order to get better approximation we make more strips\n",
    "\n",
    "* this is how one could calculate the area under curve\n",
    "<img src=\"imgs/integral_area2.png\" width=\"600\" />"
   ]
  },
  {
   "cell_type": "markdown",
   "id": "quiet-essay",
   "metadata": {},
   "source": [
    "### Generalization\n",
    "\n",
    "* using rectangulars does not seem like the best formula\n",
    "\n",
    "* not only the number of strips improves the approximation but also the shape of the strip \n",
    "\n",
    "* We can replace a complicated function or a tabulated data with an approximating ($\\color{red}{\\text{interpolating}}$) function.... sounds familiar?\n",
    "\n",
    "$$ I = \\int_{a}^{b}f(x) dx \\approx \\int_{a}^{b}f_n(x) dx $$ \n",
    "\n",
    "where $f_n(x)$ is n-th order polynomial\n"
   ]
  },
  {
   "cell_type": "markdown",
   "id": "cutting-curve",
   "metadata": {},
   "source": [
    "<table><tr>\n",
    "<td> <img src=\"imgs/1polynomial.png\" width=\"200\" /> </td>\n",
    "<td> <img src=\"imgs/2polynomial.png\" width=\"200\" /> </td>\n",
    "</tr></table>"
   ]
  },
  {
   "cell_type": "markdown",
   "id": "sensitive-argentina",
   "metadata": {},
   "source": [
    "### Using 1st order Lagrange polynomial: Trapezoid approximation\n",
    "\n",
    "<img src=\"imgs/trapezoid.png\" width=\"200\" />\n",
    "\n",
    "$$ I \\approx  \\frac{f(a)+f(b)}{2} \\Delta x  = \\frac{(b-a)}{2}[f(a)+f(b)]$$\n",
    "\n",
    "* which is average height * width\n",
    "* Trapezoid approximation uses two points and can integrate first order polynomials exactly"
   ]
  },
  {
   "cell_type": "markdown",
   "id": "functioning-duration",
   "metadata": {},
   "source": [
    "### Derivation of the Trapezoid approximation\n",
    "\n",
    "Trapezoid and other approximations can be derived from the Lagrange polynomial because we said that:\n",
    "\n",
    "$$ I = \\int_{a}^{b}f(x) dx \\approx \\int_{a}^{b}f_n(x) dx $$\n",
    "where $f_n(x)$ is n-th order polynomial\n",
    "\n",
    "#### Reminder of Lagrange Polynomials \n",
    "\n",
    "$$P_n(x)=\\sum_{i=0}^{n}L_i(x) f(x_i) \\quad \\text{where} \\quad L_i(x)=\\prod_{j=0,j \\neq i}^{n} \\frac{(x-x_j)}{(x_i-x_j)}$$\n",
    "\n",
    "example for n=1\n",
    "\n",
    "$$P_1(x)=\\frac{(x-x_1)}{(x_0-x_1)}f(x_0) + \\frac{(x-x_0)}{(x_1-x_0)}f(x_1)$$\n",
    "\n",
    "example for n=2\n",
    "\n",
    "$$P_2(x)=\\frac{(x-x_1)(x-x_2)}{(x_0-x_1)(x_0-x_2)}f(x_0) + \\frac{(x-x_0)(x-x_2)}{(x_1-x_0)(x_1-x_2)}f(x_1) + \\frac{(x-x_0)(x-x_1)}{(x_2-x_1)(x_2-x_2)}f(x_2)$$"
   ]
  },
  {
   "cell_type": "markdown",
   "id": "primary-wrist",
   "metadata": {},
   "source": [
    "### Derivation details:\n",
    "\n",
    "* The trapezoid approximation is when $n=1$ for $\\int_{a}^{b}f_n(x) dx $\n",
    "\n",
    "\\begin{eqnarray}\n",
    "\\int_{a=x_0}^{b=x_1} f(x) \\ dx &\\approx& \\int_{x_0}^{x_1} P_1(x) \\ dx + E_n(n,x)^* \\\\\n",
    "&\\approx& \\int_{x_0}^{x_1} \\left[ \\frac{(x-x_1)}{(x_0-x_1)}f(x_0) + \\frac{(x-x_0)}{(x_1-x_0)}f(x_1) \\right]  dx + \\frac{1}{2} f''(\\zeta) \\int_{x_0}^{x_1} (x-x_0)(x-x_1) dx \\\\\n",
    "&\\approx& \\left[ \\frac{(x-x_1)^2}{2(x_0-x_1)}f(x_0) + \\frac{(x-x_0)^2}{2(x_1-x_0)}f(x_1) \\right]_{x_0}^{x_1}  + \\frac{1}{2} f''(\\zeta) \\int_{x_0}^{x_1} (x-x_0)(x-x_1) dx \\\\\n",
    "&\\approx& -\\frac{(x_0-x_1)^2}{2(x_0-x_1)}f(x_0) + \\frac{(x_1-x_0)^2}{2(x_1-x_0)}f(x_1)  + \\frac{1}{2} f''(\\zeta) \\left( -\\frac{h^3}{6} \\right) \\\\\n",
    "&\\approx& \\frac{h}{2}[f(x_0)+f(x_1)] - \\frac{h^3}{12} f''(\\zeta) \\\\\n",
    "\\end{eqnarray}\n",
    "\n",
    "hence:\n",
    "\n",
    "$$ \\int_{a}^{b} f(x) \\ dx = \\frac{h}{2}[f(a)+f(b)] - \\frac{h^3}{12} f''(\\zeta)  \\approx \\frac{b-a}{2}[f(a)+f(b)] $$\n",
    "\n",
    "*If we replace the function f(x) with the polynomial $P(x)$, we would like to know what \n",
    "error we are making. Hence he error is $E_n(x,f) = f(x) - P(x)$ (basically error would be the difference between the function and the polynomial we use), which comes from the Taylor expansion formula.\n",
    "\n",
    "*\n",
    "\n",
    "\n",
    "$f(x)=x$  \n",
    "$\\int f(x) dx = \\frac{x^2}{2}$"
   ]
  },
  {
   "cell_type": "markdown",
   "id": "inclusive-excitement",
   "metadata": {},
   "source": [
    "### This is called Newton-Cotes formula for n=1. Or in other words \n",
    "$\\color{red}{\\text{Trapezoid formula:}}$\n",
    "\n",
    "$$ \\int_{a}^{b} f(x) \\ dx \\approx \\frac{b-a}{2}[f(a)+f(b)]$$\n",
    "\n",
    "numerically ($h=b-a$)\n",
    "\n",
    "$$I = \\frac{f(a)+f(b)}{2} h - \\frac{h^3}{12} f''(\\zeta)$$\n"
   ]
  },
  {
   "cell_type": "markdown",
   "id": "architectural-attitude",
   "metadata": {},
   "source": [
    "## Example 1 using Trapezoid formula"
   ]
  },
  {
   "cell_type": "markdown",
   "id": "aerial-pathology",
   "metadata": {},
   "source": [
    "Integrate $f(x)= e^x$ from a=1.5 to b=2.5 using the Trapezoidal Rule. Estimate the error.\n",
    "\n",
    "$$\\int_{1.5}^{2.5} e^x dx $$\n",
    "\n",
    "Lets find a true value first analytically (for comparison)\n",
    "\n",
    "$$\\int e^x dx = e^x $$\n",
    "$$\\int_{a}^{b} e^x dx = e^x |_{a}^{b} = e^{b} – e^{a}$$\n",
    "(True value is $e^{2.5} – e^{1.5}$ = 7.700805)\n",
    "\n",
    "Using the ***trapezoidal rule***:\n",
    "$$a = 1.5$$\n",
    "$$b = 2.5$$\n",
    "$$ h = 2.5 - 1.5 = 1.0$$\n",
    "\n",
    "$$I \\approx h \\frac{f(a)+f(b)}{2} $$\n",
    "$$I \\approx 1.0 \\frac{e^{1.5}+e^{2.5}}{2} = 8.332092$$\n",
    "\n",
    "So the true error (the difference between analytical and numerical value)   \n",
    "$E_{t}=0.631287$, $\\epsilon_{t}=8.2 \\%$\n",
    "\n",
    "\n",
    "Lets estimate the error of the trapezoid rule:\n",
    "\n",
    "$$I \\approx \\frac{f(a)+f(b)}{2} h - \\frac{h^3}{12} f''(\\zeta)$$\n",
    "\n",
    "* Usually $f''(\\zeta)$ in the error term can not be evaluated since $\\zeta$ is not known.\n",
    "* If the function $f$ is known than $f''(\\zeta)$ can be approximated with an average 2nd derivative\n",
    "\n",
    "$$f''(\\zeta)\\approx \\overline{f''}(x) =\\frac{1}{b-a} \\int_{a}^{b}f''(x) dx$$\n",
    "\n",
    "hence:\n",
    "\n",
    "$$E_a=-\\frac{h^3}{12} \\frac{1}{b-a} \\int_{a}^{b}f''(x) dx$$\n",
    "$$E_a=-\\frac{1^3}{12} \\frac{1}{1} \\int_{1.5}^{2.5}e^x dx$$\n",
    "$$E_a=-0.641734$$"
   ]
  },
  {
   "cell_type": "markdown",
   "id": "minute-craps",
   "metadata": {},
   "source": [
    "### Multiple application of the Trapezoid formula\n",
    "\n",
    "<img src=\"imgs/trapezoid_multiple.png\" width=\"300\" />\n",
    "\n",
    "In general we have n+1 points and n intervals (segments). If the points are equispaced $h = (b-a)/n$ then:\n",
    "\n",
    "\n",
    "$$ \\int_{a}^{b} f(x) \\ dx =  \\int_{x_0}^{x_1} f(x) \\ dx + \\int_{x_1}^{x_2} f(x) \\ dx + \\int_{x_2}^{x_3} f(x) \\ dx + \\cdots + \\int_{x_{n-1}}^{x_n} f(x) \\ dx $$\n",
    "\n",
    "$$ I \\approx  \\frac{h}{2}[f(x_0)+f(x_1)] + \\frac{h}{2}[f(x_1)+f(x_2)] + \\frac{h}{2}[f(x_2)+f(x_3)] + \\cdots \\frac{h}{2}[f(x_{n-1})+f(x_n)]$$\n",
    "\n",
    "$$I \\approx \\frac{h}{2} \\left[ f(x_0) + 2 \\sum_{i=1}^{n-1} f(x_i) + f(x_n)\\right] = (b-a)\\left[ \\frac{f(x_0) + 2 \\sum_{i=1}^{n-1} f(x_i) + f(x_n)}{2n} \\right]$$\n",
    "\n",
    "and the last equation is again \"width * average height\"!"
   ]
  },
  {
   "cell_type": "markdown",
   "id": "encouraging-franklin",
   "metadata": {},
   "source": [
    "## Example 2: (similar task)\n",
    "Integrate $f(x)= e^x$ from $a=1.5$ to $b=2.5$ using the Trapezoidal Rule.   \n",
    "Use a step size of $h=0.25$. So:\n",
    "\n",
    "\n",
    "$a = 1.5$, $b = 2.5$, $h = 0.25$ $n=(b-a)/0.25$, so we have n=4 intervals.\n",
    "\n",
    "$$I\\approx (b-a)\\left[ \\frac{f(x_0) + 2 \\sum_{i=1}^{n-1} f(x_i) + f(x_n)}{2n} \\right] = (2.5-1.5)\\left[ \\frac{e^{1.5} + 2 (e^{1.75}+e^{2.0}+e^{2.25}) + e^{2.5}}{2*4} \\right]$$\n",
    "\n",
    "$$I \\approx 7.740872, E_t =-0.040067,  \\epsilon_t = - 0.5 \\%$$\n",
    " \n",
    "\n"
   ]
  }
 ],
 "metadata": {
  "kernelspec": {
   "display_name": "Python 3",
   "language": "python",
   "name": "python3"
  },
  "language_info": {
   "codemirror_mode": {
    "name": "ipython",
    "version": 3
   },
   "file_extension": ".py",
   "mimetype": "text/x-python",
   "name": "python",
   "nbconvert_exporter": "python",
   "pygments_lexer": "ipython3",
   "version": "3.7.2"
  }
 },
 "nbformat": 4,
 "nbformat_minor": 5
}
