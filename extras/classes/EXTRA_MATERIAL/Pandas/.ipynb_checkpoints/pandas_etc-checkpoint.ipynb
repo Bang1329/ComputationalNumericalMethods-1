{
 "cells": [
  {
   "cell_type": "markdown",
   "id": "dynamic-mount",
   "metadata": {},
   "source": [
    "# Repaso + Pandas\n",
    "### In the next partial exam is necessary to know:\n",
    "* root finding\n",
    "  * import scipy.optimize as optimize\n",
    "  * root = optimize.brentq(f_cost, 3, 4, args=(c,))\n",
    "  * root = optimize.newton(f_cost, x0, args=(c,))\n",
    "  * c is some parameter that the f_cost receives\n",
    "  \n",
    "* interpolation: \n",
    "  * from scipy.interpolate import interp1d\n",
    "  * fspline1 = interp1d(x, y, kind='cubic')\n",
    "  * newy=fspline1(newx)\n",
    "\n",
    "* how to load data from **pandas**\n",
    "* how to **plot** data with matplotlib\n",
    "* how to **append** data to list"
   ]
  },
  {
   "cell_type": "markdown",
   "id": "threatened-waste",
   "metadata": {},
   "source": [
    "#### finding root from the points of a function"
   ]
  },
  {
   "cell_type": "code",
   "execution_count": 1,
   "id": "geological-croatia",
   "metadata": {},
   "outputs": [],
   "source": [
    "import numpy as np\n",
    "import pandas as pd\n",
    "import matplotlib.pyplot as plt\n",
    "import scipy.optimize as optimize"
   ]
  },
  {
   "cell_type": "code",
   "execution_count": 2,
   "id": "dominant-danger",
   "metadata": {},
   "outputs": [],
   "source": [
    "import numpy as np\n",
    "xval=np.linspace(-np.pi,np.pi,100)\n",
    "yval=np.sin(xval-2.0)"
   ]
  },
  {
   "cell_type": "code",
   "execution_count": 3,
   "id": "narrow-stuart",
   "metadata": {},
   "outputs": [
    {
     "data": {
      "text/plain": [
       "[<matplotlib.lines.Line2D at 0x7fe3979fc0b8>]"
      ]
     },
     "execution_count": 3,
     "metadata": {},
     "output_type": "execute_result"
    },
    {
     "data": {
      "image/png": "[encoded data removed]",
      "text/plain": [
       "<Figure size 432x288 with 1 Axes>"
      ]
     },
     "metadata": {
      "needs_background": "light"
     },
     "output_type": "display_data"
    }
   ],
   "source": [
    "import matplotlib.pyplot as plt\n",
    "fig,ax=plt.subplots(1,1)\n",
    "ax.plot(xval,yval)"
   ]
  },
  {
   "cell_type": "code",
   "execution_count": 4,
   "id": "historical-reporter",
   "metadata": {},
   "outputs": [],
   "source": [
    "def fcost_num(x):\n",
    "    from scipy.interpolate import interp1d\n",
    "    xval=np.linspace(-np.pi,np.pi,100)\n",
    "    yval=np.sin(xval-2.0)\n",
    "    fspline1 = interp1d(xval, yval, kind='cubic')\n",
    "    newy=fspline1(x)\n",
    "    return newy"
   ]
  },
  {
   "cell_type": "code",
   "execution_count": 5,
   "id": "impressed-theme",
   "metadata": {},
   "outputs": [
    {
     "data": {
      "text/plain": [
       "array(0.84147099)"
      ]
     },
     "execution_count": 5,
     "metadata": {},
     "output_type": "execute_result"
    }
   ],
   "source": [
    "fcost_num(3)"
   ]
  },
  {
   "cell_type": "code",
   "execution_count": 22,
   "id": "lyric-guarantee",
   "metadata": {},
   "outputs": [
    {
     "data": {
      "text/plain": [
       "2.000000000072452"
      ]
     },
     "execution_count": 22,
     "metadata": {},
     "output_type": "execute_result"
    }
   ],
   "source": [
    "optimize.newton(fcost_num, 3)"
   ]
  },
  {
   "cell_type": "code",
   "execution_count": 23,
   "id": "grave-travel",
   "metadata": {},
   "outputs": [
    {
     "data": {
      "text/plain": [
       "2.000000000072452"
      ]
     },
     "execution_count": 23,
     "metadata": {},
     "output_type": "execute_result"
    }
   ],
   "source": [
    "optimize.brentq(fcost_num, 1, 3)"
   ]
  },
  {
   "cell_type": "markdown",
   "id": "extraordinary-spectacular",
   "metadata": {},
   "source": [
    "# Pandas and Numpy and Matplotlib"
   ]
  },
  {
   "cell_type": "code",
   "execution_count": 6,
   "id": "duplicate-airfare",
   "metadata": {},
   "outputs": [],
   "source": [
    "import numpy as np\n",
    "import pandas as pd"
   ]
  },
  {
   "cell_type": "code",
   "execution_count": 7,
   "id": "native-daily",
   "metadata": {},
   "outputs": [],
   "source": [
    "import numpy as np\n",
    "x=np.linspace(-np.pi,np.pi,100)\n",
    "ysin=np.sin(x-2.0)\n",
    "mydict={'xvec':x,'yvec':ysin} # x and y must be vectors\n",
    "df=pd.DataFrame(mydict)\n",
    "df.to_csv('xvec_yvec.csv',index=False)"
   ]
  },
  {
   "cell_type": "code",
   "execution_count": 8,
   "id": "willing-democrat",
   "metadata": {},
   "outputs": [
    {
     "data": {
      "text/html": [
       "<div>\n",
       "<style scoped>\n",
       "    .dataframe tbody tr th:only-of-type {\n",
       "        vertical-align: middle;\n",
       "    }\n",
       "\n",
       "    .dataframe tbody tr th {\n",
       "        vertical-align: top;\n",
       "    }\n",
       "\n",
       "    .dataframe thead th {\n",
       "        text-align: right;\n",
       "    }\n",
       "</style>\n",
       "<table border=\"1\" class=\"dataframe\">\n",
       "  <thead>\n",
       "    <tr style=\"text-align: right;\">\n",
       "      <th></th>\n",
       "      <th>xvec</th>\n",
       "      <th>yvec</th>\n",
       "    </tr>\n",
       "  </thead>\n",
       "  <tbody>\n",
       "    <tr>\n",
       "      <th>0</th>\n",
       "      <td>-3.141593</td>\n",
       "      <td>0.909297</td>\n",
       "    </tr>\n",
       "    <tr>\n",
       "      <th>1</th>\n",
       "      <td>-3.078126</td>\n",
       "      <td>0.933860</td>\n",
       "    </tr>\n",
       "    <tr>\n",
       "      <th>2</th>\n",
       "      <td>-3.014660</td>\n",
       "      <td>0.954663</td>\n",
       "    </tr>\n",
       "    <tr>\n",
       "      <th>3</th>\n",
       "      <td>-2.951193</td>\n",
       "      <td>0.971622</td>\n",
       "    </tr>\n",
       "    <tr>\n",
       "      <th>4</th>\n",
       "      <td>-2.887727</td>\n",
       "      <td>0.984668</td>\n",
       "    </tr>\n",
       "  </tbody>\n",
       "</table>\n",
       "</div>"
      ],
      "text/plain": [
       "       xvec      yvec\n",
       "0 -3.141593  0.909297\n",
       "1 -3.078126  0.933860\n",
       "2 -3.014660  0.954663\n",
       "3 -2.951193  0.971622\n",
       "4 -2.887727  0.984668"
      ]
     },
     "execution_count": 8,
     "metadata": {},
     "output_type": "execute_result"
    }
   ],
   "source": [
    "df.head()"
   ]
  },
  {
   "cell_type": "code",
   "execution_count": 9,
   "id": "naval-gothic",
   "metadata": {},
   "outputs": [],
   "source": [
    "df=pd.read_csv('xvec_yvec.csv',index_col=False)"
   ]
  },
  {
   "cell_type": "code",
   "execution_count": 10,
   "id": "extraordinary-hunter",
   "metadata": {},
   "outputs": [
    {
     "data": {
      "text/html": [
       "<div>\n",
       "<style scoped>\n",
       "    .dataframe tbody tr th:only-of-type {\n",
       "        vertical-align: middle;\n",
       "    }\n",
       "\n",
       "    .dataframe tbody tr th {\n",
       "        vertical-align: top;\n",
       "    }\n",
       "\n",
       "    .dataframe thead th {\n",
       "        text-align: right;\n",
       "    }\n",
       "</style>\n",
       "<table border=\"1\" class=\"dataframe\">\n",
       "  <thead>\n",
       "    <tr style=\"text-align: right;\">\n",
       "      <th></th>\n",
       "      <th>xvec</th>\n",
       "      <th>yvec</th>\n",
       "    </tr>\n",
       "  </thead>\n",
       "  <tbody>\n",
       "    <tr>\n",
       "      <th>0</th>\n",
       "      <td>-3.141593</td>\n",
       "      <td>0.909297</td>\n",
       "    </tr>\n",
       "    <tr>\n",
       "      <th>1</th>\n",
       "      <td>-3.078126</td>\n",
       "      <td>0.933860</td>\n",
       "    </tr>\n",
       "    <tr>\n",
       "      <th>2</th>\n",
       "      <td>-3.014660</td>\n",
       "      <td>0.954663</td>\n",
       "    </tr>\n",
       "    <tr>\n",
       "      <th>3</th>\n",
       "      <td>-2.951193</td>\n",
       "      <td>0.971622</td>\n",
       "    </tr>\n",
       "    <tr>\n",
       "      <th>4</th>\n",
       "      <td>-2.887727</td>\n",
       "      <td>0.984668</td>\n",
       "    </tr>\n",
       "    <tr>\n",
       "      <th>...</th>\n",
       "      <td>...</td>\n",
       "      <td>...</td>\n",
       "    </tr>\n",
       "    <tr>\n",
       "      <th>95</th>\n",
       "      <td>2.887727</td>\n",
       "      <td>0.775639</td>\n",
       "    </tr>\n",
       "    <tr>\n",
       "      <th>96</th>\n",
       "      <td>2.951193</td>\n",
       "      <td>0.814109</td>\n",
       "    </tr>\n",
       "    <tr>\n",
       "      <th>97</th>\n",
       "      <td>3.014660</td>\n",
       "      <td>0.849301</td>\n",
       "    </tr>\n",
       "    <tr>\n",
       "      <th>98</th>\n",
       "      <td>3.078126</td>\n",
       "      <td>0.881073</td>\n",
       "    </tr>\n",
       "    <tr>\n",
       "      <th>99</th>\n",
       "      <td>3.141593</td>\n",
       "      <td>0.909297</td>\n",
       "    </tr>\n",
       "  </tbody>\n",
       "</table>\n",
       "<p>100 rows × 2 columns</p>\n",
       "</div>"
      ],
      "text/plain": [
       "        xvec      yvec\n",
       "0  -3.141593  0.909297\n",
       "1  -3.078126  0.933860\n",
       "2  -3.014660  0.954663\n",
       "3  -2.951193  0.971622\n",
       "4  -2.887727  0.984668\n",
       "..       ...       ...\n",
       "95  2.887727  0.775639\n",
       "96  2.951193  0.814109\n",
       "97  3.014660  0.849301\n",
       "98  3.078126  0.881073\n",
       "99  3.141593  0.909297\n",
       "\n",
       "[100 rows x 2 columns]"
      ]
     },
     "execution_count": 10,
     "metadata": {},
     "output_type": "execute_result"
    }
   ],
   "source": [
    "df"
   ]
  },
  {
   "cell_type": "code",
   "execution_count": 11,
   "id": "attended-position",
   "metadata": {},
   "outputs": [
    {
     "name": "stdout",
     "output_type": "stream",
     "text": [
      "<class 'pandas.core.frame.DataFrame'>\n"
     ]
    }
   ],
   "source": [
    "print(type(df))"
   ]
  },
  {
   "cell_type": "code",
   "execution_count": 12,
   "id": "juvenile-watch",
   "metadata": {},
   "outputs": [
    {
     "data": {
      "text/plain": [
       "[<matplotlib.lines.Line2D at 0x7fe37e058b70>]"
      ]
     },
     "execution_count": 12,
     "metadata": {},
     "output_type": "execute_result"
    },
    {
     "data": {
      "image/png": "[encoded data removed]",
      "text/plain": [
       "<Figure size 432x288 with 1 Axes>"
      ]
     },
     "metadata": {
      "needs_background": "light"
     },
     "output_type": "display_data"
    }
   ],
   "source": [
    "import matplotlib.pyplot as plt\n",
    "fig,ax=plt.subplots(1,1)\n",
    "ax.plot(df['xvec'],df['yvec'])"
   ]
  },
  {
   "cell_type": "code",
   "execution_count": 13,
   "id": "separated-press",
   "metadata": {},
   "outputs": [],
   "source": [
    "df_numpy=df.to_numpy()"
   ]
  },
  {
   "cell_type": "code",
   "execution_count": 14,
   "id": "level-disaster",
   "metadata": {},
   "outputs": [
    {
     "name": "stdout",
     "output_type": "stream",
     "text": [
      "<class 'numpy.ndarray'>\n"
     ]
    }
   ],
   "source": [
    "print(type(df_numpy))"
   ]
  },
  {
   "cell_type": "code",
   "execution_count": 15,
   "id": "massive-attitude",
   "metadata": {},
   "outputs": [],
   "source": [
    "xvec=df_numpy[:,0]\n",
    "yvec=df_numpy[:,1]"
   ]
  },
  {
   "cell_type": "code",
   "execution_count": 16,
   "id": "brilliant-catholic",
   "metadata": {},
   "outputs": [
    {
     "data": {
      "text/plain": [
       "[<matplotlib.lines.Line2D at 0x7fe37dfa7e48>]"
      ]
     },
     "execution_count": 16,
     "metadata": {},
     "output_type": "execute_result"
    },
    {
     "data": {
      "image/png": "[encoded data removed]",
      "text/plain": [
       "<Figure size 432x288 with 1 Axes>"
      ]
     },
     "metadata": {
      "needs_background": "light"
     },
     "output_type": "display_data"
    }
   ],
   "source": [
    "import matplotlib.pyplot as plt\n",
    "fig,ax=plt.subplots(1,1)\n",
    "ax.plot(xvec,yvec)"
   ]
  },
  {
   "cell_type": "markdown",
   "id": "objective-authority",
   "metadata": {},
   "source": [
    "# appending result from operation to a an empty list\n",
    "(not very good example but its useful)"
   ]
  },
  {
   "cell_type": "code",
   "execution_count": 17,
   "id": "streaming-crisis",
   "metadata": {},
   "outputs": [],
   "source": [
    "result =[]\n",
    "for i in xvec:\n",
    "    result.append(np.sin(i))"
   ]
  },
  {
   "cell_type": "code",
   "execution_count": 18,
   "id": "above-malpractice",
   "metadata": {},
   "outputs": [
    {
     "data": {
      "text/plain": [
       "[<matplotlib.lines.Line2D at 0x7fe37df30128>]"
      ]
     },
     "execution_count": 18,
     "metadata": {},
     "output_type": "execute_result"
    },
    {
     "data": {
      "image/png": "[encoded data removed]",
      "text/plain": [
       "<Figure size 432x288 with 1 Axes>"
      ]
     },
     "metadata": {
      "needs_background": "light"
     },
     "output_type": "display_data"
    }
   ],
   "source": [
    "# note that its possible to plot mix data (np.array and list)\n",
    "import matplotlib.pyplot as plt\n",
    "fig,ax=plt.subplots(1,1)\n",
    "ax.plot(xvec,result)"
   ]
  },
  {
   "cell_type": "markdown",
   "id": "baking-check",
   "metadata": {},
   "source": [
    "# Exercise:\n",
    "* go to github (https://github.com/mhemmg/ComputationalNumericalMethods/tree/master/extras/classes/EXTRA_MATERIAL/Pandas)\n",
    "* download the csv file ('x_y_data.csv')\n",
    "* import data using Pandas\n",
    "* first column is x and all other columns are y (y0,y1,y2)\n",
    "* make plot of all the lines on one figure"
   ]
  },
  {
   "cell_type": "code",
   "execution_count": null,
   "id": "federal-sunrise",
   "metadata": {},
   "outputs": [],
   "source": []
  },
  {
   "cell_type": "code",
   "execution_count": null,
   "id": "altered-miniature",
   "metadata": {},
   "outputs": [],
   "source": []
  },
  {
   "cell_type": "code",
   "execution_count": 19,
   "id": "adjustable-contrast",
   "metadata": {},
   "outputs": [
    {
     "data": {
      "text/plain": [
       "2.000000000072452"
      ]
     },
     "execution_count": 19,
     "metadata": {},
     "output_type": "execute_result"
    }
   ],
   "source": []
  },
  {
   "cell_type": "code",
   "execution_count": 20,
   "id": "preliminary-joshua",
   "metadata": {},
   "outputs": [
    {
     "data": {
      "text/plain": [
       "2.000000000072452"
      ]
     },
     "execution_count": 20,
     "metadata": {},
     "output_type": "execute_result"
    }
   ],
   "source": []
  },
  {
   "cell_type": "code",
   "execution_count": null,
   "id": "orange-imagination",
   "metadata": {},
   "outputs": [],
   "source": []
  }
 ],
 "metadata": {
  "kernelspec": {
   "display_name": "Python 3",
   "language": "python",
   "name": "python3"
  },
  "language_info": {
   "codemirror_mode": {
    "name": "ipython",
    "version": 3
   },
   "file_extension": ".py",
   "mimetype": "text/x-python",
   "name": "python",
   "nbconvert_exporter": "python",
   "pygments_lexer": "ipython3",
   "version": "3.7.2"
  }
 },
 "nbformat": 4,
 "nbformat_minor": 5
}
