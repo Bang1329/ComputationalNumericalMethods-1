{
 "cells": [
  {
   "cell_type": "markdown",
   "source": "# Quiz sobre números",
   "metadata": {
    "cell_id": "e7b38643-a49a-4313-9751-0c40afa54e3d",
    "deepnote_cell_type": "markdown",
    "deepnote_cell_height": 82
   }
  },
  {
   "cell_type": "markdown",
   "source": "## 1. Seleccione todas las oraciones correctas\n\n***a)*** Los nombres de las variables de Python solo pueden contener letras, números y guiones bajos; los espacios no están permitidos en los nombres de variables de Python.\n\n***b)*** Una variable no puede comenzar el nombre con un número.\n    \n***c)*** La variable Python no debe contener palabras clave y nombres de funciones como nombres de variables.\n\n***d)*** En los nombres de las variables es mejor cuando se usan guiones bajos (_) entre las palabras.\n\n***e)*** Los nombres de las funciones de Python solo pueden contener letras, números y guiones bajos.\n\n***f)*** En los nombres de las funciones no se usan caracteres en mayúsculas al nombrar una función en python (no es error, solamente buena práctica)",
   "metadata": {
    "cell_id": "00001-16c4904d-38a6-49f4-9981-70218a83de32",
    "deepnote_cell_type": "markdown",
    "deepnote_cell_height": 335.125
   }
  },
  {
   "cell_type": "markdown",
   "source": "## 2. ¿Cuál de los siguientes elementos es un nombre de variable correcto?  Selecione todas las respuestas correctas (sin ejecutar este código) \n\na) `mi-variable`\n\nb) `1_my_variable`\n\nc) `my_variable!`\n\n***d)*** `mi_variable`",
   "metadata": {
    "cell_id": "00002-1359bc9b-3704-464d-83bc-d8175ed4aca7",
    "owner_user_id": "10217cb7-e807-45af-be75-488a79b03a41",
    "deepnote_cell_type": "markdown",
    "deepnote_cell_height": 297.5625
   }
  },
  {
   "cell_type": "markdown",
   "source": "## 3. ¿Qué sucede cuando se agrega un int y un float?\n\na) Aparece un error de sintaxis\n\nb) Se obtiene un `int`\n\n***c)*** Se obtiene un `float`\n",
   "metadata": {
    "cell_id": "00004-eed59768-67a3-45ec-9bf6-7b61fa96af49",
    "deepnote_cell_type": "markdown",
    "deepnote_cell_height": 181.171875
   }
  },
  {
   "cell_type": "markdown",
   "source": "##  4. De las siguientes, seleccione las líneas que incrementan la variable a por 1\n\na) `a++`\n\nb) `a = 1`\n\nc) `a -= 1`\n\n***d)*** `a = a + 1`\n\n***e)*** `a += 1`",
   "metadata": {
    "cell_id": "00005-25a1d15b-20a4-4d49-afb7-870c27653d24",
    "deepnote_cell_type": "markdown",
    "deepnote_cell_height": 293.953125
   }
  },
  {
   "cell_type": "markdown",
   "source": "## 5. ¿Cuál de las siguientes líneas de código NO es un ejemplo de \"casting\"?\n\na) `int(a)`\n\n***b)*** string(a)`\n\nc) `float(a)`\n\nd) `bool(a)`\n\n***e)*** `integer(a)`",
   "metadata": {
    "cell_id": "00006-e31e6681-eeb3-4286-88c3-15ea89077c49",
    "deepnote_cell_type": "markdown",
    "deepnote_cell_height": 293.953125
   }
  },
  {
   "cell_type": "markdown",
   "source": "## 6. ¿Cuál es la regla con respecto a los valores booleanos en Python?\n\na) Los valores booleanos distinguen entre mayúsculas y minúsculas, y deben estar en minúsculas.\n\nb) Los valores booleanos no distinguen entre mayúsculas y minúsculas, y pueden ser mayúsculas o minúsculas.\n\n***c)*** Los valores booleanos distinguen entre mayúsculas y minúsculas, y deben comenzar con mayúscula\n\nd) Los valores booleanos distinguen entre mayúsculas y minúsculas, y deben estar todos en mayúsculas.\n ",
   "metadata": {
    "cell_id": "00007-a9e6dd7a-d7f6-4c11-9991-5350c8f7cfa4",
    "deepnote_cell_type": "markdown",
    "deepnote_cell_height": 257.5625
   }
  },
  {
   "cell_type": "markdown",
   "source": "## 7. ¿Qué hay de malo en el código?  Selecione todas las respuestas correctas (sin ejecutar este código)\n```\nfor i in range(10):\nprint(i)\ni=i+1\n```\na) Nada, el código es perfecto.\n\n***b)*** loop `for` no necesita incremento `i=i+1`\n\n***c)*** falta indentación\n\n***d)*** falta `:` después de `...range(10)`",
   "metadata": {
    "cell_id": "00008-c5eaf6e1-a41b-460f-aaa5-a600afde7358",
    "owner_user_id": "a6187c4f-6b2a-4da3-bfe6-f58198d480ff",
    "deepnote_cell_type": "markdown",
    "deepnote_cell_height": 339.953125
   }
  },
  {
   "cell_type": "markdown",
   "source": "### 8. ¿Cuál es la salida (imprimida) de este bloque de código?  (elegir sin ejecutar el código). \n\n```\n a=0\n b=4\n while (a<2) and (b>4)  :\n     a=a+1\n     b=b+1\n print(a+b)\n```\na) 6\n\nb) 3\n\n**c)** 4\n\nd) 5",
   "metadata": {
    "cell_id": "00009-d1ee7b78-b95e-4425-bf65-cf2ef9d3a65a",
    "deepnote_cell_type": "markdown",
    "deepnote_cell_height": 386.34375
   }
  },
  {
   "cell_type": "markdown",
   "source": "## 9. ¿Cuál es la salida de este bloque de código? (elegir sin ejecutar el código)\n```\nfor i in range(5):\n    print(i, end='')\n```    ",
   "metadata": {
    "cell_id": "00010-fbcc3ffe-6ed5-48be-98c5-30afa71adae1",
    "deepnote_cell_type": "markdown",
    "deepnote_cell_height": 187.59375
   }
  },
  {
   "cell_type": "markdown",
   "source": "a) 1234\n\nb) 12345\n\n***c)*** 01234\n\nd) 012345",
   "metadata": {
    "cell_id": "00011-431cd9c6-cb8e-46be-b71a-2401d6853492",
    "deepnote_cell_type": "markdown",
    "deepnote_cell_height": 161.5625
   }
  },
  {
   "cell_type": "markdown",
   "source": "## 10. ¿Cuál es la salida de este bloque de código?  Selecione todas las respuestas correctas (sin ejecutar el código).",
   "metadata": {
    "cell_id": "00012-200cd355-1f64-4668-a2de-121121c289b1",
    "deepnote_cell_type": "markdown",
    "deepnote_cell_height": 110
   }
  },
  {
   "cell_type": "markdown",
   "source": "```\ndef my_function(a,b):\n    try:\n        a=int(a)\n        b=int(b)\n        result = a%b    \n        return result\n    except:\n        return None\nresult=my_function(10,'3')\nprint(result)    \n```",
   "metadata": {
    "cell_id": "00013-0558a81e-0da2-41c0-974c-dfed3e6f4bde",
    "deepnote_cell_type": "markdown",
    "deepnote_cell_height": 257.96875
   }
  },
  {
   "cell_type": "markdown",
   "source": "***a)*** 1 \n\nb) 0\n\nc) None\n\nd) 3\n\n",
   "metadata": {
    "cell_id": "00014-9c173e54-8de0-4e0a-87cd-97b6c32055d5",
    "deepnote_cell_type": "markdown",
    "deepnote_cell_height": 161.5625
   }
  },
  {
   "cell_type": "markdown",
   "source": "## 11. ¿Cuál es la salida de este bloque de código? (seleccionar sin ejecutar el código). ",
   "metadata": {
    "cell_id": "00015-87021418-53c9-47b2-ae72-172a84921e9b",
    "deepnote_cell_type": "markdown",
    "deepnote_cell_height": 110
   }
  },
  {
   "cell_type": "markdown",
   "source": "```\nsum=0              \nfor x in range(3): \n    sum=sum+x**2        \n    print(sum)  `    \n```    ",
   "metadata": {
    "cell_id": "00016-1bf46f8f-1327-40eb-84fd-0672c1e926c6",
    "deepnote_cell_type": "markdown",
    "deepnote_cell_height": 133.1875
   }
  },
  {
   "cell_type": "markdown",
   "source": "a)\n\n   0             \n   1      \n   4      \n\nb)   \n\n   0  \n   0    \n   0  \n   \n***c)***   \n\n   0  \n   1  \n   5  \n\nd)   \n\n   0  \n   1  \n   5  \n   14  \n   ",
   "metadata": {
    "cell_id": "00017-a25ce9dd-4f9c-4d76-832d-66727cd56a71",
    "deepnote_cell_type": "markdown",
    "deepnote_cell_height": 508.640625
   }
  },
  {
   "cell_type": "markdown",
   "source": "Revisado 3/5/2022 por Luisa Gómez (correctora de estilo)",
   "metadata": {
    "cell_id": "4f54cd31642d4ce7bdf6c9a5e3f42176",
    "tags": [],
    "deepnote_cell_type": "markdown",
    "deepnote_cell_height": 52.390625
   }
  },
  {
   "cell_type": "markdown",
   "source": "",
   "metadata": {
    "cell_id": "2149f0a2232847ee819a5628ca9616b9",
    "tags": [],
    "deepnote_cell_type": "markdown",
    "deepnote_cell_height": 46
   }
  },
  {
   "cell_type": "markdown",
   "source": "<a style='text-decoration:none;line-height:16px;display:flex;color:#5B5B62;padding:10px;justify-content:end;' href='https://deepnote.com?utm_source=created-in-deepnote-cell&projectId=4710cf8b-f7ec-43d1-a3bc-46d860c0e6af' target=\"_blank\">\n<img alt='Created in deepnote.com' style='display:inline;max-height:16px;margin:0px;margin-right:7.5px;' src='data:image/svg+xml;base64,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' > </img>\nCreated in <span style='font-weight:600;margin-left:4px;'>Deepnote</span></a>",
   "metadata": {
    "tags": [],
    "created_in_deepnote_cell": true,
    "deepnote_cell_type": "markdown"
   }
  }
 ],
 "nbformat": 4,
 "nbformat_minor": 5,
 "metadata": {
  "kernelspec": {
   "display_name": "Python 3",
   "language": "python",
   "name": "python3"
  },
  "language_info": {
   "codemirror_mode": {
    "name": "ipython",
    "version": 3
   },
   "file_extension": ".py",
   "mimetype": "text/x-python",
   "name": "python",
   "nbconvert_exporter": "python",
   "pygments_lexer": "ipython3",
   "version": "3.7.2"
  },
  "deepnote_notebook_id": "1c35ee5e-8488-458f-ad91-9235a6b74ec8",
  "deepnote": {},
  "deepnote_execution_queue": []
 }
}