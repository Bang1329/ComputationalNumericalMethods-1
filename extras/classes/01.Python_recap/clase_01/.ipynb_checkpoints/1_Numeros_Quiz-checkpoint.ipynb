{
 "cells": [
  {
   "cell_type": "markdown",
   "id": "solid-breakdown",
   "metadata": {
    "cell_id": "e7b38643-a49a-4313-9751-0c40afa54e3d",
    "deepnote_cell_height": 82,
    "deepnote_cell_type": "markdown"
   },
   "source": [
    "# Quiz sobre números"
   ]
  },
  {
   "cell_type": "markdown",
   "id": "cooked-humidity",
   "metadata": {
    "cell_id": "00001-16c4904d-38a6-49f4-9981-70218a83de32",
    "deepnote_cell_height": 335.125,
    "deepnote_cell_type": "markdown"
   },
   "source": [
    "## 1. Seleccione todas las oraciones correctas\n",
    "\n",
    "*a) Los nombres de las variables de Python solo pueden contener letras, números y guiones bajos; los espacios no están permitidos en los nombres de variables de Python.\n",
    "\n",
    "b) Una variable no puede comenzar el nombre con un número.\n",
    "    \n",
    "c) La variable Python no debe contener palabras clave y nombres de funciones como nombres de variables.\n",
    "\n",
    "d) En los nombres de las variables es mejor cuando se usan guiones bajos (_) entre las palabras.\n",
    "\n",
    "e) Los nombres de las funciones de Python solo pueden contener letras, números y guiones bajos.\n",
    "\n",
    "f) En los nombres de las funciones no se usan caracteres en mayúsculas al nombrar una función en python (no es error, solamente buena práctica)"
   ]
  },
  {
   "cell_type": "markdown",
   "id": "brown-testing",
   "metadata": {
    "cell_id": "00002-1359bc9b-3704-464d-83bc-d8175ed4aca7",
    "deepnote_cell_height": 297.5625,
    "deepnote_cell_type": "markdown",
    "owner_user_id": "10217cb7-e807-45af-be75-488a79b03a41"
   },
   "source": [
    "## 2. ¿Cuál de los siguientes elementos es un nombre de variable correcto?  Selecione todas las respuestas correctas (sin ejecutar este código) \n",
    "\n",
    "a) `mi-variable`\n",
    "\n",
    "b) `1_my_variable`\n",
    "\n",
    "c) `my_variable!`\n",
    "\n",
    "d) `mi_variable`"
   ]
  },
  {
   "cell_type": "markdown",
   "id": "subject-pioneer",
   "metadata": {
    "cell_id": "00004-eed59768-67a3-45ec-9bf6-7b61fa96af49",
    "deepnote_cell_height": 181.171875,
    "deepnote_cell_type": "markdown"
   },
   "source": [
    "## 3. ¿Qué sucede cuando se agrega un int y un float?\n",
    "\n",
    "a) Aparece un error de sintaxis\n",
    "\n",
    "b) Se obtiene un `int`\n",
    "\n",
    "c) Se obtiene un `float`\n"
   ]
  },
  {
   "cell_type": "markdown",
   "id": "cloudy-wheat",
   "metadata": {
    "cell_id": "00005-25a1d15b-20a4-4d49-afb7-870c27653d24",
    "deepnote_cell_height": 293.953125,
    "deepnote_cell_type": "markdown"
   },
   "source": [
    "##  4. De las siguientes, seleccione las líneas que incrementan la variable a por 1\n",
    "\n",
    "a) `a++`\n",
    "\n",
    "b) `a = 1`\n",
    "\n",
    "c) `a -= 1`\n",
    "\n",
    "d) `a = a + 1`\n",
    "\n",
    "e) `a += 1`"
   ]
  },
  {
   "cell_type": "markdown",
   "id": "married-venue",
   "metadata": {
    "cell_id": "00006-e31e6681-eeb3-4286-88c3-15ea89077c49",
    "deepnote_cell_height": 293.953125,
    "deepnote_cell_type": "markdown"
   },
   "source": [
    "## 5. ¿Cuál de las siguientes líneas de código NO es un ejemplo de \"casting\"?\n",
    "\n",
    "a) `int(a)`\n",
    "\n",
    "b) `string(a)`\n",
    "\n",
    "c) `float(a)`\n",
    "\n",
    "d) `bool(a)`\n",
    "\n",
    "e) `integer(a)`"
   ]
  },
  {
   "cell_type": "markdown",
   "id": "trained-quantity",
   "metadata": {
    "cell_id": "00007-a9e6dd7a-d7f6-4c11-9991-5350c8f7cfa4",
    "deepnote_cell_height": 257.5625,
    "deepnote_cell_type": "markdown"
   },
   "source": [
    "## 6. ¿Cuál es la regla con respecto a los valores booleanos en Python?\n",
    "\n",
    "a) Los valores booleanos distinguen entre mayúsculas y minúsculas, y deben estar en minúsculas.\n",
    "\n",
    "b) Los valores booleanos no distinguen entre mayúsculas y minúsculas, y pueden ser mayúsculas o minúsculas.\n",
    "\n",
    "c) Los valores booleanos distinguen entre mayúsculas y minúsculas, y deben comenzar con mayúscula\n",
    "\n",
    "d) Los valores booleanos distinguen entre mayúsculas y minúsculas, y deben estar todos en mayúsculas.\n",
    " "
   ]
  },
  {
   "cell_type": "markdown",
   "id": "coral-heater",
   "metadata": {
    "cell_id": "00008-c5eaf6e1-a41b-460f-aaa5-a600afde7358",
    "deepnote_cell_height": 339.953125,
    "deepnote_cell_type": "markdown",
    "owner_user_id": "a6187c4f-6b2a-4da3-bfe6-f58198d480ff"
   },
   "source": [
    "## 7. ¿Qué hay de malo en el código?  Selecione todas las respuestas correctas (sin ejecutar este código)\n",
    "```\n",
    "for i in range(10):\n",
    "print(i)\n",
    "i=i+1\n",
    "```\n",
    "a) Nada, el código es perfecto.\n",
    "\n",
    "b) loop `for` no necesita incremento `i=i+1`\n",
    "\n",
    "c) falta indentación\n",
    "\n",
    "d) falta `:` después de `...range(10)`"
   ]
  },
  {
   "cell_type": "markdown",
   "id": "pressing-moses",
   "metadata": {
    "cell_id": "00009-d1ee7b78-b95e-4425-bf65-cf2ef9d3a65a",
    "deepnote_cell_height": 386.34375,
    "deepnote_cell_type": "markdown"
   },
   "source": [
    "### 8. ¿Cuál es la salida (imprimida) de este bloque de código?  (elegir sin ejecutar el código). \n",
    "\n",
    "```\n",
    " a=0\n",
    " b=4\n",
    " while (a<2) and (b>4)  :\n",
    "     a=a+1\n",
    "     b=b+1\n",
    " print(a+b)\n",
    "```\n",
    "a) 6\n",
    "\n",
    "b) 3\n",
    "\n",
    "c) 4\n",
    "\n",
    "d) 5"
   ]
  },
  {
   "cell_type": "markdown",
   "id": "coordinate-tobacco",
   "metadata": {
    "cell_id": "00010-fbcc3ffe-6ed5-48be-98c5-30afa71adae1",
    "deepnote_cell_height": 187.59375,
    "deepnote_cell_type": "markdown"
   },
   "source": [
    "## 9. ¿Cuál es la salida de este bloque de código? (elegir sin ejecutar el código)\n",
    "```\n",
    "for i in range(5):\n",
    "    print(i, end='')\n",
    "```    "
   ]
  },
  {
   "cell_type": "markdown",
   "id": "sunrise-israeli",
   "metadata": {
    "cell_id": "00011-431cd9c6-cb8e-46be-b71a-2401d6853492",
    "deepnote_cell_height": 161.5625,
    "deepnote_cell_type": "markdown"
   },
   "source": [
    "a) 1234\n",
    "\n",
    "b) 12345\n",
    "\n",
    "c) 01234\n",
    "\n",
    "d) 012345"
   ]
  },
  {
   "cell_type": "markdown",
   "id": "bizarre-census",
   "metadata": {
    "cell_id": "00012-200cd355-1f64-4668-a2de-121121c289b1",
    "deepnote_cell_height": 110,
    "deepnote_cell_type": "markdown"
   },
   "source": [
    "## 10. ¿Cuál es la salida de este bloque de código?  Selecione todas las respuestas correctas (sin ejecutar el código)."
   ]
  },
  {
   "cell_type": "markdown",
   "id": "burning-crown",
   "metadata": {
    "cell_id": "00013-0558a81e-0da2-41c0-974c-dfed3e6f4bde",
    "deepnote_cell_height": 257.96875,
    "deepnote_cell_type": "markdown"
   },
   "source": [
    "```\n",
    "def my_function(a,b):\n",
    "    try:\n",
    "        a=int(a)\n",
    "        b=int(b)\n",
    "        result = a%b    \n",
    "        return result\n",
    "    except:\n",
    "        return None\n",
    "result=my_function(10,'3')\n",
    "print(result)    \n",
    "```"
   ]
  },
  {
   "cell_type": "markdown",
   "id": "false-flesh",
   "metadata": {
    "cell_id": "00014-9c173e54-8de0-4e0a-87cd-97b6c32055d5",
    "deepnote_cell_height": 161.5625,
    "deepnote_cell_type": "markdown"
   },
   "source": [
    "a) 1 \n",
    "\n",
    "b) 0\n",
    "\n",
    "c) None\n",
    "\n",
    "d) 3\n",
    "\n"
   ]
  },
  {
   "cell_type": "markdown",
   "id": "hourly-serbia",
   "metadata": {
    "cell_id": "00015-87021418-53c9-47b2-ae72-172a84921e9b",
    "deepnote_cell_height": 110,
    "deepnote_cell_type": "markdown"
   },
   "source": [
    "## 11. ¿Cuál es la salida de este bloque de código? (seleccionar sin ejecutar el código). "
   ]
  },
  {
   "cell_type": "markdown",
   "id": "deadly-relay",
   "metadata": {
    "cell_id": "00016-1bf46f8f-1327-40eb-84fd-0672c1e926c6",
    "deepnote_cell_height": 133.1875,
    "deepnote_cell_type": "markdown"
   },
   "source": [
    "```\n",
    "sum=0              \n",
    "for x in range(3): \n",
    "    sum=sum+x**2        \n",
    "    print(sum)  `    \n",
    "```    "
   ]
  },
  {
   "cell_type": "markdown",
   "id": "front-carrier",
   "metadata": {
    "cell_id": "00017-a25ce9dd-4f9c-4d76-832d-66727cd56a71",
    "deepnote_cell_height": 508.640625,
    "deepnote_cell_type": "markdown"
   },
   "source": [
    "a)\n",
    "\n",
    "   0             \n",
    "   1      \n",
    "   4      \n",
    "\n",
    "b)   \n",
    "\n",
    "   0  \n",
    "   0    \n",
    "   0  \n",
    "   \n",
    "c)   \n",
    "\n",
    "   0  \n",
    "   1  \n",
    "   5  \n",
    "\n",
    "d)   \n",
    "\n",
    "   0  \n",
    "   1  \n",
    "   5  \n",
    "   14  \n",
    "   "
   ]
  }
 ],
 "metadata": {
  "deepnote": {},
  "deepnote_execution_queue": [],
  "deepnote_notebook_id": "1c35ee5e-8488-458f-ad91-9235a6b74ec8",
  "kernelspec": {
   "display_name": "Python 3",
   "language": "python",
   "name": "python3"
  },
  "language_info": {
   "codemirror_mode": {
    "name": "ipython",
    "version": 3
   },
   "file_extension": ".py",
   "mimetype": "text/x-python",
   "name": "python",
   "nbconvert_exporter": "python",
   "pygments_lexer": "ipython3",
   "version": "3.7.2"
  }
 },
 "nbformat": 4,
 "nbformat_minor": 5
}
