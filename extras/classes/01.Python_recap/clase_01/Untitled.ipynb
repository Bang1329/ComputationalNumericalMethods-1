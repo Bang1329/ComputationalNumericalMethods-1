{
 "cells": [
  {
   "cell_type": "code",
   "execution_count": 6,
   "id": "unlimited-burden",
   "metadata": {},
   "outputs": [],
   "source": [
    "list1=[1,2,3,55,777,8,99,1000]\n"
   ]
  },
  {
   "cell_type": "code",
   "execution_count": 7,
   "id": "behavioral-rwanda",
   "metadata": {},
   "outputs": [
    {
     "name": "stdout",
     "output_type": "stream",
     "text": [
      "1000\n"
     ]
    }
   ],
   "source": [
    "maxval=list1[0]\n",
    "for i in range(1,len(list1)):\n",
    "    if maxval<list1[i]:\n",
    "        maxval=list1[i]\n",
    "print(maxval)        "
   ]
  },
  {
   "cell_type": "code",
   "execution_count": null,
   "id": "internal-static",
   "metadata": {},
   "outputs": [],
   "source": []
  }
 ],
 "metadata": {
  "kernelspec": {
   "display_name": "Python 3",
   "language": "python",
   "name": "python3"
  },
  "language_info": {
   "codemirror_mode": {
    "name": "ipython",
    "version": 3
   },
   "file_extension": ".py",
   "mimetype": "text/x-python",
   "name": "python",
   "nbconvert_exporter": "python",
   "pygments_lexer": "ipython3",
   "version": "3.7.2"
  }
 },
 "nbformat": 4,
 "nbformat_minor": 5
}
