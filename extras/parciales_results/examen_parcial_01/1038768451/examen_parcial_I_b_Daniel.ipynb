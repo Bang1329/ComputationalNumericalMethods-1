{
 "cells": [
  {
   "cell_type": "markdown",
   "id": "plain-rugby",
   "metadata": {
    "id": "plain-rugby"
   },
   "source": [
    "# Examen parcial 1 (raizes y ~interpolacion)\n",
    "* comience con el ejercicio más fácil\n",
    "* Antes de enviar el archivo, $\\textbf{reiniciar y ejecutar el kernel}$ para ver que el archivo se compila sin errores\n",
    "* enviar el archivo jupyter sin anexos antes de las 10am del 10.08.2022 a mi dirección de correo electrónico: michal.hemmerling@udea.edu.co "
   ]
  },
  {
   "cell_type": "code",
   "execution_count": 1,
   "id": "tzye7iG-4wmk",
   "metadata": {
    "id": "tzye7iG-4wmk"
   },
   "outputs": [],
   "source": [
    "import numpy as np\n",
    "import matplotlib.pyplot as plt\n",
    "import scipy.optimize as optimize\n",
    "import pandas as pd\n",
    "from scipy.interpolate import interp1d\n",
    "import mpmath\n",
    "import math\n",
    "import time"
   ]
  },
  {
   "cell_type": "markdown",
   "id": "usual-washer",
   "metadata": {
    "id": "usual-washer"
   },
   "source": [
    "# Ejercicio I"
   ]
  },
  {
   "cell_type": "markdown",
   "id": "joint-campaign",
   "metadata": {
    "id": "joint-campaign"
   },
   "source": [
    "Usando cualquier método de búsqueda de raíz evalúe: $ \\sqrt{2} $ Compara tu resultado con el resultado de numpy"
   ]
  },
  {
   "cell_type": "code",
   "execution_count": 2,
   "id": "GXZMJmfjHp8h",
   "metadata": {
    "id": "GXZMJmfjHp8h"
   },
   "outputs": [],
   "source": [
    "def f(x):\n",
    "  y = x**2-2\n",
    "  return y"
   ]
  },
  {
   "cell_type": "code",
   "execution_count": 3,
   "id": "valuable-august",
   "metadata": {
    "colab": {
     "base_uri": "https://localhost:8080/"
    },
    "id": "valuable-august",
    "outputId": "007f49e4-5dec-42a9-d2d8-1689890fa078"
   },
   "outputs": [
    {
     "name": "stdout",
     "output_type": "stream",
     "text": [
      "-1.414213562373095\n"
     ]
    }
   ],
   "source": [
    "raiz_izq = optimize.newton(f,-2,tol=1.0e-10)\n",
    "print(raiz_izq)"
   ]
  },
  {
   "cell_type": "code",
   "execution_count": 4,
   "id": "qDLrc0xxKG9s",
   "metadata": {
    "colab": {
     "base_uri": "https://localhost:8080/"
    },
    "id": "qDLrc0xxKG9s",
    "outputId": "2087d4fe-12e4-47dd-e190-7264fcee8da8"
   },
   "outputs": [
    {
     "name": "stdout",
     "output_type": "stream",
     "text": [
      "1.414213562373095\n"
     ]
    }
   ],
   "source": [
    "raiz_der = optimize.newton(f,2,tol=1.0e-10)\n",
    "print(raiz_der)"
   ]
  },
  {
   "cell_type": "code",
   "execution_count": 5,
   "id": "aG_HnCz8JbIX",
   "metadata": {
    "colab": {
     "base_uri": "https://localhost:8080/"
    },
    "id": "aG_HnCz8JbIX",
    "outputId": "3858c22c-baa7-4f64-a079-df7df9357c10"
   },
   "outputs": [
    {
     "data": {
      "text/plain": [
       "-1.4142135623730951"
      ]
     },
     "execution_count": 5,
     "metadata": {},
     "output_type": "execute_result"
    }
   ],
   "source": [
    "valor1 = -1*np.sqrt(2)\n",
    "valor1               "
   ]
  },
  {
   "cell_type": "code",
   "execution_count": 6,
   "id": "xjdFE84_Kggz",
   "metadata": {
    "colab": {
     "base_uri": "https://localhost:8080/"
    },
    "id": "xjdFE84_Kggz",
    "outputId": "6265853b-e874-4368-fb05-74a51f021ca0"
   },
   "outputs": [
    {
     "data": {
      "text/plain": [
       "1.4142135623730951"
      ]
     },
     "execution_count": 6,
     "metadata": {},
     "output_type": "execute_result"
    }
   ],
   "source": [
    "valor2 = np.sqrt(2)\n",
    "valor2"
   ]
  },
  {
   "cell_type": "markdown",
   "id": "restricted-boston",
   "metadata": {
    "id": "restricted-boston"
   },
   "source": [
    "# Ejercicio II"
   ]
  },
  {
   "cell_type": "markdown",
   "id": "dental-residence",
   "metadata": {
    "id": "dental-residence"
   },
   "source": [
    "Interpolar los datos que están en el archivo:https://mega.nz/file/2UMjACgS#TYEfSASud9kmZYsYvTiIOXj6CCMiIlSzb_gUqKBU7A4\n",
    "\n",
    "* a) importar los datos usando pandas\n",
    "* b) hacer un gráfico de $x$ vs $y$ (curva tiene que tener etiquieta)\n",
    "* c) interpolar los puntos con spline (usando 100 puntos) \n",
    "* d) anadir curva a grafico anterior con datos interpolados de $x_{interp}$ vs $y_{interp}$ (curva tiene que tener etiquieta)\n",
    "**graficos tienen que tener etiquietas**"
   ]
  },
  {
   "cell_type": "code",
   "execution_count": 7,
   "id": "missing-marketing",
   "metadata": {
    "colab": {
     "base_uri": "https://localhost:8080/"
    },
    "id": "missing-marketing",
    "outputId": "701e9f8f-e511-4fec-dca3-8f9cd2e55ae6"
   },
   "outputs": [
    {
     "name": "stdout",
     "output_type": "stream",
     "text": [
      "--2022-08-10 14:31:57--  https://raw.githubusercontent.com/daniel-aguirre5/ComputationalNumericalMethods/master/extras/additional_materials/examen_parcial_I_b/xvec_yvec.csv\n",
      "Resolving raw.githubusercontent.com (raw.githubusercontent.com)... 185.199.110.133, 185.199.109.133, 185.199.108.133, ...\n",
      "Connecting to raw.githubusercontent.com (raw.githubusercontent.com)|185.199.110.133|:443... connected.\n",
      "HTTP request sent, awaiting response... 200 OK\n",
      "Length: 781 [text/plain]\n",
      "Saving to: ‘xvec_yvec.csv.4’\n",
      "\n",
      "xvec_yvec.csv.4     100%[===================>]     781  --.-KB/s    in 0s      \n",
      "\n",
      "2022-08-10 14:31:57 (33.8 MB/s) - ‘xvec_yvec.csv.4’ saved [781/781]\n",
      "\n"
     ]
    }
   ],
   "source": [
    "! wget https://raw.githubusercontent.com/daniel-aguirre5/ComputationalNumericalMethods/master/extras/additional_materials/examen_parcial_I_b/xvec_yvec.csv"
   ]
  },
  {
   "cell_type": "code",
   "execution_count": 8,
   "id": "EyeUPDiB56rQ",
   "metadata": {
    "colab": {
     "base_uri": "https://localhost:8080/"
    },
    "id": "EyeUPDiB56rQ",
    "outputId": "61620609-7ee6-4df0-97c9-3f1bbf791a87"
   },
   "outputs": [
    {
     "name": "stdout",
     "output_type": "stream",
     "text": [
      "sample_data    xvec_yvec.csv.1\txvec_yvec.csv.3\n",
      "xvec_yvec.csv  xvec_yvec.csv.2\txvec_yvec.csv.4\n"
     ]
    }
   ],
   "source": [
    "! ls"
   ]
  },
  {
   "cell_type": "code",
   "execution_count": 9,
   "id": "iAIwc1Rn5_Wa",
   "metadata": {
    "colab": {
     "base_uri": "https://localhost:8080/",
     "height": 206
    },
    "id": "iAIwc1Rn5_Wa",
    "outputId": "b50de727-0137-4bc3-b8d2-304b6d01b6af"
   },
   "outputs": [
    {
     "data": {
      "text/html": [
       "\n",
       "  <div id=\"df-896bbcf2-d5b1-4927-be99-f208c0f80dfd\">\n",
       "    <div class=\"colab-df-container\">\n",
       "      <div>\n",
       "<style scoped>\n",
       "    .dataframe tbody tr th:only-of-type {\n",
       "        vertical-align: middle;\n",
       "    }\n",
       "\n",
       "    .dataframe tbody tr th {\n",
       "        vertical-align: top;\n",
       "    }\n",
       "\n",
       "    .dataframe thead th {\n",
       "        text-align: right;\n",
       "    }\n",
       "</style>\n",
       "<table border=\"1\" class=\"dataframe\">\n",
       "  <thead>\n",
       "    <tr style=\"text-align: right;\">\n",
       "      <th></th>\n",
       "      <th>xvec</th>\n",
       "      <th>yvec</th>\n",
       "    </tr>\n",
       "  </thead>\n",
       "  <tbody>\n",
       "    <tr>\n",
       "      <th>0</th>\n",
       "      <td>-3.000000</td>\n",
       "      <td>0.001826</td>\n",
       "    </tr>\n",
       "    <tr>\n",
       "      <th>1</th>\n",
       "      <td>-2.684211</td>\n",
       "      <td>0.008663</td>\n",
       "    </tr>\n",
       "    <tr>\n",
       "      <th>2</th>\n",
       "      <td>-2.368421</td>\n",
       "      <td>-0.015065</td>\n",
       "    </tr>\n",
       "    <tr>\n",
       "      <th>3</th>\n",
       "      <td>-2.052632</td>\n",
       "      <td>-0.042610</td>\n",
       "    </tr>\n",
       "    <tr>\n",
       "      <th>4</th>\n",
       "      <td>-1.736842</td>\n",
       "      <td>0.011004</td>\n",
       "    </tr>\n",
       "  </tbody>\n",
       "</table>\n",
       "</div>\n",
       "      <button class=\"colab-df-convert\" onclick=\"convertToInteractive('df-896bbcf2-d5b1-4927-be99-f208c0f80dfd')\"\n",
       "              title=\"Convert this dataframe to an interactive table.\"\n",
       "              style=\"display:none;\">\n",
       "        \n",
       "  <svg xmlns=\"http://www.w3.org/2000/svg\" height=\"24px\"viewBox=\"0 0 24 24\"\n",
       "       width=\"24px\">\n",
       "    <path d=\"M0 0h24v24H0V0z\" fill=\"none\"/>\n",
       "    <path d=\"M18.56 5.44l.94 2.06.94-2.06 2.06-.94-2.06-.94-.94-2.06-.94 2.06-2.06.94zm-11 1L8.5 8.5l.94-2.06 2.06-.94-2.06-.94L8.5 2.5l-.94 2.06-2.06.94zm10 10l.94 2.06.94-2.06 2.06-.94-2.06-.94-.94-2.06-.94 2.06-2.06.94z\"/><path d=\"M17.41 7.96l-1.37-1.37c-.4-.4-.92-.59-1.43-.59-.52 0-1.04.2-1.43.59L10.3 9.45l-7.72 7.72c-.78.78-.78 2.05 0 2.83L4 21.41c.39.39.9.59 1.41.59.51 0 1.02-.2 1.41-.59l7.78-7.78 2.81-2.81c.8-.78.8-2.07 0-2.86zM5.41 20L4 18.59l7.72-7.72 1.47 1.35L5.41 20z\"/>\n",
       "  </svg>\n",
       "      </button>\n",
       "      \n",
       "  <style>\n",
       "    .colab-df-container {\n",
       "      display:flex;\n",
       "      flex-wrap:wrap;\n",
       "      gap: 12px;\n",
       "    }\n",
       "\n",
       "    .colab-df-convert {\n",
       "      background-color: #E8F0FE;\n",
       "      border: none;\n",
       "      border-radius: 50%;\n",
       "      cursor: pointer;\n",
       "      display: none;\n",
       "      fill: #1967D2;\n",
       "      height: 32px;\n",
       "      padding: 0 0 0 0;\n",
       "      width: 32px;\n",
       "    }\n",
       "\n",
       "    .colab-df-convert:hover {\n",
       "      background-color: #E2EBFA;\n",
       "      box-shadow: 0px 1px 2px rgba(60, 64, 67, 0.3), 0px 1px 3px 1px rgba(60, 64, 67, 0.15);\n",
       "      fill: #174EA6;\n",
       "    }\n",
       "\n",
       "    [theme=dark] .colab-df-convert {\n",
       "      background-color: #3B4455;\n",
       "      fill: #D2E3FC;\n",
       "    }\n",
       "\n",
       "    [theme=dark] .colab-df-convert:hover {\n",
       "      background-color: #434B5C;\n",
       "      box-shadow: 0px 1px 3px 1px rgba(0, 0, 0, 0.15);\n",
       "      filter: drop-shadow(0px 1px 2px rgba(0, 0, 0, 0.3));\n",
       "      fill: #FFFFFF;\n",
       "    }\n",
       "  </style>\n",
       "\n",
       "      <script>\n",
       "        const buttonEl =\n",
       "          document.querySelector('#df-896bbcf2-d5b1-4927-be99-f208c0f80dfd button.colab-df-convert');\n",
       "        buttonEl.style.display =\n",
       "          google.colab.kernel.accessAllowed ? 'block' : 'none';\n",
       "\n",
       "        async function convertToInteractive(key) {\n",
       "          const element = document.querySelector('#df-896bbcf2-d5b1-4927-be99-f208c0f80dfd');\n",
       "          const dataTable =\n",
       "            await google.colab.kernel.invokeFunction('convertToInteractive',\n",
       "                                                     [key], {});\n",
       "          if (!dataTable) return;\n",
       "\n",
       "          const docLinkHtml = 'Like what you see? Visit the ' +\n",
       "            '<a target=\"_blank\" href=https://colab.research.google.com/notebooks/data_table.ipynb>data table notebook</a>'\n",
       "            + ' to learn more about interactive tables.';\n",
       "          element.innerHTML = '';\n",
       "          dataTable['output_type'] = 'display_data';\n",
       "          await google.colab.output.renderOutput(dataTable, element);\n",
       "          const docLink = document.createElement('div');\n",
       "          docLink.innerHTML = docLinkHtml;\n",
       "          element.appendChild(docLink);\n",
       "        }\n",
       "      </script>\n",
       "    </div>\n",
       "  </div>\n",
       "  "
      ],
      "text/plain": [
       "       xvec      yvec\n",
       "0 -3.000000  0.001826\n",
       "1 -2.684211  0.008663\n",
       "2 -2.368421 -0.015065\n",
       "3 -2.052632 -0.042610\n",
       "4 -1.736842  0.011004"
      ]
     },
     "execution_count": 9,
     "metadata": {},
     "output_type": "execute_result"
    }
   ],
   "source": [
    "df = pd.read_csv('xvec_yvec.csv')\n",
    "df.head()"
   ]
  },
  {
   "cell_type": "code",
   "execution_count": 10,
   "id": "yqpbpntE6kqZ",
   "metadata": {
    "id": "yqpbpntE6kqZ"
   },
   "outputs": [],
   "source": [
    "x = df['xvec']\n",
    "x = np.array(x)\n",
    "\n",
    "y = df['yvec']\n",
    "y = np.array(y)"
   ]
  },
  {
   "cell_type": "code",
   "execution_count": 11,
   "id": "2bxrb8ZS7MwY",
   "metadata": {
    "colab": {
     "base_uri": "https://localhost:8080/",
     "height": 530
    },
    "id": "2bxrb8ZS7MwY",
    "outputId": "fb3d704f-d7d8-4e66-de7e-badeadc99d27"
   },
   "outputs": [
    {
     "data": {
      "text/plain": [
       "Text(0.5, 1.0, 'Gráfico y vs x')"
      ]
     },
     "execution_count": 11,
     "metadata": {},
     "output_type": "execute_result"
    },
    {
     "data": {
      "image/png": "[encoded data removed]",
      "text/plain": [
       "<Figure size 720x576 with 1 Axes>"
      ]
     },
     "metadata": {
      "needs_background": "light"
     },
     "output_type": "display_data"
    }
   ],
   "source": [
    "fig,ax=plt.subplots(1,1,figsize=(10,8))\n",
    "ax.scatter(x,y,color='red',label='Datos')\n",
    "ax.grid('True')\n",
    "ax.legend()\n",
    "ax.set_xlabel('x')\n",
    "ax.set_ylabel('y')\n",
    "plt.title('Gráfico y vs x')"
   ]
  },
  {
   "cell_type": "code",
   "execution_count": 12,
   "id": "c8I1cMdw8CzW",
   "metadata": {
    "id": "c8I1cMdw8CzW"
   },
   "outputs": [],
   "source": [
    "interp = interp1d(x,y,kind='cubic')"
   ]
  },
  {
   "cell_type": "code",
   "execution_count": 13,
   "id": "_yDdhyHh8f_N",
   "metadata": {
    "id": "_yDdhyHh8f_N"
   },
   "outputs": [],
   "source": [
    "x_data = np.linspace(x[0],x[-1],100)"
   ]
  },
  {
   "cell_type": "code",
   "execution_count": 14,
   "id": "mpr6VkT48t5N",
   "metadata": {
    "colab": {
     "base_uri": "https://localhost:8080/",
     "height": 529
    },
    "id": "mpr6VkT48t5N",
    "outputId": "029c07bb-7a84-4ad4-f8c9-0df003f36081"
   },
   "outputs": [
    {
     "data": {
      "text/plain": [
       "Text(0.5, 1.0, '$x_{interp}$ vs $y_{interp}$')"
      ]
     },
     "execution_count": 14,
     "metadata": {},
     "output_type": "execute_result"
    },
    {
     "data": {
      "image/png": "[encoded data removed]",
      "text/plain": [
       "<Figure size 720x576 with 1 Axes>"
      ]
     },
     "metadata": {
      "needs_background": "light"
     },
     "output_type": "display_data"
    }
   ],
   "source": [
    "fig,ax=plt.subplots(1,1,figsize=(10,8))\n",
    "ax.scatter(x,y,color='red',label='Datos')\n",
    "ax.scatter(x_data,interp(x_data),color='black',label='Datos interpolados')\n",
    "ax.plot(x_data,interp(x_data),color='blue',label='Curva')\n",
    "ax.grid('True')\n",
    "ax.legend()\n",
    "ax.set_xlabel('x')\n",
    "ax.set_ylabel('y')\n",
    "plt.title('$x_{interp}$ vs $y_{interp}$')"
   ]
  },
  {
   "cell_type": "markdown",
   "id": "acute-sword",
   "metadata": {
    "id": "acute-sword"
   },
   "source": [
    "# Ejercicio III"
   ]
  },
  {
   "cell_type": "markdown",
   "id": "incident-probability",
   "metadata": {
    "id": "incident-probability"
   },
   "source": [
    "Se da función (serie de Taylor)"
   ]
  },
  {
   "cell_type": "code",
   "execution_count": 15,
   "id": "champion-toddler",
   "metadata": {
    "id": "champion-toddler"
   },
   "outputs": [],
   "source": [
    "def cos_taylor(x,k):\n",
    "    cos=0\n",
    "    for k in range(k):\n",
    "        cos=cos+(-1)**k/math.factorial(2*k)*x**(2*k)\n",
    "    return cos"
   ]
  },
  {
   "cell_type": "markdown",
   "id": "WoiMVcTDFOs9",
   "metadata": {
    "id": "WoiMVcTDFOs9"
   },
   "source": [
    "Hacer una gráfica de tiempo de la ejecución de la función para varios `k`, `ks=[1,10,100,1000,2000,3000,4000,5000]` y para `x=0.2` "
   ]
  },
  {
   "cell_type": "code",
   "execution_count": 16,
   "id": "tU8Hr3-vCuWi",
   "metadata": {
    "colab": {
     "base_uri": "https://localhost:8080/"
    },
    "id": "tU8Hr3-vCuWi",
    "outputId": "9323435d-edb4-4371-b8e1-57c7ecd1664e"
   },
   "outputs": [
    {
     "name": "stdout",
     "output_type": "stream",
     "text": [
      "[1.40666962e-05 1.62124634e-05 3.37123871e-04 5.80077171e-02\n",
      " 3.94409418e-01 2.11725140e+00 6.18371534e+00 1.21371641e+01]\n"
     ]
    }
   ],
   "source": [
    "ks = [1,10,100,1000,2000,3000,4000,5000]\n",
    "time_t = []\n",
    "\n",
    "for i in ks:\n",
    "  times1 = time.time()\n",
    "\n",
    "  cos_taylor(0.2,i)\n",
    "\n",
    "  times2 = time.time()\n",
    "\n",
    "  time_i = (times2 - times1) \n",
    "\n",
    "  time_t.append(time_i)\n",
    "\n",
    "time_t = np.array(time_t)\n",
    "print(time_t)               "
   ]
  },
  {
   "cell_type": "markdown",
   "id": "sound-reflection",
   "metadata": {
    "id": "sound-reflection"
   },
   "source": [
    "Hacer una gráfica de tiempo de la ejecución de la función para varios `k`, `ks=[1,10,100,1000,2000,3000,4000,5000]` y para `x=0.2` "
   ]
  },
  {
   "cell_type": "code",
   "execution_count": 17,
   "id": "IXc9NJMzFZfN",
   "metadata": {
    "colab": {
     "base_uri": "https://localhost:8080/",
     "height": 530
    },
    "id": "IXc9NJMzFZfN",
    "outputId": "41d54b0c-aa77-4e95-cc94-0be7bcb4acca"
   },
   "outputs": [
    {
     "data": {
      "text/plain": [
       "Text(0.5, 1.0, 'Gráfica de tiempo vs ks')"
      ]
     },
     "execution_count": 17,
     "metadata": {},
     "output_type": "execute_result"
    },
    {
     "data": {
      "image/png": "[encoded data removed]",
      "text/plain": [
       "<Figure size 720x576 with 1 Axes>"
      ]
     },
     "metadata": {
      "needs_background": "light"
     },
     "output_type": "display_data"
    }
   ],
   "source": [
    "fig,ax=plt.subplots(1,1,figsize=(10,8))\n",
    "ax.scatter(ks,time_t,color='red',label='Datos')\n",
    "ax.grid('True')\n",
    "ax.legend()\n",
    "ax.set_xlabel('ks')\n",
    "ax.set_ylabel('tiempo')\n",
    "plt.title('Gráfica de tiempo vs ks')"
   ]
  },
  {
   "cell_type": "markdown",
   "id": "roman-sector",
   "metadata": {},
   "source": [
    "# Criterias:\n",
    "\n",
    "```\n",
    "# Exercise 1 (max 4p):\n",
    "#   correct solution:                            4.0p   \n",
    "\n",
    "# Exercise 2 (max 4p):\n",
    "#   loading data + plot (max: 2.0p):             2.0p   \n",
    "#   interpolating + plot (max. 2.0p):            2.0p \n",
    "\n",
    "\n",
    "# Exercise 3 (max 2p):\n",
    "#   implementation (max: 1.0p):                  1.0p   \n",
    "#   plot (max: 1.0p):                            1.0p   \n",
    "\n",
    "# TOTAL:                                         10.0p (out of 10p) \n",
    "\n",
    "```    "
   ]
  },
  {
   "cell_type": "code",
   "execution_count": null,
   "id": "unnecessary-bible",
   "metadata": {},
   "outputs": [],
   "source": []
  }
 ],
 "metadata": {
  "colab": {
   "collapsed_sections": [],
   "name": "examen_parcial_I_b.ipynb",
   "provenance": []
  },
  "kernelspec": {
   "display_name": "Python 3",
   "language": "python",
   "name": "python3"
  },
  "language_info": {
   "codemirror_mode": {
    "name": "ipython",
    "version": 3
   },
   "file_extension": ".py",
   "mimetype": "text/x-python",
   "name": "python",
   "nbconvert_exporter": "python",
   "pygments_lexer": "ipython3",
   "version": "3.7.2"
  }
 },
 "nbformat": 4,
 "nbformat_minor": 5
}
