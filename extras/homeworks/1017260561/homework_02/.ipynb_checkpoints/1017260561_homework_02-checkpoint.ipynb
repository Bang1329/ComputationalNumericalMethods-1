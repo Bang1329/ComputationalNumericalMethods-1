{
 "cells": [
  {
   "cell_type": "markdown",
   "metadata": {
    "id": "n4S_8XTlJ9N8"
   },
   "source": [
    "Manuela Montoya Gonzalez"
   ]
  },
  {
   "cell_type": "markdown",
   "metadata": {
    "id": "Leg0jyV-UvEm"
   },
   "source": [
    "TAREA SOBRE ROOT FINDING:\n",
    "Basado en el material de la clase pasada:\n",
    "\n",
    "construye su propia función my_root_finding(func,xL,xR,tol) que recibe tres argumentos func,xL,xR,tol y devuelve el valor de la raíz de método de bisección usando el loop while\n",
    "pruebe su código para los parámetros dados:\n",
    "XL=2, XR=6\n",
    "tol=0.001\\\n",
    "func= x**2 - 22 "
   ]
  },
  {
   "cell_type": "code",
   "execution_count": 14,
   "metadata": {
    "colab": {
     "base_uri": "https://localhost:8080/",
     "height": 282
    },
    "id": "srTF8QWABUWm",
    "outputId": "8f8f5069-98cb-4f56-c257-37ddcbab49aa"
   },
   "outputs": [
    {
     "name": "stdout",
     "output_type": "stream",
     "text": [
      "4.69041575982343\n"
     ]
    },
    {
     "data": {
      "image/png": "[encoded data removed]",
      "text/plain": [
       "<Figure size 432x288 with 1 Axes>"
      ]
     },
     "metadata": {
      "needs_background": "light"
     },
     "output_type": "display_data"
    }
   ],
   "source": [
    "import scipy.optimize as optimize\n",
    "import numpy as np\n",
    "import matplotlib.pyplot as plt\n",
    "\n",
    "def func(x):\n",
    "  return (x)**2 - 22\n",
    "x = np.linspace(10,-10,100)\n",
    "fig,ax = plt.subplots(1,1)\n",
    "ax.plot(x,func(x))\n",
    "ax.grid('true')\n",
    "print(np.sqrt(22)) #si x = (22)**(1/2) --- tenemos dos raices\n",
    "#Debemos parar cuando abs(func(xn))<tol (tolerancia)\n",
    "\n",
    "#Creamos nuestro ciclo while\n",
    "def my_root_finding(func,xl,xr,tol):\n",
    "  error = abs(func((xl+xr)/2))\n",
    "  while error > tol:\n",
    "    xn = (xl + xr)/2 #Nuevo punto\n",
    "    if func(xn) == 0:\n",
    "      root =  xn\n",
    "      break\n",
    "    if func(xl)*func(xn) < 0: #Para saber si la raiz esta entre esos dos puntos\n",
    "      xr = xn\n",
    "    if func(xl)*func(xn) > 0:\n",
    "      xl = xn\n",
    "    root = xn\n",
    "    error = abs(func(xn))\n",
    "  print(root)"
   ]
  },
  {
   "cell_type": "code",
   "execution_count": 15,
   "metadata": {
    "colab": {
     "base_uri": "https://localhost:8080/"
    },
    "id": "QSwuZvhh57ob",
    "outputId": "c8834aeb-5576-4671-cc70-3bb8c1f2454b"
   },
   "outputs": [
    {
     "name": "stdout",
     "output_type": "stream",
     "text": [
      "4.6904296875\n"
     ]
    }
   ],
   "source": [
    "my_root_finding(func,2,6,0.001)"
   ]
  },
  {
   "cell_type": "code",
   "execution_count": 13,
   "metadata": {
    "colab": {
     "base_uri": "https://localhost:8080/"
    },
    "id": "10ZwXcLP6T6o",
    "outputId": "0a0808de-0534-4dbd-b8f4-d19f903e3e20"
   },
   "outputs": [
    {
     "data": {
      "text/plain": [
       "0.00013065338134765625"
      ]
     },
     "execution_count": 13,
     "metadata": {},
     "output_type": "execute_result"
    }
   ],
   "source": [
    "func(4.6904296875)"
   ]
  },
  {
   "cell_type": "code",
   "execution_count": null,
   "metadata": {
    "colab": {
     "base_uri": "https://localhost:8080/"
    },
    "id": "skMYM4sq-zPT",
    "outputId": "3a15879b-99ef-4598-a9db-17ddc02c6a6d"
   },
   "outputs": [
    {
     "name": "stdout",
     "output_type": "stream",
     "text": [
      "4.690411801311136\n"
     ]
    }
   ],
   "source": [
    "#Comprobamos \n",
    "import scipy.optimize as optimize\n",
    "root = optimize.brentq(func, 2, 6, xtol=0.001) \n",
    "print(root)"
   ]
  }
 ],
 "metadata": {
  "colab": {
   "name": "1017260561/homework_02",
   "provenance": []
  },
  "kernelspec": {
   "display_name": "Python 3",
   "language": "python",
   "name": "python3"
  },
  "language_info": {
   "codemirror_mode": {
    "name": "ipython",
    "version": 3
   },
   "file_extension": ".py",
   "mimetype": "text/x-python",
   "name": "python",
   "nbconvert_exporter": "python",
   "pygments_lexer": "ipython3",
   "version": "3.7.2"
  }
 },
 "nbformat": 4,
 "nbformat_minor": 1
}
