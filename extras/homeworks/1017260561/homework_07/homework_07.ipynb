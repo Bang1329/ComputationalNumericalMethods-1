{
  "cells": [
    {
      "cell_type": "markdown",
      "source": [
        "##Manuela Montoya González"
      ],
      "metadata": {
        "id": "T17PRbYYPq-D"
      },
      "id": "T17PRbYYPq-D"
    },
    {
      "cell_type": "markdown",
      "id": "bearing-relations",
      "metadata": {
        "id": "bearing-relations"
      },
      "source": [
        "# Class exercises 2:"
      ]
    },
    {
      "cell_type": "markdown",
      "id": "protecting-bruce",
      "metadata": {
        "id": "protecting-bruce"
      },
      "source": [
        "Consider a circuit:\n",
        "<img src=\"https://github.com/ManuelaMG/ComputationalNumericalMethods/blob/master/extras/homeworks_originales_para_descargar/homework_07/imgs/homework_circuit.png?raw=1\" width=\"700\" />"
      ]
    },
    {
      "cell_type": "markdown",
      "id": "through-dollar",
      "metadata": {
        "id": "through-dollar"
      },
      "source": [
        "The set of linear equations comes from the Kirchhoff's rules (in case of doubts review the literature)\n",
        "\n",
        "Find the currents $I_1 \\cdots I_6$ knowing that the \n",
        "\n",
        "Resistances are:\n",
        "\n",
        "$R_1=1 \\Omega$,\n",
        "$R_2=2 \\Omega$,\n",
        "$R_3=3 \\Omega$,\n",
        "$R_4=4 \\Omega$,\n",
        "$R_5=5 \\Omega$\n",
        "\n",
        "Voltages are:\n",
        "$E_1=10 V$,\n",
        "$E_2=40 V$\n",
        "\n",
        "use python build in functions  `np.linalg.solve(A,b)`"
      ]
    },
    {
      "cell_type": "code",
      "source": [
        "#Organizamos la matriz con sus respectivos valores\n",
        "import numpy as np\n",
        "R1 = 1\n",
        "R2 = 2\n",
        "R3 = 3\n",
        "R4 = 4\n",
        "R5 = 5\n",
        "E1 = 10\n",
        "E2 = 40\n",
        "R = np.array([[-R1,-R2,-R3,0,0,0],[0,R2,0,-R4,0,0],[0,0,R3,0,-R5,0],[1,0,-1,0,-1,0],[-1,1,0,1,0,0],[0,0,0,-1,1,1]])\n",
        "E = np.array([[-E1],[-E2],[E2],[0],[0],[0]])"
      ],
      "metadata": {
        "id": "Mp1wraedP7Pe"
      },
      "id": "Mp1wraedP7Pe",
      "execution_count": 5,
      "outputs": []
    },
    {
      "cell_type": "code",
      "source": [
        "#Resolvemos\n",
        "I = np.linalg.solve(R,E)\n",
        "print(I)"
      ],
      "metadata": {
        "colab": {
          "base_uri": "https://localhost:8080/"
        },
        "id": "GeBHRc-1QS2B",
        "outputId": "fe2d2b3d-2262-41b8-cc7e-aeae1167c931"
      },
      "id": "GeBHRc-1QS2B",
      "execution_count": 6,
      "outputs": [
        {
          "output_type": "stream",
          "name": "stdout",
          "text": [
            "[[ 1.98019802]\n",
            " [-5.34653465]\n",
            " [ 6.23762376]\n",
            " [ 7.32673267]\n",
            " [-4.25742574]\n",
            " [11.58415842]]\n"
          ]
        }
      ]
    }
  ],
  "metadata": {
    "kernelspec": {
      "display_name": "Python 3",
      "language": "python",
      "name": "python3"
    },
    "language_info": {
      "codemirror_mode": {
        "name": "ipython",
        "version": 3
      },
      "file_extension": ".py",
      "mimetype": "text/x-python",
      "name": "python",
      "nbconvert_exporter": "python",
      "pygments_lexer": "ipython3",
      "version": "3.7.2"
    },
    "colab": {
      "provenance": []
    }
  },
  "nbformat": 4,
  "nbformat_minor": 5
}