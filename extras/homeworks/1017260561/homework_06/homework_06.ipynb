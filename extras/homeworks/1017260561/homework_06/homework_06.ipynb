{
  "cells": [
    {
      "cell_type": "markdown",
      "source": [
        "#Manuela Montoya González"
      ],
      "metadata": {
        "id": "6ybNxTPfOy0J"
      },
      "id": "6ybNxTPfOy0J"
    },
    {
      "cell_type": "markdown",
      "id": "naked-liechtenstein",
      "metadata": {
        "id": "naked-liechtenstein"
      },
      "source": [
        "## Homework 06\n",
        "\n",
        "Create a notebook: ***homework_06.ipynb*** and inside make function:\n",
        "\n",
        "a function called `integral_monte_carlo_1D(integrand,lim1,lim2,N)` (with that order) that receives four parameters: integrand (function), limit1, limit2 and number of iterations `N`, and returns the value of `I` (just the numerical value)  \n",
        "*use vectorized form of the calculations\n",
        "\n",
        "Test your funcion on the following integral:\n",
        "\n",
        "$$\\int_{0}^{4} \\sqrt[4]{15 x^3 + 21x^2 + 41x + 3} \\cdot e^{-0.5x} dx$$\n",
        "\n",
        " where the integrand is\n",
        "$$f(x)=\\sqrt[4]{15 x^3 + 21x^2 + 41x + 3} \\cdot e^{-0.5x}$$\n",
        "\n",
        "compare with the scipy.integrate.quad results\n"
      ]
    },
    {
      "cell_type": "code",
      "source": [
        "import math\n",
        "import numpy as np\n",
        "import scipy.integrate as integrate\n",
        "def integrand(x):\n",
        "  return (math.sqrt(15*(x**3)+21*(x**2)+41*x+3)**4)*math.e**(-0.5*x)\n"
      ],
      "metadata": {
        "id": "FE5mcmXEPdbi"
      },
      "id": "FE5mcmXEPdbi",
      "execution_count": 21,
      "outputs": []
    },
    {
      "cell_type": "code",
      "source": [
        "#integrand  - function, limits, N iterations \n",
        "def integral_monte_carlo_1D(integrand,lim1,lim2,N):\n",
        "  E = 0\n",
        "  for i in range(N):\n",
        "    x = np.random.uniform(lim1,lim2)\n",
        "    E = E + integrand(x)\n",
        "\n",
        "  E = E/N\n",
        "  I = E*(lim2 - lim1)\n",
        "  print(I)\n"
      ],
      "metadata": {
        "id": "1cJRV6z6O3t_"
      },
      "id": "1cJRV6z6O3t_",
      "execution_count": 22,
      "outputs": []
    },
    {
      "cell_type": "code",
      "source": [
        "integral_monte_carlo_1D(integrand,0,4,1000000)"
      ],
      "metadata": {
        "id": "909dFeq_Ti2r",
        "colab": {
          "base_uri": "https://localhost:8080/"
        },
        "outputId": "b6132253-0de7-4981-8a07-bd28e03457b1"
      },
      "id": "909dFeq_Ti2r",
      "execution_count": 23,
      "outputs": [
        {
          "output_type": "stream",
          "name": "stdout",
          "text": [
            "276788.10186993505\n"
          ]
        }
      ]
    },
    {
      "cell_type": "code",
      "source": [
        "#Comprobamos con scipy.integrate\n",
        "import scipy.integrate as integrate\n",
        "I_quad,error = integrate.quad(integrand,0,4)\n",
        "print('I_quad result: ',I_quad,'Error result: ',error)"
      ],
      "metadata": {
        "colab": {
          "base_uri": "https://localhost:8080/"
        },
        "id": "-prDWKZ-YW57",
        "outputId": "73e2d758-4fb2-4a79-e207-9733845f1b85"
      },
      "id": "-prDWKZ-YW57",
      "execution_count": 24,
      "outputs": [
        {
          "output_type": "stream",
          "name": "stdout",
          "text": [
            "I_quad result:  276527.09157003084 Error result:  3.0700674399367725e-09\n"
          ]
        }
      ]
    }
  ],
  "metadata": {
    "kernelspec": {
      "display_name": "Python 3",
      "language": "python",
      "name": "python3"
    },
    "language_info": {
      "codemirror_mode": {
        "name": "ipython",
        "version": 3
      },
      "file_extension": ".py",
      "mimetype": "text/x-python",
      "name": "python",
      "nbconvert_exporter": "python",
      "pygments_lexer": "ipython3",
      "version": "3.7.2"
    },
    "colab": {
      "provenance": []
    }
  },
  "nbformat": 4,
  "nbformat_minor": 5
}