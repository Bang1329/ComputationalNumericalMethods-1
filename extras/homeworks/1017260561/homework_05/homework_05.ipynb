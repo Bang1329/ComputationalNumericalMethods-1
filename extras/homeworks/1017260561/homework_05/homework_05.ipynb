{
  "cells": [
    {
      "cell_type": "markdown",
      "source": [
        "#Manuela Montoya González"
      ],
      "metadata": {
        "id": "YSWkoiCe8yzL"
      },
      "id": "YSWkoiCe8yzL"
    },
    {
      "cell_type": "markdown",
      "id": "human-paint",
      "metadata": {
        "id": "human-paint"
      },
      "source": [
        "# Homework 05"
      ]
    },
    {
      "cell_type": "markdown",
      "id": "equivalent-australian",
      "metadata": {
        "id": "equivalent-australian"
      },
      "source": [
        "### Task 1\n",
        "\n",
        "Write your own Simpson method to numerically calculate integral \n",
        "\n",
        "`my_simps(some_func,a,b,n)`\n",
        "* some_func\n",
        "* a: left limit \n",
        "* b: right limit\n",
        "* n: number of segments\n",
        "for example:\n",
        "\n",
        "#### for any a,b,n, func"
      ]
    },
    {
      "cell_type": "markdown",
      "id": "ultimate-traveler",
      "metadata": {
        "id": "ultimate-traveler"
      },
      "source": [
        "### example"
      ]
    },
    {
      "cell_type": "code",
      "execution_count": 57,
      "id": "frozen-microwave",
      "metadata": {
        "id": "frozen-microwave"
      },
      "outputs": [],
      "source": [
        "import numpy as np\n",
        "def some_func(x):\n",
        "  return np.exp(x)\n",
        "\n",
        "def my_simps(some_func,a,b,n):\n",
        "  h = (b - a)/n\n",
        "  suma = 0.0 #para evitar errores de tipo float\n",
        "  for i in range(1,n):\n",
        "    x = a + i*h\n",
        "    if (i%2 == 0):\n",
        "      suma =  float(suma + 2*(some_func(x)))\n",
        "\n",
        "    else:\n",
        "      suma = float(suma + 4*(some_func(x)))\n",
        "  suma = suma + some_func(a) + some_func(b)\n",
        "  area = suma * (h/3)\n",
        "  return area"
      ]
    },
    {
      "cell_type": "code",
      "execution_count": 58,
      "id": "recognized-footwear",
      "metadata": {
        "id": "recognized-footwear"
      },
      "outputs": [],
      "source": [
        "a=1.5\n",
        "b=2.5\n",
        "n=4"
      ]
    },
    {
      "cell_type": "code",
      "execution_count": 59,
      "id": "unavailable-fluid",
      "metadata": {
        "id": "unavailable-fluid"
      },
      "outputs": [],
      "source": [
        "#I=7.7"
      ]
    },
    {
      "cell_type": "code",
      "execution_count": 60,
      "id": "stock-smart",
      "metadata": {
        "id": "stock-smart",
        "outputId": "4d91ec79-23b2-4537-c9a7-8a0e4b32db27",
        "colab": {
          "base_uri": "https://localhost:8080/"
        }
      },
      "outputs": [
        {
          "output_type": "stream",
          "name": "stdout",
          "text": [
            "7.700970773196655\n"
          ]
        }
      ],
      "source": [
        "I = my_simps(some_func,a,b,n)\n",
        "print(I)"
      ]
    },
    {
      "cell_type": "markdown",
      "id": "recovered-modern",
      "metadata": {
        "id": "recovered-modern"
      },
      "source": [
        "### Task 2\n",
        "\n",
        "Solve the following integral numerically\n",
        "\n",
        "$$I = \\int_{1}^{9} \\frac{b x^2 + x^2 \\sqrt(x) - 1}{x^2} dx$$\n",
        "\n",
        "Initially b=2\n",
        "\n",
        "Then make a plot for $I$ vs 10 different values of b=[0,1,2,3,4,5,6,7,8,9] "
      ]
    },
    {
      "cell_type": "code",
      "execution_count": 104,
      "id": "verified-johnston",
      "metadata": {
        "id": "verified-johnston"
      },
      "outputs": [],
      "source": [
        "import scipy.integrate as integrate\n",
        "import numpy as np\n",
        "import math\n",
        "def fun(x,b):\n",
        "  return float((b*(x)**2 + (x)**2*(math.sqrt(x))-1) / x**2)\n",
        "b = 2\n",
        "I_quad,error = integrate.quad(fun,1,9,args = (b))"
      ]
    },
    {
      "cell_type": "code",
      "execution_count": 105,
      "id": "adopted-morrison",
      "metadata": {
        "id": "adopted-morrison",
        "colab": {
          "base_uri": "https://localhost:8080/"
        },
        "outputId": "6b64bf97-9f76-40f4-c62f-4b54ed541695"
      },
      "outputs": [
        {
          "output_type": "stream",
          "name": "stdout",
          "text": [
            "I_quad result:  32.44444444444443 error result:  6.278273582403283e-08\n"
          ]
        }
      ],
      "source": [
        "print('I_quad result: ',I_quad,'error result: ',error)"
      ]
    },
    {
      "cell_type": "markdown",
      "source": [
        "Confirmamos el resultado:\n",
        "![image.png](data:image/png;base64,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)"
      ],
      "metadata": {
        "id": "De2R33qlErQM"
      },
      "id": "De2R33qlErQM"
    },
    {
      "cell_type": "code",
      "source": [
        "b = np.array([0,1,2,3,4,5,6,7,8,9])\n",
        "for i in b:\n",
        "  I_quad,error = integrate.quad(fun,1,9, args = (i))\n",
        "  print('Valor de b: ',i,'I_quad result: ',I_quad,'error result: ',error)"
      ],
      "metadata": {
        "colab": {
          "base_uri": "https://localhost:8080/"
        },
        "id": "ajQbB5twECz8",
        "outputId": "56bb8418-f55a-4ff1-c0fb-8a0d01631f29"
      },
      "id": "ajQbB5twECz8",
      "execution_count": 112,
      "outputs": [
        {
          "output_type": "stream",
          "name": "stdout",
          "text": [
            "Valor de b:  0 I_quad result:  16.444444444444425 error result:  6.278264525296819e-08\n",
            "Valor de b:  1 I_quad result:  24.44444444444443 error result:  6.278268790865294e-08\n",
            "Valor de b:  2 I_quad result:  32.44444444444443 error result:  6.278273582403283e-08\n",
            "Valor de b:  3 I_quad result:  40.44444444444443 error result:  6.278278023295382e-08\n",
            "Valor de b:  4 I_quad result:  48.44444444444443 error result:  6.27828246418748e-08\n",
            "Valor de b:  5 I_quad result:  56.44444444444443 error result:  6.278286554433688e-08\n",
            "Valor de b:  6 I_quad result:  64.44444444444443 error result:  6.278291696618923e-08\n",
            "Valor de b:  7 I_quad result:  72.44444444444443 error result:  6.278295786863776e-08\n",
            "Valor de b:  8 I_quad result:  80.44444444444443 error result:  6.27830092904901e-08\n",
            "Valor de b:  9 I_quad result:  88.44444444444443 error result:  6.278304668647973e-08\n"
          ]
        }
      ]
    }
  ],
  "metadata": {
    "kernelspec": {
      "display_name": "Python 3",
      "language": "python",
      "name": "python3"
    },
    "language_info": {
      "codemirror_mode": {
        "name": "ipython",
        "version": 3
      },
      "file_extension": ".py",
      "mimetype": "text/x-python",
      "name": "python",
      "nbconvert_exporter": "python",
      "pygments_lexer": "ipython3",
      "version": "3.7.2"
    },
    "colab": {
      "provenance": []
    }
  },
  "nbformat": 4,
  "nbformat_minor": 5
}