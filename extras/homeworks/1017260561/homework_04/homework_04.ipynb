{
  "cells": [
    {
      "cell_type": "markdown",
      "metadata": {
        "id": "aLKYOKL8tXV7"
      },
      "source": [
        "#Manuela Montoya González"
      ],
      "id": "aLKYOKL8tXV7"
    },
    {
      "cell_type": "markdown",
      "metadata": {
        "id": "intimate-walter"
      },
      "source": [
        "# Homework 04:\n",
        "\n",
        "* create notebook called: homework_04.ipynb (no spaces please)\n",
        "\n",
        "* inside write a function: `deriv(func,a,method,h)`\n",
        "`func` is a function that I can define\n",
        "`a` is a point (float) at which I wante to evaluate the derivative\n",
        "`method` is a string, and can have three options `forward`,`central`,`backward`\n",
        "`h` is a step\n",
        "\n",
        "* ***remember the function must not print anything, just return a single value***!!!\n",
        "* to choose between schemes ('central','forward'..) use `if`, `elif`\n",
        "* to test your function try:\n",
        "\n",
        "```\n",
        "def function(x):\n",
        "    return x**3.0\n",
        "    \n",
        "print(deriv(function,2.0,method='forward',h=0.1) )\n",
        "```\n",
        "* compare your result using from `scipy.misc.derivative`"
      ],
      "id": "intimate-walter"
    },
    {
      "cell_type": "code",
      "execution_count": 46,
      "metadata": {
        "id": "DLVmtaJHxeNB"
      },
      "outputs": [],
      "source": [
        "import numpy as  np\n",
        "import matplotlib.pyplot as plt\n",
        "\n",
        "def deriv(func,a,method,h):\n",
        "\n",
        "  a = float(a)\n",
        "  if method==\"central\":\n",
        "    return (func(a + h) - func(a - h)) / (2*h)\n",
        "\n",
        "  elif  method==\"forward\":\n",
        "    return (func(a + h) - func(a)) / (h)\n",
        "\n",
        "  elif method==\"backward\":\n",
        "    return (func(a) -  func(a - h)) / (h)\n",
        "  else:\n",
        "    print('ingrese nuevamente los valores, hay un error')"
      ],
      "id": "DLVmtaJHxeNB"
    },
    {
      "cell_type": "code",
      "execution_count": 50,
      "metadata": {
        "id": "yaqB_BCsyO1x",
        "colab": {
          "base_uri": "https://localhost:8080/"
        },
        "outputId": "990c25cb-518f-4ab5-91e8-fae9da8e37bf"
      },
      "outputs": [
        {
          "output_type": "stream",
          "name": "stdout",
          "text": [
            "12.61000000000001\n"
          ]
        }
      ],
      "source": [
        "#Probamos el método más eficiente \n",
        "def function(x):\n",
        "    return x**3.0\n",
        "\n",
        "print(deriv(function,2.0,method='forward',h=0.1) )"
      ],
      "id": "yaqB_BCsyO1x"
    },
    {
      "cell_type": "code",
      "source": [
        "def function(x):\n",
        "    return x**3.0\n",
        "\n",
        "print(deriv(function,2.0,method='central',h=0.1) )"
      ],
      "metadata": {
        "colab": {
          "base_uri": "https://localhost:8080/"
        },
        "id": "8ckpCIZr6E2f",
        "outputId": "288cbc3c-1a7d-4a6f-f608-af244fbc2861"
      },
      "id": "8ckpCIZr6E2f",
      "execution_count": 51,
      "outputs": [
        {
          "output_type": "stream",
          "name": "stdout",
          "text": [
            "12.010000000000009\n"
          ]
        }
      ]
    },
    {
      "cell_type": "code",
      "execution_count": 52,
      "metadata": {
        "id": "dFn-kbUOyUah",
        "colab": {
          "base_uri": "https://localhost:8080/"
        },
        "outputId": "3f552f26-9a7d-4a0b-c463-801ad683adc4"
      },
      "outputs": [
        {
          "output_type": "execute_result",
          "data": {
            "text/plain": [
              "12.010000000000009"
            ]
          },
          "metadata": {},
          "execution_count": 52
        }
      ],
      "source": [
        "#Verificamos \n",
        "from scipy.misc import derivative\n",
        "derivative(function,2.0,dx=0.1)"
      ],
      "id": "dFn-kbUOyUah"
    }
  ],
  "metadata": {
    "colab": {
      "provenance": []
    },
    "kernelspec": {
      "display_name": "Python 3",
      "language": "python",
      "name": "python3"
    },
    "language_info": {
      "codemirror_mode": {
        "name": "ipython",
        "version": 3
      },
      "file_extension": ".py",
      "mimetype": "text/x-python",
      "name": "python",
      "nbconvert_exporter": "python",
      "pygments_lexer": "ipython3",
      "version": "3.7.2"
    }
  },
  "nbformat": 4,
  "nbformat_minor": 5
}