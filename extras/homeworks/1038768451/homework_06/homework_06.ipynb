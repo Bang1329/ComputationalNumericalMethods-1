{
  "cells": [
    {
      "cell_type": "markdown",
      "id": "naked-liechtenstein",
      "metadata": {
        "id": "naked-liechtenstein"
      },
      "source": [
        "## Homework 06\n",
        "\n",
        "Create a notebook: ***homework_06.ipynb*** and inside make function:\n",
        "\n",
        "a function called `integral_monte_carlo_1D(integrand,lim1,lim2,N)` (with that order) that receives four parameters: integrand (function), limit1, limit2 and number of iterations `N`, and returns the value of `I` (just the numerical value)  \n",
        "*use vectorized form of the calculations\n",
        "\n",
        "Test your funcion on the following integral:\n",
        "\n",
        "$$\\int_{0}^{4} \\sqrt[4]{15 x^3 + 21x^2 + 41x + 3} \\cdot e^{-0.5x} dx$$\n",
        "\n",
        " where the integrand is\n",
        "$$f(x)=\\sqrt[4]{15 x^3 + 21x^2 + 41x + 3} \\cdot e^{-0.5x}$$\n",
        "\n",
        "compare with the scipy.integrate.quad results\n"
      ]
    },
    {
      "cell_type": "code",
      "source": [
        "import numpy as np"
      ],
      "metadata": {
        "id": "vlQDSSgSNb4u"
      },
      "id": "vlQDSSgSNb4u",
      "execution_count": 1,
      "outputs": []
    },
    {
      "cell_type": "code",
      "source": [
        "def integral_monte_carlo_1D(integrand,lim1,lim2,N):\n",
        "  E = 0\n",
        "  for i in range(N):\n",
        "    x = np.random.uniform(lim1,lim2)\n",
        "    E = E + integrand(x)\n",
        "\n",
        "  E = E/N\n",
        "  I = E*(lim2-lim1)\n",
        "\n",
        "  return I"
      ],
      "metadata": {
        "id": "0hF0DmraNiMo"
      },
      "id": "0hF0DmraNiMo",
      "execution_count": 2,
      "outputs": []
    },
    {
      "cell_type": "code",
      "source": [
        "def function(x):\n",
        "  return pow(15*x**3+21*x**2+41*x+3,1/4)*np.exp(-0.5*x)"
      ],
      "metadata": {
        "id": "DRlCb6Z7O_eK"
      },
      "id": "DRlCb6Z7O_eK",
      "execution_count": 3,
      "outputs": []
    },
    {
      "cell_type": "code",
      "source": [
        "a = 0\n",
        "b = 4\n",
        "N = 100000\n",
        "I = integral_monte_carlo_1D(function,a,b,N)\n",
        "print(I)"
      ],
      "metadata": {
        "colab": {
          "base_uri": "https://localhost:8080/"
        },
        "id": "LmVq5YBqRkG_",
        "outputId": "bda4b5fe-dfe0-43ea-b9e8-bb7adf0b0aa2"
      },
      "id": "LmVq5YBqRkG_",
      "execution_count": 4,
      "outputs": [
        {
          "output_type": "stream",
          "name": "stdout",
          "text": [
            "5.764373905043213\n"
          ]
        }
      ]
    },
    {
      "cell_type": "code",
      "source": [
        "import scipy.integrate as integrate"
      ],
      "metadata": {
        "id": "k37pZkV0SjSH"
      },
      "id": "k37pZkV0SjSH",
      "execution_count": 5,
      "outputs": []
    },
    {
      "cell_type": "code",
      "source": [
        "I,error = integrate.quad(function,a,b) # Comparando con la librería\n",
        "print(I)"
      ],
      "metadata": {
        "colab": {
          "base_uri": "https://localhost:8080/"
        },
        "id": "azGkycFWSzve",
        "outputId": "cf654c25-b470-402c-e77f-997fba10e790"
      },
      "id": "azGkycFWSzve",
      "execution_count": 7,
      "outputs": [
        {
          "output_type": "stream",
          "name": "stdout",
          "text": [
            "5.767433490695931\n"
          ]
        }
      ]
    }
  ],
  "metadata": {
    "kernelspec": {
      "display_name": "Python 3",
      "language": "python",
      "name": "python3"
    },
    "language_info": {
      "codemirror_mode": {
        "name": "ipython",
        "version": 3
      },
      "file_extension": ".py",
      "mimetype": "text/x-python",
      "name": "python",
      "nbconvert_exporter": "python",
      "pygments_lexer": "ipython3",
      "version": "3.7.2"
    },
    "colab": {
      "name": "homework_06.ipynb",
      "provenance": [],
      "collapsed_sections": []
    }
  },
  "nbformat": 4,
  "nbformat_minor": 5
}