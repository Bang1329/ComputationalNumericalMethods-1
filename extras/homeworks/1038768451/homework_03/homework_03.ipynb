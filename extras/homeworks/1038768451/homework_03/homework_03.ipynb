{
  "cells": [
    {
      "cell_type": "markdown",
      "id": "upset-staff",
      "metadata": {
        "id": "upset-staff"
      },
      "source": [
        "### Homework_03:\n",
        "* ***this is the right way to program - just making functions and classes and calling them***!!!\n",
        "\n",
        "\n",
        "\n",
        "* create notebook called: homework_03.ipynb (no spaces please)\n",
        "\n",
        "* inside write a function: `quadratic_interp(x,y,xinterp)`:\n",
        "\n",
        "`quadratic_interp(x,y,xinterp)` accepts three elements (vector `x`, vector `y` and float `xinterp` to be interpolated) an returns `yinterp`  value of the interpolated point `xinterp`\n",
        "\n",
        "* use `b_coeffs()` function to find `b_0,b_1,b_2`...\n",
        "\n",
        "* test your function before submitting\n",
        "\n",
        "* ***remember the function must not print anything, just return a single value***!!!"
      ]
    },
    {
      "cell_type": "code",
      "source": [
        "import os\n",
        "import pandas as pd\n",
        "import numpy as np\n",
        "from scipy.interpolate import interp1d\n",
        "import matplotlib.pyplot as plt"
      ],
      "metadata": {
        "id": "wpa-CeOh_fNV"
      },
      "id": "wpa-CeOh_fNV",
      "execution_count": 1,
      "outputs": []
    },
    {
      "cell_type": "code",
      "source": [
        "x=np.array([4,5,6])\n",
        "y=np.array([np.log10(4),np.log10(5),np.log10(6)])\n",
        "\n",
        "def b_coeffs(i,k,x,y):\n",
        "    # i, k are the first and last INDEX of `x`\n",
        "    #If i+k>N\n",
        "    if i+k>=len(x):\n",
        "        return 0\n",
        "    #Zeroth divided difference\n",
        "    elif k == 0:\n",
        "        return y[i]\n",
        "    #If higher divided difference\n",
        "    else:\n",
        "        return (b_coeffs(i+1, k-1, x, y)-b_coeffs(i, k-1, x, y))/(x[i+k]-x[i])\n",
        "\n",
        "a = b_coeffs(0,2,x,y)\n",
        "b = b_coeffs(0,1,x,y)\n",
        "c = b_coeffs(0,0,x,y)\n"
      ],
      "metadata": {
        "id": "UKOP18KNWuds"
      },
      "id": "UKOP18KNWuds",
      "execution_count": 2,
      "outputs": []
    },
    {
      "cell_type": "code",
      "execution_count": 3,
      "id": "appointed-williams",
      "metadata": {
        "id": "appointed-williams"
      },
      "outputs": [],
      "source": [
        "def quadratic_interp(x,y,xinterp):\n",
        "\n",
        "    yinterp = c+b*(xinterp-x[0])+a*(xinterp-x[0])*(xinterp-x[1])\n",
        "\n",
        "    return yinterp"
      ]
    },
    {
      "cell_type": "markdown",
      "id": "adolescent-seattle",
      "metadata": {
        "id": "adolescent-seattle"
      },
      "source": [
        "# test your function with the code below"
      ]
    },
    {
      "cell_type": "code",
      "execution_count": 4,
      "id": "pressing-energy",
      "metadata": {
        "colab": {
          "base_uri": "https://localhost:8080/",
          "height": 323
        },
        "id": "pressing-energy",
        "outputId": "439fb1fb-b9fb-423b-e27c-22417f6dc12c"
      },
      "outputs": [
        {
          "output_type": "stream",
          "name": "stdout",
          "text": [
            "[0.48742121135947425, 0.4996828838695425, 0.5117672687100064, 0.523674365880866, 0.5354041753821214, 0.5469566972137723, 0.558331931375819, 0.5695298778682614, 0.5805505366910994, 0.5913939078443331, 0.6020599913279625, 0.6125487871419877, 0.6228602952864083, 0.6329945157612247, 0.6429514485664368, 0.6527310937020449, 0.6623334511680482, 0.6717585209644473, 0.6810063030912422, 0.6900767975484328, 0.698970004336019, 0.7076859234540009, 0.7162245549023786, 0.7245858986811519, 0.7327699547903207, 0.7407767232298854, 0.7486062039998457, 0.7562583971002018, 0.7637333025309534, 0.7710309202921007, 0.7781512503836437, 0.7850942928055825, 0.7918600475579171, 0.798448514640647, 0.8048596940537729, 0.8110935857972943, 0.8171501898712116, 0.8230295062755243, 0.8287315350102328, 0.834256276075337]\n"
          ]
        },
        {
          "output_type": "execute_result",
          "data": {
            "text/plain": [
              "<matplotlib.legend.Legend at 0x7f1953a88e10>"
            ]
          },
          "metadata": {},
          "execution_count": 4
        },
        {
          "output_type": "display_data",
          "data": {
            "text/plain": [
              "<Figure size 432x288 with 1 Axes>"
            ],
            "image/png": "[encoded data removed]"
          },
          "metadata": {
            "needs_background": "light"
          }
        }
      ],
      "source": [
        "x=np.array([4,5,6])\n",
        "y=np.array([np.log10(4),np.log10(5),np.log10(6)])\n",
        "test_vals=np.arange(3,7,0.1)\n",
        "\n",
        "my_results=[]\n",
        "for val in test_vals:\n",
        "    result=quadratic_interp(x,y,val)\n",
        "    my_results.append(result)\n",
        "\n",
        "print(my_results)\n",
        "fig,ax=plt.subplots(1,1)\n",
        "ax.scatter(x,y,c='r',label='given points')\n",
        "ax.plot(test_vals,my_results,'.k',label='interpolated values (quadratic pol.)') \n",
        "ax.legend()"
      ]
    },
    {
      "cell_type": "code",
      "execution_count": 4,
      "id": "burning-russian",
      "metadata": {
        "id": "burning-russian"
      },
      "outputs": [],
      "source": [
        ""
      ]
    }
  ],
  "metadata": {
    "kernelspec": {
      "display_name": "Python 3",
      "language": "python",
      "name": "python3"
    },
    "language_info": {
      "codemirror_mode": {
        "name": "ipython",
        "version": 3
      },
      "file_extension": ".py",
      "mimetype": "text/x-python",
      "name": "python",
      "nbconvert_exporter": "python",
      "pygments_lexer": "ipython3",
      "version": "3.7.2"
    },
    "colab": {
      "name": "homework_03.txt",
      "provenance": [],
      "collapsed_sections": []
    }
  },
  "nbformat": 4,
  "nbformat_minor": 5
}