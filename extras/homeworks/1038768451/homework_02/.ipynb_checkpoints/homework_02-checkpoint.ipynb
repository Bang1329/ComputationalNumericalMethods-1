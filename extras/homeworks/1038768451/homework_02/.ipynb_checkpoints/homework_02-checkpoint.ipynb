{
 "cells": [
  {
   "cell_type": "markdown",
   "id": "subsequent-sector",
   "metadata": {
    "id": "subsequent-sector"
   },
   "source": [
    "# TAREA SOBRE ROOT FINDING: \n",
    "Basado en el material de la clase pasada:\n",
    "* construye su propia función `my_root_finding(func,xL,xR,tol)` que recibe tres argumentos `func,xL,xR,tol` y devuelve el valor de la raíz de método de bisección usando el loop **while** \n",
    "* pruebe su código para los parámetros dados:\n",
    "  * $func=x^2 - 22 $\n",
    "  * $X_L=2, X_R=6$\n",
    "  * $tol=0.001$"
   ]
  },
  {
   "cell_type": "code",
   "execution_count": 1,
   "id": "latest-variety",
   "metadata": {
    "id": "latest-variety"
   },
   "outputs": [],
   "source": [
    "import numpy as np\n",
    "import matplotlib.pyplot as plt "
   ]
  },
  {
   "cell_type": "code",
   "execution_count": 2,
   "id": "hxD8LoTJ2bax",
   "metadata": {
    "id": "hxD8LoTJ2bax"
   },
   "outputs": [],
   "source": [
    "def func(x):\n",
    "    return x**2-22"
   ]
  },
  {
   "cell_type": "code",
   "execution_count": 3,
   "id": "FiYxj2lMgkEd",
   "metadata": {
    "id": "FiYxj2lMgkEd"
   },
   "outputs": [],
   "source": [
    "def my_root_finding(func,xL,xR,tol):\n",
    "  if func(xL)==0:\n",
    "    print(\"La raiz es: \",xL)\n",
    "  elif func(xR)==0:\n",
    "    print(\"La raiz es: \",xR)\n",
    "  elif func(xL)*func(xR)>0:\n",
    "    print(\"La función no tiene raices en el intervalo [\",xL,\",\",xR,\"], modifique los límites del intervalo\")\n",
    "  else:\n",
    "    xN = (xL+xR)/2\n",
    "    valor_func = abs(func(xN))\n",
    "    while valor_func>tol:\n",
    "      xN = (xL+xR)/2\n",
    "      if func(xL)*func(xN)<0:\n",
    "        xR = xN\n",
    "        valor_func = abs(func(xR))\n",
    "        if valor_func<tol:\n",
    "          print(\"La raiz es: \",xR)\n",
    "      else:\n",
    "        xL = xN\n",
    "        valor_func = abs(func(xL))\n",
    "        if valor_func<tol:\n",
    "          print(\"La raiz es: \",xL)\n",
    "  \n"
   ]
  },
  {
   "cell_type": "code",
   "execution_count": 4,
   "id": "OwBIOiEySo_f",
   "metadata": {
    "colab": {
     "base_uri": "https://localhost:8080/"
    },
    "id": "OwBIOiEySo_f",
    "outputId": "5f82b792-72d6-4f58-8dd5-8357fb319427"
   },
   "outputs": [
    {
     "name": "stdout",
     "output_type": "stream",
     "text": [
      "La función no tiene raices en el intervalo [ 1 , 3 ], modifique los límites del intervalo\n"
     ]
    }
   ],
   "source": [
    "root = my_root_finding(func,1,3,0.001)"
   ]
  },
  {
   "cell_type": "code",
   "execution_count": 5,
   "id": "mNIt8fX2S9-2",
   "metadata": {
    "colab": {
     "base_uri": "https://localhost:8080/"
    },
    "id": "mNIt8fX2S9-2",
    "outputId": "a1c98e44-e87c-4d85-f1c0-12e0ba6a09af"
   },
   "outputs": [
    {
     "name": "stdout",
     "output_type": "stream",
     "text": [
      "La función no tiene raices en el intervalo [ 5 , 10 ], modifique los límites del intervalo\n"
     ]
    }
   ],
   "source": [
    "root = my_root_finding(func,5,10,0.001)"
   ]
  },
  {
   "cell_type": "code",
   "execution_count": 6,
   "id": "NXXI6TDeGJhy",
   "metadata": {
    "colab": {
     "base_uri": "https://localhost:8080/"
    },
    "id": "NXXI6TDeGJhy",
    "outputId": "7411d99b-177f-4f2c-fa5d-6323aec79de6"
   },
   "outputs": [
    {
     "name": "stdout",
     "output_type": "stream",
     "text": [
      "La raiz es:  4.6904296875\n"
     ]
    }
   ],
   "source": [
    "root = my_root_finding(func,2,6,0.001)"
   ]
  },
  {
   "cell_type": "code",
   "execution_count": 7,
   "id": "NXRWb5b6Lr4y",
   "metadata": {
    "colab": {
     "base_uri": "https://localhost:8080/",
     "height": 295
    },
    "id": "NXRWb5b6Lr4y",
    "outputId": "bdd94155-797e-4e77-9008-f2c90749e2db"
   },
   "outputs": [
    {
     "data": {
      "image/png": "[encoded data removed]",
      "text/plain": [
       "<Figure size 432x288 with 1 Axes>"
      ]
     },
     "metadata": {
      "needs_background": "light"
     },
     "output_type": "display_data"
    }
   ],
   "source": [
    "x=np.linspace(-6,6,100)\n",
    "fig,ax = plt.subplots(1,1)\n",
    "ax.plot(x,func(x),color=\"green\",label=\"$y=x^2-22$\")\n",
    "ax.grid('True')\n",
    "plt.scatter(22**(1/2),0,color=\"red\",label=\"Raiz\")\n",
    "plt.xlabel(\"x\")\n",
    "plt.ylabel(\"y\")\n",
    "plt.title(\"Gráfica de la función\")\n",
    "plt.legend()\n",
    "plt.show()"
   ]
  }
 ],
 "metadata": {
  "colab": {
   "collapsed_sections": [],
   "name": "homework_02.ipynb",
   "provenance": []
  },
  "kernelspec": {
   "display_name": "Python 3",
   "language": "python",
   "name": "python3"
  },
  "language_info": {
   "codemirror_mode": {
    "name": "ipython",
    "version": 3
   },
   "file_extension": ".py",
   "mimetype": "text/x-python",
   "name": "python",
   "nbconvert_exporter": "python",
   "pygments_lexer": "ipython3",
   "version": "3.7.2"
  }
 },
 "nbformat": 4,
 "nbformat_minor": 5
}
