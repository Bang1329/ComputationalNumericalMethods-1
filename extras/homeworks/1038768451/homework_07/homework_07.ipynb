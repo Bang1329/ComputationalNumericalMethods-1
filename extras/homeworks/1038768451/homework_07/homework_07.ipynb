{
  "cells": [
    {
      "cell_type": "markdown",
      "id": "bearing-relations",
      "metadata": {
        "id": "bearing-relations"
      },
      "source": [
        "# Class exercises 2:"
      ]
    },
    {
      "cell_type": "markdown",
      "id": "protecting-bruce",
      "metadata": {
        "id": "protecting-bruce"
      },
      "source": [
        "Consider:\n",
        "\n",
        "$$-R1I1-R2I2-R3I3=-E1$$\n",
        "\n",
        "$$R2I2-R4I4=-E2$$\n",
        "\n",
        "$$R3I3-R5I5=E2$$\n",
        "\n",
        "$$I1-I3-I5=0$$\n",
        "\n",
        "$$-I1+I2+I4=0$$\n",
        "\n",
        "$$-I4+I5+I6=0$$\n"
      ]
    },
    {
      "cell_type": "markdown",
      "id": "through-dollar",
      "metadata": {
        "id": "through-dollar"
      },
      "source": [
        "The set of linear equations comes from the Kirchhoff's rules (in case of doubts review the literature)\n",
        "\n",
        "Find the currents $I_1 \\cdots I_6$ knowing that the \n",
        "\n",
        "Resistances are:\n",
        "\n",
        "$R_1=1 \\Omega$,\n",
        "$R_2=2 \\Omega$,\n",
        "$R_3=3 \\Omega$,\n",
        "$R_4=4 \\Omega$,\n",
        "$R_5=5 \\Omega$\n",
        "\n",
        "Voltages are:\n",
        "$E_1=10 V$,\n",
        "$E_2=40 V$\n",
        "\n",
        "use python build in functions  `np.linalg.solve(A,b)`"
      ]
    },
    {
      "cell_type": "code",
      "source": [
        "import numpy as np"
      ],
      "metadata": {
        "id": "hcN95XRhZ6M6"
      },
      "id": "hcN95XRhZ6M6",
      "execution_count": 1,
      "outputs": []
    },
    {
      "cell_type": "code",
      "source": [
        "List1 = [[-1,-2,-3,0,0,0],[0,2,0,-4,0,0],[0,0,3,0,-5,0],[1,0,-1,0,-1,0],[-1,1,0,1,0,0],[0,0,0,-1,1,1]] \n",
        "A = np.array(List1)\n",
        "b = np.array([[10],\n",
        "              [-40],\n",
        "              [40],\n",
        "              [0],\n",
        "              [0],\n",
        "              [0]])\n",
        "print('A \\n',A)\n",
        "print()\n",
        "print('b \\n',b)"
      ],
      "metadata": {
        "colab": {
          "base_uri": "https://localhost:8080/"
        },
        "id": "AsFxojITZ9RL",
        "outputId": "be24663e-dcb8-4f65-8735-6a8d9e0497f7"
      },
      "id": "AsFxojITZ9RL",
      "execution_count": 2,
      "outputs": [
        {
          "output_type": "stream",
          "name": "stdout",
          "text": [
            "A \n",
            " [[-1 -2 -3  0  0  0]\n",
            " [ 0  2  0 -4  0  0]\n",
            " [ 0  0  3  0 -5  0]\n",
            " [ 1  0 -1  0 -1  0]\n",
            " [-1  1  0  1  0  0]\n",
            " [ 0  0  0 -1  1  1]]\n",
            "\n",
            "b \n",
            " [[ 10]\n",
            " [-40]\n",
            " [ 40]\n",
            " [  0]\n",
            " [  0]\n",
            " [  0]]\n"
          ]
        }
      ]
    },
    {
      "cell_type": "code",
      "source": [
        "x = np.linalg.solve(A,b)\n",
        "print(x)"
      ],
      "metadata": {
        "colab": {
          "base_uri": "https://localhost:8080/"
        },
        "id": "4o71rzVomfAP",
        "outputId": "a4151d1d-6066-4b70-bede-9db070d8c6f6"
      },
      "id": "4o71rzVomfAP",
      "execution_count": 3,
      "outputs": [
        {
          "output_type": "stream",
          "name": "stdout",
          "text": [
            "[[-2.77227723]\n",
            " [-8.51485149]\n",
            " [ 3.26732673]\n",
            " [ 5.74257426]\n",
            " [-6.03960396]\n",
            " [11.78217822]]\n"
          ]
        }
      ]
    },
    {
      "cell_type": "code",
      "source": [
        "print('I1 = ',x[0,0])\n",
        "print('I2 = ',x[1,0])\n",
        "print('I3 = ',x[2,0])\n",
        "print('I4 = ',x[3,0])\n",
        "print('I5 = ',x[4,0])\n",
        "print('I6 = ',x[5,0])"
      ],
      "metadata": {
        "colab": {
          "base_uri": "https://localhost:8080/"
        },
        "id": "IkdkGVSWn6Fa",
        "outputId": "bb9a1570-9a58-42cf-b9b4-02d0e44a48d5"
      },
      "id": "IkdkGVSWn6Fa",
      "execution_count": 4,
      "outputs": [
        {
          "output_type": "stream",
          "name": "stdout",
          "text": [
            "I1 =  -2.772277227722771\n",
            "I2 =  -8.514851485148515\n",
            "I3 =  3.267326732673267\n",
            "I4 =  5.742574257425743\n",
            "I5 =  -6.03960396039604\n",
            "I6 =  11.782178217821784\n"
          ]
        }
      ]
    }
  ],
  "metadata": {
    "kernelspec": {
      "display_name": "Python 3",
      "language": "python",
      "name": "python3"
    },
    "language_info": {
      "codemirror_mode": {
        "name": "ipython",
        "version": 3
      },
      "file_extension": ".py",
      "mimetype": "text/x-python",
      "name": "python",
      "nbconvert_exporter": "python",
      "pygments_lexer": "ipython3",
      "version": "3.7.2"
    },
    "colab": {
      "provenance": []
    }
  },
  "nbformat": 4,
  "nbformat_minor": 5
}