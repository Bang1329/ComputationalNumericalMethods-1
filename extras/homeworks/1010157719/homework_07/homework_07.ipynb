{
  "cells": [
    {
      "cell_type": "markdown",
      "source": [
        "#Santiago Herrera Guzmán\n",
        "##CC. 1010157719"
      ],
      "metadata": {
        "id": "f7cXn29QuI1E"
      },
      "id": "f7cXn29QuI1E"
    },
    {
      "cell_type": "markdown",
      "id": "bearing-relations",
      "metadata": {
        "id": "bearing-relations"
      },
      "source": [
        "# Class exercises 2:"
      ]
    },
    {
      "cell_type": "markdown",
      "id": "protecting-bruce",
      "metadata": {
        "id": "protecting-bruce"
      },
      "source": [
        "Consider a circuit:\n",
        "<img src=\"imgs/homework_circuit.png\" width=\"700\" />"
      ]
    },
    {
      "cell_type": "markdown",
      "id": "through-dollar",
      "metadata": {
        "id": "through-dollar"
      },
      "source": [
        "The set of linear equations comes from the Kirchhoff's rules (in case of doubts review the literature)\n",
        "\n",
        "Find the currents $I_1 \\cdots I_6$ knowing that the \n",
        "\n",
        "Resistances are:\n",
        "\n",
        "$R_1=1 \\Omega$,\n",
        "$R_2=2 \\Omega$,\n",
        "$R_3=3 \\Omega$,\n",
        "$R_4=4 \\Omega$,\n",
        "$R_5=5 \\Omega$\n",
        "\n",
        "Voltages are:\n",
        "$E_1=10 V$,\n",
        "$E_2=40 V$\n",
        "\n",
        "use python build in functions  `np.linalg.solve(A,b)`"
      ]
    },
    {
      "cell_type": "markdown",
      "source": [
        "Para lograr lo que nos proponemos, vamos a descomponer en matrices el sistema de ecuaciones para hallar las 6 corrientes del sistema. Nos queda de la siguiente forma:\n",
        "\n",
        "$$ \\begin{pmatrix}\n",
        "-R_1 & -R_2 & R_3 & 0 & 0 & 0\\\\\n",
        "0 & R_2 & 0 & R_4 & R_5 & R_6\\\\\n",
        "0 & 0 & R_3 & 0 & -R_5 & 0\\\\\n",
        "R_1 & 0 & -R_3 & 0 & -R_5 & 0\\\\\n",
        "-R_1 & R_2 & 0 & R_4 & 0 & 0\\\\\n",
        "0 & 0 & 0 & -R_4 & R_5 & R_6\n",
        "\\end{pmatrix}  \\begin{pmatrix}\n",
        "I_1\\\\\n",
        "I_2\\\\\n",
        "I_3\\\\\n",
        "I_4\\\\\n",
        "I_5\\\\\n",
        "I_6\\\\\n",
        "\\end{pmatrix} = \\begin{pmatrix}\n",
        "-E_1\\\\\n",
        "-E_2\\\\\n",
        "E_2\\\\\n",
        "0\\\\\n",
        "0\\\\\n",
        "0\\\\\n",
        "\\end{pmatrix} $$"
      ],
      "metadata": {
        "id": "Ohb9LhESfp1i"
      },
      "id": "Ohb9LhESfp1i"
    },
    {
      "cell_type": "markdown",
      "source": [
        "Y ahora usamos las librerías de numpy para solucionar el sistema."
      ],
      "metadata": {
        "id": "feOnn_KRqnDf"
      },
      "id": "feOnn_KRqnDf"
    },
    {
      "cell_type": "code",
      "source": [
        "import numpy as np "
      ],
      "metadata": {
        "id": "5f9YYFaYeaP0"
      },
      "id": "5f9YYFaYeaP0",
      "execution_count": 2,
      "outputs": []
    },
    {
      "cell_type": "code",
      "source": [
        "A = np.array([[-1,-2,-3,0,0,0],  \n",
        "            [0,2,0,-4,0,0],\n",
        "            [0,0,3,0,-5,0], \n",
        "            [1,0,-1,0,-1,0], \n",
        "            [-1,1,0,1,0,0], \n",
        "            [0,0,0,-1,1,1]])  #Creo la matriz A  \n",
        "\n",
        "b = np.array([[-10],[-40],[40],[0],[0],[0]]) # Creo la matriz b "
      ],
      "metadata": {
        "id": "fwXBUWwudQam"
      },
      "id": "fwXBUWwudQam",
      "execution_count": 6,
      "outputs": []
    },
    {
      "cell_type": "code",
      "source": [
        "soluciones = np.linalg.solve(A,b) #Uso las librerías para solucionar el sistema de matrices"
      ],
      "metadata": {
        "id": "tBcp0oi1eOrh"
      },
      "id": "tBcp0oi1eOrh",
      "execution_count": 13,
      "outputs": []
    },
    {
      "cell_type": "code",
      "source": [
        "print(\"Soluciones al sistema de ecuaciones \")\n",
        "print('='*25)\n",
        "print(f'I_1 = {round(soluciones[0][0],3)}')\n",
        "print(f'I_2 = {round(soluciones[1][0],3)}')\n",
        "print(f'I_3 = {round(soluciones[2][0],3)}')\n",
        "print(f'I_4 = {round(soluciones[3][0],3)}')\n",
        "print(f'I_5 = {round(soluciones[4][0],3)}')\n",
        "print(f'I_6 = {round(soluciones[5][0],3)}')"
      ],
      "metadata": {
        "colab": {
          "base_uri": "https://localhost:8080/"
        },
        "id": "2mQmqxpqfCsx",
        "outputId": "894ab0b6-2609-40e7-c5ee-f619c3561acb"
      },
      "id": "2mQmqxpqfCsx",
      "execution_count": 12,
      "outputs": [
        {
          "output_type": "stream",
          "name": "stdout",
          "text": [
            "Soluciones al sistema de ecuaciones \n",
            "=========================\n",
            "I_1 = 1.98\n",
            "I_2 = -5.347\n",
            "I_3 = 6.238\n",
            "I_4 = 7.327\n",
            "I_5 = -4.257\n",
            "I_6 = 11.584\n"
          ]
        }
      ]
    }
  ],
  "metadata": {
    "kernelspec": {
      "display_name": "Python 3",
      "language": "python",
      "name": "python3"
    },
    "language_info": {
      "codemirror_mode": {
        "name": "ipython",
        "version": 3
      },
      "file_extension": ".py",
      "mimetype": "text/x-python",
      "name": "python",
      "nbconvert_exporter": "python",
      "pygments_lexer": "ipython3",
      "version": "3.7.2"
    },
    "colab": {
      "name": "homework_07.ipynb",
      "provenance": []
    }
  },
  "nbformat": 4,
  "nbformat_minor": 5
}