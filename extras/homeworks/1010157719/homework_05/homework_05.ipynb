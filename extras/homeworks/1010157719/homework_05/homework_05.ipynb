{
  "cells": [
    {
      "cell_type": "markdown",
      "source": [
        "#Santiago Herrera Guzmán\n",
        "##CC. 1010157719"
      ],
      "metadata": {
        "id": "YxGmfI1uF2nb"
      },
      "id": "YxGmfI1uF2nb"
    },
    {
      "cell_type": "markdown",
      "id": "human-paint",
      "metadata": {
        "id": "human-paint"
      },
      "source": [
        "# Homework 05"
      ]
    },
    {
      "cell_type": "markdown",
      "id": "equivalent-australian",
      "metadata": {
        "id": "equivalent-australian"
      },
      "source": [
        "### Task 1\n",
        "\n",
        "Write your own Simpson method to numerically calculate integral \n",
        "\n",
        "`my_simps(some_func,a,b,n)`\n",
        "* some_func\n",
        "* a: left limit \n",
        "* b: right limit\n",
        "* n: number of segments\n",
        "for example:\n",
        "\n",
        "#### for any a,b,n, func"
      ]
    },
    {
      "cell_type": "markdown",
      "id": "ultimate-traveler",
      "metadata": {
        "id": "ultimate-traveler"
      },
      "source": [
        "### example"
      ]
    },
    {
      "cell_type": "code",
      "source": [
        "import numpy as np\n",
        "import scipy.integrate\n",
        "import matplotlib.pyplot as plt"
      ],
      "metadata": {
        "id": "eqb_73F5_N26"
      },
      "id": "eqb_73F5_N26",
      "execution_count": 55,
      "outputs": []
    },
    {
      "cell_type": "markdown",
      "source": [
        "Para lograr lo propuesto, primero usaremos una función de prueba, la cuál será:\n",
        "$$ f(x) = e^x$$"
      ],
      "metadata": {
        "id": "sHvgK4NPD-U9"
      },
      "id": "sHvgK4NPD-U9"
    },
    {
      "cell_type": "code",
      "execution_count": 56,
      "id": "frozen-microwave",
      "metadata": {
        "id": "frozen-microwave"
      },
      "outputs": [],
      "source": [
        "def some_func(x):\n",
        "    return np.exp(x)"
      ]
    },
    {
      "cell_type": "markdown",
      "source": [
        "Ahora para integrar la función, usaremos la aproximación de simpson: "
      ],
      "metadata": {
        "id": "9mWXTp6hEb8E"
      },
      "id": "9mWXTp6hEb8E"
    },
    {
      "cell_type": "code",
      "source": [
        "def my_simps(some_func,a,b,n):\n",
        "  h = (b-a) / n\n",
        "  intervalo = np.linspace(a,b,n)   #Defino las variables a usar \n",
        "  datos = []\n",
        "\n",
        "  for j,i in enumerate(intervalo):  #Creo un ciclo for bajo unas codiciones para hacer la sumatoria de funciones\n",
        "    if j == 0 or j == n:\n",
        "      datos += [some_func(i)]\n",
        "\n",
        "    if (j % 2) == 0:\n",
        "      datos += [2*some_func(i)] \n",
        "\n",
        "    if (j % 2 ) == 1 :\n",
        "      datos += [4*some_func(i)]\n",
        "\n",
        "  I = h/3 * sum(np.array(datos))  #Resultado final de la integral\n",
        "  return I"
      ],
      "metadata": {
        "id": "d3Q46xBs3AJO"
      },
      "id": "d3Q46xBs3AJO",
      "execution_count": 57,
      "outputs": []
    },
    {
      "cell_type": "markdown",
      "source": [
        "Los datos a utilizar en la integral son:\n",
        "\n",
        "a = 1.5\n",
        "\n",
        "b = 2.5\n",
        "\n",
        "n = 50"
      ],
      "metadata": {
        "id": "9pmzk8k8E6x9"
      },
      "id": "9pmzk8k8E6x9"
    },
    {
      "cell_type": "code",
      "source": [
        "I=my_simps(some_func,1.5,2.5,50)\n",
        "I_func = scipy.integrate.quad(some_func,1.5,2.5) #Calculo del valor de la integral usando las librerias de python"
      ],
      "metadata": {
        "id": "eZURjXYH779x"
      },
      "id": "eZURjXYH779x",
      "execution_count": 58,
      "outputs": []
    },
    {
      "cell_type": "code",
      "source": [
        "print(\"Método \\t\\t\\tValores de la Integral\")\n",
        "print('='*50)\n",
        "print(f'Simpson \\t\\t{I}')\n",
        "print(f'Librería \\t\\t{I_func[0]}')"
      ],
      "metadata": {
        "colab": {
          "base_uri": "https://localhost:8080/"
        },
        "id": "nPMp19LgDTWw",
        "outputId": "008353bf-0a88-47da-c971-34a20e7a306f"
      },
      "id": "nPMp19LgDTWw",
      "execution_count": 59,
      "outputs": [
        {
          "output_type": "stream",
          "name": "stdout",
          "text": [
            "Método \t\t\tValores de la Integral\n",
            "==================================================\n",
            "Simpson \t\t7.769806619234369\n",
            "Librería \t\t7.70080489036541\n"
          ]
        }
      ]
    },
    {
      "cell_type": "markdown",
      "id": "recovered-modern",
      "metadata": {
        "id": "recovered-modern"
      },
      "source": [
        "### Task 2\n",
        "\n",
        "Solve the following integral numerically\n",
        "\n",
        "$$I = \\int_{1}^{9} \\frac{b x^2 + x^2 \\sqrt(x) - 1}{x^2} dx$$\n",
        "\n",
        "Initially b=2\n",
        "\n",
        "Then make a plot for $I$ vs 10 different values of b=[0,1,2,3,4,5,6,7,8,9] "
      ]
    },
    {
      "cell_type": "code",
      "execution_count": 60,
      "id": "verified-johnston",
      "metadata": {
        "id": "verified-johnston"
      },
      "outputs": [],
      "source": [
        "def integral(x,b):\n",
        "  return (b*x**2 + (x**2 * x**0.5) - 1 ) / x**2 #Creamos la función"
      ]
    },
    {
      "cell_type": "code",
      "execution_count": 61,
      "id": "adopted-morrison",
      "metadata": {
        "colab": {
          "base_uri": "https://localhost:8080/"
        },
        "id": "adopted-morrison",
        "outputId": "e292f7dd-c6ca-4925-babb-eaa47adcba63"
      },
      "outputs": [
        {
          "output_type": "stream",
          "name": "stdout",
          "text": [
            "El valor de la integral con b igual a 2 es: 32.4444\n"
          ]
        }
      ],
      "source": [
        "print(f'El valor de la integral con b igual a 2 es: {round(scipy.integrate.quad(integral,1,9, args=(2,))[0],4)}')"
      ]
    },
    {
      "cell_type": "code",
      "source": [
        "p = np.linspace(0,9,10) #Creo una lista con los valroes de b\n",
        "resultados = [] #Lista vacía para almacenar los valores calculados de la integral\n",
        "\n",
        "for i in p:\n",
        "  resultados += [scipy.integrate.quad(integral,1,9, args=(i,))[0]]  \n",
        "\n",
        "fig,ax=plt.subplots(figsize=(8, 6), dpi=80)\n",
        "ax.scatter(p,resultados, label = 'Valores Integral', color = 'red')\n",
        "ax.set_ylabel('Integral ')\n",
        "ax.set_xlabel('b')\n",
        "ax.set_title('Intergral vs Valores b')\n",
        "ax.legend()\n",
        "ax.grid()\n"
      ],
      "metadata": {
        "colab": {
          "base_uri": "https://localhost:8080/",
          "height": 444
        },
        "id": "vHdYG-KKAW6O",
        "outputId": "13c01d20-f6c6-478b-c4c8-267ba10bbaf0"
      },
      "id": "vHdYG-KKAW6O",
      "execution_count": 62,
      "outputs": [
        {
          "output_type": "display_data",
          "data": {
            "text/plain": [
              "<Figure size 640x480 with 1 Axes>"
            ],
            "image/png": "[encoded data removed]"
          },
          "metadata": {
            "needs_background": "light"
          }
        }
      ]
    }
  ],
  "metadata": {
    "kernelspec": {
      "display_name": "Python 3",
      "language": "python",
      "name": "python3"
    },
    "language_info": {
      "codemirror_mode": {
        "name": "ipython",
        "version": 3
      },
      "file_extension": ".py",
      "mimetype": "text/x-python",
      "name": "python",
      "nbconvert_exporter": "python",
      "pygments_lexer": "ipython3",
      "version": "3.7.2"
    },
    "colab": {
      "name": "homework_05.ipynb",
      "provenance": []
    }
  },
  "nbformat": 4,
  "nbformat_minor": 5
}