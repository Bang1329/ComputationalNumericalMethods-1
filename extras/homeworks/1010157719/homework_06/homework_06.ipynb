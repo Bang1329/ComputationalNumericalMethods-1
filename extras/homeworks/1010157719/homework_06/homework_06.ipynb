{
  "cells": [
    {
      "cell_type": "markdown",
      "source": [
        "#Santiago Herrera Guzmán\n",
        "##CC.1010157719"
      ],
      "metadata": {
        "id": "zsrFjBbCbqt0"
      },
      "id": "zsrFjBbCbqt0"
    },
    {
      "cell_type": "markdown",
      "id": "naked-liechtenstein",
      "metadata": {
        "id": "naked-liechtenstein"
      },
      "source": [
        "## Homework 06\n",
        "\n",
        "Create a notebook: ***homework_06.ipynb*** and inside make function:\n",
        "\n",
        "a function called `integral_monte_carlo_1D(integrand,lim1,lim2,N)` (with that order) that receives four parameters: integrand (function), limit1, limit2 and number of iterations `N`, and returns the value of `I` (just the numerical value)  \n",
        "*use vectorized form of the calculations\n",
        "\n",
        "Test your funcion on the following integral:\n",
        "\n",
        "$$\\int_{0}^{4} \\sqrt[4]{15 x^3 + 21x^2 + 41x + 3} \\cdot e^{-0.5x} dx$$\n",
        "\n",
        " where the integrand is\n",
        "$$f(x)=\\sqrt[4]{15 x^3 + 21x^2 + 41x + 3} \\cdot e^{-0.5x}$$\n",
        "\n",
        "compare with the scipy.integrate.quad results\n"
      ]
    },
    {
      "cell_type": "markdown",
      "source": [
        "Para lograr lo propuesto, vamos a programar el método de Monte Carlo para resolver integrales de la forma que se muestra a continuación:"
      ],
      "metadata": {
        "id": "GBAl49i8aDGz"
      },
      "id": "GBAl49i8aDGz"
    },
    {
      "cell_type": "code",
      "source": [
        "import numpy as np\n",
        "import scipy.integrate as integrate"
      ],
      "metadata": {
        "id": "VLdI9P5mWfNn"
      },
      "id": "VLdI9P5mWfNn",
      "execution_count": 11,
      "outputs": []
    },
    {
      "cell_type": "code",
      "source": [
        "def integrand(x): #Definimos una función que vamos a integrar\n",
        "  return (15*x**3 + 21*x**2 + 41*x + 3)**(0.25) * np.exp(-0.5*x)"
      ],
      "metadata": {
        "id": "wqY4kJEHWCOW"
      },
      "id": "wqY4kJEHWCOW",
      "execution_count": 9,
      "outputs": []
    },
    {
      "cell_type": "code",
      "source": [
        "def integral_monte_carlo_1D(integrand,lim1,lim2,N): #Ahora creamos una función que integra la función anterior\n",
        "  E=0\n",
        "\n",
        "  x=np.random.uniform(lim1,lim2,N)\n",
        "  I=np.mean(integrand(x))*(lim2-lim1)\n",
        "  return I"
      ],
      "metadata": {
        "id": "8P7MbGm0Wg2O"
      },
      "id": "8P7MbGm0Wg2O",
      "execution_count": 13,
      "outputs": []
    },
    {
      "cell_type": "code",
      "source": [
        "valor = integral_monte_carlo_1D(integrand,0,4,1000) "
      ],
      "metadata": {
        "id": "nzsgjvW9Znn2"
      },
      "id": "nzsgjvW9Znn2",
      "execution_count": 18,
      "outputs": []
    },
    {
      "cell_type": "code",
      "source": [
        "I,error = integrate.quad(integrand,0,4) #Calculo de la integral usando scipy.quad"
      ],
      "metadata": {
        "id": "APl-tvdkWkRx"
      },
      "id": "APl-tvdkWkRx",
      "execution_count": 17,
      "outputs": []
    },
    {
      "cell_type": "code",
      "source": [
        "print('Método \\t\\t\\tValor de la integral')\n",
        "print('='*50)\n",
        "print(f'Monte Carlo \\t\\t\\t{round(valor,4)}')\n",
        "print(f'Scipy Quad \\t\\t\\t{round(I,4)}')"
      ],
      "metadata": {
        "colab": {
          "base_uri": "https://localhost:8080/"
        },
        "id": "tHXPtXGDZI0A",
        "outputId": "41ec2a6f-42b2-4ab5-c858-5c3062351437"
      },
      "id": "tHXPtXGDZI0A",
      "execution_count": 19,
      "outputs": [
        {
          "output_type": "stream",
          "name": "stdout",
          "text": [
            "Método \t\t\tValor de la integral\n",
            "==================================================\n",
            "Monte Carlo \t\t\t5.7469\n",
            "Scipy Quad \t\t\t5.7674\n"
          ]
        }
      ]
    },
    {
      "cell_type": "markdown",
      "source": [
        "Como podemos observar, el método de Monte Carlo es bastante efectivo a la hora de calcular integrales de funciones en 1 dimensión."
      ],
      "metadata": {
        "id": "rQxalQsJbXGa"
      },
      "id": "rQxalQsJbXGa"
    }
  ],
  "metadata": {
    "kernelspec": {
      "display_name": "Python 3",
      "language": "python",
      "name": "python3"
    },
    "language_info": {
      "codemirror_mode": {
        "name": "ipython",
        "version": 3
      },
      "file_extension": ".py",
      "mimetype": "text/x-python",
      "name": "python",
      "nbconvert_exporter": "python",
      "pygments_lexer": "ipython3",
      "version": "3.7.2"
    },
    "colab": {
      "name": "homework_06.ipynb",
      "provenance": []
    }
  },
  "nbformat": 4,
  "nbformat_minor": 5
}