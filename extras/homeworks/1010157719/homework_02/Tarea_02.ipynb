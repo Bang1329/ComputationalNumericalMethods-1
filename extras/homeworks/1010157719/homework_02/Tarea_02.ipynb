{
  "cells": [
    {
      "cell_type": "markdown",
      "source": [
        "# Tarea # 2\n",
        "#Santiago Herrera Guzmán\n",
        "##CC. 10101157719\n"
      ],
      "metadata": {
        "id": "jlKwCTwh1f0L"
      },
      "id": "jlKwCTwh1f0L"
    },
    {
      "cell_type": "markdown",
      "id": "subsequent-sector",
      "metadata": {
        "id": "subsequent-sector"
      },
      "source": [
        "# TAREA SOBRE ROOT FINDING: \n",
        "Basado en el material de la clase pasada:\n",
        "* construye su propia función `my_root_finding(func,xL,xR,tol)` que recibe tres argumentos `func,xL,xR,tol` y devuelve el valor de la raíz de método de bisección usando el loop **while** \n",
        "* pruebe su código para los parámetros dados:\n",
        "  * $func=x^2 - 22 $\n",
        "  * $X_L=2, X_R=6$\n",
        "  * $tol=0.001$"
      ]
    },
    {
      "cell_type": "markdown",
      "source": [
        "---"
      ],
      "metadata": {
        "id": "qWHsb98H1uil"
      },
      "id": "qWHsb98H1uil"
    },
    {
      "cell_type": "markdown",
      "source": [
        "A continuación, nos proponemos a desarrollar un algoritmo para el calculo de raíces de funciones a partir del método de bisección. Entonces defino una función que me reciba lo siguiente:\n",
        "\n",
        "- La función de la cuál quiero conocer sus raíces\n",
        "- El límite inferior y superior del intervalo en el que se encuentra posiblemente la raíz.\n",
        "- La precisión que quiero que tenga mi calculo. "
      ],
      "metadata": {
        "id": "fSiJDQSz1ylG"
      },
      "id": "fSiJDQSz1ylG"
    },
    {
      "cell_type": "code",
      "source": [
        "def  my_root_finding(func, xL, xR, tol): \n",
        "  \n",
        "  xn = (xL + xR) / 2 #Defino el valor medio  \n",
        "\n",
        "  while abs(func(xn)) > tol: #Uso un ciclo while que llega hasta que el valor sea menor que la tolerancia\n",
        "    \n",
        "    if func(xn)*func(xR) < 0: #Condición si el producto es menor a 0 usando el límite superior\n",
        "      xL = xn\n",
        "    \n",
        "    elif func(xL)*func(xn): #Condición si el producto es menor a 0 usando el límite inferior\n",
        "      xR = xn\n",
        "    \n",
        "    xn = (xL + xR) / 2 #Reasignación del numero punto medio\n",
        "\n",
        "  return print(f\"La raíz es igual a: {xn}\")\n"
      ],
      "metadata": {
        "id": "5mUF1iYFoQnv"
      },
      "id": "5mUF1iYFoQnv",
      "execution_count": 5,
      "outputs": []
    },
    {
      "cell_type": "code",
      "source": [
        "func = lambda x: x**2 - 22 #Defino la función x**2 -22 \n",
        "my_root_finding(func, 2, 6, 0.001) #Pruebo el algoritmo"
      ],
      "metadata": {
        "colab": {
          "base_uri": "https://localhost:8080/"
        },
        "id": "r1kPUqYYw48X",
        "outputId": "6816d2c9-74a9-411e-8122-76ad82310171"
      },
      "id": "r1kPUqYYw48X",
      "execution_count": 6,
      "outputs": [
        {
          "output_type": "stream",
          "name": "stdout",
          "text": [
            "La raíz es igual a: 4.6904296875\n"
          ]
        }
      ]
    },
    {
      "cell_type": "code",
      "source": [
        ""
      ],
      "metadata": {
        "id": "_w56sgYKxOzk"
      },
      "id": "_w56sgYKxOzk",
      "execution_count": null,
      "outputs": []
    }
  ],
  "metadata": {
    "kernelspec": {
      "display_name": "Python 3",
      "language": "python",
      "name": "python3"
    },
    "language_info": {
      "codemirror_mode": {
        "name": "ipython",
        "version": 3
      },
      "file_extension": ".py",
      "mimetype": "text/x-python",
      "name": "python",
      "nbconvert_exporter": "python",
      "pygments_lexer": "ipython3",
      "version": "3.7.2"
    },
    "colab": {
      "name": "Tarea_02.ipynb",
      "provenance": []
    }
  },
  "nbformat": 4,
  "nbformat_minor": 5
}