{
  "cells": [
    {
      "cell_type": "markdown",
      "source": [
        "#Santiago Herrera Guzmán\n",
        "##CC. 1010157719"
      ],
      "metadata": {
        "id": "bie-CugugYnJ"
      },
      "id": "bie-CugugYnJ"
    },
    {
      "cell_type": "markdown",
      "id": "intimate-walter",
      "metadata": {
        "id": "intimate-walter"
      },
      "source": [
        "# Homework 04:\n",
        "\n",
        "* create notebook called: homework_04.ipynb (no spaces please)\n",
        "\n",
        "* inside write a function: `deriv(func,a,method,h)`\n",
        "`func` is a function that I can define\n",
        "`a` is a point (float) at which I wante to evaluate the derivative\n",
        "`method` is a string, and can have three options `forward`,`central`,`backward`\n",
        "`h` is a step\n",
        "\n",
        "* ***remember the function must not print anything, just return a single value***!!!\n",
        "* to choose between schemes ('central','forward'..) use `if`, `elif`\n",
        "* to test your function try:\n",
        "\n",
        "```\n",
        "def function(x):\n",
        "    return x**3.0\n",
        "    \n",
        "print(deriv(function,2.0,method='forward',h=0.1) )\n",
        "```\n",
        "* compare your result using from `scipy.misc.derivative`"
      ]
    },
    {
      "cell_type": "markdown",
      "source": [
        "Para calcular la derivada, nos proponemos a crear una función que dependiendo del esquema que se quiera usar.\n",
        "\n",
        "Para hacer el cálculo con el esquema \"backward\" se va a usar la siguiente ecuación:\n",
        "\n",
        "$$ f'(x_i) ≈ \\frac{f(x_i) - f(x_i -h)}{h}$$\n",
        "\n",
        "\n",
        "Para el esquema \"central\" se usa:\n",
        "\n",
        "$$ f'(x_i) ≈ \\frac{f(x_i + h) - f(x_i -h)}{2h}$$\n",
        "\n",
        "Y para el esquema \"foward\" se usa:\n",
        "\n",
        "$$ f'(x_i) ≈ \\frac{f(x_i + h) - f(x_i)}{h}$$\n",
        "\n"
      ],
      "metadata": {
        "id": "ajNnxzfccL3U"
      },
      "id": "ajNnxzfccL3U"
    },
    {
      "cell_type": "code",
      "execution_count": 58,
      "id": "documentary-percentage",
      "metadata": {
        "id": "documentary-percentage"
      },
      "outputs": [],
      "source": [
        "def deriv(func,a,method,h):\n",
        "\n",
        "  valor = 0   #Defino la variable en la que voy a almacenar el valor de la derivada\n",
        "\n",
        "  if 'backward' in method:                 #Defino las condiciones para cada tipo de esquema\n",
        "    valor =  (func(a) - func(a-h)) / h    \n",
        "\n",
        "  elif 'central' in method:\n",
        "    valor =  (func(a+h) - func(a-h)) / (2*h)\n",
        "  \n",
        "  elif 'foward' in  method:\n",
        "    valor = (func(a+h) - func(a)) / h \n",
        "\n",
        "  return valor\n"
      ]
    },
    {
      "cell_type": "code",
      "source": [
        "def function(x):  #defino la función que voy a derivar\n",
        "    return x**3.0\n",
        "\n",
        "d_backward = deriv(function,2.0,method='backward',h=0.1) #Valor para esquema backward \n",
        "d_central = deriv(function,2.0,method='central',h=0.1) #Valor para esquema central\n",
        "d_foward = deriv(function,2.0,method='foward',h=0.1)  #Valor para esquema foward"
      ],
      "metadata": {
        "id": "bUanoVq1MoB6"
      },
      "id": "bUanoVq1MoB6",
      "execution_count": 59,
      "outputs": []
    },
    {
      "cell_type": "code",
      "source": [
        "from scipy.misc import derivative\n",
        "\n",
        "d_scipy = derivative(function, 2.0, dx=1e-6) #Valor de la derivada usando la librería\n"
      ],
      "metadata": {
        "id": "RGjSzIO-NIFX"
      },
      "id": "RGjSzIO-NIFX",
      "execution_count": 60,
      "outputs": []
    },
    {
      "cell_type": "code",
      "source": [
        "print(\"Método \\t\\t\\tValores de la derivada\")\n",
        "print('='*50)\n",
        "print(f'Backward \\t\\t\\t{round(d_backward,4)}')\n",
        "print(f'Central \\t\\t\\t{round(d_central,4)}')\n",
        "print(f'Foward \\t\\t\\t\\t{round(d_foward,4)}')\n",
        "print('='*50)\n",
        "print(f'Librería Scipy \\t\\t\\t{round(d_scipy,4)}')"
      ],
      "metadata": {
        "colab": {
          "base_uri": "https://localhost:8080/"
        },
        "id": "PwO1RhPacGye",
        "outputId": "f47d37b0-b11c-40ef-80d8-24096eb3fc39"
      },
      "id": "PwO1RhPacGye",
      "execution_count": 61,
      "outputs": [
        {
          "output_type": "stream",
          "name": "stdout",
          "text": [
            "Método \t\t\tValores de la derivada\n",
            "==================================================\n",
            "Backward \t\t\t11.41\n",
            "Central \t\t\t12.01\n",
            "Foward \t\t\t\t12.61\n",
            "==================================================\n",
            "Librería Scipy \t\t\t12.0\n"
          ]
        }
      ]
    },
    {
      "cell_type": "markdown",
      "source": [
        "Como se puede observar, los valores obtenidos a través de los distintos métodos, dan un valor de la derivada bastante preciso comparado con las librerías."
      ],
      "metadata": {
        "id": "JK3JhOPOgmLJ"
      },
      "id": "JK3JhOPOgmLJ"
    },
    {
      "cell_type": "code",
      "source": [
        ""
      ],
      "metadata": {
        "id": "yiMrVFqPgxUV"
      },
      "id": "yiMrVFqPgxUV",
      "execution_count": null,
      "outputs": []
    }
  ],
  "metadata": {
    "kernelspec": {
      "display_name": "Python 3",
      "language": "python",
      "name": "python3"
    },
    "language_info": {
      "codemirror_mode": {
        "name": "ipython",
        "version": 3
      },
      "file_extension": ".py",
      "mimetype": "text/x-python",
      "name": "python",
      "nbconvert_exporter": "python",
      "pygments_lexer": "ipython3",
      "version": "3.7.2"
    },
    "colab": {
      "name": "homework_04.ipynb",
      "provenance": []
    }
  },
  "nbformat": 4,
  "nbformat_minor": 5
}