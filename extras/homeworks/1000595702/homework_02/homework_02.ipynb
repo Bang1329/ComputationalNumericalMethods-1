{
 "cells": [
  {
   "cell_type": "markdown",
   "metadata": {
    "id": "gdOSmsOoR6GL"
   },
   "source": [
    "##TAREA SOBRE ROOT FINDING:\n",
    "\n",
    "1. Construye su propia función my_root_finding(func,xL,xR,tol) que recibe tres argumentos $func,X_L,X_R,tol$ y devuelve el valor de la raíz de método de bisección usando el loop *while*.\n",
    "\n",
    "2. Pruebe su código para los parámetros dados:\n",
    "\n",
    "$func = x**2 - 22$\n",
    "\n",
    "$X_L = 2, X_R = 6$\n",
    "\n",
    "$tol = 0.001$"
   ]
  },
  {
   "cell_type": "code",
   "execution_count": 10,
   "metadata": {
    "id": "vZIsINGDAxMP"
   },
   "outputs": [],
   "source": [
    "import numpy as np"
   ]
  },
  {
   "cell_type": "code",
   "execution_count": 11,
   "metadata": {
    "id": "3Xe5wCQYBqWJ"
   },
   "outputs": [],
   "source": [
    "def func(x):\n",
    "  return x**2 - 22"
   ]
  },
  {
   "cell_type": "code",
   "execution_count": 12,
   "metadata": {
    "id": "NknqolknBaAk"
   },
   "outputs": [],
   "source": [
    "def my_root_finding(func, xL, xR, tol):\n",
    "\n",
    "  if xL > xR:\n",
    "    raise ValueError(\"La cota inferior xL debe ser mayor que la cota superior xR\")\n",
    "  if tol <= 0:\n",
    "    raise ValueError(\"La cota debe ser un número positivo\")\n",
    "    \n",
    "  x = (xL + xR) / 2.0\n",
    "  i=1\n",
    "  while True:\n",
    "    if xR - xL < tol:\n",
    "      i +=1\n",
    "      return (x,i)\n",
    "      #print(\"La raíz se encuentra entre xL y x\")\n",
    "    elif (np.sign(func(xL)) - np.sign(func(x)))>0:\n",
    "      i +=1\n",
    "      xL = x\n",
    "      #print(\"La raíz se encuentra entre x y xR\") \n",
    "    else:\n",
    "      i+=1\n",
    "      xR = x\n",
    "    x = (xL + xR) / 2.0\n",
    "  return (x,i)"
   ]
  },
  {
   "cell_type": "code",
   "execution_count": 13,
   "metadata": {
    "colab": {
     "base_uri": "https://localhost:8080/"
    },
    "id": "Vt1jMtRSQ5n6",
    "outputId": "3b759bde-200c-4b9c-82cb-86b8a8686198"
   },
   "outputs": [
    {
     "data": {
      "text/plain": [
       "(2.00048828125, 14)"
      ]
     },
     "execution_count": 13,
     "metadata": {},
     "output_type": "execute_result"
    }
   ],
   "source": [
    "my_root_finding(func, 2, 6, 0.001)"
   ]
  }
 ],
 "metadata": {
  "colab": {
   "collapsed_sections": [],
   "name": "homework_02.ipynb",
   "provenance": []
  },
  "kernelspec": {
   "display_name": "Python 3",
   "language": "python",
   "name": "python3"
  },
  "language_info": {
   "codemirror_mode": {
    "name": "ipython",
    "version": 3
   },
   "file_extension": ".py",
   "mimetype": "text/x-python",
   "name": "python",
   "nbconvert_exporter": "python",
   "pygments_lexer": "ipython3",
   "version": "3.7.2"
  }
 },
 "nbformat": 4,
 "nbformat_minor": 1
}
