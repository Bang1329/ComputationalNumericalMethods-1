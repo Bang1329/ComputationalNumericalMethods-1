{
 "cells": [
  {
   "cell_type": "code",
   "execution_count": 5,
   "metadata": {
    "id": "IhxHwdQwqaTM"
   },
   "outputs": [],
   "source": [
    "import numpy as np\n",
    "import pandas as pd\n",
    "import math"
   ]
  },
  {
   "cell_type": "markdown",
   "metadata": {
    "id": "6PdEwvxgn4hs"
   },
   "source": [
    "1. Construya una función celsius_fahrenheit_1(celsius), que reciba un valor numérico de temperatura en centígrados y devuelva una temperatura en escala Fahrenheit."
   ]
  },
  {
   "cell_type": "code",
   "execution_count": 2,
   "metadata": {
    "colab": {
     "base_uri": "https://localhost:8080/"
    },
    "id": "i-BroGJNt8yX",
    "outputId": "a4acd820-ce2f-4e4d-90b9-cfdafafd40ce"
   },
   "outputs": [
    {
     "name": "stdout",
     "output_type": "stream",
     "text": [
      "67.1\n"
     ]
    }
   ],
   "source": [
    "def celcius_fahrenheit_1(celcius):\n",
    "  return ((9/5)*celcius)+32\n",
    "\n",
    "conversion=celcius_fahrenheit_1(19.5)\n",
    "print(conversion)"
   ]
  },
  {
   "cell_type": "markdown",
   "metadata": {
    "id": "ta8o7kb1u0uk"
   },
   "source": [
    "2. Modifique la función anterior para devolver None en caso de cualquier error e imprimir mensaje error"
   ]
  },
  {
   "cell_type": "code",
   "execution_count": 3,
   "metadata": {
    "colab": {
     "base_uri": "https://localhost:8080/"
    },
    "id": "siVmUY5CnVbt",
    "outputId": "da4a1415-97f6-41ff-c615-12a27243957e"
   },
   "outputs": [
    {
     "name": "stdout",
     "output_type": "stream",
     "text": [
      "Solo se admiten valores entre -273.15 y 100 para la conversion de grados Celcius a Fahrenheit\n"
     ]
    }
   ],
   "source": [
    "def celcius_fahrenheit_1(celcius):\n",
    "  try:\n",
    "    \n",
    "    if (celcius<100) and (celcius>-273.15):        \n",
    "      resultado_conversion=((9/5)*celcius)+32\n",
    "      return resultado_conversion\n",
    "      print(\"La temperantura en Fahrenheit es:\", resultado_conversion)\n",
    "\n",
    "    else:\n",
    "      resultado_conversion=None\n",
    "      print(\"Solo se admiten valores entre -273.15 y 100 para la conversion de grados Celcius a Fahrenheit\")\n",
    "  except:\n",
    "    resultado_conversion=None\n",
    "celcius_fahrenheit_1(102)"
   ]
  },
  {
   "cell_type": "markdown",
   "metadata": {
    "id": "br0u6WbXzokK"
   },
   "source": [
    "3. Construya una función sum_odd_even(a), que para un número dado a devuelva dos valores: la suma de todos los números pares y la suma de los números impares dentro del rango de a (pista: usa loop for)"
   ]
  },
  {
   "cell_type": "code",
   "execution_count": 4,
   "metadata": {
    "colab": {
     "base_uri": "https://localhost:8080/"
    },
    "id": "FZ0izc7vzuyb",
    "outputId": "625d4837-bfa1-4aaa-f229-ef0a53fd8317"
   },
   "outputs": [
    {
     "data": {
      "text/plain": [
       "(6, 9)"
      ]
     },
     "execution_count": 4,
     "metadata": {},
     "output_type": "execute_result"
    }
   ],
   "source": [
    "def sum_odd_even(a):\n",
    "  list_odd=[]\n",
    "  list_even=[]\n",
    "  for i in range(1,a+1):\n",
    "    if (i%2==0):\n",
    "      list_even.append(i)\n",
    "    else:\n",
    "      list_odd.append(i)\n",
    "\n",
    "  sum=0\n",
    "  for j in range(0,len(list_even)):\n",
    "    sum=sum+list_even[j]\n",
    "  sum2=0\n",
    "  for k in range(0,len(list_odd)):\n",
    "    sum2=sum2+list_odd[k]\n",
    "  return sum,sum2\n",
    "\n",
    "\n",
    "sum_odd_even(5)"
   ]
  },
  {
   "cell_type": "markdown",
   "metadata": {
    "id": "B-qzan9d-UVd"
   },
   "source": [
    "4. La función $$ \\frac{1}{1-x} $$\n",
    "se puede aproximar con la siguiente suma:\n",
    "\n",
    "$$ \\frac{1}{1-x}=\\sum\\limits_{k=0}^\\infty x^k $$\n",
    "\n",
    "Donde $k$ es el número de los términos de la suma, responsable de cuán buena será la aproximación, si $k=2$ la aproximación es peor que si $k=5$...\n",
    "\n",
    "Construya una función div_x(x,k) que acepte dos parámetros $x$ y $k$ y devuelva valor de aproximación de función: $$ \\frac{1}{1-x} $$"
   ]
  },
  {
   "cell_type": "code",
   "execution_count": 22,
   "metadata": {
    "colab": {
     "base_uri": "https://localhost:8080/"
    },
    "id": "BziEFqXsAWZk",
    "outputId": "22e656e3-f517-4e42-e65c-81471d016554"
   },
   "outputs": [
    {
     "data": {
      "text/plain": [
       "5"
      ]
     },
     "execution_count": 22,
     "metadata": {},
     "output_type": "execute_result"
    }
   ],
   "source": [
    "def div_x(x,k):\n",
    "#  list_numbers=list(range(0,n))\n",
    "#  sum3=x\n",
    "#  for s in range (1,len(list_numbers)):\n",
    "#    sum3=sum3^(list_numbers[s])\n",
    "#    list_numbers.append(s)\n",
    "#  return sum3\n",
    "  \n",
    "  n=x\n",
    "  for s in range(1,n):\n",
    "    sumatoria=s^k\n",
    "  return sumatoria\n",
    "\n",
    "\n",
    "div_x(2,4)"
   ]
  },
  {
   "cell_type": "markdown",
   "metadata": {
    "id": "HaH8MNcyafPX"
   },
   "source": [
    "5. Reto: Usando doble for y range() imprima la siguiente pirámide:\n",
    "\n",
    "0 \n",
    "\n",
    "0 1\n",
    "\n",
    "0 1 2\n",
    "\n",
    "0 1 2 3\n",
    "\n",
    "0 1 2 3 4\n",
    "\n",
    "0 1 2 3 4 5\n",
    "\n",
    "0 1 2 3 4 5 6\n",
    "\n",
    "0 1 2 3 4 5 6 7\n",
    "\n",
    "0 1 2 3 4 5 6 7 8\n",
    "\n",
    "0 1 2 3 4 5 6 7 8 9"
   ]
  },
  {
   "cell_type": "code",
   "execution_count": 3,
   "metadata": {
    "colab": {
     "base_uri": "https://localhost:8080/"
    },
    "id": "pB1938mYbBlj",
    "outputId": "e41269c1-e758-42ff-ae89-cc1a47ecde7c"
   },
   "outputs": [
    {
     "name": "stdout",
     "output_type": "stream",
     "text": [
      "\n",
      "0 \n",
      "0 1 \n",
      "0 1 2 \n",
      "0 1 2 3 \n",
      "0 1 2 3 4 \n",
      "0 1 2 3 4 5 \n",
      "0 1 2 3 4 5 6 \n",
      "0 1 2 3 4 5 6 7 \n",
      "0 1 2 3 4 5 6 7 8 \n",
      "0 1 2 3 4 5 6 7 8 9 "
     ]
    }
   ],
   "source": [
    "for c in range(1,11):\n",
    "  print(end='\\n')\n",
    "  for q in range(0,c):\n",
    "    print(q,end=' ')"
   ]
  },
  {
   "cell_type": "markdown",
   "metadata": {
    "id": "ETa929Wba2j1"
   },
   "source": [
    "6. Reto: Usando doble for y range() imprima la siguiente pirámide:\n",
    "\n",
    "9 8 7 6 5 4 3 2 1 0\n",
    "\n",
    "8 7 6 5 4 3 2 1 0\n",
    "\n",
    "7 6 5 4 3 2 1 0\n",
    "\n",
    "6 5 4 3 2 1 0\n",
    "\n",
    "5 4 3 2 1 0\n",
    "\n",
    "4 3 2 1 0\n",
    "\n",
    "3 2 1 0\n",
    "\n",
    "2 1 0\n",
    "\n",
    "1 0\n",
    "\n",
    "0"
   ]
  },
  {
   "cell_type": "code",
   "execution_count": 12,
   "metadata": {
    "colab": {
     "base_uri": "https://localhost:8080/"
    },
    "id": "IPZDChk2bCH7",
    "outputId": "a016eac9-627b-4e7f-84a3-d19074ef1d80"
   },
   "outputs": [
    {
     "name": "stdout",
     "output_type": "stream",
     "text": [
      "\n",
      "9 8 7 6 5 4 3 2 1 0 \n",
      "8 7 6 5 4 3 2 1 0 \n",
      "7 6 5 4 3 2 1 0 \n",
      "6 5 4 3 2 1 0 \n",
      "5 4 3 2 1 0 \n",
      "4 3 2 1 0 \n",
      "3 2 1 0 \n",
      "2 1 0 \n",
      "1 0 \n",
      "0 "
     ]
    }
   ],
   "source": [
    "for p in range(9,-1,-1):\n",
    "  print(end='\\n')\n",
    "  for w in range(p,-1,-1):\n",
    "    print(w, end=' ')"
   ]
  }
 ],
 "metadata": {
  "colab": {
   "collapsed_sections": [],
   "name": "homework_01.ipynb",
   "provenance": []
  },
  "kernelspec": {
   "display_name": "Python 3",
   "language": "python",
   "name": "python3"
  },
  "language_info": {
   "codemirror_mode": {
    "name": "ipython",
    "version": 3
   },
   "file_extension": ".py",
   "mimetype": "text/x-python",
   "name": "python",
   "nbconvert_exporter": "python",
   "pygments_lexer": "ipython3",
   "version": "3.7.2"
  }
 },
 "nbformat": 4,
 "nbformat_minor": 1
}
