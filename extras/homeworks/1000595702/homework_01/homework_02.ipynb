{
  "nbformat": 4,
  "nbformat_minor": 0,
  "metadata": {
    "colab": {
      "name": "homework_02.ipynb",
      "provenance": [],
      "collapsed_sections": []
    },
    "kernelspec": {
      "name": "python3",
      "display_name": "Python 3"
    },
    "language_info": {
      "name": "python"
    }
  },
  "cells": [
    {
      "cell_type": "markdown",
      "source": [
        "##TAREA SOBRE ROOT FINDING:\n",
        "\n",
        "1. Construye su propia función my_root_finding(func,xL,xR,tol) que recibe tres argumentos $func,X_L,X_R,tol$ y devuelve el valor de la raíz de método de bisección usando el loop *while*.\n",
        "\n",
        "2. Pruebe su código para los parámetros dados:\n",
        "\n",
        "$func = x**2 - 22$\n",
        "\n",
        "$X_L = 2, X_R = 6$\n",
        "\n",
        "$tol = 0.001$"
      ],
      "metadata": {
        "id": "gdOSmsOoR6GL"
      }
    },
    {
      "cell_type": "code",
      "execution_count": 1,
      "metadata": {
        "id": "vZIsINGDAxMP"
      },
      "outputs": [],
      "source": [
        "import numpy as np"
      ]
    },
    {
      "cell_type": "code",
      "source": [
        "def func(x):\n",
        "  return x**2 - 22"
      ],
      "metadata": {
        "id": "3Xe5wCQYBqWJ"
      },
      "execution_count": 2,
      "outputs": []
    },
    {
      "cell_type": "code",
      "source": [
        "def my_root_finding(func, xL, xR, tol):\n",
        "\n",
        "  if xL > xR:\n",
        "    raise ValueError(\"La cota inferior xL debe ser mayor que la cota superior xR\")\n",
        "  if tol <= 0:\n",
        "    raise ValueError(\"La cota debe ser un número positivo\")\n",
        "    \n",
        "  x = (xL + xR) / 2.0\n",
        "  i=1\n",
        "  while True:\n",
        "    if xR - xL < tol:\n",
        "      i +=1\n",
        "      return (x,i)\n",
        "      #print(\"La raíz se encuentra entre xL y x\")\n",
        "    elif (np.sign(func(xL)) - np.sign(func(x)))>0:\n",
        "      i +=1\n",
        "      xL = x\n",
        "      #print(\"La raíz se encuentra entre x y xR\") \n",
        "    else:\n",
        "      i+=1\n",
        "      xR = x\n",
        "    x = (xL + xR) / 2.0\n",
        "  return (x,i)"
      ],
      "metadata": {
        "id": "NknqolknBaAk"
      },
      "execution_count": 17,
      "outputs": []
    },
    {
      "cell_type": "code",
      "source": [
        "my_root_finding(func, 2, 6, 0.001)"
      ],
      "metadata": {
        "colab": {
          "base_uri": "https://localhost:8080/"
        },
        "id": "Vt1jMtRSQ5n6",
        "outputId": "3b759bde-200c-4b9c-82cb-86b8a8686198"
      },
      "execution_count": 18,
      "outputs": [
        {
          "output_type": "execute_result",
          "data": {
            "text/plain": [
              "(2.00048828125, 14)"
            ]
          },
          "metadata": {},
          "execution_count": 18
        }
      ]
    }
  ]
}