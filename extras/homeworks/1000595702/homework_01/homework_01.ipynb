{
  "nbformat": 4,
  "nbformat_minor": 0,
  "metadata": {
    "colab": {
      "name": "homework_01.ipynb",
      "provenance": [],
      "collapsed_sections": []
    },
    "kernelspec": {
      "name": "python3",
      "display_name": "Python 3"
    },
    "language_info": {
      "name": "python"
    }
  },
  "cells": [
    {
      "cell_type": "code",
      "execution_count": 10,
      "metadata": {
        "id": "IhxHwdQwqaTM"
      },
      "outputs": [],
      "source": [
        "import numpy as np\n",
        "import pandas as pd"
      ]
    },
    {
      "cell_type": "markdown",
      "source": [
        "1. Construya una función celsius_fahrenheit_1(celsius), que reciba un valor numérico de temperatura en centígrados y devuelva una temperatura en escala Fahrenheit."
      ],
      "metadata": {
        "id": "6PdEwvxgn4hs"
      }
    },
    {
      "cell_type": "code",
      "source": [
        "def celcius_fahrenheit_1(celcius):\n",
        "  return ((9/5)*celcius)+32\n",
        "\n",
        "conversion=celcius_fahrenheit_1(19.5)\n",
        "print(conversion)"
      ],
      "metadata": {
        "colab": {
          "base_uri": "https://localhost:8080/"
        },
        "id": "i-BroGJNt8yX",
        "outputId": "1e3a5bc3-60a6-4ce2-c9b2-b0be52332ed0"
      },
      "execution_count": 11,
      "outputs": [
        {
          "output_type": "stream",
          "name": "stdout",
          "text": [
            "67.1\n"
          ]
        }
      ]
    },
    {
      "cell_type": "markdown",
      "source": [
        "2. Modifique la función anterior para devolver None en caso de cualquier error e imprimir mensaje error"
      ],
      "metadata": {
        "id": "ta8o7kb1u0uk"
      }
    },
    {
      "cell_type": "code",
      "source": [
        "def celcius_fahrenheit_1(celcius):\n",
        "  try:\n",
        "    \n",
        "    if (celcius<100) and (celcius>-273.15):        \n",
        "      resultado_conversion=((9/5)*celcius)+32\n",
        "      return resultado_conversion\n",
        "      print(\"La temperantura en Fahrenheit es:\", resultado_conversion)\n",
        "\n",
        "    else:\n",
        "      resultado_conversion=None\n",
        "      print(\"Solo se admiten valores entre -273.15 y 100 para la conversion de grados Celcius a Fahrenheit\")\n",
        "  except:\n",
        "    resultado_conversion=None\n",
        "celcius_fahrenheit_1(102)"
      ],
      "metadata": {
        "colab": {
          "base_uri": "https://localhost:8080/"
        },
        "id": "siVmUY5CnVbt",
        "outputId": "9301f498-8fe5-4d97-ed3f-296183333fd0"
      },
      "execution_count": 12,
      "outputs": [
        {
          "output_type": "stream",
          "name": "stdout",
          "text": [
            "Solo se admiten valores entre -273.15 y 100 para la conversion de grados Celcius a Fahrenheit\n"
          ]
        }
      ]
    },
    {
      "cell_type": "markdown",
      "source": [
        "3. Construya una función sum_odd_even(a), que para un número dado a devuelva dos valores: la suma de todos los números pares y la suma de los números impares dentro del rango de a (pista: usa loop for)"
      ],
      "metadata": {
        "id": "br0u6WbXzokK"
      }
    },
    {
      "cell_type": "code",
      "source": [
        "def sum_odd_even(a):\n",
        "  list_odd=[]\n",
        "  list_even=[]\n",
        "  for i in range(1,a+1):\n",
        "    if (i%2==0):\n",
        "      list_even.append(i)\n",
        "    else:\n",
        "      list_odd.append(i)\n",
        "\n",
        "  sum=0\n",
        "  for j in range(0,len(list_even)):\n",
        "    sum=sum+list_even[j]\n",
        "  sum2=0\n",
        "  for k in range(0,len(list_odd)):\n",
        "    sum2=sum2+list_odd[k]\n",
        "  return sum,sum2\n",
        "\n",
        "\n",
        "sum_odd_even(5)"
      ],
      "metadata": {
        "colab": {
          "base_uri": "https://localhost:8080/"
        },
        "id": "FZ0izc7vzuyb",
        "outputId": "479064a9-5271-4f4e-a373-f4f05c764a0f"
      },
      "execution_count": 13,
      "outputs": [
        {
          "output_type": "execute_result",
          "data": {
            "text/plain": [
              "(6, 9)"
            ]
          },
          "metadata": {},
          "execution_count": 13
        }
      ]
    },
    {
      "cell_type": "markdown",
      "source": [
        "4. La función $$ \\frac{1}{1-x} $$\n",
        "se puede aproximar con la siguiente suma:\n",
        "\n",
        "$$ \\frac{1}{1-x}=\\sum\\limits_{k=0}^\\infty x^k $$\n",
        "\n",
        "Donde $k$ es el número de los términos de la suma, responsable de cuán buena será la aproximación, si $k=2$ la aproximación es peor que si $k=5$...\n",
        "\n",
        "Construya una función div_x(x,k) que acepte dos parámetros $x$ y $k$ y devuelva valor de aproximación de función: $$ \\frac{1}{1-x} $$"
      ],
      "metadata": {
        "id": "B-qzan9d-UVd"
      }
    },
    {
      "cell_type": "code",
      "source": [
        "def div_x(x,k):\n",
        "    aprox=0.0\n",
        "\n",
        "    for i in range(0,k):\n",
        "        aprox=aprox+(x**i)\n",
        "    return aprox\n",
        "\n",
        "div_x(0.1,2)"
      ],
      "metadata": {
        "colab": {
          "base_uri": "https://localhost:8080/"
        },
        "id": "BziEFqXsAWZk",
        "outputId": "32c3eec0-ed80-4f54-ad67-c73107a5d473"
      },
      "execution_count": 36,
      "outputs": [
        {
          "output_type": "execute_result",
          "data": {
            "text/plain": [
              "1.1"
            ]
          },
          "metadata": {},
          "execution_count": 36
        }
      ]
    },
    {
      "cell_type": "markdown",
      "source": [
        "5. Reto: Usando doble for y range() imprima la siguiente pirámide:\n",
        "\n",
        "0 \n",
        "\n",
        "0 1\n",
        "\n",
        "0 1 2\n",
        "\n",
        "0 1 2 3\n",
        "\n",
        "0 1 2 3 4\n",
        "\n",
        "0 1 2 3 4 5\n",
        "\n",
        "0 1 2 3 4 5 6\n",
        "\n",
        "0 1 2 3 4 5 6 7\n",
        "\n",
        "0 1 2 3 4 5 6 7 8\n",
        "\n",
        "0 1 2 3 4 5 6 7 8 9"
      ],
      "metadata": {
        "id": "HaH8MNcyafPX"
      }
    },
    {
      "cell_type": "code",
      "source": [
        "for c in range(1,11):\n",
        "  print(end='\\n')\n",
        "  for q in range(0,c):\n",
        "    print(q,end=' ')"
      ],
      "metadata": {
        "colab": {
          "base_uri": "https://localhost:8080/"
        },
        "id": "pB1938mYbBlj",
        "outputId": "f9c15bc3-7037-4a9d-c9be-ad8a7de226ac"
      },
      "execution_count": 16,
      "outputs": [
        {
          "output_type": "stream",
          "name": "stdout",
          "text": [
            "\n",
            "0 \n",
            "0 1 \n",
            "0 1 2 \n",
            "0 1 2 3 \n",
            "0 1 2 3 4 \n",
            "0 1 2 3 4 5 \n",
            "0 1 2 3 4 5 6 \n",
            "0 1 2 3 4 5 6 7 \n",
            "0 1 2 3 4 5 6 7 8 \n",
            "0 1 2 3 4 5 6 7 8 9 "
          ]
        }
      ]
    },
    {
      "cell_type": "markdown",
      "source": [
        "6. Reto: Usando doble for y range() imprima la siguiente pirámide:\n",
        "\n",
        "9 8 7 6 5 4 3 2 1 0\n",
        "\n",
        "8 7 6 5 4 3 2 1 0\n",
        "\n",
        "7 6 5 4 3 2 1 0\n",
        "\n",
        "6 5 4 3 2 1 0\n",
        "\n",
        "5 4 3 2 1 0\n",
        "\n",
        "4 3 2 1 0\n",
        "\n",
        "3 2 1 0\n",
        "\n",
        "2 1 0\n",
        "\n",
        "1 0\n",
        "\n",
        "0"
      ],
      "metadata": {
        "id": "ETa929Wba2j1"
      }
    },
    {
      "cell_type": "code",
      "source": [
        "for p in range(9,-1,-1):\n",
        "  print(end='\\n')\n",
        "  for w in range(p,-1,-1):\n",
        "    print(w, end=' ')"
      ],
      "metadata": {
        "colab": {
          "base_uri": "https://localhost:8080/"
        },
        "id": "IPZDChk2bCH7",
        "outputId": "6940bcad-e0eb-4b7d-b1a5-9ece8d3b690f"
      },
      "execution_count": 17,
      "outputs": [
        {
          "output_type": "stream",
          "name": "stdout",
          "text": [
            "\n",
            "9 8 7 6 5 4 3 2 1 0 \n",
            "8 7 6 5 4 3 2 1 0 \n",
            "7 6 5 4 3 2 1 0 \n",
            "6 5 4 3 2 1 0 \n",
            "5 4 3 2 1 0 \n",
            "4 3 2 1 0 \n",
            "3 2 1 0 \n",
            "2 1 0 \n",
            "1 0 \n",
            "0 "
          ]
        }
      ]
    }
  ]
}