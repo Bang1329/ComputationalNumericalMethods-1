{
  "nbformat": 4,
  "nbformat_minor": 0,
  "metadata": {
    "colab": {
      "provenance": []
    },
    "kernelspec": {
      "name": "python3",
      "display_name": "Python 3"
    },
    "language_info": {
      "name": "python"
    }
  },
  "cells": [
    {
      "cell_type": "markdown",
      "source": [
        "#Homework 06:\n",
        "Create a notebook: *homework_06.ipynb* and inside make function:\n",
        "\n",
        "a function called integral_monte_carlo_1D(integrand,lim1,lim2,N) (with that order) that receives four parameters: integrand (function), limit1, limit2 and number of iterations N, and returns the value of I (just the numerical value)\n",
        "*use vectorized form of the calculations\n",
        "\n",
        "Test your funcion on the following integral:\n",
        "\n",
        "$\\int_{0}^{4} \\sqrt[4]{15 x^3 + 21x^2 + 41x + 3} \\cdot e^{-0.5x} dx$\n",
        "\n",
        "where the integrand is \n",
        "\n",
        "$f(x)=\\sqrt[4]{15 x^3 + 21x^2 + 41x + 3} \\cdot e^{-0.5x}$\n",
        "\n",
        "compare with the scipy.integrate.quad results"
      ],
      "metadata": {
        "id": "89QUTElQLOu1"
      }
    },
    {
      "cell_type": "code",
      "source": [
        "import numpy as np\n",
        "from scipy import integrate"
      ],
      "metadata": {
        "id": "PeI3OPjbLt2o"
      },
      "execution_count": null,
      "outputs": []
    },
    {
      "cell_type": "code",
      "source": [
        "def integrand(x):\n",
        "  return (np.sqrt(14*x**3 + 21*x**2 + 41*x + 3))**(1/4) * np.exp(-.5*x)"
      ],
      "metadata": {
        "id": "FWvWqpbYL_z7"
      },
      "execution_count": null,
      "outputs": []
    },
    {
      "cell_type": "code",
      "source": [
        "a = 0\n",
        "b = 4\n",
        "N=10000\n",
        "E=0\n",
        "for i in range(N):\n",
        "  x=np.random.uniform(a,b)\n",
        "  E+=E/N\n",
        "  "
      ],
      "metadata": {
        "id": "MFIvTHetacYr"
      },
      "execution_count": null,
      "outputs": []
    },
    {
      "cell_type": "code",
      "execution_count": null,
      "metadata": {
        "id": "Wp3ho58WKaPf"
      },
      "outputs": [],
      "source": [
        "def integral_monte_carlo_1D(integrand,lim1,lim2,N):\n",
        "  limites = lim2 - lim1\n",
        "  sum=0\n",
        "  for i in range(lim1,lim2+1):\n",
        "    sum += np.sqrt(14*i**3 + 21*i**2 + 41*i + 3)**(1/4) * np.exp(-0.5*i)\n",
        "    #print(sum)\n",
        "    I = limites * 1/N * sum\n",
        "    print(I)\n",
        "  return I"
      ]
    },
    {
      "cell_type": "code",
      "source": [
        "integral_monte_carlo_1D(integrand,0,4,8)"
      ],
      "metadata": {
        "colab": {
          "base_uri": "https://localhost:8080/"
        },
        "id": "s6Z4OPfDX5Nz",
        "outputId": "c02e2604-fa96-480a-c3e5-0cc5eea6802f"
      },
      "execution_count": null,
      "outputs": [
        {
          "output_type": "stream",
          "name": "stdout",
          "text": [
            "0.5736013452199386\n",
            "1.0972333098522944\n",
            "1.4694225489170747\n",
            "1.7221310988950111\n",
            "1.8894743703215635\n"
          ]
        },
        {
          "output_type": "execute_result",
          "data": {
            "text/plain": [
              "1.8894743703215635"
            ]
          },
          "metadata": {},
          "execution_count": 27
        }
      ]
    },
    {
      "cell_type": "code",
      "source": [
        "def integral_monte_carlo_1D(integrand,lim1,lim2,N):\n",
        "  limites = lim2 - lim1\n",
        "  sum=0\n",
        "  for i in integrand:\n",
        "    sum += integrand\n",
        "  I = limites * 1/N * sum\n",
        "  return I"
      ],
      "metadata": {
        "id": "pflzDJphQM4x"
      },
      "execution_count": null,
      "outputs": []
    },
    {
      "cell_type": "code",
      "source": [
        "integrate.quad(integrand,0,4)"
      ],
      "metadata": {
        "colab": {
          "base_uri": "https://localhost:8080/"
        },
        "id": "wIQo8v_XXsGP",
        "outputId": "c595caa9-82f2-40d1-91a1-bd14a6770e0e"
      },
      "execution_count": null,
      "outputs": [
        {
          "output_type": "execute_result",
          "data": {
            "text/plain": [
              "(3.096281118475414, 7.359937959725457e-10)"
            ]
          },
          "metadata": {},
          "execution_count": 12
        }
      ]
    },
    {
      "cell_type": "code",
      "source": [],
      "metadata": {
        "id": "JjHQKSypX87k"
      },
      "execution_count": null,
      "outputs": []
    }
  ]
}