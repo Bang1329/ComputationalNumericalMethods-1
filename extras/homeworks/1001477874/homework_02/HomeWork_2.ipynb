{
 "cells": [
  {
   "cell_type": "markdown",
   "id": "subsequent-sector",
   "metadata": {},
   "source": [
    "# TAREA SOBRE ROOT FINDING: \n",
    "Basado en el material de la clase pasada:\n",
    "* construye su propia función `my_root_finding(func,xL,xR,tol)` que recibe tres argumentos `func,xL,xR,tol` y devuelve el valor de la raíz de método de bisección usando el loop **while** \n",
    "* pruebe su código para los parámetros dados:\n",
    "  * $func=x^2 - 22 $\n",
    "  * $X_L=2, X_R=6$\n",
    "  * $tol=0.001$"
   ]
  },
  {
   "cell_type": "code",
   "execution_count": 3,
   "id": "latest-variety",
   "metadata": {},
   "outputs": [],
   "source": [
    "def biseccion(f, Xl, Xr, tol): #Función, Punto a la izquierda, Punto a la derecha, Tolerancia\n",
    "    Xn = (Xl+Xr)/2 #Encontramos el punto medio entre ambos puntos\n",
    "    while abs(f(Xn))>tol: #Repetimos el algoritmo mientras el error sea mayor a la tolerancia\n",
    "        if f(Xl)*f(Xn)<0: #Si este producto es negativo, por lo visto en clase sabemos que la raiz estará entre Xl y Xn\n",
    "            Xr = Xn\n",
    "            Xn = (Xl+Xr)/2\n",
    "        else: #En cambio si el productor es positivo, la raiz estará entre Xn y Xr\n",
    "            Xl = Xn\n",
    "            Xn = (Xl+Xr)/2\n",
    "    return Xn #Retornamos el valor de la raiz encontrada"
   ]
  },
  {
   "cell_type": "code",
   "execution_count": 4,
   "id": "3c26dbdf",
   "metadata": {},
   "outputs": [
    {
     "data": {
      "text/plain": [
       "4.6904296875"
      ]
     },
     "execution_count": 4,
     "metadata": {},
     "output_type": "execute_result"
    }
   ],
   "source": [
    "#Definimos la funcion y valores de prueba para nuestro algoritmo\n",
    "def funcion(x):\n",
    "    y = x**2 - 22\n",
    "    return y\n",
    "Xl = 2\n",
    "Xr = 6\n",
    "tol = 0.001\n",
    "biseccion(funcion,Xl,Xr,tol) #Ejecutamos funcion y comprobamos el resultado con el encontrado de forma analitica ~= 4,69"
   ]
  },
  {
   "cell_type": "code",
   "execution_count": null,
   "id": "1e9aac70",
   "metadata": {},
   "outputs": [],
   "source": []
  }
 ],
 "metadata": {
  "kernelspec": {
   "display_name": "Python 3 (ipykernel)",
   "language": "python",
   "name": "python3"
  },
  "language_info": {
   "codemirror_mode": {
    "name": "ipython",
    "version": 3
   },
   "file_extension": ".py",
   "mimetype": "text/x-python",
   "name": "python",
   "nbconvert_exporter": "python",
   "pygments_lexer": "ipython3",
   "version": "3.9.12"
  }
 },
 "nbformat": 4,
 "nbformat_minor": 5
}
