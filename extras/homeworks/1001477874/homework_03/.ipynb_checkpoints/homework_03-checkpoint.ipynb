{
 "cells": [
  {
   "cell_type": "markdown",
   "id": "upset-staff",
   "metadata": {},
   "source": [
    "### Homework_03:\n",
    "* ***this is the right way to program - just making functions and classes and calling them***!!!\n",
    "\n",
    "\n",
    "\n",
    "* create notebook called: homework_03.ipynb (no spaces please)\n",
    "\n",
    "* inside write a function: `quadratic_interp(x,y,xinterp)`:\n",
    "\n",
    "`quadratic_interp(x,y,xinterp)` accepts three elements (vector `x`, vector `y` and float `xinterp` to be interpolated) an returns `yinterp`  value of the interpolated point `xinterp`\n",
    "\n",
    "* use `b_coeffs()` function to find `b_0,b_1,b_2`...\n",
    "\n",
    "* test your function before submitting\n",
    "\n",
    "* ***remember the function must not print anything, just return a single value***!!!"
   ]
  },
  {
   "cell_type": "code",
   "execution_count": 5,
   "id": "appointed-williams",
   "metadata": {},
   "outputs": [],
   "source": [
    "# function to interpolate a point using linear interpolation\n",
    "def quadratic_interp(x,y,xinterp):\n",
    "    b0=y[0]\n",
    "    b1=((y[1]-y[0])/(x[1]-x[0]))\n",
    "    b2=(((y[2]-y[1])/(x[2]-x[1]))-((y[1]-y[0])/(x[1]-x[0])))/(x[2]-x[1])\n",
    "    yinterp=b0+b1*(xinterp-x[0])\n",
    "\n",
    "    return yinterp"
   ]
  },
  {
   "cell_type": "markdown",
   "id": "adolescent-seattle",
   "metadata": {},
   "source": [
    "# test your function with the code below"
   ]
  },
  {
   "cell_type": "code",
   "execution_count": 6,
   "id": "pressing-energy",
   "metadata": {},
   "outputs": [
    {
     "data": {
      "text/plain": [
       "<matplotlib.legend.Legend at 0x7f2c4c9e7d00>"
      ]
     },
     "execution_count": 6,
     "metadata": {},
     "output_type": "execute_result"
    },
    {
     "data": {
      "image/png": "[encoded data removed]",
      "text/plain": [
       "<Figure size 432x288 with 1 Axes>"
      ]
     },
     "metadata": {
      "needs_background": "light"
     },
     "output_type": "display_data"
    }
   ],
   "source": [
    "import os\n",
    "import pandas as pd\n",
    "import numpy as np\n",
    "import matplotlib.pyplot as plt\n",
    "x=np.array([4,5,6])\n",
    "y=np.array([np.log10(4),np.log10(5),np.log10(6)])\n",
    "test_vals=np.arange(3,7,0.1)\n",
    "\n",
    "my_results=[]\n",
    "for val in test_vals:\n",
    "    result=quadratic_interp(x,y,val)\n",
    "    my_results.append(result)\n",
    "fig,ax=plt.subplots(1,1)\n",
    "ax.scatter(x,y,c='r',s=100,label='given points')\n",
    "ax.plot(test_vals,my_results,'.k',label='interpolated values (quadratic pol.)') \n",
    "ax.legend()"
   ]
  },
  {
   "cell_type": "code",
   "execution_count": null,
   "id": "burning-russian",
   "metadata": {},
   "outputs": [],
   "source": []
  }
 ],
 "metadata": {
  "kernelspec": {
   "display_name": "Python 3",
   "language": "python",
   "name": "python3"
  },
  "language_info": {
   "codemirror_mode": {
    "name": "ipython",
    "version": 3
   },
   "file_extension": ".py",
   "mimetype": "text/x-python",
   "name": "python",
   "nbconvert_exporter": "python",
   "pygments_lexer": "ipython3",
   "version": "3.7.2"
  }
 },
 "nbformat": 4,
 "nbformat_minor": 5
}
