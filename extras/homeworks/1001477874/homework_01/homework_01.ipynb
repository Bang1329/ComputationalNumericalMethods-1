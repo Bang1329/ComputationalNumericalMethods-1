{
  "cells": [
    {
      "cell_type": "markdown",
      "id": "experimental-jones",
      "metadata": {
        "cell_id": "4c37db86-aec5-4934-8eaa-f9c6e654bb4d",
        "deepnote_cell_height": 82.23333740234375,
        "deepnote_cell_type": "markdown",
        "id": "experimental-jones"
      },
      "source": [
        "# Ejercicios sobre números"
      ]
    },
    {
      "cell_type": "markdown",
      "id": "material-circular",
      "metadata": {
        "cell_id": "00001-57ebebb0-3397-4f6d-bfe2-6c07d32e3f46",
        "deepnote_cell_height": 191.4499969482422,
        "deepnote_cell_type": "markdown",
        "id": "material-circular"
      },
      "source": [
        "## 1. Construya una función `celsius_fahrenheit_1(celsius)`, que reciba un valor numérico de temperatura en centígrados y devuelva una temperatura en escala Fahrenheit."
      ]
    },
    {
      "cell_type": "markdown",
      "id": "hourly-velvet",
      "metadata": {
        "cell_id": "00002-0937d47c-762e-4ef6-b991-6dd629caef23",
        "deepnote_cell_height": 111.03334045410156,
        "deepnote_cell_type": "markdown",
        "id": "hourly-velvet"
      },
      "source": [
        "#### Por ejemplo:\n",
        "`celsius_fahrenheit_1(20.22)` tiene que devolver valor `68.396`  \n",
        "`celsius_fahrenheit_1(0)` tiene que devolver valor float `32.0` "
      ]
    },
    {
      "cell_type": "code",
      "execution_count": null,
      "id": "increasing-payday",
      "metadata": {
        "cell_id": "00003-399688d6-ff3e-4517-869d-07bc8dc7f252",
        "deepnote_cell_height": 117.23333740234375,
        "deepnote_cell_type": "code",
        "deepnote_to_be_reexecuted": false,
        "execution_millis": 1,
        "execution_start": 1651590776028,
        "owner_user_id": "10217cb7-e807-45af-be75-488a79b03a41",
        "source_hash": "724b05c8",
        "colab": {
          "base_uri": "https://localhost:8080/"
        },
        "id": "increasing-payday",
        "outputId": "35f23ba4-1f44-43a2-ea56-a11b94b4bb25"
      },
      "outputs": [
        {
          "name": "stdout",
          "output_type": "stream",
          "text": [
            "Valor de temperatura: 0\n"
          ]
        },
        {
          "output_type": "execute_result",
          "data": {
            "text/plain": [
              "32.0"
            ]
          },
          "metadata": {},
          "execution_count": 4
        }
      ],
      "source": [
        "def celsius_fahrenheit_1(celsius):\n",
        "    fahrenheit = celsius * 1.8 + 32.0\n",
        "    # su código aquí\n",
        "    return fahrenheit\n",
        "temperatura = float(input(\"Valor de temperatura: \"))\n",
        "celsius_fahrenheit_1(temperatura)"
      ]
    },
    {
      "cell_type": "markdown",
      "id": "final-lebanon",
      "metadata": {
        "cell_id": "00004-34ba2e8a-42c7-4b5c-b307-6e09a4324110",
        "deepnote_cell_height": 112.66667175292969,
        "deepnote_cell_type": "markdown",
        "id": "final-lebanon"
      },
      "source": [
        "## 2. Modifique la función anterior para devolver `None` en caso de cualquier error e imprimir mensaje `error`."
      ]
    },
    {
      "cell_type": "code",
      "execution_count": 4,
      "id": "exotic-professional",
      "metadata": {
        "cell_id": "00005-9ab529d6-4766-4bd6-84ab-837c781fdb06",
        "deepnote_cell_height": 102.23333740234375,
        "deepnote_cell_type": "code",
        "colab": {
          "base_uri": "https://localhost:8080/"
        },
        "id": "exotic-professional",
        "outputId": "fb287d1f-ce60-41ce-ef32-b4d7b3b83bae"
      },
      "outputs": [
        {
          "name": "stdout",
          "output_type": "stream",
          "text": [
            "Valor de temperatura: 2\n"
          ]
        }
      ],
      "source": [
        "def celsius_fahrenheit_2(celsius):\n",
        "    if isinstance(celsius,float) == True:\n",
        "      fahrenheit = celsius * 1.8 + 32.0\n",
        "      return fahrenheit\n",
        "    else:\n",
        "      fahrenheit = None\n",
        "      return None\n",
        "    # su código aquí\n",
        "temperatura = input(\"Valor de temperatura: \")\n",
        "celsius_fahrenheit_2(temperatura)"
      ]
    },
    {
      "cell_type": "markdown",
      "id": "international-adams",
      "metadata": {
        "cell_id": "b4b7ae41d0814a33a4e50011629b76b1",
        "deepnote_cell_height": 88.63333129882812,
        "deepnote_cell_type": "markdown",
        "tags": [],
        "id": "international-adams"
      },
      "source": [
        "\n",
        "#### Por ejemplo:\n",
        "`celsius_fahrenheit_2('hello')` tiene que devolver valor None  \n"
      ]
    },
    {
      "cell_type": "markdown",
      "id": "secret-waters",
      "metadata": {
        "cell_id": "00006-6080f39a-a185-4447-aeff-10b250afd768",
        "deepnote_cell_height": 232.28334045410156,
        "deepnote_cell_type": "markdown",
        "id": "secret-waters"
      },
      "source": [
        "## 3. Construya una función `sum_odd_even(a)`, que para un número dado `a` devuelva dos valores: la suma de todos los números pares y la suma de los números impares dentro del rango de `a` (pista: usa loop `for`)\n",
        "\n",
        "(en inglés ***odd*** significa impar y ***even*** significa par)"
      ]
    },
    {
      "cell_type": "code",
      "execution_count": null,
      "id": "acknowledged-focus",
      "metadata": {
        "cell_id": "00007-a741c27a-f1a8-4fda-ae3d-00f21cdf64ef",
        "deepnote_cell_height": 102.23333740234375,
        "deepnote_cell_type": "code",
        "colab": {
          "base_uri": "https://localhost:8080/"
        },
        "id": "acknowledged-focus",
        "outputId": "02e19e55-0e69-4368-88cc-601b189c5fc4"
      },
      "outputs": [
        {
          "output_type": "execute_result",
          "data": {
            "text/plain": [
              "(9, 6)"
            ]
          },
          "metadata": {},
          "execution_count": 23
        }
      ],
      "source": [
        "def sum_odd_even(a):\n",
        "    sum_odd = 0\n",
        "    sum_even = 0\n",
        "    for i in range(a+1):\n",
        "      if i%2==0:\n",
        "        sum_even = i + sum_even\n",
        "      else:\n",
        "        sum_odd = i + sum_odd\n",
        "    # su código aquí\n",
        "    return sum_odd, sum_even\n",
        "\n",
        "sum_odd_even(5)"
      ]
    },
    {
      "cell_type": "markdown",
      "id": "aboriginal-hindu",
      "metadata": {
        "cell_id": "00008-239ad8db-b728-4773-948d-f33f12bc63c8",
        "deepnote_cell_height": 88.63333129882812,
        "deepnote_cell_type": "markdown",
        "id": "aboriginal-hindu"
      },
      "source": [
        "#### Por ejemplo:\n",
        "`sum_odd, sum_even = sum_odd_even(10)`  tiene que devolver valores:  25,20\n"
      ]
    },
    {
      "cell_type": "markdown",
      "id": "important-liabilities",
      "metadata": {
        "cell_id": "00009-fc6dc5c7-0ae9-43a1-af16-43ecf7c066be",
        "deepnote_cell_height": 118.36666870117188,
        "deepnote_cell_type": "markdown",
        "id": "important-liabilities"
      },
      "source": [
        "## 4. La función $\\frac{1}{1-x}$ se puede aproximar con la siguiente suma:"
      ]
    },
    {
      "cell_type": "markdown",
      "id": "negative-accreditation",
      "metadata": {
        "cell_id": "00010-3e75fe53-0c95-4bbf-b4ed-18bd75570b66",
        "deepnote_cell_height": 53.850006103515625,
        "deepnote_cell_type": "markdown",
        "id": "negative-accreditation"
      },
      "source": [
        "$$\\frac{1}{1-x}=\\sum_{k=0}^{\\infty}x^k$$ "
      ]
    },
    {
      "cell_type": "markdown",
      "id": "certified-fields",
      "metadata": {
        "cell_id": "87f4faf84c52461392876ea81a2fd01f",
        "deepnote_cell_height": 75.03334045410156,
        "deepnote_cell_type": "markdown",
        "tags": [],
        "id": "certified-fields"
      },
      "source": [
        "Donde 'k' es el número de los términos de la suma, responsable de cuán buena será la aproximación, si k=2 la aproximación es peor que si k=5..."
      ]
    },
    {
      "cell_type": "markdown",
      "id": "duplicate-armenia",
      "metadata": {
        "cell_id": "00011-159088e1-44d7-44b3-af19-10edf3bd38f4",
        "deepnote_cell_height": 76.25,
        "deepnote_cell_type": "markdown",
        "id": "duplicate-armenia"
      },
      "source": [
        "Construya una función `div_x(x,k)` que acepte dos parámetros `x` y `k` y devuelva valor de aproximación de función $\\frac{1}{1-x}$."
      ]
    },
    {
      "cell_type": "code",
      "execution_count": null,
      "id": "tracked-prefix",
      "metadata": {
        "cell_id": "00012-85747cf0-c5cb-4869-a846-fd013fe00d07",
        "deepnote_cell_height": 102.23333740234375,
        "deepnote_cell_type": "code",
        "colab": {
          "base_uri": "https://localhost:8080/"
        },
        "id": "tracked-prefix",
        "outputId": "f3175b87-e987-4092-a5cd-45ce17fa1511"
      },
      "outputs": [
        {
          "output_type": "execute_result",
          "data": {
            "text/plain": [
              "1.2499999744"
            ]
          },
          "metadata": {},
          "execution_count": 22
        }
      ],
      "source": [
        "def div_x(x,k):\n",
        "    sum = 0\n",
        "    for i in range(k+1):\n",
        "      sum = sum + x**i\n",
        "    # su código aquí\n",
        "    return sum\n",
        "div_x(0.2,10)"
      ]
    },
    {
      "cell_type": "markdown",
      "id": "joint-religious",
      "metadata": {
        "cell_id": "00013-8190d2be-960d-42c8-a233-1fb81f40732f",
        "deepnote_cell_height": 171.4499969482422,
        "deepnote_cell_type": "markdown",
        "id": "joint-religious"
      },
      "source": [
        "###### Por ejemplo:\n",
        "`div_x_approx = div_x(0.2,2)` devuelve: `1.2`  \n",
        "`div_x_approx = div_x(0.2,10)` devuelve: `1.249999872`\n",
        "\n",
        "Puede comparar su aproximación con resultados de operación directa: $\\frac{1}{1-x}$\n",
        "\n",
        "*Esta aproximación con suma se llama Taylor expansion."
      ]
    },
    {
      "cell_type": "markdown",
      "id": "suitable-modification",
      "metadata": {
        "cell_id": "3a1646ebf7ca484e946d426b2d1c5798",
        "deepnote_cell_height": 82.23333740234375,
        "deepnote_cell_type": "markdown",
        "tags": [],
        "id": "suitable-modification"
      },
      "source": [
        "# Ejercicios opcionales:"
      ]
    },
    {
      "cell_type": "markdown",
      "id": "speaking-motel",
      "metadata": {
        "cell_id": "134e6ea51f4d4d0fae28d3a9bad4812c",
        "deepnote_cell_height": 111.44999694824219,
        "deepnote_cell_type": "markdown",
        "tags": [],
        "id": "speaking-motel"
      },
      "source": [
        "## 5. Reto: Usando doble `for` y `range()` imprima la siguiente pirámide:"
      ]
    },
    {
      "cell_type": "markdown",
      "id": "blocked-calibration",
      "metadata": {
        "cell_id": "700f47463a4044e6b6ec90bc56660213",
        "deepnote_cell_height": 258.23333740234375,
        "deepnote_cell_type": "markdown",
        "tags": [],
        "id": "blocked-calibration"
      },
      "source": [
        "```\n",
        "0 \n",
        "0 1 \n",
        "0 1 2 \n",
        "0 1 2 3 \n",
        "0 1 2 3 4 \n",
        "0 1 2 3 4 5 \n",
        "0 1 2 3 4 5 6 \n",
        "0 1 2 3 4 5 6 7 \n",
        "0 1 2 3 4 5 6 7 8 \n",
        "0 1 2 3 4 5 6 7 8 9\n",
        "```"
      ]
    },
    {
      "cell_type": "code",
      "source": [
        "for i in range(10):\n",
        "  \n",
        "  print(i,end=\" \")"
      ],
      "metadata": {
        "colab": {
          "base_uri": "https://localhost:8080/"
        },
        "id": "poKqp1Yko8pr",
        "outputId": "6d5695f2-f162-412d-fb2a-349972b073c2"
      },
      "id": "poKqp1Yko8pr",
      "execution_count": null,
      "outputs": [
        {
          "output_type": "stream",
          "name": "stdout",
          "text": [
            "0 1 2 3 4 5 6 7 8 9 "
          ]
        }
      ]
    },
    {
      "cell_type": "markdown",
      "id": "prospective-zealand",
      "metadata": {
        "cell_id": "0833aea759f7401294f07b442e9a388b",
        "deepnote_cell_height": 111.44999694824219,
        "deepnote_cell_type": "markdown",
        "tags": [],
        "id": "prospective-zealand"
      },
      "source": [
        "## 6. Reto: Usando doble `for` y `range()` imprima la siguiente pirámide:"
      ]
    },
    {
      "cell_type": "markdown",
      "id": "possible-father",
      "metadata": {
        "cell_id": "b089110cc92d40cda8594ebdf0351d70",
        "deepnote_cell_height": 258.23333740234375,
        "deepnote_cell_type": "markdown",
        "tags": [],
        "id": "possible-father"
      },
      "source": [
        "```\n",
        "9 8 7 6 5 4 3 2 1 0 \n",
        "8 7 6 5 4 3 2 1 0 \n",
        "7 6 5 4 3 2 1 0 \n",
        "6 5 4 3 2 1 0 \n",
        "5 4 3 2 1 0 \n",
        "4 3 2 1 0 \n",
        "3 2 1 0 \n",
        "2 1 0 \n",
        "1 0 \n",
        "0 \n",
        "\n",
        "```"
      ]
    },
    {
      "cell_type": "markdown",
      "id": "fantastic-lotus",
      "metadata": {
        "cell_id": "2f5f90e7d771411fa8cd2d031d340946",
        "deepnote_cell_height": 52.633331298828125,
        "deepnote_cell_type": "markdown",
        "tags": [],
        "id": "fantastic-lotus"
      },
      "source": [
        "Revisado 3/5/2022 por Luisa Gómez (correctora de estilo)"
      ]
    },
    {
      "cell_type": "markdown",
      "id": "published-article",
      "metadata": {
        "cell_id": "4228c8ff6ca84a95816e6863d17f196a",
        "deepnote_cell_height": 46.23333740234375,
        "deepnote_cell_type": "markdown",
        "tags": [],
        "id": "published-article"
      },
      "source": [
        ""
      ]
    },
    {
      "cell_type": "markdown",
      "id": "super-server",
      "metadata": {
        "created_in_deepnote_cell": true,
        "deepnote_cell_type": "markdown",
        "tags": [],
        "id": "super-server"
      },
      "source": [
        "<a style='text-decoration:none;line-height:16px;display:flex;color:#5B5B62;padding:10px;justify-content:end;' href='https://deepnote.com?utm_source=created-in-deepnote-cell&projectId=4710cf8b-f7ec-43d1-a3bc-46d860c0e6af' target=\"_blank\">\n",
        "<img alt='Created in deepnote.com' style='display:inline;max-height:16px;margin:0px;margin-right:7.5px;' src='data:image/svg+xml;base64,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' > </img>\n",
        "Created in <span style='font-weight:600;margin-left:4px;'>Deepnote</span></a>"
      ]
    }
  ],
  "metadata": {
    "deepnote": {},
    "deepnote_execution_queue": [],
    "deepnote_notebook_id": "5dbfb4f9-e556-4c71-a68e-2f6bbfa88f9e",
    "kernelspec": {
      "display_name": "Python 3",
      "language": "python",
      "name": "python3"
    },
    "language_info": {
      "codemirror_mode": {
        "name": "ipython",
        "version": 3
      },
      "file_extension": ".py",
      "mimetype": "text/x-python",
      "name": "python",
      "nbconvert_exporter": "python",
      "pygments_lexer": "ipython3",
      "version": "3.7.2"
    },
    "colab": {
      "name": "homework_01.ipynb",
      "provenance": [],
      "collapsed_sections": []
    }
  },
  "nbformat": 4,
  "nbformat_minor": 5
}