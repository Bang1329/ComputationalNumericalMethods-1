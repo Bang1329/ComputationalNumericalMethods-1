{
 "cells": [
  {
   "cell_type": "markdown",
   "id": "naked-liechtenstein",
   "metadata": {},
   "source": [
    "## Homework 06\n",
    "\n",
    "Create a notebook: ***homework_06.ipynb*** and inside make function:\n",
    "\n",
    "a function called `integral_monte_carlo_1D(integrand,lim1,lim2,N)` (with that order) that receives four parameters: integrand (function), limit1, limit2 and number of iterations `N`, and returns the value of `I` (just the numerical value)  \n",
    "*use vectorized form of the calculations\n",
    "\n",
    "Test your funcion on the following integral:\n",
    "\n",
    "$$\\int_{0}^{4} \\sqrt[4]{15 x^3 + 21x^2 + 41x + 3} \\cdot e^{-0.5x} dx$$\n",
    "\n",
    " where the integrand is\n",
    "$$f(x)=\\sqrt[4]{15 x^3 + 21x^2 + 41x + 3} \\cdot e^{-0.5x}$$\n",
    "\n",
    "compare with the scipy.integrate.quad results\n"
   ]
  },
  {
   "cell_type": "code",
   "execution_count": 16,
   "id": "4e04eac6",
   "metadata": {},
   "outputs": [],
   "source": [
    "import numpy as np\n",
    "from math import e\n",
    "import scipy.integrate "
   ]
  },
  {
   "cell_type": "code",
   "execution_count": 3,
   "id": "f106f720",
   "metadata": {},
   "outputs": [],
   "source": [
    "def integral_monte_carlo_1D(integrand,lim1,lim2,N):\n",
    "    puntos = np.linspace(lim1,lim2,N)\n",
    "    Sum = 0\n",
    "    for i in range(len(puntos)):\n",
    "        Sum += integrand(puntos[i])\n",
    "    I = ((lim2 - lim1)/N)*Sum\n",
    "    return I"
   ]
  },
  {
   "cell_type": "code",
   "execution_count": 27,
   "id": "5a8f7f9f",
   "metadata": {},
   "outputs": [
    {
     "name": "stdout",
     "output_type": "stream",
     "text": [
      "con N=100, la integral de f(x) con monte carlo resulta 266.86736370123845 y con integrate.quad 265.05389829442083\n"
     ]
    }
   ],
   "source": [
    "integrand = lambda x: ((15*x**3+21*x**2+41*x+3)**1/4)/e**(1/2)\n",
    "N = 100\n",
    "monte_carlo =  integral_monte_carlo_1D(integrand,0,4,N)\n",
    "integrat,error = scipy.integrate.quad(integrand,0,4)\n",
    "print(f'con N={N}, la integral de f(x) con monte carlo resulta {monte_carlo} y con integrate.quad {integrat}')"
   ]
  },
  {
   "cell_type": "code",
   "execution_count": null,
   "id": "e8b8e0b1",
   "metadata": {},
   "outputs": [],
   "source": []
  }
 ],
 "metadata": {
  "kernelspec": {
   "display_name": "Python 3",
   "language": "python",
   "name": "python3"
  },
  "language_info": {
   "codemirror_mode": {
    "name": "ipython",
    "version": 3
   },
   "file_extension": ".py",
   "mimetype": "text/x-python",
   "name": "python",
   "nbconvert_exporter": "python",
   "pygments_lexer": "ipython3",
   "version": "3.7.2"
  }
 },
 "nbformat": 4,
 "nbformat_minor": 5
}
