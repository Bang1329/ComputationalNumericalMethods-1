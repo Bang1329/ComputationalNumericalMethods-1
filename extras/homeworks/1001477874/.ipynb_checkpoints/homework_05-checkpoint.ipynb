{
 "cells": [
  {
   "cell_type": "markdown",
   "id": "human-paint",
   "metadata": {},
   "source": [
    "# Homework 05"
   ]
  },
  {
   "cell_type": "markdown",
   "id": "equivalent-australian",
   "metadata": {},
   "source": [
    "### Task 1\n",
    "\n",
    "Write your own Simpson method to numerically calculate integral \n",
    "\n",
    "`my_simps(some_func,a,b,n)`\n",
    "* some_func\n",
    "* a: left limit \n",
    "* b: right limit\n",
    "* n: number of segments\n",
    "for example:\n",
    "\n",
    "#### for any a,b,n, func"
   ]
  },
  {
   "cell_type": "markdown",
   "id": "ultimate-traveler",
   "metadata": {},
   "source": [
    "### example"
   ]
  },
  {
   "cell_type": "code",
   "execution_count": 1,
   "id": "frozen-microwave",
   "metadata": {},
   "outputs": [],
   "source": [
    "import numpy as np\n",
    "def some_func(x):\n",
    "    return np.exp(x)"
   ]
  },
  {
   "cell_type": "code",
   "execution_count": 2,
   "id": "recognized-footwear",
   "metadata": {},
   "outputs": [],
   "source": [
    "a=1.5\n",
    "b=2.5\n",
    "n=4"
   ]
  },
  {
   "cell_type": "code",
   "execution_count": 3,
   "id": "unavailable-fluid",
   "metadata": {},
   "outputs": [],
   "source": [
    "def my_simps(some_func,a,b,n):\n",
    "    #  your code here\n",
    "    h = (b - a) / n\n",
    "    suma = 0.0\n",
    "    for i in range(1, n):\n",
    "        x = a + i * h\n",
    "        if(i % 2 == 0): \n",
    "            suma = suma + 2 * some_func(x)\n",
    "        else:\n",
    "            suma = suma + 4 * some_func(x)\n",
    "    suma = suma + some_func(a) + some_func(b)\n",
    "    I = suma * (h / 3)\n",
    "    return I"
   ]
  },
  {
   "cell_type": "code",
   "execution_count": 4,
   "id": "stock-smart",
   "metadata": {},
   "outputs": [
    {
     "name": "stdout",
     "output_type": "stream",
     "text": [
      "7.700970773196655\n"
     ]
    }
   ],
   "source": [
    "I=my_simps(some_func,a,b,n)\n",
    "print(I)"
   ]
  },
  {
   "cell_type": "markdown",
   "id": "recovered-modern",
   "metadata": {},
   "source": [
    "### Task 2\n",
    "\n",
    "Solve the following integral numerically\n",
    "\n",
    "$$I = \\int_{1}^{9} \\frac{b x^2 + x^2 \\sqrt(x) - 1}{x^2} dx$$\n",
    "\n",
    "Initially b=2\n",
    "\n",
    "Then make a plot for $I$ vs 10 different values of b=[0,1,2,3,4,5,6,7,8,9] "
   ]
  },
  {
   "cell_type": "code",
   "execution_count": 11,
   "id": "verified-johnston",
   "metadata": {},
   "outputs": [
    {
     "data": {
      "text/plain": [
       "Text(0, 0.5, 'I')"
      ]
     },
     "execution_count": 11,
     "metadata": {},
     "output_type": "execute_result"
    },
    {
     "data": {
      "image/png": "[encoded data removed]",
      "text/plain": [
       "<Figure size 432x288 with 1 Axes>"
      ]
     },
     "metadata": {
      "needs_background": "light"
     },
     "output_type": "display_data"
    }
   ],
   "source": [
    "import matplotlib.pyplot as plt\n",
    "def my_simps(some_func,a,b,n,B):\n",
    "    #  your code here\n",
    "    h = (b - a) / n\n",
    "    suma = 0.0\n",
    "    for i in range(1, n):\n",
    "        x = a + i * h\n",
    "        if(i % 2 == 0): \n",
    "            suma = suma + 2 * some_func(x,B)\n",
    "        else:\n",
    "            suma = suma + 4 * some_func(x,B)\n",
    "    suma = suma + some_func(a,B) + some_func(b,B)\n",
    "    I = suma * (h / 3)\n",
    "    return I\n",
    "funcion = lambda x,B: (B*x**2 + ((x**(1/2))*x**2)-1)/x**2\n",
    "fig,ax=plt.subplots(1,1)\n",
    "for i in range(10):\n",
    "    I=my_simps(funcion,a,b,n,i)\n",
    "    ax.plot(i,I,'o',label=f'b: {i}')\n",
    "ax.legend()\n",
    "ax.set_xlabel('b') \n",
    "ax.set_ylabel('I')    "
   ]
  },
  {
   "cell_type": "code",
   "execution_count": null,
   "id": "adopted-morrison",
   "metadata": {},
   "outputs": [],
   "source": []
  }
 ],
 "metadata": {
  "kernelspec": {
   "display_name": "Python 3",
   "language": "python",
   "name": "python3"
  },
  "language_info": {
   "codemirror_mode": {
    "name": "ipython",
    "version": 3
   },
   "file_extension": ".py",
   "mimetype": "text/x-python",
   "name": "python",
   "nbconvert_exporter": "python",
   "pygments_lexer": "ipython3",
   "version": "3.7.2"
  }
 },
 "nbformat": 4,
 "nbformat_minor": 5
}
