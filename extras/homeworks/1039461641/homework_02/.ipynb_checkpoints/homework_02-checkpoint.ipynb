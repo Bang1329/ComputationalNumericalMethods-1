{
 "cells": [
  {
   "cell_type": "markdown",
   "id": "subsequent-sector",
   "metadata": {
    "id": "subsequent-sector"
   },
   "source": [
    "# TAREA SOBRE ROOT FINDING: \n",
    "Basado en el material de la clase pasada:\n",
    "* construye su propia función `my_root_finding(func,xL,xR,tol)` que recibe tres argumentos `func,xL,xR,tol` y devuelve el valor de la raíz de método de bisección usando el loop **while** \n",
    "* pruebe su código para los parámetros dados:\n",
    "  * $func=x^2 - 22 $\n",
    "  * $X_L=2, X_R=6$\n",
    "  * $tol=0.001$"
   ]
  },
  {
   "cell_type": "code",
   "execution_count": 1,
   "id": "latest-variety",
   "metadata": {
    "id": "latest-variety"
   },
   "outputs": [],
   "source": [
    "import numpy as np\n",
    "import matplotlib.pyplot as plt"
   ]
  },
  {
   "cell_type": "code",
   "execution_count": 2,
   "id": "UN5rhyU0BSCf",
   "metadata": {
    "id": "UN5rhyU0BSCf"
   },
   "outputs": [],
   "source": [
    "#Primero debemos definir la funcion usando las funciones de python\n",
    "def func(x):\n",
    "  return x**2 - 22"
   ]
  },
  {
   "cell_type": "code",
   "execution_count": 3,
   "id": "eAwRGXAM8VHS",
   "metadata": {
    "id": "eAwRGXAM8VHS"
   },
   "outputs": [],
   "source": [
    "def my_root_finding(func,xL,xR,tol):\n",
    "  #graficamos la funcion en el intervalo a evaluar:\n",
    "  x=np.linspace(xL,xR,100)\n",
    "  y=func(x)\n",
    "  fig, ax = plt.subplots(1,1,figsize=(6,4))\n",
    "  ax.plot(x,y, '-b', label='function')\n",
    "  ax.legend()\n",
    "  ax.set_xlabel('x values')\n",
    "  ax.set_ylabel('y values')\n",
    "  ax.grid(True)\n",
    "  #hacemos la prueba para ver si los valores xL y xR si encierran una raiz:\n",
    "  if func(xL)*func(xR)>0:\n",
    "    print('La funcion contiene un numero par de raices entre ',xL, ' y ', xR, ', encuentre otros valores que contengan un numero impar de raices')\n",
    "  else:\n",
    "    print('La funcion contiene un numero impar de raices entre ',xL ,' y ', xR)\n",
    "    xi=(xL+xR)/2 #estimacion inicial\n",
    "    #procedemos a hacer nuestro loop:\n",
    "    while abs(func(xi))>tol:\n",
    "      xi=(xL+xR)/2 \n",
    "      if func(xL)*func(xi)<0:\n",
    "        xR=xi\n",
    "      else: \n",
    "        xL=xi\n",
    "    print('La raiz encontrada es: ',round(xi,5),' y el valor de la funcion en la raiz es de: ',round(func(xi),5))\n",
    "    ax.plot(xi,func(xi), color='red', marker=\".\", markersize=15) #graficamos la raiz\n",
    "        "
   ]
  },
  {
   "cell_type": "code",
   "execution_count": 4,
   "id": "kIQIE2JL8VJZ",
   "metadata": {
    "colab": {
     "base_uri": "https://localhost:8080/",
     "height": 315
    },
    "id": "kIQIE2JL8VJZ",
    "outputId": "aa202b96-f9c2-4cc7-805d-95c3cd79bc62"
   },
   "outputs": [
    {
     "name": "stdout",
     "output_type": "stream",
     "text": [
      "La funcion contiene un numero impar de raices entre  2  y  6\n",
      "La raiz encontrada es:  4.69043  y el valor de la funcion en la raiz es de:  0.00013\n"
     ]
    },
    {
     "data": {
      "image/png": "[encoded data removed]",
      "text/plain": [
       "<Figure size 432x288 with 1 Axes>"
      ]
     },
     "metadata": {
      "needs_background": "light"
     },
     "output_type": "display_data"
    }
   ],
   "source": [
    "my_root_finding(func,2,6,0.001)"
   ]
  },
  {
   "cell_type": "code",
   "execution_count": null,
   "id": "c-dZp_xO8SNe",
   "metadata": {
    "id": "c-dZp_xO8SNe"
   },
   "outputs": [],
   "source": []
  }
 ],
 "metadata": {
  "colab": {
   "name": "homework_02.ipynb",
   "provenance": []
  },
  "kernelspec": {
   "display_name": "Python 3",
   "language": "python",
   "name": "python3"
  },
  "language_info": {
   "codemirror_mode": {
    "name": "ipython",
    "version": 3
   },
   "file_extension": ".py",
   "mimetype": "text/x-python",
   "name": "python",
   "nbconvert_exporter": "python",
   "pygments_lexer": "ipython3",
   "version": "3.7.2"
  }
 },
 "nbformat": 4,
 "nbformat_minor": 5
}
