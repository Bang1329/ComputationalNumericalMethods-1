{
 "cells": [
  {
   "cell_type": "markdown",
   "id": "naked-liechtenstein",
   "metadata": {},
   "source": [
    "## Homework 06\n",
    "\n",
    "Create a notebook: ***homework_06.ipynb*** and inside make function:\n",
    "\n",
    "a function called `integral_monte_carlo_1D(integrand,lim1,lim2,N)` (with that order) that receives four parameters: integrand (function), limit1, limit2 and number of iterations `N`, and returns the value of `I` (just the numerical value)  \n",
    "*use vectorized form of the calculations\n",
    "\n",
    "Test your funcion on the following integral:\n",
    "\n",
    "$$\\int_{0}^{4} \\sqrt[4]{15 x^3 + 21x^2 + 41x + 3} \\cdot e^{-0.5x} dx$$\n",
    "\n",
    " where the integrand is\n",
    "$$f(x)=\\sqrt[4]{15 x^3 + 21x^2 + 41x + 3} \\cdot e^{-0.5x}$$\n",
    "\n",
    "compare with the scipy.integrate.quad results\n"
   ]
  }
 ],
 "metadata": {
  "kernelspec": {
   "display_name": "Python 3",
   "language": "python",
   "name": "python3"
  },
  "language_info": {
   "codemirror_mode": {
    "name": "ipython",
    "version": 3
   },
   "file_extension": ".py",
   "mimetype": "text/x-python",
   "name": "python",
   "nbconvert_exporter": "python",
   "pygments_lexer": "ipython3",
   "version": "3.7.2"
  }
 },
 "nbformat": 4,
 "nbformat_minor": 5
}
